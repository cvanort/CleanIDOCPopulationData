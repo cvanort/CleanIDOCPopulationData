{
 "cells": [
  {
   "cell_type": "markdown",
   "id": "df4470d9",
   "metadata": {},
   "source": [
    "# Combine IDOC population data sets\n",
    "\n",
    "IDOC publishes population data sets which consist of each person housed in a state prison each quarter and information about them, such as their demographics, the type of crime they're being held for, the date on which they were apprehended, etc. The data sets are .xls files, but the titles, URLs, and data within each data set differ and need to be cleaned. This script combines all population data sets and makes the information within them consistent.\n",
    "\n",
    "The population data sets can be found here: https://www2.illinois.gov/idoc/reportsandstatistics/Pages/Prison-Population-Data-Sets.aspx\n",
    "\n",
    "This was last updated with the Dec 2021 data set as the most recently published data set."
   ]
  },
  {
   "cell_type": "code",
   "execution_count": 1,
   "id": "84d878d5",
   "metadata": {},
   "outputs": [],
   "source": [
    "# import packages and set up\n",
    "from bs4 import BeautifulSoup\n",
    "parser = 'html.parser'\n",
    "import urllib.request\n",
    "\n",
    "import pandas as pd\n",
    "import numpy as np\n",
    "from datetime import datetime as dt, date, timedelta as td, time\n",
    "import calendar\n",
    "\n",
    "import matplotlib as mpl\n",
    "import matplotlib.pyplot as plt\n",
    "import seaborn as sns\n",
    "%matplotlib inline \n",
    "inline_rc = dict(mpl.rcParams)\n",
    "import plotly.graph_objects as go\n",
    "\n",
    "import warnings\n",
    "\n",
    "\n",
    "# suppress warnings\n",
    "pd.options.mode.chained_assignment = None\n",
    "\n"
   ]
  },
  {
   "cell_type": "code",
   "execution_count": 2,
   "id": "990f6235",
   "metadata": {},
   "outputs": [],
   "source": [
    "# helper function to get list of hex codes from tableau 20 pallette\n",
    "from pylab import *\n",
    "\n",
    "def get_hex(n):\n",
    "    cmap = cm.get_cmap('tab20', n)\n",
    "    hex_list = []\n",
    "    for i in range(cmap.N):\n",
    "        rgb = cmap(i)[:3]  # will return rgba, we take only first 3 so we get rgb\n",
    "        hex_list.append(matplotlib.colors.rgb2hex(rgb))\n",
    "        \n",
    "    return hex_list\n",
    "\n",
    "\n",
    "# helper function to get rgb code from hex code\n",
    "def get_rgb_from_hex(hex_code):\n",
    "    h = hex_code.lstrip('#')\n",
    "    rgb = tuple(int(h[i:i+2], 16) for i in (0, 2, 4))\n",
    "    return rgb"
   ]
  },
  {
   "cell_type": "markdown",
   "id": "d7ad5919",
   "metadata": {},
   "source": [
    "Get links to the population data sets from the IDOC site."
   ]
  },
  {
   "cell_type": "code",
   "execution_count": 3,
   "id": "bbf94ada",
   "metadata": {},
   "outputs": [],
   "source": [
    "resp = urllib.request.urlopen('https://www2.illinois.gov/idoc/reportsandstatistics/Pages/Prison-Population-Data-Sets.aspx')\n",
    "soup = BeautifulSoup(resp, parser, from_encoding=resp.info().get_param('charset'))\n",
    "\n",
    "link_list = []\n",
    "for link in soup.find_all('a', href=True):\n",
    "    if '.xls' in link['href']:\n",
    "        link_list.append('https://www2.illinois.gov' + link['href'])\n",
    "# print(link_list)\n",
    "\n"
   ]
  },
  {
   "cell_type": "markdown",
   "id": "8a69d5ad",
   "metadata": {},
   "source": [
    "Read in and combine the data sets. This takes a bit."
   ]
  },
  {
   "cell_type": "code",
   "execution_count": 6,
   "id": "248ea671",
   "metadata": {},
   "outputs": [
    {
     "name": "stdout",
     "output_type": "stream",
     "text": [
      "1 of 44 - https://www2.illinois.gov/idoc/reportsandstatistics/Documents/September%202022%20Prison%20Population.xls\n",
      "2 of 44 - https://www2.illinois.gov/idoc/reportsandstatistics/Documents/June%202022%20Prison%20Population.xls\n",
      "3 of 44 - https://www2.illinois.gov/idoc/reportsandstatistics/Documents/March%202022%20Prison%20Stock.xls\n",
      "4 of 44 - https://www2.illinois.gov/idoc/reportsandstatistics/Documents/December%202021%20Prison%20Stock.xls\n",
      "5 of 44 - https://www2.illinois.gov/idoc/reportsandstatistics/Documents/2nd%20September%202021%20Prison%20Stock.xls\n",
      "6 of 44 - https://www2.illinois.gov/idoc/reportsandstatistics/Documents/June%202021%20Prison%20Stock.xls\n",
      "7 of 44 - https://www2.illinois.gov/idoc/reportsandstatistics/Documents/March%202021%20%20Prison%20Stock.xls\n",
      "8 of 44 - https://www2.illinois.gov/idoc/reportsandstatistics/Documents/Dec%202020%20%20Prison%20Stock.xls\n",
      "9 of 44 - https://www2.illinois.gov/idoc/reportsandstatistics/Documents/Sept%202020%20Prison%20Pop.xls\n",
      "10 of 44 - https://www2.illinois.gov/idoc/reportsandstatistics/Documents/June%202020%20Prison%20Stock%20Pop.xls\n",
      "11 of 44 - https://www2.illinois.gov/idoc/reportsandstatistics/Documents/March%202020%20Prison%20Stock.xls\n",
      "12 of 44 - https://www2.illinois.gov/idoc/reportsandstatistics/Documents/Dec%2031%202019%20Prison%20Stock%20pop.xls\n",
      "13 of 44 - https://www2.illinois.gov/idoc/reportsandstatistics/Documents/September%202019%20Prison%20Stock.xls\n",
      "14 of 44 - https://www2.illinois.gov/idoc/reportsandstatistics/Documents/June%202019%20Prison%20Stock.xls\n",
      "15 of 44 - https://www2.illinois.gov/idoc/reportsandstatistics/Documents/March%202019%20Prison%20Stock.xls\n",
      "16 of 44 - https://www2.illinois.gov/idoc/reportsandstatistics/Documents/December%202018_%20Prison%20Stock.xls\n",
      "17 of 44 - https://www2.illinois.gov/idoc/reportsandstatistics/Documents/September%202018%20_Prison_Stock.xls\n",
      "18 of 44 - https://www2.illinois.gov/idoc/reportsandstatistics/Documents/June%202018%20Prison%20Internet%20Data%20Set.xls\n",
      "19 of 44 - https://www2.illinois.gov/idoc/reportsandstatistics/Documents/March%202018%20Prison_Stock_Internet.xls\n",
      "20 of 44 - https://www2.illinois.gov/idoc/reportsandstatistics/Documents/Internet%20Data%20Set%20Prison_Stock_Dec_2017.xls\n",
      "21 of 44 - https://www2.illinois.gov/idoc/reportsandstatistics/Documents/Internet%20Data%20Set%20Prison_Stock_June%202017.xls\n",
      "22 of 44 - https://www2.illinois.gov/idoc/reportsandstatistics/Documents/Internet%20Data%20Set%20Prison_Stock_Dec_2016.xls\n",
      "23 of 44 - https://www2.illinois.gov/idoc/reportsandstatistics/Documents/Prison%20Population%206-30-16%20Data%20Set.xls\n",
      "2016-06-30\n",
      "24 of 44 - https://www2.illinois.gov/idoc/reportsandstatistics/Documents/Internet%20Data%20Set%20Prison_Stock_Dec_2015.xls\n",
      "25 of 44 - https://www2.illinois.gov/idoc/reportsandstatistics/Documents/June%202015_%20Prison_Stock_Internet_Variables.xls\n",
      "26 of 44 - https://www2.illinois.gov/idoc/reportsandstatistics/Documents/Dec%202014_%20Prison_Stock_Internet_Variables.xls\n",
      "27 of 44 - https://www2.illinois.gov/idoc/reportsandstatistics/Documents/June%202014_%20Prison_Stock_Internet_Variables.xls\n",
      "28 of 44 - https://www2.illinois.gov/idoc/reportsandstatistics/Documents/Dec%202013_Prison_Stock_Internet_Variables.xls\n",
      "29 of 44 - https://www2.illinois.gov/idoc/reportsandstatistics/Documents/June%202013%20_%20Prison_Stock_Internet_Variables.xls\n",
      "30 of 44 - https://www2.illinois.gov/idoc/reportsandstatistics/Documents/Dec%202012_%20Prison_Stock_Internet_Variables.xls\n",
      "31 of 44 - https://www2.illinois.gov/idoc/reportsandstatistics/Documents/June%202012%20Prison_Stock_Internet_Variables.xls\n",
      "32 of 44 - https://www2.illinois.gov/idoc/reportsandstatistics/Documents/Dec%202011%20Prison%20Stock%20Pop.xls\n",
      "33 of 44 - https://www2.illinois.gov/idoc/reportsandstatistics/Documents/June%202011%20Prison%20Stock%20Pop.xls\n",
      "34 of 44 - https://www2.illinois.gov/idoc/reportsandstatistics/Documents/Dec%202010%20Stock%20Pop.xls\n",
      "35 of 44 - https://www2.illinois.gov/idoc/reportsandstatistics/Documents/June%202010%20Stock%20Pop.xls\n",
      "36 of 44 - https://www2.illinois.gov/idoc/reportsandstatistics/Documents/December%202009%20stock%20pop.xls\n",
      "37 of 44 - https://www2.illinois.gov/idoc/reportsandstatistics/Documents/June%202009%20stock%20pop.xls\n",
      "38 of 44 - https://www2.illinois.gov/idoc/reportsandstatistics/Documents/December%202008%20stock%20pop.xls\n",
      "39 of 44 - https://www2.illinois.gov/idoc/reportsandstatistics/Documents/June%202008%20stock%20pop.xls\n",
      "40 of 44 - https://www2.illinois.gov/idoc/reportsandstatistics/Documents/December%202007%20stock%20pop.xls\n",
      "41 of 44 - https://www2.illinois.gov/idoc/reportsandstatistics/Documents/June%202007%20stock%20pop.xls\n",
      "42 of 44 - https://www2.illinois.gov/idoc/reportsandstatistics/Documents/December%202006%20stock%20pop.xls\n",
      "43 of 44 - https://www2.illinois.gov/idoc/reportsandstatistics/Documents/June%202006%20stock%20pop.xls\n",
      "44 of 44 - https://www2.illinois.gov/idoc/reportsandstatistics/Documents/June%202005%20stock%20pop.xls\n"
     ]
    }
   ],
   "source": [
    "# add each doc date to the df - different url formats need to be read\n",
    "df_list = []\n",
    "cnt = 0\n",
    "\n",
    "for link in link_list:\n",
    "    cnt += 1\n",
    "    print(str(cnt) + ' of ' + str(len(link_list)) + ' - ' + link)\n",
    "    \n",
    "    # read in the spreadsheet\n",
    "    df = pd.read_excel(link, dtype=object, skiprows=5)\n",
    "    \n",
    "    # only one format like this\n",
    "    if link == 'https://www2.illinois.gov/idoc/reportsandstatistics/Documents/2nd%20September%202021%20Prison%20Stock.xls':\n",
    "        doc_month_number = 9\n",
    "        doc_year = 2021\n",
    "        doc_day = 30\n",
    "        \n",
    "    elif link == 'https://www2.illinois.gov/idoc/reportsandstatistics/Documents/Dec%2031%202019%20Prison%20Stock%20pop.xls':\n",
    "        doc_month_number = 12\n",
    "        doc_year = 2019\n",
    "        doc_day = 31\n",
    "    \n",
    "    else:\n",
    "        # format like https://www2.illinois.gov/idoc/reportsandstatistics/Documents/March%202021%20%20Prison%20Stock.xls\n",
    "        try:\n",
    "            doc_month_name = link.split(r'Documents/')[1].split(r'%20')[0]\n",
    "            doc_month_name = doc_month_name[:3]\n",
    "            doc_month_number = dt.strptime(doc_month_name, \"%b\").month\n",
    "            doc_year = int(link.split(r'Documents/')[1].split(r'%20')[1][:4])\n",
    "            doc_day = calendar.monthrange(doc_year, doc_month_number)[1]\n",
    "\n",
    "        # format like https://www2.illinois.gov/idoc/reportsandstatistics/Documents/Internet%20Data%20Set%20Prison_Stock_Dec_2017.xls\n",
    "        except:\n",
    "            try:\n",
    "                doc_month_name = link.split('_')[2]\n",
    "                doc_month_name = doc_month_name[:3]\n",
    "                doc_month_number = dt.strptime(doc_month_name, \"%b\").month\n",
    "                try:\n",
    "                    doc_year = int(link.split('_')[3][:4])\n",
    "                # _Jun%202017\n",
    "                except:\n",
    "                    doc_year = int(link.split('_')[2].split('%20')[1][:4])\n",
    "                doc_day = calendar.monthrange(doc_year, doc_month_number)[1]\n",
    "\n",
    "            # format like https://www2.illinois.gov/idoc/reportsandstatistics/Documents/Prison%20Population%206-30-16%20Data%20Set.xls\n",
    "            except:\n",
    "                doc_month_number = int(link.split('-')[0].split('%20')[2])\n",
    "                doc_year = int('20' + link.split('-')[2].split('%20')[0])\n",
    "                doc_day = calendar.monthrange(doc_year, doc_month_number)[1]\n",
    "#                 print(date(doc_year, doc_month_number, doc_day))\n",
    "\n",
    "    # create the doc date\n",
    "    df['Doc Date'] = date(doc_year, doc_month_number, doc_day)\n",
    "\n",
    "    # add the df to the list\n",
    "    df_list.append(df)\n",
    "    \n",
    "# combine the dfs\n",
    "df = pd.concat(df_list)\n",
    "\n",
    "    "
   ]
  },
  {
   "cell_type": "markdown",
   "id": "a0fc605f",
   "metadata": {},
   "source": [
    "Export file so I don't have to read these in every time."
   ]
  },
  {
   "cell_type": "code",
   "execution_count": null,
   "id": "f17a4447",
   "metadata": {},
   "outputs": [],
   "source": [
    "# df.to_csv('raw_full_pop_data.csv')\n",
    "\n",
    "# df = pd.read_csv('raw_full_pop_data.csv', dtype=object)\n"
   ]
  },
  {
   "cell_type": "markdown",
   "id": "2da0ada5",
   "metadata": {},
   "source": [
    "Remove notes at the end of each doc"
   ]
  },
  {
   "cell_type": "code",
   "execution_count": 7,
   "id": "b5860d99",
   "metadata": {},
   "outputs": [],
   "source": [
    "df = df[~pd.isnull(df['Name'])]\n",
    "df.reset_index(inplace=True)\n",
    "df['Idx'] = df.index\n"
   ]
  },
  {
   "cell_type": "markdown",
   "id": "faf965f3",
   "metadata": {},
   "source": [
    "**Explore the data**"
   ]
  },
  {
   "cell_type": "code",
   "execution_count": 8,
   "id": "9fba32f1",
   "metadata": {},
   "outputs": [
    {
     "name": "stdout",
     "output_type": "stream",
     "text": [
      "<class 'pandas.core.frame.DataFrame'>\n",
      "RangeIndex: 1800407 entries, 0 to 1800406\n",
      "Data columns (total 34 columns):\n",
      " #   Column                                              Dtype         \n",
      "---  ------                                              -----         \n",
      " 0   index                                               int64         \n",
      " 1   Unnamed: 0                                          object        \n",
      " 2   IDOC #                                              object        \n",
      " 3   Name                                                object        \n",
      " 4   Date of Birth                                       object        \n",
      " 5   Sex                                                 object        \n",
      " 6   Race                                                object        \n",
      " 7   Veteran Status                                      object        \n",
      " 8   Current Admission Date                              object        \n",
      " 9   Admission Type                                      object        \n",
      " 10  Parent Institution                                  object        \n",
      " 11  Projected Mandatory Supervised Release (MSR) Date   object        \n",
      " 12  Projected Discharge Date                            object        \n",
      " 13  Custody Date                                        object        \n",
      " 14  Sentence Date                                       object        \n",
      " 15  Crime Class                                         object        \n",
      " 16  Holding Offense                                     object        \n",
      " 17  Holding Offense Category                            object        \n",
      " 18  Offense Type                                        object        \n",
      " 19  Sentence Years                                      object        \n",
      " 20  Sentence Months                                     object        \n",
      " 21  Truth in Sentencing                                 object        \n",
      " 22  Sentencing County                                   object        \n",
      " 23  Doc Date                                            object        \n",
      " 24  Projected Mandatory Supervised Release (MSR) Date3  object        \n",
      " 25  Projected Discharge Date3                           object        \n",
      " 26  Current Admission Date3                             datetime64[ns]\n",
      " 27  Projected Mandatory Supervised Release (MSR) Date4  object        \n",
      " 28  Projected Discharge Date4                           object        \n",
      " 29  Current Admission Type                              object        \n",
      " 30  Projected Mandatory Supervised Release (MSR) Date2  object        \n",
      " 31  Projected Discharge Date2                           object        \n",
      " 32  Projected Discharge  Date2                          object        \n",
      " 33  Idx                                                 int64         \n",
      "dtypes: datetime64[ns](1), int64(2), object(31)\n",
      "memory usage: 467.0+ MB\n",
      "None\n"
     ]
    }
   ],
   "source": [
    "print(df.info())\n"
   ]
  },
  {
   "cell_type": "markdown",
   "id": "4849a13c",
   "metadata": {},
   "source": [
    "**Dedupe/combine columns**\n",
    "\n",
    "Sometimes, columns in the individual data sets had different names. Combine these into a single column in the combined version.\n"
   ]
  },
  {
   "cell_type": "code",
   "execution_count": 9,
   "id": "9bde03ec",
   "metadata": {
    "scrolled": true
   },
   "outputs": [
    {
     "name": "stdout",
     "output_type": "stream",
     "text": [
      "\n",
      "Combining Projected Mandatory Supervised Release (MSR) Date dupes\n",
      "120967\n",
      "944630\n",
      "1705154\n",
      "1744952\n",
      "\n",
      "Combining Projected Discharge Date dupes\n",
      "116143\n",
      "165100\n",
      "934674\n",
      "1647409\n",
      "1687208\n",
      "\n",
      "Combining Current Admission Date dupes\n",
      "1760608\n",
      "1800407\n",
      "\n",
      "Combining Admission Type dupes\n",
      "1756899\n",
      "1800407\n",
      "\n",
      "Dropping empty columns:\n",
      "   Unnamed: 0\n",
      "Index(['index', 'IDOC #', 'Name', 'Date of Birth', 'Sex', 'Race',\n",
      "       'Veteran Status', 'Current Admission Date', 'Admission Type',\n",
      "       'Parent Institution',\n",
      "       'Projected Mandatory Supervised Release (MSR) Date',\n",
      "       'Projected Discharge Date', 'Custody Date', 'Sentence Date',\n",
      "       'Crime Class', 'Holding Offense', 'Holding Offense Category',\n",
      "       'Offense Type', 'Sentence Years', 'Sentence Months',\n",
      "       'Truth in Sentencing', 'Sentencing County', 'Doc Date', 'Idx'],\n",
      "      dtype='object')\n"
     ]
    }
   ],
   "source": [
    "# rename dupe columns so they can be consolidated programmatically\n",
    "df.rename(columns={'Projected Discharge  Date2': 'Projected Discharge Date1', 'Current Admission Type': 'Admission Type1'}, inplace=True)\n",
    "   \n",
    "len1 = len(df)\n",
    "dupe_col_name_list = ['Projected Mandatory Supervised Release (MSR) Date', 'Projected Discharge Date', 'Current Admission Date', 'Admission Type']\n",
    "for col_name in dupe_col_name_list:\n",
    "    print('\\nCombining {c} dupes'.format(c=col_name))\n",
    "    \n",
    "    print(df[col_name].notnull().sum())\n",
    "    \n",
    "    for dupe_num in range(1, 5):\n",
    "        if col_name + str(dupe_num) in df.columns:\n",
    "            \n",
    "            # replace the blanks in the main column with non-nulls in the dupe\n",
    "            df[col_name].fillna(df[col_name + str(dupe_num)], inplace=True)\n",
    "            print(df[col_name].notnull().sum())\n",
    "            \n",
    "            # drop the dupe\n",
    "            df.drop(col_name + str(dupe_num), axis=1, inplace=True)\n",
    "\n",
    "# remove empty columns\n",
    "print('\\nDropping empty columns:')\n",
    "for col in df.columns:\n",
    "    if df[col].isnull().all():\n",
    "        print('   {c}'.format(c=col))\n",
    "        df.drop(col, axis=1, inplace=True)\n",
    "    \n",
    "print(df.columns)\n",
    "            \n",
    "# df1 = df.copy()\n",
    "\n"
   ]
  },
  {
   "cell_type": "markdown",
   "id": "9f866a5f",
   "metadata": {},
   "source": [
    "**Explore further**\n",
    "\n",
    "Which fields need cleaning?"
   ]
  },
  {
   "cell_type": "code",
   "execution_count": 10,
   "id": "9ee15971",
   "metadata": {
    "scrolled": true
   },
   "outputs": [
    {
     "name": "stdout",
     "output_type": "stream",
     "text": [
      "\n",
      "\n",
      "0        44\n",
      "20042    44\n",
      "15940    44\n",
      "13893    44\n",
      "11846    44\n",
      "         ..\n",
      "48890     1\n",
      "48929     1\n",
      "48889     1\n",
      "48911     1\n",
      "48934     1\n",
      "Name: index, Length: 48957, dtype: int64\n",
      "\n",
      "\n",
      "R24647    44\n",
      "K70415    44\n",
      "A97512    44\n",
      "R10954    44\n",
      "K97356    44\n",
      "          ..\n",
      "N66128     1\n",
      "R48039     1\n",
      "Y52900     1\n",
      "R12311     1\n",
      "M02713     1\n",
      "Name: IDOC #, Length: 235775, dtype: int64\n",
      "\n",
      "\n",
      "WILLIAMS, MICHAEL    699\n",
      "SMITH, MICHAEL       562\n",
      "WILLIAMS, ANTHONY    546\n",
      "JOHNSON, MICHAEL     539\n",
      "BROWN, ANTHONY       493\n",
      "                    ... \n",
      "PADILLA, KALIN R.      1\n",
      "COOKS, BARBARA         1\n",
      "NEAL, YULONDA C.       1\n",
      "MAEZ, DANIEL           1\n",
      "MOORE, CLABE           1\n",
      "Name: Name, Length: 232162, dtype: int64\n",
      "\n",
      "\n",
      "1980-04-07 00:00:00    298\n",
      "1980-08-08 00:00:00    291\n",
      "1973-09-29 00:00:00    282\n",
      "1982-07-07 00:00:00    282\n",
      "1980-07-21 00:00:00    270\n",
      "                      ... \n",
      "2261974                  1\n",
      "7301936                  1\n",
      "1951-06-14 00:00:00      1\n",
      "2002-06-12 00:00:00      1\n",
      "01021949                 1\n",
      "Name: Date of Birth, Length: 54778, dtype: int64\n",
      "\n",
      "\n",
      "Male      1696853\n",
      "Female     103549\n",
      "                4\n",
      "B               1\n",
      "Name: Sex, dtype: int64\n",
      "\n",
      "\n",
      "Black              1023133\n",
      "White               539111\n",
      "Hispanic            227062\n",
      "Asian                 6126\n",
      "American Indian       2553\n",
      "Unknown               1221\n",
      "Bi-Racial             1195\n",
      "                         4\n",
      "Not Assigned             2\n",
      "Name: Race, dtype: int64\n",
      "\n",
      "\n",
      "Unknown    795017\n",
      "No         785569\n",
      "NaN        176991\n",
      "Yes         42830\n",
      "Name: Veteran Status, dtype: int64\n",
      "\n",
      "\n",
      "2020-08-04 00:00:00    1344\n",
      "2017-11-09 00:00:00    1012\n",
      "2006-11-03 00:00:00     880\n",
      "2018-08-31 00:00:00     876\n",
      "2006-05-19 00:00:00     871\n",
      "                       ... \n",
      "8081997                   1\n",
      "8082002                   1\n",
      "8082012                   1\n",
      "10231981                  1\n",
      "6051985                   1\n",
      "Name: Current Admission Date, Length: 22132, dtype: int64\n",
      "\n",
      "\n",
      "Direct from court                      667364\n",
      "Discharged & recommitted               558974\n",
      "Technical MSR violator                 157993\n",
      "Court admissions                       146732\n",
      "MSR violator, New sentence             125611\n",
      "None                                    42098\n",
      "Return additional mittimus              23738\n",
      "Direct from Court                       17858\n",
      "Discharged & Recommitted                15412\n",
      "Technical violators                     13485\n",
      "New sentence violators                   8702\n",
      "Transferred from juvenile                8229\n",
      "Technical MSR Violator                   4230\n",
      "Admit from other custody                 3428\n",
      "Parole violator, New sentence            2255\n",
      "MSR Violator, New Sentence               2228\n",
      "Technical parole violator                 693\n",
      "Other                                     649\n",
      "Conditional Release Violator              438\n",
      "Return to Custody                         127\n",
      "Not in IDOC custody                        71\n",
      "Parole Violator, New Sentence              63\n",
      "EDV                                        13\n",
      "Work release violator                       7\n",
      "Work release violator, new sentnce          4\n",
      "Conditional Release, New Sent               3\n",
      "Work release violator, new sentence         1\n",
      "Juv parole to adult parole                  1\n",
      "Name: Admission Type, dtype: int64\n",
      "\n",
      "\n",
      "Stateville CC              80845\n",
      "Menard CC                  71818\n",
      "Stateville                 65852\n",
      "Menard                     61588\n",
      "Pinckneyville              48800\n",
      "Dixon                      48117\n",
      "Pinckneyville CC           47814\n",
      "Illinois River             45726\n",
      "Dixon CC                   44738\n",
      "Lawrence CC                44206\n",
      "Western Illinois CC        41588\n",
      "Illinois River CC          41281\n",
      "Graham                     41096\n",
      "Shawnee CC                 40868\n",
      "Lawrence                   40557\n",
      "Hill                       39912\n",
      "Western Illinois           39432\n",
      "Danville                   38895\n",
      "Big Muddy River CC         37822\n",
      "Graham CC                  37675\n",
      "Logan CC                   37611\n",
      "Hill CC                    36835\n",
      "Jacksonville CC            36811\n",
      "Danville CC                36493\n",
      "Shawnee                    36465\n",
      "Sheridan                   35478\n",
      "Logan                      34821\n",
      "Vienna CC                  33967\n",
      "Pontiac CC                 33320\n",
      "Big Muddy River            32849\n",
      "Vandalia CC                31391\n",
      "Centralia                  31242\n",
      "Centralia CC               30938\n",
      "Pontiac                    28875\n",
      "Sheridan CC                28616\n",
      "East Moline CC             24444\n",
      "Taylorville                24332\n",
      "Robinson CC                24216\n",
      "Jacksonville               24160\n",
      "East Moline                23968\n",
      "Taylorville CC             23806\n",
      "Robinson                   23459\n",
      "Vandalia                   21778\n",
      "Vienna                     21710\n",
      "Lincoln                    20504\n",
      "Lincoln CC                 20358\n",
      "Dwight CC                  16680\n",
      "Decatur CC                 13930\n",
      "Southwestern IL CC         13734\n",
      "Decatur                    12503\n",
      "Southwestern Illinois      11692\n",
      "Tamms CC                    5734\n",
      "Kewanee Reentry Center      4275\n",
      "Joliet Treatment Center     3708\n",
      "Thomson                     1068\n",
      "Missing                        4\n",
      "Transportation                 2\n",
      "Name: Parent Institution, dtype: int64\n",
      "\n",
      "\n",
      "NaN                    55455\n",
      "99989999               19073\n",
      "99959999                2097\n",
      "                        1761\n",
      "99999999                1035\n",
      "                       ...  \n",
      "1977-07-04 00:00:00        1\n",
      "1983-02-24 00:00:00        1\n",
      "1982-11-12 00:00:00        1\n",
      "2118-12-05 00:00:00        1\n",
      "1983-07-13 00:00:00        1\n",
      "Name: Projected Mandatory Supervised Release (MSR) Date, Length: 35329, dtype: int64\n",
      "\n",
      "\n",
      "NaN                    113199\n",
      "99989999                35892\n",
      "                         4426\n",
      "99959999                 2097\n",
      "99999999                  542\n",
      "                        ...  \n",
      "2066-06-19 00:00:00         1\n",
      "2048-03-04 00:00:00         1\n",
      "2051-01-19 00:00:00         1\n",
      "2037-11-23 00:00:00         1\n",
      "2051-08-28 00:00:00         1\n",
      "Name: Projected Discharge Date, Length: 34060, dtype: int64\n",
      "\n",
      "\n",
      "2007-02-28 00:00:00    589\n",
      "2006-02-28 00:00:00    568\n",
      "2018-02-28 00:00:00    548\n",
      "2005-02-28 00:00:00    518\n",
      "2017-02-28 00:00:00    505\n",
      "                      ... \n",
      "8281992                  1\n",
      "8281991                  1\n",
      "8281987                  1\n",
      "3132014.                 1\n",
      "6252008                  1\n",
      "Name: Custody Date, Length: 32047, dtype: int64\n",
      "\n",
      "\n",
      "2018-08-30 00:00:00    635\n",
      "2009-12-10 00:00:00    623\n",
      "2018-01-03 00:00:00    614\n",
      "2018-02-28 00:00:00    611\n",
      "2009-12-17 00:00:00    604\n",
      "                      ... \n",
      "4121991                  1\n",
      "4121990                  1\n",
      "7211993                  1\n",
      "7212004                  1\n",
      "3282003                  1\n",
      "Name: Sentence Date, Length: 23269, dtype: int64\n",
      "\n",
      "\n",
      "Class X         503659\n",
      "Class 2         366832\n",
      "Murder          300881\n",
      "Class 1         283366\n",
      "Class 4         183306\n",
      "Class 3         154572\n",
      "Unclassified      7231\n",
      "Missing            541\n",
      "Class M             11\n",
      "NaN                  4\n",
      "                     4\n",
      "Name: Crime Class, dtype: int64\n",
      "\n",
      "\n",
      "MURDER/INTENT TO KILL/INJURE           251527\n",
      "BURGLARY                                79517\n",
      "POSS AMT CON SUB EXCEPT(A)/(D)          61820\n",
      "PREDATORY CRIMINAL SEXUAL ASSAULT       60042\n",
      "RESIDENTIAL BURGLARY                    57074\n",
      "                                        ...  \n",
      "ATTEMPT AGG UUW/ON PERSON                   1\n",
      "ATT ESC OF FELON FROM PENAL INST            1\n",
      "ILLEGAL INSURANCE CARDS                     1\n",
      "VEHICLE THEFT CONSP                         1\n",
      "CONSP AMT NARC SCHED I/II/SCH/HS/PK         1\n",
      "Name: Holding Offense, Length: 2197, dtype: int64\n",
      "\n",
      "\n",
      "NaN                             1658138\n",
      "Homicide                          38803\n",
      "Sex Assault After 7-84            21069\n",
      "Assault-Battery-Force-Harm        16211\n",
      "Weapons                           14828\n",
      "Control Substance Viol            13516\n",
      "Armed Robbery                      8293\n",
      "Burglary                           3673\n",
      "Residential Burglary               3590\n",
      "Other Sex Offenses                 3220\n",
      "DUI-Liquor                         3161\n",
      "Robbery                            3012\n",
      "Motor Veh Theft                    1758\n",
      "Kidnapping                         1503\n",
      "Home-Veh Invasion                  1455\n",
      "Theft                               998\n",
      "Armed Violence                      948\n",
      "Escape or Aid                       899\n",
      "Motor Veh Offenses                  849\n",
      "Retail Theft                        799\n",
      "SDP                                 751\n",
      "Arson                               688\n",
      "Forgery-Deception-Fraud             659\n",
      "Govt-Bribery-Business               465\n",
      "Cannabis                            443\n",
      "Crim Trespass/Damage to Prop        442\n",
      "Rape-Before 7-84                    125\n",
      "Disorderly Conduct                   93\n",
      "Bail Bond Viol                        8\n",
      "Poss Hypos                            5\n",
      "Habitual Criminal                     5\n",
      "Name: Holding Offense Category, dtype: int64\n",
      "\n",
      "\n",
      "NaN                1658138\n",
      "Person Crimes        86715\n",
      "Sex Crimes           25165\n",
      "Drug Crimes          16490\n",
      "Property Crimes      12986\n",
      "Other Crimes           913\n",
      "Name: Offense Type, dtype: int64\n",
      "\n",
      "\n"
     ]
    },
    {
     "name": "stdout",
     "output_type": "stream",
     "text": [
      "0006    158399\n",
      "0003    156161\n",
      "0004    138086\n",
      "0005     84201\n",
      "0002     82210\n",
      "         ...  \n",
      "110          1\n",
      "0522         1\n",
      "LFE          1\n",
      "999          1\n",
      "0210         1\n",
      "Name: Sentence Years, Length: 242, dtype: int64\n",
      "\n",
      "\n",
      "00     1377870\n",
      "0       123262\n",
      "000      76187\n",
      "06       65344\n",
      "         57066\n",
      "        ...   \n",
      "069          1\n",
      "035          1\n",
      "075          1\n",
      "052          1\n",
      "089          1\n",
      "Name: Sentence Months, Length: 287, dtype: int64\n",
      "\n",
      "\n",
      "Day-for-Day                    1247698\n",
      "85%                             249366\n",
      "100%                            153527\n",
      "85% Armed Habitual Criminal      21678\n",
      "0.85                             17972\n",
      "NaN                              17896\n",
      "85% Bodily Harm                  17881\n",
      "85% Agg Domestic Battery         16103\n",
      "85% Agg Discharge Firearm        15204\n",
      "75% Drug-Related Offenses        11827\n",
      "1                                10187\n",
      "85% Agg DUI w Death               9128\n",
      "Missing                           4521\n",
      "85% Agg Arson                     3142\n",
      "85% Agg DUI w Bodily Harm         1650\n",
      "85% Reckless Homicide             1514\n",
      "85% Agg DUI                       1088\n",
      "85% Machine Gun                     18\n",
      "100% Terrorism                       5\n",
      "85% Terrorism                        2\n",
      "Name: Truth in Sentencing, dtype: int64\n",
      "\n",
      "\n",
      "Cook            875491\n",
      "Winnebago        57143\n",
      "Will             52200\n",
      "Kane             47620\n",
      "Lake             47101\n",
      "                 ...  \n",
      "Brown              370\n",
      "Scott              279\n",
      "Out of state       204\n",
      "NaN                  4\n",
      "Dekalb               1\n",
      "Name: Sentencing County, Length: 108, dtype: int64\n",
      "\n",
      "\n",
      "2012-12-31    48957\n",
      "2011-06-30    48883\n",
      "2014-06-30    48818\n",
      "2013-06-30    48775\n",
      "2013-12-31    48552\n",
      "2010-12-31    48344\n",
      "2011-12-31    48330\n",
      "2012-06-30    48223\n",
      "2014-12-31    48176\n",
      "2010-06-30    47424\n",
      "2015-06-30    47064\n",
      "2015-12-31    45571\n",
      "2007-06-30    45487\n",
      "2009-06-30    45472\n",
      "2008-06-30    45471\n",
      "2008-12-31    45394\n",
      "2006-06-30    45370\n",
      "2007-12-31    45140\n",
      "2009-12-31    45082\n",
      "2006-12-31    45034\n",
      "2016-06-30    44716\n",
      "2005-06-30    44611\n",
      "2016-12-31    43508\n",
      "2017-06-30    42970\n",
      "2017-12-31    41318\n",
      "2018-03-31    41014\n",
      "2018-06-30    40758\n",
      "2018-09-30    40571\n",
      "2018-12-31    39799\n",
      "2019-03-31    39316\n",
      "2019-06-30    39181\n",
      "2019-09-30    38920\n",
      "2019-12-31    38140\n",
      "2020-03-31    36904\n",
      "2020-06-30    32048\n",
      "2020-09-30    30888\n",
      "2022-09-30    29525\n",
      "2022-06-30    29245\n",
      "2020-12-31    29111\n",
      "2021-09-30    28047\n",
      "2021-12-31    27851\n",
      "2022-03-31    27601\n",
      "2021-03-31    27499\n",
      "2021-06-30    27299\n",
      "Name: Doc Date, dtype: int64\n",
      "\n",
      "\n",
      "0         1\n",
      "818394    1\n",
      "885989    1\n",
      "888036    1\n",
      "898275    1\n",
      "         ..\n",
      "895775    1\n",
      "893726    1\n",
      "899869    1\n",
      "897820    1\n",
      "2047      1\n",
      "Name: Idx, Length: 1800407, dtype: int64\n"
     ]
    }
   ],
   "source": [
    "for col in df.columns:\n",
    "    print('\\n')\n",
    "    print(df[col].value_counts(dropna=False))\n",
    "    "
   ]
  },
  {
   "cell_type": "markdown",
   "id": "f0cbae35",
   "metadata": {},
   "source": [
    "* Sex has nulls and incorrect values\n",
    "* Race has nulls and values that can be combined\n",
    "* Veteran Status has values that can be combined\n",
    "* Parent Institution has values that can be combined\n",
    "* Crime Class has nulls and values that can be combined\n",
    "* Sentencing County has values that can be combined and should be categorized\n",
    "\n",
    "\n",
    "* Truth in Sentencing needs % split into its own column\n",
    "\n",
    "\n",
    "* Sentence Years needs further exploration - includes 0002, 999, LFE\n",
    "* Sentence Months needs further exploration - do these match Sentence Years?\n",
    "\n",
    "\n",
    "* Date of Birth has multiple date formats\n",
    "* Current Admission Date has multiple date formats\n",
    "* Custody Date has multiple date formats\n",
    "* Sentence Date has multiple date formats\n",
    "* Projected Mandatory Supervised Release (MSR) Date has multiple date formats and non-date values\n",
    "* Projected Discharge Date has multiple date formats and non-date values\n",
    "\n",
    "\n",
    "* Admission Type needs further exploration\n",
    "* Holding Offense needs further exploration and should be categorized\n",
    "    * Holding Offense Category exists, but use Phil's categories as well\n",
    "    * Offense Type exists, but use Phil's categories as well\n"
   ]
  },
  {
   "cell_type": "markdown",
   "id": "54ce0616",
   "metadata": {},
   "source": [
    "**Clean Sex**\n",
    "\n",
    "Sex contains empty spaces and \"B\" value."
   ]
  },
  {
   "cell_type": "code",
   "execution_count": 11,
   "id": "b1bc0557",
   "metadata": {},
   "outputs": [
    {
     "name": "stdout",
     "output_type": "stream",
     "text": [
      "Male       1696853\n",
      "Female      103549\n",
      "Unknown          5\n",
      "Name: Sex, dtype: int64\n"
     ]
    }
   ],
   "source": [
    "df.loc[(df['Sex'] == 'B') | (df['Sex'] == ' '), 'Sex'] = 'Unknown'\n",
    "print(df['Sex'].value_counts())\n"
   ]
  },
  {
   "cell_type": "markdown",
   "id": "2c1c40bf",
   "metadata": {},
   "source": [
    "**Clean Race**\n",
    "\n",
    "Race contains empty spaces, Unknown, and Not Assigned."
   ]
  },
  {
   "cell_type": "code",
   "execution_count": 12,
   "id": "52d91229",
   "metadata": {},
   "outputs": [
    {
     "name": "stdout",
     "output_type": "stream",
     "text": [
      "Black              1023133\n",
      "White               539111\n",
      "Hispanic            227062\n",
      "Asian                 6126\n",
      "American Indian       2553\n",
      "Unknown               1227\n",
      "Bi-Racial             1195\n",
      "Name: Race, dtype: int64\n"
     ]
    }
   ],
   "source": [
    "df.loc[(df['Race'] == 'Not Assigned') | (df['Race'] == ' '), 'Race'] = 'Unknown'\n",
    "print(df['Race'].value_counts())\n"
   ]
  },
  {
   "cell_type": "markdown",
   "id": "c4e357fa",
   "metadata": {},
   "source": [
    "**Clean Veteran Status**\n",
    "\n",
    "Veteran Status contains Yes, No, NaN, and Unknown. "
   ]
  },
  {
   "cell_type": "code",
   "execution_count": 13,
   "id": "978c8006",
   "metadata": {},
   "outputs": [
    {
     "name": "stdout",
     "output_type": "stream",
     "text": [
      "NaN    176991\n",
      "No     126530\n",
      "Yes      6835\n",
      "Name: Veteran Status, dtype: int64\n",
      "Unknown    972008\n",
      "No         785569\n",
      "Yes         42830\n",
      "Name: Veteran Status, dtype: int64\n"
     ]
    }
   ],
   "source": [
    "# check if NaN means No or Unknown\n",
    "null_vet_status_df = df[df['Doc Date'].isin(df[pd.isnull(df['Veteran Status'])]['Doc Date'])]\n",
    "print(null_vet_status_df['Veteran Status'].value_counts(dropna=False))\n",
    "\n",
    "# plenty of Nos in the same documents as the NaNs, so NaN likely means \"Unknown\"\n",
    "df.loc[pd.isnull(df['Veteran Status']), 'Veteran Status'] = 'Unknown'\n",
    "print(df['Veteran Status'].value_counts(dropna=False))\n"
   ]
  },
  {
   "cell_type": "markdown",
   "id": "2bdc444d",
   "metadata": {},
   "source": [
    "**Parent Intitutions**\n",
    "\n",
    "Clean up the names to be consistent."
   ]
  },
  {
   "cell_type": "code",
   "execution_count": 14,
   "id": "ef6d0726",
   "metadata": {},
   "outputs": [
    {
     "name": "stdout",
     "output_type": "stream",
     "text": [
      "Big Muddy River             70671\n",
      "Centralia                   62180\n",
      "Danville                    75388\n",
      "Decatur                     26433\n",
      "Dixon                       92855\n",
      "Dwight                      16680\n",
      "East Moline                 48412\n",
      "Graham                      78771\n",
      "Hill                        76747\n",
      "Illinois River              87007\n",
      "Jacksonville                60971\n",
      "Joliet Treatment Center      3708\n",
      "Kewanee Reentry Center       4275\n",
      "Lawrence                    84763\n",
      "Lincoln                     40862\n",
      "Logan                       72432\n",
      "Menard                     133406\n",
      "Missing                         4\n",
      "Pinckneyville               96614\n",
      "Pontiac                     62195\n",
      "Robinson                    47675\n",
      "Shawnee                     77333\n",
      "Sheridan                    64094\n",
      "Southwestern IL             13734\n",
      "Southwestern Illinois       11692\n",
      "Stateville                 146697\n",
      "Tamms                        5734\n",
      "Taylorville                 48138\n",
      "Thomson                      1068\n",
      "Transportation                  2\n",
      "Vandalia                    53169\n",
      "Vienna                      55677\n",
      "Western Illinois            81020\n",
      "Name: Parent Institution, dtype: int64\n"
     ]
    }
   ],
   "source": [
    "# remove CC appendix from  names\n",
    "last_two_char = df['Parent Institution'].apply(lambda x: x[-2:])\n",
    "df.loc[last_two_char == 'CC', 'Parent Institution'] = df.loc[last_two_char == 'CC', 'Parent Institution'].apply(lambda x: x[:-3])\n",
    "\n",
    "# check remaining names\n",
    "pd.set_option('display.max_rows', 60)\n",
    "print(df['Parent Institution'].value_counts().sort_index())\n",
    "\n",
    "# change Southwestern IL to Illinois\n",
    "df.loc[df['Parent Institution'] == 'Southwestern IL', 'Parent Institution'] = 'Southwestern Illinois'\n",
    "\n"
   ]
  },
  {
   "cell_type": "markdown",
   "id": "09259806",
   "metadata": {},
   "source": [
    "**Clean Crime Class**\n",
    "\n",
    "* Class M is murder\n",
    "* Change empty spaces, NaN, and Missing to Unknown\n",
    "* Unclassified remains as Unclassified"
   ]
  },
  {
   "cell_type": "code",
   "execution_count": 15,
   "id": "c8994137",
   "metadata": {},
   "outputs": [
    {
     "name": "stdout",
     "output_type": "stream",
     "text": [
      "Class X         503659\n",
      "Class 2         366832\n",
      "Murder          300892\n",
      "Class 1         283366\n",
      "Class 4         183306\n",
      "Class 3         154572\n",
      "Unclassified      7231\n",
      "Unknown            549\n",
      "Name: Crime Class, dtype: int64\n"
     ]
    }
   ],
   "source": [
    "df.loc[df['Crime Class'] == 'Class M', 'Crime Class'] = 'Murder'\n",
    "df.loc[(df['Crime Class'].isin([' ', 'Missing'])) | (pd.isnull(df['Crime Class'])), 'Crime Class'] = 'Unknown'\n",
    "print(df['Crime Class'].value_counts(dropna=False))\n"
   ]
  },
  {
   "cell_type": "markdown",
   "id": "fce29fca",
   "metadata": {},
   "source": [
    "**Sentencing Counties**\n",
    "\n",
    "* Clean up different versions of county names\n",
    "* Categorize into regions"
   ]
  },
  {
   "cell_type": "code",
   "execution_count": 16,
   "id": "fd234ff0",
   "metadata": {},
   "outputs": [
    {
     "name": "stdout",
     "output_type": "stream",
     "text": [
      "Adams            14930\n",
      "Alexander         1913\n",
      "Bond              2919\n",
      "Boone             7883\n",
      "Brown              370\n",
      "Bureau            3682\n",
      "Calhoun            681\n",
      "Carroll           1184\n",
      "Cass              1447\n",
      "Champaign        43029\n",
      "Christian         5107\n",
      "Clark             2627\n",
      "Clay              2637\n",
      "Clinton           4169\n",
      "Coles            10881\n",
      "Cook            875491\n",
      "Crawford          3289\n",
      "Cumberland         895\n",
      "DeKalb            8193\n",
      "DeWitt            2522\n",
      "Dekalb               1\n",
      "Douglas           2716\n",
      "DuPage           21582\n",
      "Dupage           28521\n",
      "Edgar             3045\n",
      "Edwards           1449\n",
      "Effingham         4546\n",
      "Fayette           4472\n",
      "Ford              1635\n",
      "Franklin          7409\n",
      "Fulton            3239\n",
      "Gallatin           803\n",
      "Greene            1131\n",
      "Grundy            3042\n",
      "Hamilton          1979\n",
      "Hancock           1897\n",
      "Hardin             756\n",
      "Henderson          694\n",
      "Henry            10020\n",
      "Iroquois          3140\n",
      "Jackson           9208\n",
      "Jasper             789\n",
      "Jefferson         9951\n",
      "Jersey            3840\n",
      "Jo Daviess        1199\n",
      "Johnson           1464\n",
      "Kane             47620\n",
      "Kankakee         18797\n",
      "Kendall           6710\n",
      "Knox              6815\n",
      "LaSalle            453\n",
      "Lake             47101\n",
      "Lasalle          18822\n",
      "Lawrence          2978\n",
      "Lee               4479\n",
      "Livingston        7597\n",
      "Logan             6272\n",
      "Macon            38907\n",
      "Macoupin          4048\n",
      "Madison          39591\n",
      "Marion            9194\n",
      "Marshall           775\n",
      "Mason             3402\n",
      "Massac            3012\n",
      "McDonough         2375\n",
      "McHenry          11743\n",
      "McLean           33067\n",
      "Menard             973\n",
      "Mercer            1723\n",
      "Monroe            1495\n",
      "Montgomery        5794\n",
      "Morgan            4890\n",
      "Moultrie          1240\n",
      "Ogle              3303\n",
      "Out of state       204\n",
      "Peoria           43987\n",
      "Perry             2145\n",
      "Piatt              836\n",
      "Pike              4143\n",
      "Pope               655\n",
      "Pulaski            772\n",
      "Putnam             419\n",
      "Randolph          3980\n",
      "Richland          2557\n",
      "Rock Island      16167\n",
      "Saline            6616\n",
      "Sangamon         33812\n",
      "Schuyler          1465\n",
      "Scott              279\n",
      "Shelby            3047\n",
      "St. Clair        36811\n",
      "Stark              372\n",
      "Stephenson        8240\n",
      "Tazewell         15104\n",
      "Union             2973\n",
      "Unknown            545\n",
      "Vermilion        18493\n",
      "Wabash            1981\n",
      "Warren            1487\n",
      "Washington         985\n",
      "Wayne             2305\n",
      "White             4403\n",
      "Whiteside         8779\n",
      "Will             52200\n",
      "Williamson        6387\n",
      "Winnebago        57143\n",
      "Woodford          5558\n",
      "Name: Sentencing County, dtype: int64\n",
      "['Out of state/Unknown' nan]\n"
     ]
    }
   ],
   "source": [
    "pd.set_option('display.max_rows', 107)\n",
    "tmp_df = df['Sentencing County'].value_counts()\n",
    "print(tmp_df.sort_index())\n",
    "\n",
    "# relabel mislabeled counties\n",
    "df.loc[df['Sentencing County'] == 'Dekalb', 'Sentencing County'] = 'DeKalb'\n",
    "df.loc[df['Sentencing County'] == 'Dupage', 'Sentencing County'] = 'DuPage'\n",
    "df.loc[df['Sentencing County'] == 'Lasalle', 'Sentencing County'] = 'LaSalle'\n",
    "df.loc[df['Sentencing County'].isin(['Out of state', 'Unknown']), 'Sentencing County'] = 'Out of state/Unknown'\n",
    "                                    \n",
    "# group into regions  \n",
    "cook_list = ['COOK']\n",
    "chi_metro_list = ['DUPAGE', 'LAKE', 'KANE', 'MCHENRY', 'WILL']\n",
    "north_il_list = ['BOONE', 'BUREAU', 'CARROLL', 'DEKALB', 'GRUNDY', 'HENRY', 'JO DAVIESS', 'KENDALL', 'LASALLE', 'LEE', 'OGLE', 'ROCK ISLAND', 'STEPHENSON', 'WHITESIDE',  'WINNEBAGO']\n",
    "cent_il_list = ['ADAMS', 'BROWN', 'CALHOUN', 'CASS', 'CHAMPAIGN', 'CHRISTIAN', 'COLES', 'CUMBERLAND', 'DEWITT', 'DOUGLAS', 'EDGAR', 'FORD', 'FULTON', 'GREENE', 'HANCOCK', 'HENDERSON', 'IROQUOIS', 'JERSEY', 'KANKAKEE', 'KNOX', 'LIVINGSTON', 'LOGAN', 'MACON', 'MACOUPIN', 'MARSHALL', 'MASON', 'MCDONOUGH', 'MCLEAN', 'MENARD', 'MERCER', 'MONTGOMERY', 'MORGAN', 'MOULTRIE', 'PEORIA', 'PIATT', 'PIKE', 'PUTNAM', 'SANGAMON', 'SCHUYLER', 'SCOTT', 'SHELBY', 'STARK', 'TAZEWELL', 'VERMILION', 'WARREN', 'WOODFORD']\n",
    "st_louis_list = ['MADISON', 'ST. CLAIR']\n",
    "south_il_list = ['ALEXANDER', 'BOND', 'CLARK', 'CLAY', 'CLINTON', 'CRAWFORD', 'EDWARDS', 'EFFINGHAM', 'FAYETTE', 'FRANKLIN', 'GALLATIN', 'HAMILTON', 'HARDIN', 'JACKSON', 'JASPER', 'JEFFERSON', 'JOHNSON', 'LAWRENCE', 'MARION', 'MASSAC', 'MONROE', 'PERRY', 'POPE', 'PULASKI', 'RANDOLPH', 'RICHLAND', 'SALINE', 'UNION', 'WABASH', 'WASHINGTON', 'WAYNE', 'WHITE', 'WILLIAMSON']\n",
    "\n",
    "df.loc[df['Sentencing County'].str.upper().isin(cook_list), 'Sentencing Region'] = 'Cook'\n",
    "df.loc[df['Sentencing County'].str.upper().isin(chi_metro_list), 'Sentencing Region'] = 'Chicago Metro'\n",
    "df.loc[df['Sentencing County'].str.upper().isin(north_il_list), 'Sentencing Region'] = 'North IL'\n",
    "df.loc[df['Sentencing County'].str.upper().isin(cent_il_list), 'Sentencing Region'] = 'Central IL'\n",
    "df.loc[df['Sentencing County'].str.upper().isin(st_louis_list), 'Sentencing Region'] = 'St. Louis Metro'\n",
    "df.loc[df['Sentencing County'].str.upper().isin(south_il_list), 'Sentencing Region'] = 'South IL'\n",
    "\n",
    "# check for missed counties\n",
    "print(df[pd.isnull(df['Sentencing Region'])]['Sentencing County'].unique())\n",
    "\n",
    "df.loc[pd.isnull(df['Sentencing Region']), 'Sentencing Region'] = 'Out of State/Unknown'\n",
    "\n"
   ]
  },
  {
   "cell_type": "markdown",
   "id": "77c93109",
   "metadata": {},
   "source": [
    "**Truth In Sentencing**\n",
    "\n",
    "Clean up the mix of floats and strings, percents and descriptions."
   ]
  },
  {
   "cell_type": "code",
   "execution_count": 17,
   "id": "6dd6406c",
   "metadata": {
    "scrolled": true
   },
   "outputs": [
    {
     "name": "stdout",
     "output_type": "stream",
     "text": [
      "Day-for-Day                    1247698\n",
      "85%                             249366\n",
      "100%                            153527\n",
      "85% Armed Habitual Criminal      21678\n",
      "0.85                             17972\n",
      "85% Bodily Harm                  17881\n",
      "85% Agg Domestic Battery         16103\n",
      "85% Agg Discharge Firearm        15204\n",
      "75% Drug-Related Offenses        11827\n",
      "1                                10187\n",
      "85% Agg DUI w Death               9128\n",
      "Missing                           4521\n",
      "85% Agg Arson                     3142\n",
      "85% Agg DUI w Bodily Harm         1650\n",
      "85% Reckless Homicide             1514\n",
      "85% Agg DUI                       1088\n",
      "85% Machine Gun                     18\n",
      "100% Terrorism                       5\n",
      "85% Terrorism                        2\n",
      "Name: Truth in Sentencing, dtype: int64\n",
      "\n",
      "\n",
      "                 Truth in Sentencing  TIS Pct                 TIS Desc\n",
      "17                              100%     1.00                      NaN\n",
      "46                               85%     0.85                      NaN\n",
      "47       85% Armed Habitual Criminal     0.85  Armed Habitual Criminal\n",
      "94                   85% Bodily Harm     0.85              Bodily Harm\n",
      "176         85% Agg Domestic Battery     0.85     Agg Domestic Battery\n",
      "462        75% Drug-Related Offenses     0.75    Drug-Related Offenses\n",
      "546        85% Agg DUI w Bodily Harm     0.85    Agg DUI w Bodily Harm\n",
      "694              85% Agg DUI w Death     0.85          Agg DUI w Death\n",
      "736        85% Agg Discharge Firearm     0.85    Agg Discharge Firearm\n",
      "1023                   85% Agg Arson     0.85                Agg Arson\n",
      "4518           85% Reckless Homicide     0.85        Reckless Homicide\n",
      "51091                85% Machine Gun     0.85              Machine Gun\n",
      "650334                100% Terrorism     1.00                Terrorism\n",
      "1130788                85% Terrorism     0.85                Terrorism\n",
      "1347441                  85% Agg DUI     0.85                  Agg DUI\n",
      "0                        Day-for-Day     0.50              Day-for-Day\n",
      "771513                             1     1.00                      NaN\n",
      "771521                          0.85     0.85                      NaN\n",
      "820109                           NaN      NaN                      NaN\n"
     ]
    }
   ],
   "source": [
    "# check TIS values\n",
    "pd.set_option('display.max_rows', 25)\n",
    "print(df['Truth in Sentencing'].value_counts())\n",
    "\n",
    "len1 = len(df)\n",
    "\n",
    "# convert all to string\n",
    "df['Truth in Sentencing'] = df['Truth in Sentencing'].astype(str)\n",
    "\n",
    "# life sentences and SDPs are not included\n",
    "tis_df = df[(~pd.isnull(df['Truth in Sentencing'])) & (~df['Sentence Years'].isin(['LIFE', 'SDP']))]\n",
    "\n",
    "# where '%' is in the string, the percent is before, the description is after\n",
    "tis_pct_df = tis_df[tis_df['Truth in Sentencing'].str.contains('%')]\n",
    "tis_split = tis_pct_df['Truth in Sentencing'].str.split('%')\n",
    "tis_pct_df['TIS Pct'] = tis_split.apply(lambda x: float(x[0]) / 100)\n",
    "tis_pct_df['TIS Desc'] = tis_split.apply(lambda x: x[1].strip())\n",
    "\n",
    "tis_pct_df['TIS Desc'].replace('', np.nan, inplace=True)\n",
    "\n",
    "tis_non_pct_df = tis_df[~tis_df.index.isin(tis_pct_df.index)]\n",
    "tis_df = pd.concat([tis_pct_df, tis_non_pct_df])\n",
    "\n",
    "# if desc is day-for-day, 50%\n",
    "tis_df.loc[tis_df['Truth in Sentencing'] == 'Day-for-Day', 'TIS Pct'] = 0.5\n",
    "tis_df.loc[tis_df['Truth in Sentencing'] == 'Day-for-Day', 'TIS Desc'] = 'Day-for-Day'\n",
    "\n",
    "# if desc is Missing or null, null pct, and convert to nulls\n",
    "tis_df.loc[tis_df['Truth in Sentencing'].isin(['Missing', 'nan']), 'TIS Pct'] = np.nan\n",
    "tis_df.loc[tis_df['Truth in Sentencing'].isin(['Missing', 'nan']), 'TIS Desc'] = np.nan\n",
    "tis_df.loc[tis_df['Truth in Sentencing'].isin(['Missing', 'nan']), 'Truth in Sentencing'] = np.nan\n",
    "\n",
    "# if tis is a number, pass to the pct field\n",
    "tis_df.loc[tis_df['Truth in Sentencing'].isin(['1', '0.85']), 'TIS Pct'] = tis_df.loc[tis_df['Truth in Sentencing'].isin(['1', '0.85']), 'Truth in Sentencing'].astype(float)\n",
    "tis_df.loc[tis_df['Truth in Sentencing'].isin(['1', '0.85']), 'TIS Desc'] = np.nan\n",
    "\n",
    "# combine back to full df\n",
    "non_tis_df = df[~df.index.isin(tis_df.index)]\n",
    "non_tis_df['TIS Pct'] = np.nan\n",
    "non_tis_df['TIS Desc'] = non_tis_df['Truth in Sentencing']\n",
    "\n",
    "df = pd.concat([tis_df, non_tis_df])\n",
    "\n",
    "# check outcomes\n",
    "print('\\n')\n",
    "pd.set_option('display.max_rows', 25)\n",
    "print(tis_df[['Truth in Sentencing', 'TIS Pct', 'TIS Desc']].drop_duplicates())\n",
    "\n",
    "if len(df) != len1:\n",
    "    print('ERROR: Splitting TIS changed the df length')\n",
    "    1/0\n"
   ]
  },
  {
   "cell_type": "markdown",
   "id": "8d22e850",
   "metadata": {},
   "source": [
    "**Sentence Length**\n",
    "\n",
    "* The formatting of the sentence years and months is inconsistent.\n",
    "* Create columns showing the total sentencing length in months and in years."
   ]
  },
  {
   "cell_type": "code",
   "execution_count": 18,
   "id": "4e0292f3",
   "metadata": {},
   "outputs": [
    {
     "name": "stdout",
     "output_type": "stream",
     "text": [
      "0006     158399\n",
      "0003     156161\n",
      "0004     138086\n",
      "0005      84201\n",
      "0002      82210\n",
      "0010      81747\n",
      "0008      79303\n",
      "0007      73281\n",
      "LIFE      67224\n",
      "0000      60838\n",
      "0020      53126\n",
      "0012      51221\n",
      "0015      50457\n",
      "0009      42019\n",
      "0030      38907\n",
      "0001      35897\n",
      "0025      32144\n",
      "0060      31310\n",
      "0050      27022\n",
      "0040      25098\n",
      "0014      23105\n",
      "0018      22975\n",
      "0045      20998\n",
      "0035      16924\n",
      "0011      16270\n",
      "0013      15043\n",
      "3         14442\n",
      "6         14441\n",
      "0016      13477\n",
      "4         13084\n",
      "0021      12294\n",
      "0022      12270\n",
      "0055      12252\n",
      "0028      10071\n",
      "0017       9470\n",
      "0024       8325\n",
      "2          7853\n",
      "0023       7684\n",
      "5          7665\n",
      "SDP        7167\n",
      "8          7094\n",
      "0080       6948\n",
      "10         6834\n",
      "0          6745\n",
      "7          6441\n",
      "0026       6288\n",
      "0027       5973\n",
      "0075       5738\n",
      "0070       4621\n",
      "0032       4568\n",
      "12         4103\n",
      "15         3970\n",
      "20         3956\n",
      "0019       3785\n",
      "0038       3774\n",
      "1          3699\n",
      "9          3642\n",
      "0065       3619\n",
      "0100       3216\n",
      "30         2761\n",
      "0029       2580\n",
      "0033       2567\n",
      "60         2378\n",
      "0048       2345\n",
      "0031       2280\n",
      "25         2199\n",
      "50         2185\n",
      "40         2050\n",
      "0036       2011\n",
      "14         1807\n",
      "0034       1776\n",
      "0090       1716\n",
      "45         1690\n",
      "18         1649\n",
      "0042       1639\n",
      "0085       1609\n",
      "0052       1507\n",
      "11         1379\n",
      "0047       1368\n",
      "0037       1319\n",
      "35         1234\n",
      "13         1193\n",
      "0044       1088\n",
      "0046       1053\n",
      "0058       1044\n",
      "0039       1017\n",
      "16          967\n",
      "55          942\n",
      "0200        867\n",
      "22          865\n",
      "0150        841\n",
      "0300        833\n",
      "0043        788\n",
      "0054        738\n",
      "0053        724\n",
      "21          708\n",
      "17          707\n",
      "28          700\n",
      "0049        604\n",
      "0056        603\n",
      "24          576\n",
      "80          528\n",
      "0057        513\n",
      "23          495\n",
      "0041        419\n",
      "75          415\n",
      "26          398\n",
      "27          398\n",
      "70          365\n",
      "32          324\n",
      "19          293\n",
      "38          287\n",
      "100         280\n",
      "0095        269\n",
      "65          230\n",
      "0120        221\n",
      "0059        220\n",
      "0051        216\n",
      "0063        199\n",
      "0199        192\n",
      "48          182\n",
      "0068        175\n",
      "29          174\n",
      "33          173\n",
      "0062        168\n",
      "0066        162\n",
      "36          153\n",
      "42          140\n",
      "0061        139\n",
      "DEATH       138\n",
      "0600        137\n",
      "34          134\n",
      "1000        132\n",
      "90          127\n",
      "0064        126\n",
      "0180        122\n",
      "52          121\n",
      "85          116\n",
      "0072        112\n",
      "31          111\n",
      "0067        108\n",
      "44           98\n",
      "0099         98\n",
      "37           96\n",
      "47           96\n",
      "0078         95\n",
      "39           83\n",
      "150          81\n",
      "0125         80\n",
      "200          79\n",
      "58           79\n",
      "46           78\n",
      "300          72\n",
      "0084         71\n",
      "0500         67\n",
      "0071         66\n",
      "0076         64\n",
      "43           63\n",
      "0092         61\n",
      "0069         59\n",
      "0105         57\n",
      "53           56\n",
      "0081         54\n",
      "54           51\n",
      "56           46\n",
      "49           42\n",
      "0094         41\n",
      "0450         41\n",
      "0091         41\n",
      "0225         41\n",
      "0400         41\n",
      "0088         41\n",
      "0110         40\n",
      "0250         39\n",
      "0079         38\n",
      "1500         33\n",
      "0073         33\n",
      "2500         32\n",
      "2400         31\n",
      "41           31\n",
      "57           30\n",
      "0240         27\n",
      "0999         27\n",
      "0900         24\n",
      "95           23\n",
      "0175         20\n",
      "120          17\n",
      "PEND         16\n",
      "0082         16\n",
      "68           14\n",
      "66           13\n",
      "63           13\n",
      "59           12\n",
      "51           12\n",
      "1000         12\n",
      "199          12\n",
      "600          11\n",
      "180          11\n",
      "0135         11\n",
      "62            9\n",
      "99            8\n",
      "0198          8\n",
      "61            8\n",
      "64            7\n",
      "0083          6\n",
      "92            6\n",
      "71            6\n",
      "67            6\n",
      "125           6\n",
      "78            6\n",
      "84            5\n",
      "0098          5\n",
      "500           5\n",
      "72            5\n",
      "105           5\n",
      "NaN           4\n",
      "0074          4\n",
      "69            4\n",
      "              4\n",
      "76            4\n",
      "81            4\n",
      "2400          4\n",
      "94            3\n",
      "175           3\n",
      "400           3\n",
      "450           3\n",
      "900           3\n",
      "1500          3\n",
      "2500          3\n",
      "225           3\n",
      "240           3\n",
      "91            3\n",
      "88            3\n",
      "79            3\n",
      "250           3\n",
      "73            3\n",
      "0140          1\n",
      "110           1\n",
      "0522          1\n",
      "LFE           1\n",
      "999           1\n",
      "0210          1\n",
      "Name: Sentence Years, dtype: int64\n",
      "00     1377870\n",
      "0       123262\n",
      "000      76187\n",
      "06       65344\n",
      "         57066\n",
      "NaN      17488\n",
      "18       14731\n",
      "30       11118\n",
      "6         6481\n",
      "42        5548\n",
      "54        3569\n",
      "006       3256\n",
      "36        2292\n",
      "24        1970\n",
      "48        1839\n",
      "18        1715\n",
      "72        1654\n",
      "78        1468\n",
      "03        1459\n",
      "09        1259\n",
      "15        1203\n",
      "30        1157\n",
      "90        1057\n",
      "66        1041\n",
      "60        1032\n",
      "96         971\n",
      "12         802\n",
      "84         769\n",
      "04         648\n",
      "40         622\n",
      "42         582\n",
      "10         567\n",
      "27         545\n",
      "08         496\n",
      "20         488\n",
      "14         436\n",
      "54         392\n",
      "018        377\n",
      "33         362\n",
      "02         346\n",
      "21         331\n",
      "50         291\n",
      "45         277\n",
      "030        273\n",
      "36         259\n",
      "28         258\n",
      "39         249\n",
      "16         245\n",
      "72         241\n",
      "24         214\n",
      "05         205\n",
      "01         194\n",
      "48         193\n",
      "11         189\n",
      "57         178\n",
      "56         168\n",
      "26         168\n",
      "78         166\n",
      "32         165\n",
      "07         158\n",
      "70         155\n",
      "042        155\n",
      "22         151\n",
      "15         148\n",
      "37         147\n",
      "13         140\n",
      "52         139\n",
      "3          134\n",
      "38         130\n",
      "51         127\n",
      "60         126\n",
      "90         126\n",
      "34         120\n",
      "75         119\n",
      "9          118\n",
      "66         117\n",
      "96         114\n",
      "80         110\n",
      "054        100\n",
      "44          97\n",
      "25          94\n",
      "68          93\n",
      "99          89\n",
      "84          87\n",
      "12          84\n",
      "46          83\n",
      "40          81\n",
      "003         78\n",
      "036         76\n",
      "73          71\n",
      "63          69\n",
      "58          64\n",
      "009         63\n",
      "20          61\n",
      "4           59\n",
      "49          58\n",
      "29          57\n",
      "43          56\n",
      "024         55\n",
      "17          54\n",
      "010         49\n",
      "008         49\n",
      "14          49\n",
      "62          48\n",
      "47          46\n",
      "55          45\n",
      "50          45\n",
      "108         45\n",
      "27          44\n",
      "23          43\n",
      "015         42\n",
      "066         41\n",
      "10          41\n",
      "8           38\n",
      "090         37\n",
      "060         34\n",
      "2           34\n",
      "28          34\n",
      "94          33\n",
      "002         33\n",
      "004         32\n",
      "45          32\n",
      "35          31\n",
      "078         31\n",
      "19          31\n",
      "21          30\n",
      "33          28\n",
      "76          27\n",
      "084         27\n",
      "31          27\n",
      "16          27\n",
      "83          27\n",
      "74          26\n",
      "38          26\n",
      "69          25\n",
      "41          24\n",
      "53          24\n",
      "93          24\n",
      "39          23\n",
      "81          23\n",
      "64          23\n",
      "26          22\n",
      "85          22\n",
      "048         22\n",
      "98          22\n",
      "32          21\n",
      "1           20\n",
      "011         19\n",
      "020         19\n",
      "012         19\n",
      "57          19\n",
      "70          18\n",
      "005         18\n",
      "88          18\n",
      "79          18\n",
      "072         17\n",
      "114         17\n",
      "007         17\n",
      "014         17\n",
      "104         16\n",
      "37          16\n",
      "11          16\n",
      "59          16\n",
      "25          16\n",
      "5           15\n",
      "027         14\n",
      "46          14\n",
      "057         14\n",
      "51          14\n",
      "001         14\n",
      "040         14\n",
      "87          14\n",
      "13          14\n",
      "045         14\n",
      "61          14\n",
      "92          14\n",
      "75          13\n",
      "34          13\n",
      "56          13\n",
      "52          13\n",
      "016         12\n",
      "100         12\n",
      "86          11\n",
      "039         11\n",
      "49          11\n",
      "80          11\n",
      "7           10\n",
      "95          10\n",
      "65          10\n",
      "99           9\n",
      "013          9\n",
      "97           9\n",
      "22           9\n",
      "17           8\n",
      "71           8\n",
      "102          8\n",
      "91           7\n",
      "82           7\n",
      "033          7\n",
      "29           7\n",
      "051          7\n",
      "74           7\n",
      "180          6\n",
      "55           6\n",
      "073          6\n",
      "050          6\n",
      "58           6\n",
      "120          6\n",
      "070          6\n",
      "68           6\n",
      "026          6\n",
      "98           5\n",
      "43           5\n",
      "44           5\n",
      "67           5\n",
      "038          5\n",
      "096          5\n",
      "028          5\n",
      "068          5\n",
      "081          5\n",
      "064          5\n",
      "049          5\n",
      "021          4\n",
      "93           4\n",
      "19           4\n",
      "73           4\n",
      "81           4\n",
      "63           4\n",
      "77           4\n",
      "31           4\n",
      "055          4\n",
      "118          4\n",
      "88           4\n",
      "041          3\n",
      "058          3\n",
      "92           3\n",
      "69           3\n",
      "095          3\n",
      "168          3\n",
      "062          3\n",
      "099          3\n",
      "093          3\n",
      "198          3\n",
      "144          3\n",
      "76           3\n",
      "047          3\n",
      "85           3\n",
      "288          3\n",
      "210          3\n",
      "063          3\n",
      "053          3\n",
      "82           3\n",
      "204          3\n",
      "046          2\n",
      "029          2\n",
      "032          2\n",
      "35           2\n",
      "83           2\n",
      "022          2\n",
      "97           2\n",
      "025          2\n",
      "056          2\n",
      "87           2\n",
      "23           2\n",
      "044          2\n",
      "080          2\n",
      "094          2\n",
      "53           2\n",
      "034          2\n",
      "41           2\n",
      "043          2\n",
      "019          2\n",
      "62           2\n",
      "79           1\n",
      "59           1\n",
      "017          1\n",
      "61           1\n",
      "47           1\n",
      "71           1\n",
      "037          1\n",
      "023          1\n",
      "89           1\n",
      "069          1\n",
      "035          1\n",
      "075          1\n",
      "052          1\n",
      "089          1\n",
      "Name: Sentence Months, dtype: int64\n"
     ]
    },
    {
     "name": "stdout",
     "output_type": "stream",
     "text": [
      "\n",
      "0\n",
      "0        542\n",
      "2          1\n",
      "4          1\n",
      "6          1\n",
      "10         1\n",
      "11         1\n",
      "12       682\n",
      "13       116\n",
      "14       361\n",
      "15      1015\n",
      "16       212\n",
      "17        43\n",
      "18     11409\n",
      "19        28\n",
      "20       376\n",
      "21       241\n",
      "22       110\n",
      "23        24\n",
      "24      1429\n",
      "25        68\n",
      "26       130\n",
      "27       345\n",
      "28       162\n",
      "29        31\n",
      "30      6743\n",
      "31        18\n",
      "32       100\n",
      "33       199\n",
      "34        70\n",
      "35        20\n",
      "36      1188\n",
      "37        52\n",
      "38        69\n",
      "39       127\n",
      "40       300\n",
      "41        12\n",
      "42      2397\n",
      "43        18\n",
      "44        36\n",
      "45       112\n",
      "46        33\n",
      "47        11\n",
      "48       761\n",
      "49        21\n",
      "50        97\n",
      "51        57\n",
      "52        49\n",
      "53         7\n",
      "54      1209\n",
      "55        12\n",
      "56        39\n",
      "57        48\n",
      "58        25\n",
      "59         8\n",
      "60       364\n",
      "61         3\n",
      "62        10\n",
      "63        19\n",
      "64         6\n",
      "65         3\n",
      "66       284\n",
      "67         1\n",
      "68        16\n",
      "69         6\n",
      "70        29\n",
      "71         2\n",
      "72       407\n",
      "73        10\n",
      "74         8\n",
      "75        23\n",
      "76         7\n",
      "77         1\n",
      "78       285\n",
      "79         4\n",
      "80        23\n",
      "81         6\n",
      "82         4\n",
      "83         4\n",
      "84       149\n",
      "85         4\n",
      "86         3\n",
      "87         2\n",
      "88         4\n",
      "89         2\n",
      "90       183\n",
      "91         1\n",
      "92         3\n",
      "93         5\n",
      "94         4\n",
      "95         2\n",
      "96       181\n",
      "97         2\n",
      "98         3\n",
      "99         6\n",
      "100        1\n",
      "102        2\n",
      "104        2\n",
      "108        4\n",
      "114        3\n",
      "118        1\n",
      "120        2\n",
      "144        1\n",
      "168        1\n",
      "180        2\n",
      "198        1\n",
      "204        1\n",
      "210        1\n",
      "288        1\n",
      "Name: Sentence Months, dtype: int64\n",
      "\n",
      "2\n",
      "0     40032\n",
      "1         4\n",
      "2        29\n",
      "3       164\n",
      "4        38\n",
      "5        17\n",
      "6      4851\n",
      "7         3\n",
      "8        19\n",
      "9       102\n",
      "10       26\n",
      "11        4\n",
      "30        2\n",
      "Name: Sentence Months, dtype: int64\n",
      "\n",
      "3\n",
      "0     57042\n",
      "1        11\n",
      "2        22\n",
      "3       109\n",
      "4        52\n",
      "5        11\n",
      "6      4959\n",
      "7         5\n",
      "8        18\n",
      "9        94\n",
      "10       19\n",
      "11        9\n",
      "24        1\n",
      "Name: Sentence Months, dtype: int64\n",
      "\n",
      "4\n",
      "0     41372\n",
      "1         2\n",
      "2        26\n",
      "3        76\n",
      "4        16\n",
      "5        12\n",
      "6      3571\n",
      "7         2\n",
      "8        13\n",
      "9        51\n",
      "10       19\n",
      "11        3\n",
      "30        3\n",
      "Name: Sentence Months, dtype: int64\n",
      "\n",
      "5\n",
      "0     20771\n",
      "1         4\n",
      "2         3\n",
      "3        21\n",
      "4        12\n",
      "5         5\n",
      "6      1142\n",
      "7         2\n",
      "8         7\n",
      "9        21\n",
      "10       10\n",
      "11        2\n",
      "18        1\n",
      "Name: Sentence Months, dtype: int64\n",
      "\n",
      "6\n",
      "0     29560\n",
      "1         4\n",
      "2         5\n",
      "3        28\n",
      "4         3\n",
      "5         8\n",
      "6      1028\n",
      "7         3\n",
      "8        14\n",
      "9        21\n",
      "10        5\n",
      "11        4\n",
      "30        1\n",
      "Name: Sentence Months, dtype: int64\n",
      "\n",
      "20\n",
      "0     3144\n",
      "4        1\n",
      "6        5\n",
      "20       1\n",
      "Name: Sentence Months, dtype: int64\n",
      "\n",
      "999\n",
      "99    1\n",
      "Name: Sentence Months, dtype: int64\n",
      "0       30514\n",
      "1       27594\n",
      "2       44162\n",
      "3       61047\n",
      "4       44538\n",
      "5       21873\n",
      "6       30506\n",
      "7       12351\n",
      "8       12007\n",
      "9        5302\n",
      "10       8773\n",
      "11       1608\n",
      "12       4736\n",
      "13       1246\n",
      "14       1862\n",
      "15       3810\n",
      "16        956\n",
      "17        628\n",
      "18       1503\n",
      "19        253\n",
      "20       3150\n",
      "21        656\n",
      "22        670\n",
      "23        392\n",
      "24        457\n",
      "25       1804\n",
      "26        341\n",
      "27        297\n",
      "28        538\n",
      "29        138\n",
      "30       2055\n",
      "31        113\n",
      "32        225\n",
      "33        132\n",
      "34         98\n",
      "35        910\n",
      "36        106\n",
      "37         76\n",
      "38        187\n",
      "39         55\n",
      "40       1284\n",
      "41         17\n",
      "42         76\n",
      "43         35\n",
      "44         49\n",
      "45        856\n",
      "46         42\n",
      "47         55\n",
      "48         87\n",
      "49         22\n",
      "50       1068\n",
      "51         10\n",
      "52         61\n",
      "53         27\n",
      "54         32\n",
      "55        462\n",
      "56         18\n",
      "57         21\n",
      "58         34\n",
      "59          8\n",
      "60       1098\n",
      "61          4\n",
      "62          8\n",
      "63          6\n",
      "64          6\n",
      "65        151\n",
      "66          6\n",
      "67          4\n",
      "68          7\n",
      "69          2\n",
      "70        161\n",
      "71          2\n",
      "72          5\n",
      "73          2\n",
      "74          1\n",
      "75        204\n",
      "76          2\n",
      "78          3\n",
      "79          1\n",
      "80        224\n",
      "81          2\n",
      "82          1\n",
      "83          1\n",
      "84          2\n",
      "85         48\n",
      "88          1\n",
      "90         61\n",
      "91          1\n",
      "92          2\n",
      "94          1\n",
      "95         10\n",
      "98          1\n",
      "99          4\n",
      "100       132\n",
      "105         3\n",
      "110         3\n",
      "120        13\n",
      "125         3\n",
      "135         1\n",
      "140         1\n",
      "150        50\n",
      "175         1\n",
      "180         5\n",
      "198         1\n",
      "199         9\n",
      "200        37\n",
      "210         1\n",
      "225         1\n",
      "240         1\n",
      "250         1\n",
      "300        37\n",
      "400         1\n",
      "450         1\n",
      "500         4\n",
      "522         1\n",
      "600         5\n",
      "900         1\n",
      "999         1\n",
      "1000        5\n",
      "1500        1\n",
      "2400        2\n",
      "2500        1\n",
      "Name: Sentence Years, dtype: int64\n",
      "LIFE       1967\n",
      "SDP         210\n",
      "Unknown      24\n",
      "DEATH        18\n",
      "Name: Sentence Years, dtype: int64\n",
      "0     215049\n",
      "1        324\n",
      "2        805\n",
      "3       2156\n",
      "4        922\n",
      "5        173\n",
      "6      39443\n",
      "7        108\n",
      "8        715\n",
      "9       1001\n",
      "10       406\n",
      "11       110\n",
      "Name: Sentence Months, dtype: int64\n",
      "LIFE       1967\n",
      "SDP         210\n",
      "Unknown      24\n",
      "DEATH        18\n",
      "Name: Sentence Months, dtype: int64\n"
     ]
    }
   ],
   "source": [
    "len1 = len(df)\n",
    "\n",
    "pd.set_option('display.max_rows', 300)\n",
    "\n",
    "# update sentence years\n",
    "print(df['Sentence Years'].value_counts(dropna=False))\n",
    "\n",
    "# update the string values to be consistent\n",
    "df.loc[df['Sentence Years'] == 'LFE', 'Sentence Years'] = 'LIFE'\n",
    "df.loc[(df['Sentence Years'].isin(['PEND', ' '])) | (pd.isnull(df['Sentence Years'])), 'Sentence Years'] = 'Unknown'\n",
    "\n",
    "# convert sentence numbers to int\n",
    "df.loc[~df['Sentence Years'].isin(['LIFE', 'SDP', 'DEATH', 'Unknown']), 'Sentence Years'] = df.loc[~df['Sentence Years'].isin(['LIFE', 'SDP', 'DEATH', 'Unknown']), 'Sentence Years'].astype(int)\n",
    "\n",
    "\n",
    "# update sentence months\n",
    "print(df['Sentence Months'].value_counts(dropna=False))\n",
    "\n",
    "# update months on string years to have the same string values\n",
    "df.loc[df['Sentence Years'].isin(['LIFE', 'SDP', 'DEATH', 'Unknown']), 'Sentence Months'] = df.loc[df['Sentence Years'].isin(['LIFE', 'SDP', 'DEATH', 'Unknown']), 'Sentence Years']\n",
    "\n",
    "# convert sentence months to int\n",
    "df.loc[~df['Sentence Months'].isin(['LIFE', 'SDP', 'DEATH', 'Unknown']), 'Sentence Months'] = df.loc[~df['Sentence Months'].isin(['LIFE', 'SDP', 'DEATH', 'Unknown']), 'Sentence Months'].astype(int)\n",
    "\n",
    "\n",
    "# sanity check: what months exist for each year? what do the months actually mean?\n",
    "yr_month_groupby_df = df[['Sentence Years', 'Sentence Months', 'IDOC #']].drop_duplicates()\n",
    "yr_month_groupby_df = yr_month_groupby_df[['Sentence Years', 'Sentence Months']].groupby('Sentence Years').agg(['min', 'max', 'count']).reset_index()\n",
    "yr_month_groupby_df.columns = ['Years', 'min Months', 'max Months', 'count']\n",
    "yr_month_groupby_df  = yr_month_groupby_df[~yr_month_groupby_df['Years'].isin(['LIFE', 'SDP', 'DEATH', 'Unknown'])]\n",
    "\n",
    "# get the number of records for each month in each year that has a month greater than 12\n",
    "check_years_df = yr_month_groupby_df[yr_month_groupby_df['max Months'] >= 12]\n",
    "\n",
    "for year in check_years_df['Years'].unique():\n",
    "    year_df = df[df['Sentence Years'] == year][['IDOC #', 'Sentence Months']].drop_duplicates()\n",
    "    print('\\n' + str(year))\n",
    "    print(year_df['Sentence Months'].value_counts().sort_index())\n",
    "\n",
    "# split into string and int years for processing\n",
    "str_year_df = df[df['Sentence Years'].isin(['LIFE', 'SDP', 'DEATH', 'Unknown'])]\n",
    "int_year_df = df[~df.index.isin(str_year_df.index)]\n",
    "\n",
    "# only a few instances where there are more than 12 months for > 0 years; change those to 0 and rely only on the year field\n",
    "int_year_df.loc[(int_year_df['Sentence Years'] > 0) & (int_year_df['Sentence Months'] >= 12), 'Sentence Months'] = 0\n",
    "\n",
    "# many instances where year = 0 and months >= 12; convert months to years in these scenarios\n",
    "int_year_df.loc[int_year_df['Sentence Years'] == 0, 'Sentence Months'] = (int_year_df.loc[int_year_df['Sentence Years'] == 0, 'Sentence Months'] % 12).astype(int)\n",
    "int_year_df.loc[int_year_df['Sentence Years'] == 0, 'Sentence Years'] = (int_year_df.loc[int_year_df['Sentence Years'] == 0, 'Sentence Months'] / 12).astype(int)\n",
    "\n",
    "\n",
    "# get total months, and years as a float\n",
    "int_year_df['Sentence Years in Months'] = 12 * int_year_df['Sentence Years'] + int_year_df['Sentence Months']\n",
    "int_year_df['Sentence Years Cont'] = int_year_df['Sentence Years'] + int_year_df['Sentence Months'] / 12\n",
    "str_year_df['Sentence Years in Months'] = str_year_df['Sentence Years']\n",
    "str_year_df['Sentence Years Cont'] = str_year_df['Sentence Years']\n",
    "\n",
    "\n",
    "# concatenate strings and int years\n",
    "df = pd.concat([int_year_df, str_year_df])\n",
    "\n",
    "if len(df) != len1:\n",
    "    print('ERROR: sentence year conversion changed the df length')\n",
    "    1/0\n",
    "\n",
    "print(int_year_df[['Sentence Years', 'IDOC #']].drop_duplicates()['Sentence Years'].value_counts(dropna=False).sort_index())\n",
    "print(str_year_df[['Sentence Years', 'IDOC #']].drop_duplicates()['Sentence Years'].value_counts(dropna=False))\n",
    "print(int_year_df[['Sentence Months', 'IDOC #']].drop_duplicates()['Sentence Months'].value_counts(dropna=False).sort_index())\n",
    "print(str_year_df[['Sentence Months', 'IDOC #']].drop_duplicates()['Sentence Months'].value_counts(dropna=False))\n",
    "\n",
    "    \n"
   ]
  },
  {
   "cell_type": "markdown",
   "id": "3310d0cb",
   "metadata": {},
   "source": [
    "**Reformat dates**\n",
    "\n",
    "Some dates are saved as strings. These can be in various formats. They need to all be converted to dates.\n",
    "\n"
   ]
  },
  {
   "cell_type": "code",
   "execution_count": 19,
   "id": "17927e6d",
   "metadata": {
    "scrolled": true
   },
   "outputs": [
    {
     "name": "stdout",
     "output_type": "stream",
     "text": [
      "\n",
      "\n",
      "Date of Birth\n",
      "19    1243727\n",
      "8      523149\n",
      "7       33495\n",
      "3          32\n",
      "1           4\n",
      "Name: Date of Birth len, dtype: int64\n",
      "\n",
      "\n",
      "Current Admission Date\n",
      "19    1243759\n",
      "8      521953\n",
      "7       34691\n",
      "1           4\n",
      "Name: Current Admission Date len, dtype: int64\n",
      "\n",
      "\n",
      "Projected Mandatory Supervised Release (MSR) Date\n",
      "19    1186547\n",
      "7      408912\n",
      "8      147728\n",
      "3       55455\n",
      "1        1765\n",
      "Name: Projected Mandatory Supervised Release (MSR) Date len, dtype: int64\n",
      "\n",
      "\n",
      "Projected Discharge Date\n",
      "19    1126138\n",
      "7      396328\n",
      "8      159779\n",
      "3      113199\n",
      "1        4963\n",
      "Name: Projected Discharge Date len, dtype: int64\n",
      "\n",
      "\n",
      "Custody Date\n",
      "19    1243568\n",
      "8      522735\n",
      "7       33909\n",
      "3         191\n",
      "1           4\n",
      "Name: Custody Date len, dtype: int64\n",
      "\n",
      "\n",
      "Sentence Date\n",
      "19    1243563\n",
      "8      522089\n",
      "7       34555\n",
      "3         196\n",
      "1           4\n",
      "Name: Sentence Date len, dtype: int64\n",
      "\n",
      "\n",
      "Doc Date\n",
      "10    1800407\n",
      "Name: Doc Date len, dtype: int64\n"
     ]
    }
   ],
   "source": [
    "# what different formats can the dates take?\n",
    "# (add len col and str col for each date col)\n",
    "\n",
    "for col in df.columns:\n",
    "    if 'Date' in col:\n",
    "        print('\\n')\n",
    "        print(col)\n",
    "        df[col + ' str'] = df[col].apply(lambda x: str(x))\n",
    "        df[col + ' len'] = df[col].apply(lambda x: len(str(x)))\n",
    "        print(df[col + ' len'].value_counts())\n"
   ]
  },
  {
   "cell_type": "code",
   "execution_count": 20,
   "id": "90ce12aa",
   "metadata": {
    "scrolled": true
   },
   "outputs": [
    {
     "name": "stdout",
     "output_type": "stream",
     "text": [
      "Series([], Name: Current Admission Date, dtype: object)\n",
      "       Date of Birth  IDOC #    Doc Date\n",
      "958268      8301967.  B03392  2014-06-30\n",
      "960643      1.126197  B34441  2014-06-30\n",
      "970839      1.228198  K89371  2014-06-30\n",
      "975947      2161992.  M21082  2014-06-30\n",
      "986473      8241961.  M45929  2014-06-30\n",
      "986484      4301993.  M45940  2014-06-30\n",
      "986488      1.209199  M45944  2014-06-30\n",
      "986490      4221987.  M45946  2014-06-30\n",
      "986525      2021974.  M45982  2014-06-30\n",
      "986532      6131977.  M45989  2014-06-30\n",
      "Series([], Name: Custody Date, dtype: object)\n"
     ]
    }
   ],
   "source": [
    "# play around with this code to see what the various lengths look like\n",
    "print(df.loc[df['Current Admission Date len'] == 10, 'Current Admission Date'].head(10))\n",
    "\n",
    "# check for period\n",
    "print(df.loc[(df['Date of Birth'].astype(str).str.contains(r'\\.')) & (df['Date of Birth len'] == 8), ['Date of Birth', 'IDOC #', 'Doc Date']].head(10))\n",
    "\n",
    "# dates never starts with yyyy\n",
    "first_two = df['Custody Date'].apply(lambda x: str(x)[:2])\n",
    "print(df.loc[(df['Custody Date len'] <= 10) & (first_two == '19'), 'Custody Date'])\n",
    "      \n"
   ]
  },
  {
   "cell_type": "markdown",
   "id": "9b5f8e00",
   "metadata": {},
   "source": [
    "Lengths:\n",
    "* 19 is yyyy-mm-dd 00:00:00\n",
    "* 10 is yyyy-mm-dd\n",
    "* 8 is mmddyyyy, mddyyyy., 1.mddyyy (missing year), or '00000000', '99999999', '99959999', '99989999'\n",
    "* 7 is mddyyyy, '0 0 0 0', '0000000'\n",
    "    * Some MSR mddyyyy have dates that do not exist in Feb\n",
    "* 3 is 0.0 or NaN\n",
    "* 1 is \" \" or 0\n",
    "* (After beginning of conversion below, 4 is None)"
   ]
  },
  {
   "cell_type": "code",
   "execution_count": 21,
   "id": "625c41cb",
   "metadata": {
    "scrolled": true
   },
   "outputs": [
    {
     "name": "stdout",
     "output_type": "stream",
     "text": [
      "\n",
      "\n",
      "Date of Birth\n",
      "19    1243727\n",
      "8      522962\n",
      "7       33495\n",
      "4         223\n",
      "Name: Date of Birth len, dtype: int64\n",
      "---Lengths 10, 19---\n",
      "17    1953-05-13 00:00:00\n",
      "46    1955-10-25 00:00:00\n",
      "47    1946-06-24 00:00:00\n",
      "51    1953-02-22 00:00:00\n",
      "69    1951-07-26 00:00:00\n",
      "Name: Date of Birth, dtype: object\n",
      "---Length 8---\n",
      "643724    1955-09-10 00:00:00\n",
      "643731    1937-12-04 00:00:00\n",
      "643744    1945-12-10 00:00:00\n",
      "643748    1952-08-10 00:00:00\n",
      "643749    1953-05-13 00:00:00\n",
      "Name: Date of Birth, dtype: object\n",
      "---Length 7---\n",
      "771536    1947-03-14 00:00:00\n",
      "771546    1972-01-15 00:00:00\n",
      "771567    1970-04-16 00:00:00\n",
      "771653    1967-02-20 00:00:00\n",
      "771658    1973-08-28 00:00:00\n",
      "Name: Date of Birth, dtype: object\n",
      "\n",
      "Null values:\n",
      "223\n",
      "17    1953-05-13 00:00:00\n",
      "46    1955-10-25 00:00:00\n",
      "47    1946-06-24 00:00:00\n",
      "51    1953-02-22 00:00:00\n",
      "69    1951-07-26 00:00:00\n",
      "Name: Date of Birth, dtype: object\n",
      "\n",
      "\n",
      "Current Admission Date\n",
      "19    1243759\n",
      "8      521952\n",
      "7       34691\n",
      "4           5\n",
      "Name: Current Admission Date len, dtype: int64\n",
      "---Lengths 10, 19---\n",
      "17    2007-07-13 00:00:00\n",
      "46    1994-02-15 00:00:00\n",
      "47    2018-09-10 00:00:00\n",
      "51    2016-06-28 00:00:00\n",
      "69    2022-02-02 00:00:00\n",
      "Name: Current Admission Date, dtype: object\n",
      "---Length 8---\n",
      "643724    2007-08-10 00:00:00\n",
      "643731    1994-02-17 00:00:00\n",
      "643744    2000-06-06 00:00:00\n",
      "643748    2011-03-11 00:00:00\n",
      "643749    2007-07-13 00:00:00\n",
      "Name: Current Admission Date, dtype: object\n",
      "---Length 7---\n",
      "771536    2011-03-10 00:00:00\n",
      "771567    2012-01-10 00:00:00\n",
      "771612    2005-06-10 00:00:00\n",
      "771653    2013-09-30 00:00:00\n",
      "771658    2008-05-12 00:00:00\n",
      "Name: Current Admission Date, dtype: object\n",
      "\n",
      "Null values:\n",
      "5\n",
      "17    2007-07-13 00:00:00\n",
      "46    1994-02-15 00:00:00\n",
      "47    2018-09-10 00:00:00\n",
      "51    2016-06-28 00:00:00\n",
      "69    2022-02-02 00:00:00\n",
      "Name: Current Admission Date, dtype: object\n",
      "\n",
      "\n",
      "Projected Mandatory Supervised Release (MSR) Date\n",
      "19    1186547\n",
      "7      408912\n",
      "8      125523\n",
      "4       79425\n",
      "Name: Projected Mandatory Supervised Release (MSR) Date len, dtype: int64\n",
      "---Lengths 10, 19---\n",
      "17    2030-06-14 00:00:00\n",
      "46    2034-10-14 00:00:00\n",
      "47    2023-05-02 00:00:00\n",
      "51    2030-10-17 00:00:00\n",
      "69    2020-08-02 00:00:00\n",
      "Name: Projected Mandatory Supervised Release (MSR) Date, dtype: object\n",
      "---Length 8---\n",
      "643731    2020-12-28 00:00:00\n",
      "643801    2035-12-07 00:00:00\n",
      "643806    2030-10-17 00:00:00\n",
      "643886    2034-12-15 00:00:00\n",
      "643897    2037-11-17 00:00:00\n",
      "Name: Projected Mandatory Supervised Release (MSR) Date, dtype: object\n",
      "---Length 7---\n",
      "643724    2054-09-26 00:00:00\n",
      "643744    2077-01-24 00:00:00\n",
      "643748    2020-03-20 00:00:00\n",
      "643749    2030-06-14 00:00:00\n",
      "643814    2051-03-11 00:00:00\n",
      "Name: Projected Mandatory Supervised Release (MSR) Date, dtype: object\n",
      "\n",
      "Null values:\n",
      "79425\n",
      "643724    2054-09-26 00:00:00\n",
      "643744    2077-01-24 00:00:00\n",
      "643748    2020-03-20 00:00:00\n",
      "643749    2030-06-14 00:00:00\n",
      "643814    2051-03-11 00:00:00\n",
      "Name: Projected Mandatory Supervised Release (MSR) Date, dtype: object\n",
      "\n",
      "\n",
      "Projected Discharge Date\n",
      "19    1126138\n",
      "7      396328\n",
      "4      156694\n",
      "8      121247\n",
      "Name: Projected Discharge Date len, dtype: int64\n",
      "---Lengths 10, 19---\n",
      "17    2033-06-14 00:00:00\n",
      "46    2037-10-14 00:00:00\n",
      "47    2026-05-02 00:00:00\n",
      "69    2023-08-02 00:00:00\n",
      "76    2059-08-01 00:00:00\n",
      "Name: Projected Discharge Date, dtype: object\n",
      "---Length 8---\n",
      "659151    2019-12-28 00:00:00\n",
      "660055    2099-12-31 00:00:00\n",
      "671775    2099-12-29 00:00:00\n",
      "694018    2099-12-30 00:00:00\n",
      "701523    2019-11-28 00:00:00\n",
      "Name: Projected Discharge Date, dtype: object\n",
      "---Length 7---\n",
      "643724    2057-09-26 00:00:00\n",
      "643744    2080-01-24 00:00:00\n",
      "643749    2033-06-14 00:00:00\n",
      "643814    2054-03-11 00:00:00\n",
      "643840    2025-02-02 00:00:00\n",
      "Name: Projected Discharge Date, dtype: object\n",
      "\n",
      "Null values:\n",
      "156694\n",
      "643724    2057-09-26 00:00:00\n",
      "643744    2080-01-24 00:00:00\n",
      "643749    2033-06-14 00:00:00\n",
      "643814    2054-03-11 00:00:00\n",
      "643840    2025-02-02 00:00:00\n",
      "Name: Projected Discharge Date, dtype: object\n",
      "\n",
      "\n",
      "Custody Date\n",
      "19    1243568\n",
      "8      522186\n",
      "7       33908\n",
      "4         745\n",
      "Name: Custody Date len, dtype: int64\n",
      "---Lengths 10, 19---\n",
      "17    2003-06-14 00:00:00\n",
      "46    1994-10-14 00:00:00\n",
      "47    2018-03-26 00:00:00\n",
      "51    2015-12-02 00:00:00\n",
      "69    1997-02-02 00:00:00\n",
      "Name: Custody Date, dtype: object\n",
      "---Length 8---\n",
      "643724    2004-09-26 00:00:00\n",
      "643744    1999-09-24 00:00:00\n",
      "643749    2003-06-14 00:00:00\n",
      "643814    2001-03-11 00:00:00\n",
      "643840    1997-02-02 00:00:00\n",
      "Name: Custody Date, dtype: object\n",
      "---Length 7---\n",
      "771536    2011-01-09 00:00:00\n",
      "771653    2012-09-13 00:00:00\n",
      "771658    2006-02-28 00:00:00\n",
      "771671    2014-06-29 00:00:00\n",
      "771709    2007-05-05 00:00:00\n",
      "Name: Custody Date, dtype: object\n",
      "\n",
      "Null values:\n",
      "745\n",
      "643724    2004-09-26 00:00:00\n",
      "643744    1999-09-24 00:00:00\n",
      "643749    2003-06-14 00:00:00\n",
      "643814    2001-03-11 00:00:00\n",
      "643840    1997-02-02 00:00:00\n",
      "Name: Custody Date, dtype: object\n",
      "\n",
      "\n",
      "Sentence Date\n",
      "19    1243563\n",
      "8      521537\n",
      "7       34554\n",
      "4         753\n",
      "Name: Sentence Date len, dtype: int64\n",
      "---Lengths 10, 19---\n",
      "17    2007-07-11 00:00:00\n",
      "46    1994-12-07 00:00:00\n",
      "47    2018-09-06 00:00:00\n",
      "51    2016-06-24 00:00:00\n",
      "69    1997-09-25 00:00:00\n",
      "Name: Sentence Date, dtype: object\n",
      "---Length 8---\n",
      "643724    2007-08-07 00:00:00\n",
      "643744    2000-05-30 00:00:00\n",
      "643749    2007-07-11 00:00:00\n",
      "643814    2003-02-04 00:00:00\n",
      "643840    1997-09-25 00:00:00\n",
      "Name: Sentence Date, dtype: object\n",
      "---Length 7---\n",
      "771536    2011-03-09 00:00:00\n",
      "771567    2012-01-06 00:00:00\n",
      "771612    2005-06-03 00:00:00\n",
      "771653    2013-09-26 00:00:00\n",
      "771658    2008-05-08 00:00:00\n",
      "Name: Sentence Date, dtype: object\n",
      "\n",
      "Null values:\n",
      "753\n",
      "643724    2007-08-07 00:00:00\n",
      "643744    2000-05-30 00:00:00\n",
      "643749    2007-07-11 00:00:00\n",
      "643814    2003-02-04 00:00:00\n",
      "643840    1997-09-25 00:00:00\n",
      "Name: Sentence Date, dtype: object\n"
     ]
    }
   ],
   "source": [
    "# convert to dates\n",
    "# (using None instead of np.nan so that string length can still be calculated)\n",
    "\n",
    "for col in df.columns:\n",
    "    if 'Date' in col and col != 'Doc Date' and 'len' not in col and 'str' not in col:\n",
    "        print('\\n')\n",
    "        print(col)\n",
    "        \n",
    "        # if length is less than 7, set col value to null\n",
    "        df.loc[df[col + ' len'] <= 3, col] = None\n",
    "        \n",
    "        # strip trailing periods\n",
    "        df['Last Char'] = None\n",
    "        df.loc[df[col + ' len'] == 8, 'Last Char'] = df.loc[(df[col + ' len'] == 8), col].apply(lambda x: str(x)[-1:])\n",
    "        df.loc[df['Last Char'] == r'\\.', col] = df.loc[df['Last Char'] == r'\\.', col].apply(lambda x: str(x)[:-1])\n",
    "        \n",
    "        # if periods elsewhere, set col value to null\n",
    "        df.loc[(df[col + ' len'] == 8) & (df[col + ' str'].str.contains(r'\\.')), col] = None\n",
    "        \n",
    "        # null out non-dates\n",
    "        df.loc[df[col + ' str'].isin(['00000000', '0 0 0 0', ' 0000000', '99999999', '99959999', '99989999', '82220288']), col] = None\n",
    "        \n",
    "        # get new length of date string\n",
    "        df[col + ' str'] = df[col].apply(lambda x: str(x))\n",
    "        df[col + ' len'] = df[col].apply(lambda x: len(str(x)))\n",
    "        print(df[col + ' len'].value_counts())\n",
    "        \n",
    "        # reformat based on original format\n",
    "        print('---Lengths 10, 19---')\n",
    "        df.loc[df[col + ' len'].isin([10, 19]), col] = df.loc[df[col + ' len'].isin([10, 19]), col].apply(lambda x: dt.strptime(str(x)[:10], '%Y-%m-%d'))\n",
    "        print(df[df[col + ' len'].isin([10, 19])][col].head())\n",
    "        \n",
    "        print('---Length 8---')\n",
    "        df.loc[df[col + ' len'] == 8, col] = df.loc[df[col + ' len'] == 8, col].apply(lambda x: dt.strptime(str(x), '%m%d%Y'))\n",
    "        print(df[df[col + ' len'] == 8][col].head())\n",
    "        \n",
    "        print('---Length 7---')\n",
    "        \n",
    "        # handle MSR dates in Feb that don't exist\n",
    "        if col in (['Projected Mandatory Supervised Release (MSR) Date', 'Projected Discharge Date']):\n",
    "            # split out the lenght 7 strings\n",
    "            len1 = len(df)\n",
    "            len7_df = df[df[col + ' len'] == 7]\n",
    "            \n",
    "            # get the date parts\n",
    "            year = len7_df[col].apply(lambda x: int(str(x)[-4:]))\n",
    "            month = len7_df[col].apply(lambda x: int(str(x)[:1]))\n",
    "            day = len7_df[col].apply(lambda x: int(str(x)[1:3]))\n",
    "            \n",
    "            # replace 2/30 and 2/31 with 2/29\n",
    "            len7_df.loc[(len7_df[col + ' len'] == 7) & (month == 2) & (day == 31), col] = len7_df.loc[(len7_df[col + ' len'] == 7) & (month == 2) & (day == 31), col].apply(lambda x: str(int(x) - 10000))\n",
    "            len7_df.loc[(len7_df[col + ' len'] == 7) & (month == 2) & (day >= 30), col] = len7_df.loc[(len7_df[col + ' len'] == 7) & (month == 2) & (day >= 30), col].apply(lambda x: str(int(x) - 10000))\n",
    "            \n",
    "            # recalculate the day\n",
    "            day = len7_df[col].apply(lambda x: int(str(x)[1:3]))\n",
    "            \n",
    "            # replace 2/29 with 2/28 in non-leap years\n",
    "            len7_df.loc[(len7_df[col + ' len'] == 7) & (year % 4 != 0) & (day == 29), col] = len7_df.loc[(len7_df[col + ' len'] == 7) & (year % 4 != 0) & (day == 29), col].apply(lambda x: str(int(x) - 10000))\n",
    "\n",
    "            # recombine\n",
    "            non_len7_df = df[df[col + ' len'] != 7]\n",
    "            df = pd.concat([len7_df, non_len7_df])\n",
    "            \n",
    "            if len(df) != len1:\n",
    "                print('incorrect df length')\n",
    "                1/0\n",
    "            \n",
    "        df.loc[df[col + ' len'] == 7, col] = df.loc[df[col + ' len'] == 7, col].apply(lambda x: dt.strptime('0' + str(x), '%m%d%Y'))\n",
    "        print(df[df[col + ' len'] == 7][col].head())\n",
    "        \n",
    "        print('\\nNull values:')\n",
    "        print(df[col].isnull().sum())\n",
    "        print(df[~pd.isnull(df[col])][col].head())\n",
    "        df[col].fillna(np.nan, inplace=True)\n"
   ]
  },
  {
   "cell_type": "code",
   "execution_count": 22,
   "id": "84ed6866",
   "metadata": {},
   "outputs": [],
   "source": [
    "# convert the timestamps and dates to datetimes\n",
    "\n",
    "for col in ['Date of Birth', 'Current Admission Date', 'Custody Date', 'Sentence Date']:\n",
    "    df.loc[~pd.isnull(df[col]), col] = df.loc[~pd.isnull(df[col]), col].apply(lambda x: x.to_pydatetime())\n",
    "    df[col].fillna(pd.NaT, inplace=True)\n",
    "\n",
    "df['Doc Date'] = df['Doc Date'].apply(lambda x: dt.combine(x, dt.min.time()))\n"
   ]
  },
  {
   "cell_type": "markdown",
   "id": "d3b1ff59",
   "metadata": {},
   "source": [
    "**Missing/incorrect birth dates**\n",
    "\n",
    "Some birth dates are missing or typoed. Replace with the mode."
   ]
  },
  {
   "cell_type": "code",
   "execution_count": 23,
   "id": "8add08e2",
   "metadata": {},
   "outputs": [
    {
     "name": "stdout",
     "output_type": "stream",
     "text": [
      "         IDOC # Date of Birth\n",
      "643718   A00367    1954-01-12\n",
      "403079   A00367    1954-01-13\n",
      "643725   A01258    1941-06-28\n",
      "1574782  A01258    1951-06-28\n",
      "685066   A01860    1935-12-10\n",
      "...         ...           ...\n",
      "27265    Y51160    1996-01-15\n",
      "28201    Y52497    1984-12-20\n",
      "58700    Y52497    1984-12-12\n",
      "58758    Y52592    1990-07-11\n",
      "28264    Y52592    1987-07-11\n",
      "\n",
      "[7030 rows x 2 columns]\n"
     ]
    }
   ],
   "source": [
    "chk_df = df.groupby('IDOC #')['Date of Birth'].nunique()\n",
    "tbf_df = chk_df[chk_df > 1]\n",
    "print(df[df['IDOC #'].isin(tbf_df.index)][['IDOC #', 'Date of Birth']].drop_duplicates().sort_values('IDOC #'))\n"
   ]
  },
  {
   "cell_type": "code",
   "execution_count": 24,
   "id": "3d6ddad7",
   "metadata": {},
   "outputs": [
    {
     "name": "stdout",
     "output_type": "stream",
     "text": [
      "Original\n",
      "3476\n",
      "223\n",
      "\n",
      "New\n",
      "0\n",
      "37\n"
     ]
    }
   ],
   "source": [
    "# check how many people have multiple birth dates\n",
    "chk_df = df.groupby('IDOC #')['Date of Birth'].nunique()\n",
    "print('Original')\n",
    "print(len(chk_df[chk_df > 1]))\n",
    "print(len(df[pd.isnull(df['Date of Birth'])]))\n",
    "\n",
    "len1 = len(df)\n",
    "\n",
    "# get the mode of the dob for each person\n",
    "dob_mode_df = df[~pd.isnull(df['Date of Birth'])].groupby('IDOC #')['Date of Birth'].agg(lambda x:x.value_counts().index[0]).reset_index()\n",
    "\n",
    "# join those back to the df\n",
    "df = df.merge(dob_mode_df.rename(columns={'Date of Birth': 'Date of Birth new'}), on=['IDOC #'], how='left')\n",
    "\n",
    "if len(df) != len1:\n",
    "    print('changed the df length')\n",
    "    1/0\n",
    "\n",
    "# replace the dobs with the modes\n",
    "df['Date of Birth'] = df['Date of Birth new'].copy()\n",
    "\n",
    "# get rid of the temp column\n",
    "df.drop('Date of Birth new', axis=1, inplace=True)\n",
    "\n",
    "# convert dob to datetime\n",
    "# df['Date of Birth'] = pd.to_datetime(df['Date of Birth'])\n",
    "    \n",
    "# make sure we didn't make the problem worse\n",
    "chk_df = df.groupby('IDOC #')['Date of Birth'].nunique()\n",
    "print('\\nNew')\n",
    "print(len(chk_df[chk_df > 1]))\n",
    "print(len(df[pd.isnull(df['Date of Birth'])]))\n",
    "\n"
   ]
  },
  {
   "cell_type": "markdown",
   "id": "7f2e7ee5",
   "metadata": {},
   "source": [
    "**Add Date Diffs**\n",
    "* Age\n",
    "* Age at Custody\n",
    "* Projected Time Until Release\n",
    "* Projected Age at Release\n",
    "\n",
    "(Note: Doing this in Tableau instead rounds to the nearest number, which produces unintuitive results.)"
   ]
  },
  {
   "cell_type": "code",
   "execution_count": 25,
   "id": "25a4cd03",
   "metadata": {},
   "outputs": [],
   "source": [
    "# cap the projected dates at 2261; otherwise, element-wise operators won't work\n",
    "\n",
    "df.loc[~pd.isnull(df['Projected Discharge Date']), 'Projected Discharge Date Capped'] = df.loc[~pd.isnull(df['Projected Discharge Date']), 'Projected Discharge Date'].apply(lambda x: dt.strptime(((dt.strftime(x, '%m-%d')) + '-' + (str(int(dt.strftime(x, '%Y'))) if int(dt.strftime(x, '%Y')) < 2262 else '2261')), '%m-%d-%Y'))\n",
    "df.loc[~pd.isnull(df['Projected Mandatory Supervised Release (MSR) Date']), 'Projected MSR Date Capped'] = df.loc[~pd.isnull(df['Projected Mandatory Supervised Release (MSR) Date']), 'Projected Mandatory Supervised Release (MSR) Date'].apply(lambda x: dt.strptime(((dt.strftime(x, '%m-%d')) + '-' + (str(int(dt.strftime(x, '%Y'))) if int(dt.strftime(x, '%Y')) < 2262 else '2261')), '%m-%d-%Y'))\n",
    "df['Projected Discharge Date Capped'].fillna(pd.NaT, inplace=True)\n",
    "df['Projected MSR Date Capped'].fillna(pd.NaT, inplace=True)\n"
   ]
  },
  {
   "cell_type": "code",
   "execution_count": 26,
   "id": "3c1a204d",
   "metadata": {
    "scrolled": false
   },
   "outputs": [],
   "source": [
    "# get age and age at custody as int\n",
    "\n",
    "df['Age'] = ((df['Doc Date'] - df['Date of Birth'])/np.timedelta64(1, 'Y'))\n",
    "df.loc[~pd.isnull(df['Age']), 'Age'] = df.loc[~pd.isnull(df['Age']), 'Age'].astype(int)\n",
    "\n",
    "df['Age at Custody'] = ((df['Custody Date'] - df['Date of Birth'])/np.timedelta64(1, 'Y'))\n",
    "df.loc[~pd.isnull(df['Age at Custody']), 'Age at Custody'] = df.loc[~pd.isnull(df['Age at Custody']), 'Age at Custody'].astype(int)\n",
    "\n"
   ]
  },
  {
   "cell_type": "code",
   "execution_count": 28,
   "id": "a6b50837",
   "metadata": {},
   "outputs": [],
   "source": [
    "df3 = df.copy()\n",
    "# df = df3.copy()"
   ]
  },
  {
   "cell_type": "code",
   "execution_count": 29,
   "id": "e7796b51",
   "metadata": {},
   "outputs": [],
   "source": [
    "# projected age at release and time until release\n",
    "\n",
    "len1 = len(df)\n",
    "\n",
    "# use msr if its after the doc date; use discharge otherwise\n",
    "use_pmsr_df = df[(~pd.isnull(df['Projected MSR Date Capped'])) & (df['Projected MSR Date Capped'] > df['Doc Date'])]\n",
    "use_discharge_df = df[(~pd.isnull(df['Projected MSR Date Capped'])) & (~pd.isnull(df['Projected Discharge Date Capped'])) & (df['Projected MSR Date Capped'] <= df['Doc Date'])]\n",
    "\n",
    "# age at release\n",
    "use_pmsr_df.loc[(~pd.isnull(use_pmsr_df['Projected MSR Date Capped'])) & (~pd.isnull(use_pmsr_df['Date of Birth'])), 'Projected Age At Release Capped'] = use_pmsr_df[(~pd.isnull(use_pmsr_df['Projected MSR Date Capped'])) & (~pd.isnull(use_pmsr_df['Date of Birth']))].apply(lambda x: int((x['Projected MSR Date Capped'].to_pydatetime() - x['Date of Birth'].to_pydatetime()).days/365), axis=1)\n",
    "use_discharge_df.loc[(~pd.isnull(use_discharge_df['Projected Discharge Date Capped'])) & (~pd.isnull(use_discharge_df['Date of Birth'])), 'Projected Age At Release Capped'] = use_discharge_df[(~pd.isnull(use_discharge_df['Projected Discharge Date Capped'])) & (~pd.isnull(use_discharge_df['Date of Birth']))].apply(lambda x: int((x['Projected Discharge Date Capped'].to_pydatetime() - x['Date of Birth'].to_pydatetime()).days/365), axis=1)\n",
    "\n",
    "# time til release (round down to the nearest 10ths place to get month buckets in tableau)\n",
    "use_pmsr_df.loc[(~pd.isnull(use_pmsr_df['Projected MSR Date Capped'])) & (~pd.isnull(use_pmsr_df['Doc Date'])), 'Projected Time Until Release Capped'] = use_pmsr_df[(~pd.isnull(use_pmsr_df['Projected MSR Date Capped'])) & (~pd.isnull(use_pmsr_df['Doc Date']))].apply(lambda x: 10 * (x['Projected MSR Date Capped'].to_pydatetime() - x['Doc Date'].to_pydatetime()).days/365, axis=1)\n",
    "use_pmsr_df.loc[use_pmsr_df['Projected Time Until Release Capped'] < 0, 'Projected Time Until Release Capped'] = use_pmsr_df.loc[use_pmsr_df['Projected Time Until Release Capped'] < 0, 'Projected Time Until Release Capped'] - 1\n",
    "use_pmsr_df.loc[~pd.isnull(use_pmsr_df['Projected Time Until Release Capped']), 'Projected Time Until Release Capped'] = use_pmsr_df.loc[~pd.isnull(use_pmsr_df['Projected Time Until Release Capped']), 'Projected Time Until Release Capped'].apply(lambda x: int(x) / 10)\n",
    "\n",
    "use_discharge_df.loc[(~pd.isnull(use_discharge_df['Projected Discharge Date Capped'])) & (~pd.isnull(use_discharge_df['Doc Date'])), 'Projected Time Until Release Capped'] = use_discharge_df[(~pd.isnull(use_discharge_df['Projected Discharge Date Capped'])) & (~pd.isnull(use_discharge_df['Doc Date']))].apply(lambda x: 10 * (x['Projected Discharge Date Capped'].to_pydatetime() - x['Doc Date'].to_pydatetime()).days/365, axis=1)\n",
    "use_discharge_df.loc[use_discharge_df['Projected Time Until Release Capped'] < 0, 'Projected Time Until Release Capped'] = use_discharge_df.loc[use_discharge_df['Projected Time Until Release Capped'] < 0, 'Projected Time Until Release Capped'] - 1\n",
    "use_discharge_df.loc[~pd.isnull(use_discharge_df['Projected Time Until Release Capped']), 'Projected Time Until Release Capped'] = use_discharge_df.loc[~pd.isnull(use_discharge_df['Projected Time Until Release Capped']), 'Projected Time Until Release Capped'].apply(lambda x: int(x) / 10)\n",
    "\n",
    "# # sanity check on time til release logic\n",
    "# with doc date = 6/30/11:\n",
    "# XXX 6/25/11 s/b unknown --- 10 * -5/365 = -0.1369863 --> 0/10 = 0\n",
    "# OOO 6/25/11 s/b unknown --- 10 * -5/365 = -0.1369863 - 1 --> -1/10 = -.1 < 0\n",
    "# 7/5/11 s/b <6 months --- 10 * 5/365 = 0.1369863 --> 0/10 = 0\n",
    "# 12/31/11 s/b 6-12 months --- 10 * 184/365 = 5.04109589 --> 5/10 = 0.5\n",
    "# 12/29/11 s/b <6 months --- 10 * 182/365 = 4.98630137 --> 4/10 = 0.4\n",
    "# 1/1/12 s/b 6-12 months --- 10 * 185/365 = 5.06 --> 5/10 = 0.5\n",
    "\n",
    "# add back in other rows\n",
    "comb_df = pd.concat([use_pmsr_df, use_discharge_df])\n",
    "\n",
    "blank_date_df = df[~df.index.isin(comb_df.index)]\n",
    "\n",
    "df = pd.concat([use_pmsr_df, use_discharge_df, blank_date_df])\n",
    "if len(df) != len1:\n",
    "    print('ERROR: Getting the projected columns changed the df length')\n",
    "    1/0\n",
    "\n"
   ]
  },
  {
   "cell_type": "markdown",
   "id": "ee73a12b",
   "metadata": {},
   "source": [
    "**Latest record**\n",
    "\n",
    "Since the data is produced quarterly, some individuals will be repeated in the data. Get the date of the most recent document in which each individual appears.\n",
    "\n",
    "Note: This takes a bit."
   ]
  },
  {
   "cell_type": "code",
   "execution_count": 30,
   "id": "5f1ed023",
   "metadata": {},
   "outputs": [],
   "source": [
    "len1 = len(df)\n",
    "blank_date_df = df[pd.isnull(df['Current Admission Date'])]\n",
    "non_blank_date_df = df[~pd.isnull(df['Current Admission Date'])]\n",
    "\n",
    "non_blank_date_df['Current Admission Date str'] = non_blank_date_df['Current Admission Date'].apply(lambda x: dt.strftime(x, '%Y%m%d'))\n",
    "non_blank_date_df['ID'] = non_blank_date_df['IDOC #'].add(non_blank_date_df['Current Admission Date str'])\n",
    "non_blank_date_df.drop('Current Admission Date str', axis=1, inplace=True)\n",
    "\n",
    "blank_date_df['ID'] = non_blank_date_df['IDOC #']\n",
    "df = pd.concat([blank_date_df, non_blank_date_df])\n",
    "\n",
    "if len(df) != len1:\n",
    "    print(len(df))\n",
    "    print(len1)\n",
    "    print('blanking dates changed the length')\n",
    "    1/0\n",
    "\n",
    "# get most recent doc date\n",
    "doc_date_series = df[['ID', 'Doc Date']]\n",
    "doc_date_series.rename(columns={'Doc Date': 'Last Doc Date'}, inplace=True)\n",
    "doc_date_series = doc_date_series.groupby('ID')['Last Doc Date'].max()\n",
    "df = df.merge(doc_date_series, how='inner', on='ID')\n",
    "\n",
    "# remove unecessary columns\n",
    "for col in df.columns:\n",
    "    if col[-4:] in [' len', ' str'] or col in ['index', 'Idx']:\n",
    "        df.drop(col, axis=1, inplace=True)\n",
    "# (need to drop Doc Date to remove all duplicates)\n",
    "        \n",
    "# remove duplicates\n",
    "df.drop_duplicates(inplace=True)\n",
    "\n",
    "# drop ID col\n",
    "df.drop('ID', axis=1, inplace=True)\n",
    "\n"
   ]
  },
  {
   "cell_type": "markdown",
   "id": "ec721f38",
   "metadata": {},
   "source": [
    "**Admission Type - Label Consistency**\n",
    "\n",
    "Update labels for consistency."
   ]
  },
  {
   "cell_type": "code",
   "execution_count": 31,
   "id": "aca31908",
   "metadata": {},
   "outputs": [
    {
     "name": "stdout",
     "output_type": "stream",
     "text": [
      "Admit From Other Custody                 3428\n",
      "Conditional Release Violator              438\n",
      "Conditional Release, New Sent               3\n",
      "Court Admissions                       146732\n",
      "Direct From Court                      685221\n",
      "Discharged & Recommitted               574386\n",
      "EDV                                        13\n",
      "Juv Parole To Adult Parole                  1\n",
      "MSR Violator, New Sentence             127839\n",
      "New Sentence Violators                   8702\n",
      "None                                    42094\n",
      "Not In IDOC Custody                        71\n",
      "Other                                     649\n",
      "Parole Violator, New Sentence            2318\n",
      "Return Additional Mittimus              23738\n",
      "Return To Custody                         127\n",
      "Technical MSR Violator                 162223\n",
      "Technical Parole Violator                 693\n",
      "Technical Violators                     13485\n",
      "Transferred From Juvenile                8229\n",
      "Work Release Violator                       7\n",
      "Work Release Violator, New Sentence         1\n",
      "Work Release Violator, New Sentnce          4\n",
      "Name: Admission Type, dtype: int64\n"
     ]
    }
   ],
   "source": [
    "# update to title case\n",
    "df['Admission Type'] = df['Admission Type'].str.title()\n",
    "df['Admission Type'] = df['Admission Type'].str.replace('Covid', 'COVID').str.replace('Msr', 'MSR').str.replace('Idoc', 'IDOC').str.replace('Edv', 'EDV')\n",
    "\n",
    "# check the values\n",
    "pd.set_option('display.max_rows', 60)\n",
    "print(df['Admission Type'].value_counts(dropna=False).sort_index())\n",
    "\n",
    "# update values for consistency\n",
    "df.loc[df['Admission Type'] == 'Conditional Release, New Sent', 'Admission Type'] = 'Conditional Release, New Sentence'\n",
    "df.loc[df['Admission Type'] == 'Work Release Violator, New Sentnce', 'Admission Type'] = 'Work Release Violator, New Sentence'\n",
    "\n",
    "# replace commas with hyphens\n",
    "df['Admission Type'] = df['Admission Type'].str.replace(',', ' -')\n",
    "\n",
    "# replace None with nan\n",
    "df.loc[df['Admission Type'] == 'None', 'Admission Type'] = np.nan\n",
    "\n",
    "\n"
   ]
  },
  {
   "cell_type": "markdown",
   "id": "0ce02ea4",
   "metadata": {},
   "source": [
    "**Admission Type - Changed Labels**\n",
    "\n",
    "IDOC changed their labels during certain quarters in more recent data. Check which changed and categorize appropriately.\n"
   ]
  },
  {
   "cell_type": "code",
   "execution_count": 32,
   "id": "b1ce6d9e",
   "metadata": {},
   "outputs": [
    {
     "data": {
      "image/png": "[encoded data removed]",
      "text/plain": [
       "<Figure size 576x3600 with 14 Axes>"
      ]
     },
     "metadata": {
      "needs_background": "light"
     },
     "output_type": "display_data"
    }
   ],
   "source": [
    "change_df = df[df['Doc Date'].apply(lambda x: x.date()) >= date(2020, 1, 1)]\n",
    "\n",
    "# for recent data, plot the number of individuals with each admission type\n",
    "plot_df = change_df[['Admission Type', 'Doc Date', 'IDOC #']].groupby(['Admission Type', 'Doc Date']).count().reset_index()\n",
    "\n",
    "# keep only the admission types with significant numbers\n",
    "plot_df = plot_df[plot_df['IDOC #'] > 10]\n",
    "\n",
    "# convert dates to strings\n",
    "plot_df['Doc Date'] = plot_df['Doc Date'].apply(lambda x: dt.strftime(x, '%Y-%m-%d'))\n",
    "\n",
    "# get doc_dates for x axis\n",
    "doc_dates = plot_df[['Doc Date']].drop_duplicates()\n",
    "\n",
    "# plot bar charts for admission types each quarter\n",
    "fig, axs = plt.subplots(len(plot_df['Admission Type'].unique()), figsize=(8, 50), sharex=True)#, sharey=True)\n",
    "i = 0\n",
    "\n",
    "for at in plot_df['Admission Type'].unique():\n",
    "    # get the relevant df ordered by doc date\n",
    "    at_df = plot_df[plot_df['Admission Type'] == at]\n",
    "    at_df = pd.merge(doc_dates, at_df, on='Doc Date', how='left')\n",
    "    date_order = sorted(doc_dates['Doc Date'].unique())\n",
    "    at_df = at_df.set_index(at_df['Doc Date']).loc[date_order]\n",
    "    \n",
    "    # plot the relevant df\n",
    "    axs[i].bar(at_df['Doc Date'], at_df['IDOC #'])\n",
    "    axs[i].title.set_text(at)\n",
    "    \n",
    "    i += 1\n",
    "    \n",
    "plt.xticks(rotation=90)\n",
    "plt.show()\n",
    "\n"
   ]
  },
  {
   "cell_type": "markdown",
   "id": "fc126a25",
   "metadata": {},
   "source": [
    "For Jun 2021 going forward, IDOC used different labels.\n",
    "* Before Jun 2021\n",
    "    * Direct From Court\n",
    "    * Admit From Other Custody\n",
    "    * MSR Violator - New Sentence\n",
    "    * Parole Violator - New Sentence\n",
    "    * Discharged & Recommitted\n",
    "    * Conditional Release Violator\n",
    "    * Technical MSR Violator\n",
    "    * Technical Parole Violator\n",
    "    * Transferred from Juvenile\n",
    "    * Return Additional Mittimus\n",
    "    * COVID-19 County Admit\n",
    "* Jun 2021 forward\n",
    "    * Court Admissions\n",
    "    * New Sentence Violators\n",
    "    * Technical Violators\n",
    "    * Other"
   ]
  },
  {
   "cell_type": "code",
   "execution_count": 37,
   "id": "e609536a",
   "metadata": {},
   "outputs": [
    {
     "name": "stdout",
     "output_type": "stream",
     "text": [
      "             Before Admission Type    After Admission Type  Count\n",
      "0         Admit From Other Custody        Court Admissions      1\n",
      "1         Admit From Other Custody                   Other     89\n",
      "2     Conditional Release Violator                   Other     15\n",
      "3                Direct From Court        Court Admissions  11844\n",
      "4         Discharged & Recommitted        Court Admissions   9075\n",
      "5         Discharged & Recommitted  New Sentence Violators      3\n",
      "6      MSR Violator - New Sentence        Court Admissions      4\n",
      "7      MSR Violator - New Sentence  New Sentence Violators   1298\n",
      "8              Not In IDOC Custody                   Other      1\n",
      "9   Parole Violator - New Sentence  New Sentence Violators     35\n",
      "10      Return Additional Mittimus        Court Admissions    548\n",
      "11      Return Additional Mittimus  New Sentence Violators      3\n",
      "12               Return To Custody                   Other      1\n",
      "13          Technical MSR Violator        Court Admissions      1\n",
      "14          Technical MSR Violator  New Sentence Violators     14\n",
      "15          Technical MSR Violator     Technical Violators   1435\n",
      "16       Technical Parole Violator     Technical Violators      7\n",
      "17       Transferred From Juvenile        Court Admissions    113\n"
     ]
    }
   ],
   "source": [
    "# prep data for a sankey diagram to show the relationship between the labels in the two time periods\n",
    "\n",
    "sankey_df = df[(df['Doc Date'].apply(lambda x: x.date()) >= date(2020, 3, 1)) & (df['Doc Date'].apply(lambda x: x.date()) <= date(2022, 9, 30))]\n",
    "sankey_df = sankey_df[sankey_df['Admission Type'] != 'None']\n",
    "\n",
    "# convert dates to strings\n",
    "sankey_df['Doc Date'] = sankey_df['Doc Date'].apply(lambda x: dt.strftime(x, '%Y-%m-%d'))\n",
    "\n",
    "# break into before and after\n",
    "sankey_df = sankey_df[['IDOC #', 'Current Admission Date', 'Admission Type', 'Doc Date']].drop_duplicates()\n",
    "after_df = sankey_df[sankey_df['Doc Date'].apply(lambda x: dt.strptime(x, '%Y-%m-%d').date()) >= date(2021, 6, 1)]\n",
    "before_df = sankey_df[~sankey_df.index.isin(after_df.index)]\n",
    "\n",
    "# recombine with before and after columns\n",
    "after_df = after_df.drop('Doc Date', axis=1).rename(columns={'Admission Type': 'After Admission Type'})\n",
    "before_df = before_df.drop('Doc Date', axis=1).rename(columns={'Admission Type': 'Before Admission Type'})\n",
    "sankey_df = pd.merge(before_df, after_df, on=['IDOC #', 'Current Admission Date'], how='outer')\n",
    "\n",
    "# drop dupes and count totals for each before/after combo\n",
    "sankey_df = sankey_df.drop_duplicates()[['Before Admission Type', 'After Admission Type', 'IDOC #']].groupby(['Before Admission Type', 'After Admission Type']).count().reset_index().rename(columns={'IDOC #': 'Count'})\n",
    "print(sankey_df)\n",
    "\n",
    "# get the node df - a df dictionary of admission types and indices\n",
    "node_df = pd.concat([sankey_df[['Before Admission Type']].rename(columns={'Before Admission Type': 'AT'}),\n",
    "                       sankey_df[['After Admission Type']].rename(columns={'After Admission Type': 'AT'})])\n",
    "node_df = node_df.drop_duplicates().reset_index(drop=True).reset_index().rename(columns={'index': 'ID'})\n",
    "node_df['Color'] = get_hex(len(node_df))\n",
    "\n",
    "# get the links df\n",
    "links_df = pd.merge(sankey_df, \n",
    "                    node_df[['AT', 'ID', 'Color']].rename(columns={'ID': 'Source', 'Color': 'Link Color'}), \n",
    "                    left_on='Before Admission Type', right_on='AT', how='inner')\n",
    "links_df = pd.merge(links_df, \n",
    "                    node_df[['AT', 'ID']].rename(columns={'ID': 'Target'}), \n",
    "                    left_on='After Admission Type', right_on='AT', how='inner')\n",
    "links_df['Link Color'] = links_df['Link Color'].apply(lambda x: 'rgba' + str(get_rgb_from_hex(x) + (0.5,)))\n",
    "links_df = links_df[['Source', 'Target', 'Link Color', 'Count']]\n",
    "\n"
   ]
  },
  {
   "cell_type": "code",
   "execution_count": 38,
   "id": "252dacac",
   "metadata": {
    "scrolled": true
   },
   "outputs": [
    {
     "data": {
      "application/vnd.plotly.v1+json": {
       "config": {
        "plotlyServerURL": "https://plot.ly"
       },
       "data": [
        {
         "link": {
          "color": [
           "rgba(31, 119, 180, 0.5)",
           "rgba(255, 127, 14, 0.5)",
           "rgba(44, 160, 44, 0.5)",
           "rgba(152, 223, 138, 0.5)",
           "rgba(197, 176, 213, 0.5)",
           "rgba(227, 119, 194, 0.5)",
           "rgba(127, 127, 127, 0.5)",
           "rgba(31, 119, 180, 0.5)",
           "rgba(174, 199, 232, 0.5)",
           "rgba(214, 39, 40, 0.5)",
           "rgba(140, 86, 75, 0.5)",
           "rgba(44, 160, 44, 0.5)",
           "rgba(152, 223, 138, 0.5)",
           "rgba(148, 103, 189, 0.5)",
           "rgba(197, 176, 213, 0.5)",
           "rgba(227, 119, 194, 0.5)",
           "rgba(227, 119, 194, 0.5)",
           "rgba(247, 182, 210, 0.5)"
          ],
          "source": [
           0,
           2,
           3,
           4,
           7,
           9,
           11,
           0,
           1,
           5,
           8,
           3,
           4,
           6,
           7,
           9,
           9,
           10
          ],
          "target": [
           12,
           12,
           12,
           12,
           12,
           12,
           12,
           13,
           13,
           13,
           13,
           14,
           14,
           14,
           14,
           14,
           15,
           15
          ],
          "value": [
           1,
           11844,
           9075,
           4,
           548,
           1,
           113,
           89,
           15,
           1,
           1,
           3,
           1298,
           35,
           3,
           14,
           1435,
           7
          ]
         },
         "node": {
          "color": [
           "#1f77b4",
           "#aec7e8",
           "#ff7f0e",
           "#2ca02c",
           "#98df8a",
           "#d62728",
           "#9467bd",
           "#c5b0d5",
           "#8c564b",
           "#e377c2",
           "#f7b6d2",
           "#7f7f7f",
           "#bcbd22",
           "#dbdb8d",
           "#17becf",
           "#9edae5"
          ],
          "label": [
           "Admit From Other Custody",
           "Conditional Release Violator",
           "Direct From Court",
           "Discharged & Recommitted",
           "MSR Violator - New Sentence",
           "Not In IDOC Custody",
           "Parole Violator - New Sentence",
           "Return Additional Mittimus",
           "Return To Custody",
           "Technical MSR Violator",
           "Technical Parole Violator",
           "Transferred From Juvenile",
           "Court Admissions",
           "Other",
           "New Sentence Violators",
           "Technical Violators"
          ],
          "line": {
           "color": "black",
           "width": 0
          },
          "pad": 20,
          "thickness": 30
         },
         "type": "sankey"
        }
       ],
       "layout": {
        "font": {
         "size": 12
        },
        "height": 1000,
        "template": {
         "data": {
          "bar": [
           {
            "error_x": {
             "color": "#2a3f5f"
            },
            "error_y": {
             "color": "#2a3f5f"
            },
            "marker": {
             "line": {
              "color": "#E5ECF6",
              "width": 0.5
             },
             "pattern": {
              "fillmode": "overlay",
              "size": 10,
              "solidity": 0.2
             }
            },
            "type": "bar"
           }
          ],
          "barpolar": [
           {
            "marker": {
             "line": {
              "color": "#E5ECF6",
              "width": 0.5
             },
             "pattern": {
              "fillmode": "overlay",
              "size": 10,
              "solidity": 0.2
             }
            },
            "type": "barpolar"
           }
          ],
          "carpet": [
           {
            "aaxis": {
             "endlinecolor": "#2a3f5f",
             "gridcolor": "white",
             "linecolor": "white",
             "minorgridcolor": "white",
             "startlinecolor": "#2a3f5f"
            },
            "baxis": {
             "endlinecolor": "#2a3f5f",
             "gridcolor": "white",
             "linecolor": "white",
             "minorgridcolor": "white",
             "startlinecolor": "#2a3f5f"
            },
            "type": "carpet"
           }
          ],
          "choropleth": [
           {
            "colorbar": {
             "outlinewidth": 0,
             "ticks": ""
            },
            "type": "choropleth"
           }
          ],
          "contour": [
           {
            "colorbar": {
             "outlinewidth": 0,
             "ticks": ""
            },
            "colorscale": [
             [
              0,
              "#0d0887"
             ],
             [
              0.1111111111111111,
              "#46039f"
             ],
             [
              0.2222222222222222,
              "#7201a8"
             ],
             [
              0.3333333333333333,
              "#9c179e"
             ],
             [
              0.4444444444444444,
              "#bd3786"
             ],
             [
              0.5555555555555556,
              "#d8576b"
             ],
             [
              0.6666666666666666,
              "#ed7953"
             ],
             [
              0.7777777777777778,
              "#fb9f3a"
             ],
             [
              0.8888888888888888,
              "#fdca26"
             ],
             [
              1,
              "#f0f921"
             ]
            ],
            "type": "contour"
           }
          ],
          "contourcarpet": [
           {
            "colorbar": {
             "outlinewidth": 0,
             "ticks": ""
            },
            "type": "contourcarpet"
           }
          ],
          "heatmap": [
           {
            "colorbar": {
             "outlinewidth": 0,
             "ticks": ""
            },
            "colorscale": [
             [
              0,
              "#0d0887"
             ],
             [
              0.1111111111111111,
              "#46039f"
             ],
             [
              0.2222222222222222,
              "#7201a8"
             ],
             [
              0.3333333333333333,
              "#9c179e"
             ],
             [
              0.4444444444444444,
              "#bd3786"
             ],
             [
              0.5555555555555556,
              "#d8576b"
             ],
             [
              0.6666666666666666,
              "#ed7953"
             ],
             [
              0.7777777777777778,
              "#fb9f3a"
             ],
             [
              0.8888888888888888,
              "#fdca26"
             ],
             [
              1,
              "#f0f921"
             ]
            ],
            "type": "heatmap"
           }
          ],
          "heatmapgl": [
           {
            "colorbar": {
             "outlinewidth": 0,
             "ticks": ""
            },
            "colorscale": [
             [
              0,
              "#0d0887"
             ],
             [
              0.1111111111111111,
              "#46039f"
             ],
             [
              0.2222222222222222,
              "#7201a8"
             ],
             [
              0.3333333333333333,
              "#9c179e"
             ],
             [
              0.4444444444444444,
              "#bd3786"
             ],
             [
              0.5555555555555556,
              "#d8576b"
             ],
             [
              0.6666666666666666,
              "#ed7953"
             ],
             [
              0.7777777777777778,
              "#fb9f3a"
             ],
             [
              0.8888888888888888,
              "#fdca26"
             ],
             [
              1,
              "#f0f921"
             ]
            ],
            "type": "heatmapgl"
           }
          ],
          "histogram": [
           {
            "marker": {
             "pattern": {
              "fillmode": "overlay",
              "size": 10,
              "solidity": 0.2
             }
            },
            "type": "histogram"
           }
          ],
          "histogram2d": [
           {
            "colorbar": {
             "outlinewidth": 0,
             "ticks": ""
            },
            "colorscale": [
             [
              0,
              "#0d0887"
             ],
             [
              0.1111111111111111,
              "#46039f"
             ],
             [
              0.2222222222222222,
              "#7201a8"
             ],
             [
              0.3333333333333333,
              "#9c179e"
             ],
             [
              0.4444444444444444,
              "#bd3786"
             ],
             [
              0.5555555555555556,
              "#d8576b"
             ],
             [
              0.6666666666666666,
              "#ed7953"
             ],
             [
              0.7777777777777778,
              "#fb9f3a"
             ],
             [
              0.8888888888888888,
              "#fdca26"
             ],
             [
              1,
              "#f0f921"
             ]
            ],
            "type": "histogram2d"
           }
          ],
          "histogram2dcontour": [
           {
            "colorbar": {
             "outlinewidth": 0,
             "ticks": ""
            },
            "colorscale": [
             [
              0,
              "#0d0887"
             ],
             [
              0.1111111111111111,
              "#46039f"
             ],
             [
              0.2222222222222222,
              "#7201a8"
             ],
             [
              0.3333333333333333,
              "#9c179e"
             ],
             [
              0.4444444444444444,
              "#bd3786"
             ],
             [
              0.5555555555555556,
              "#d8576b"
             ],
             [
              0.6666666666666666,
              "#ed7953"
             ],
             [
              0.7777777777777778,
              "#fb9f3a"
             ],
             [
              0.8888888888888888,
              "#fdca26"
             ],
             [
              1,
              "#f0f921"
             ]
            ],
            "type": "histogram2dcontour"
           }
          ],
          "mesh3d": [
           {
            "colorbar": {
             "outlinewidth": 0,
             "ticks": ""
            },
            "type": "mesh3d"
           }
          ],
          "parcoords": [
           {
            "line": {
             "colorbar": {
              "outlinewidth": 0,
              "ticks": ""
             }
            },
            "type": "parcoords"
           }
          ],
          "pie": [
           {
            "automargin": true,
            "type": "pie"
           }
          ],
          "scatter": [
           {
            "marker": {
             "colorbar": {
              "outlinewidth": 0,
              "ticks": ""
             }
            },
            "type": "scatter"
           }
          ],
          "scatter3d": [
           {
            "line": {
             "colorbar": {
              "outlinewidth": 0,
              "ticks": ""
             }
            },
            "marker": {
             "colorbar": {
              "outlinewidth": 0,
              "ticks": ""
             }
            },
            "type": "scatter3d"
           }
          ],
          "scattercarpet": [
           {
            "marker": {
             "colorbar": {
              "outlinewidth": 0,
              "ticks": ""
             }
            },
            "type": "scattercarpet"
           }
          ],
          "scattergeo": [
           {
            "marker": {
             "colorbar": {
              "outlinewidth": 0,
              "ticks": ""
             }
            },
            "type": "scattergeo"
           }
          ],
          "scattergl": [
           {
            "marker": {
             "colorbar": {
              "outlinewidth": 0,
              "ticks": ""
             }
            },
            "type": "scattergl"
           }
          ],
          "scattermapbox": [
           {
            "marker": {
             "colorbar": {
              "outlinewidth": 0,
              "ticks": ""
             }
            },
            "type": "scattermapbox"
           }
          ],
          "scatterpolar": [
           {
            "marker": {
             "colorbar": {
              "outlinewidth": 0,
              "ticks": ""
             }
            },
            "type": "scatterpolar"
           }
          ],
          "scatterpolargl": [
           {
            "marker": {
             "colorbar": {
              "outlinewidth": 0,
              "ticks": ""
             }
            },
            "type": "scatterpolargl"
           }
          ],
          "scatterternary": [
           {
            "marker": {
             "colorbar": {
              "outlinewidth": 0,
              "ticks": ""
             }
            },
            "type": "scatterternary"
           }
          ],
          "surface": [
           {
            "colorbar": {
             "outlinewidth": 0,
             "ticks": ""
            },
            "colorscale": [
             [
              0,
              "#0d0887"
             ],
             [
              0.1111111111111111,
              "#46039f"
             ],
             [
              0.2222222222222222,
              "#7201a8"
             ],
             [
              0.3333333333333333,
              "#9c179e"
             ],
             [
              0.4444444444444444,
              "#bd3786"
             ],
             [
              0.5555555555555556,
              "#d8576b"
             ],
             [
              0.6666666666666666,
              "#ed7953"
             ],
             [
              0.7777777777777778,
              "#fb9f3a"
             ],
             [
              0.8888888888888888,
              "#fdca26"
             ],
             [
              1,
              "#f0f921"
             ]
            ],
            "type": "surface"
           }
          ],
          "table": [
           {
            "cells": {
             "fill": {
              "color": "#EBF0F8"
             },
             "line": {
              "color": "white"
             }
            },
            "header": {
             "fill": {
              "color": "#C8D4E3"
             },
             "line": {
              "color": "white"
             }
            },
            "type": "table"
           }
          ]
         },
         "layout": {
          "annotationdefaults": {
           "arrowcolor": "#2a3f5f",
           "arrowhead": 0,
           "arrowwidth": 1
          },
          "autotypenumbers": "strict",
          "coloraxis": {
           "colorbar": {
            "outlinewidth": 0,
            "ticks": ""
           }
          },
          "colorscale": {
           "diverging": [
            [
             0,
             "#8e0152"
            ],
            [
             0.1,
             "#c51b7d"
            ],
            [
             0.2,
             "#de77ae"
            ],
            [
             0.3,
             "#f1b6da"
            ],
            [
             0.4,
             "#fde0ef"
            ],
            [
             0.5,
             "#f7f7f7"
            ],
            [
             0.6,
             "#e6f5d0"
            ],
            [
             0.7,
             "#b8e186"
            ],
            [
             0.8,
             "#7fbc41"
            ],
            [
             0.9,
             "#4d9221"
            ],
            [
             1,
             "#276419"
            ]
           ],
           "sequential": [
            [
             0,
             "#0d0887"
            ],
            [
             0.1111111111111111,
             "#46039f"
            ],
            [
             0.2222222222222222,
             "#7201a8"
            ],
            [
             0.3333333333333333,
             "#9c179e"
            ],
            [
             0.4444444444444444,
             "#bd3786"
            ],
            [
             0.5555555555555556,
             "#d8576b"
            ],
            [
             0.6666666666666666,
             "#ed7953"
            ],
            [
             0.7777777777777778,
             "#fb9f3a"
            ],
            [
             0.8888888888888888,
             "#fdca26"
            ],
            [
             1,
             "#f0f921"
            ]
           ],
           "sequentialminus": [
            [
             0,
             "#0d0887"
            ],
            [
             0.1111111111111111,
             "#46039f"
            ],
            [
             0.2222222222222222,
             "#7201a8"
            ],
            [
             0.3333333333333333,
             "#9c179e"
            ],
            [
             0.4444444444444444,
             "#bd3786"
            ],
            [
             0.5555555555555556,
             "#d8576b"
            ],
            [
             0.6666666666666666,
             "#ed7953"
            ],
            [
             0.7777777777777778,
             "#fb9f3a"
            ],
            [
             0.8888888888888888,
             "#fdca26"
            ],
            [
             1,
             "#f0f921"
            ]
           ]
          },
          "colorway": [
           "#636efa",
           "#EF553B",
           "#00cc96",
           "#ab63fa",
           "#FFA15A",
           "#19d3f3",
           "#FF6692",
           "#B6E880",
           "#FF97FF",
           "#FECB52"
          ],
          "font": {
           "color": "#2a3f5f"
          },
          "geo": {
           "bgcolor": "white",
           "lakecolor": "white",
           "landcolor": "#E5ECF6",
           "showlakes": true,
           "showland": true,
           "subunitcolor": "white"
          },
          "hoverlabel": {
           "align": "left"
          },
          "hovermode": "closest",
          "mapbox": {
           "style": "light"
          },
          "paper_bgcolor": "white",
          "plot_bgcolor": "#E5ECF6",
          "polar": {
           "angularaxis": {
            "gridcolor": "white",
            "linecolor": "white",
            "ticks": ""
           },
           "bgcolor": "#E5ECF6",
           "radialaxis": {
            "gridcolor": "white",
            "linecolor": "white",
            "ticks": ""
           }
          },
          "scene": {
           "xaxis": {
            "backgroundcolor": "#E5ECF6",
            "gridcolor": "white",
            "gridwidth": 2,
            "linecolor": "white",
            "showbackground": true,
            "ticks": "",
            "zerolinecolor": "white"
           },
           "yaxis": {
            "backgroundcolor": "#E5ECF6",
            "gridcolor": "white",
            "gridwidth": 2,
            "linecolor": "white",
            "showbackground": true,
            "ticks": "",
            "zerolinecolor": "white"
           },
           "zaxis": {
            "backgroundcolor": "#E5ECF6",
            "gridcolor": "white",
            "gridwidth": 2,
            "linecolor": "white",
            "showbackground": true,
            "ticks": "",
            "zerolinecolor": "white"
           }
          },
          "shapedefaults": {
           "line": {
            "color": "#2a3f5f"
           }
          },
          "ternary": {
           "aaxis": {
            "gridcolor": "white",
            "linecolor": "white",
            "ticks": ""
           },
           "baxis": {
            "gridcolor": "white",
            "linecolor": "white",
            "ticks": ""
           },
           "bgcolor": "#E5ECF6",
           "caxis": {
            "gridcolor": "white",
            "linecolor": "white",
            "ticks": ""
           }
          },
          "title": {
           "x": 0.05
          },
          "xaxis": {
           "automargin": true,
           "gridcolor": "white",
           "linecolor": "white",
           "ticks": "",
           "title": {
            "standoff": 15
           },
           "zerolinecolor": "white",
           "zerolinewidth": 2
          },
          "yaxis": {
           "automargin": true,
           "gridcolor": "white",
           "linecolor": "white",
           "ticks": "",
           "title": {
            "standoff": 15
           },
           "zerolinecolor": "white",
           "zerolinewidth": 2
          }
         }
        },
        "title": {
         "text": "Change in Admission Type in Jun and Dec 2021"
        }
       }
      },
      "text/html": [
       "<div>                            <div id=\"14f64b2e-13d0-4cb1-9024-0c898bd2bd47\" class=\"plotly-graph-div\" style=\"height:1000px; width:100%;\"></div>            <script type=\"text/javascript\">                require([\"plotly\"], function(Plotly) {                    window.PLOTLYENV=window.PLOTLYENV || {};                                    if (document.getElementById(\"14f64b2e-13d0-4cb1-9024-0c898bd2bd47\")) {                    Plotly.newPlot(                        \"14f64b2e-13d0-4cb1-9024-0c898bd2bd47\",                        [{\"link\":{\"color\":[\"rgba(31, 119, 180, 0.5)\",\"rgba(255, 127, 14, 0.5)\",\"rgba(44, 160, 44, 0.5)\",\"rgba(152, 223, 138, 0.5)\",\"rgba(197, 176, 213, 0.5)\",\"rgba(227, 119, 194, 0.5)\",\"rgba(127, 127, 127, 0.5)\",\"rgba(31, 119, 180, 0.5)\",\"rgba(174, 199, 232, 0.5)\",\"rgba(214, 39, 40, 0.5)\",\"rgba(140, 86, 75, 0.5)\",\"rgba(44, 160, 44, 0.5)\",\"rgba(152, 223, 138, 0.5)\",\"rgba(148, 103, 189, 0.5)\",\"rgba(197, 176, 213, 0.5)\",\"rgba(227, 119, 194, 0.5)\",\"rgba(227, 119, 194, 0.5)\",\"rgba(247, 182, 210, 0.5)\"],\"source\":[0,2,3,4,7,9,11,0,1,5,8,3,4,6,7,9,9,10],\"target\":[12,12,12,12,12,12,12,13,13,13,13,14,14,14,14,14,15,15],\"value\":[1,11844,9075,4,548,1,113,89,15,1,1,3,1298,35,3,14,1435,7]},\"node\":{\"color\":[\"#1f77b4\",\"#aec7e8\",\"#ff7f0e\",\"#2ca02c\",\"#98df8a\",\"#d62728\",\"#9467bd\",\"#c5b0d5\",\"#8c564b\",\"#e377c2\",\"#f7b6d2\",\"#7f7f7f\",\"#bcbd22\",\"#dbdb8d\",\"#17becf\",\"#9edae5\"],\"label\":[\"Admit From Other Custody\",\"Conditional Release Violator\",\"Direct From Court\",\"Discharged & Recommitted\",\"MSR Violator - New Sentence\",\"Not In IDOC Custody\",\"Parole Violator - New Sentence\",\"Return Additional Mittimus\",\"Return To Custody\",\"Technical MSR Violator\",\"Technical Parole Violator\",\"Transferred From Juvenile\",\"Court Admissions\",\"Other\",\"New Sentence Violators\",\"Technical Violators\"],\"line\":{\"color\":\"black\",\"width\":0},\"pad\":20,\"thickness\":30},\"type\":\"sankey\"}],                        {\"template\":{\"data\":{\"bar\":[{\"error_x\":{\"color\":\"#2a3f5f\"},\"error_y\":{\"color\":\"#2a3f5f\"},\"marker\":{\"line\":{\"color\":\"#E5ECF6\",\"width\":0.5},\"pattern\":{\"fillmode\":\"overlay\",\"size\":10,\"solidity\":0.2}},\"type\":\"bar\"}],\"barpolar\":[{\"marker\":{\"line\":{\"color\":\"#E5ECF6\",\"width\":0.5},\"pattern\":{\"fillmode\":\"overlay\",\"size\":10,\"solidity\":0.2}},\"type\":\"barpolar\"}],\"carpet\":[{\"aaxis\":{\"endlinecolor\":\"#2a3f5f\",\"gridcolor\":\"white\",\"linecolor\":\"white\",\"minorgridcolor\":\"white\",\"startlinecolor\":\"#2a3f5f\"},\"baxis\":{\"endlinecolor\":\"#2a3f5f\",\"gridcolor\":\"white\",\"linecolor\":\"white\",\"minorgridcolor\":\"white\",\"startlinecolor\":\"#2a3f5f\"},\"type\":\"carpet\"}],\"choropleth\":[{\"colorbar\":{\"outlinewidth\":0,\"ticks\":\"\"},\"type\":\"choropleth\"}],\"contour\":[{\"colorbar\":{\"outlinewidth\":0,\"ticks\":\"\"},\"colorscale\":[[0.0,\"#0d0887\"],[0.1111111111111111,\"#46039f\"],[0.2222222222222222,\"#7201a8\"],[0.3333333333333333,\"#9c179e\"],[0.4444444444444444,\"#bd3786\"],[0.5555555555555556,\"#d8576b\"],[0.6666666666666666,\"#ed7953\"],[0.7777777777777778,\"#fb9f3a\"],[0.8888888888888888,\"#fdca26\"],[1.0,\"#f0f921\"]],\"type\":\"contour\"}],\"contourcarpet\":[{\"colorbar\":{\"outlinewidth\":0,\"ticks\":\"\"},\"type\":\"contourcarpet\"}],\"heatmap\":[{\"colorbar\":{\"outlinewidth\":0,\"ticks\":\"\"},\"colorscale\":[[0.0,\"#0d0887\"],[0.1111111111111111,\"#46039f\"],[0.2222222222222222,\"#7201a8\"],[0.3333333333333333,\"#9c179e\"],[0.4444444444444444,\"#bd3786\"],[0.5555555555555556,\"#d8576b\"],[0.6666666666666666,\"#ed7953\"],[0.7777777777777778,\"#fb9f3a\"],[0.8888888888888888,\"#fdca26\"],[1.0,\"#f0f921\"]],\"type\":\"heatmap\"}],\"heatmapgl\":[{\"colorbar\":{\"outlinewidth\":0,\"ticks\":\"\"},\"colorscale\":[[0.0,\"#0d0887\"],[0.1111111111111111,\"#46039f\"],[0.2222222222222222,\"#7201a8\"],[0.3333333333333333,\"#9c179e\"],[0.4444444444444444,\"#bd3786\"],[0.5555555555555556,\"#d8576b\"],[0.6666666666666666,\"#ed7953\"],[0.7777777777777778,\"#fb9f3a\"],[0.8888888888888888,\"#fdca26\"],[1.0,\"#f0f921\"]],\"type\":\"heatmapgl\"}],\"histogram\":[{\"marker\":{\"pattern\":{\"fillmode\":\"overlay\",\"size\":10,\"solidity\":0.2}},\"type\":\"histogram\"}],\"histogram2d\":[{\"colorbar\":{\"outlinewidth\":0,\"ticks\":\"\"},\"colorscale\":[[0.0,\"#0d0887\"],[0.1111111111111111,\"#46039f\"],[0.2222222222222222,\"#7201a8\"],[0.3333333333333333,\"#9c179e\"],[0.4444444444444444,\"#bd3786\"],[0.5555555555555556,\"#d8576b\"],[0.6666666666666666,\"#ed7953\"],[0.7777777777777778,\"#fb9f3a\"],[0.8888888888888888,\"#fdca26\"],[1.0,\"#f0f921\"]],\"type\":\"histogram2d\"}],\"histogram2dcontour\":[{\"colorbar\":{\"outlinewidth\":0,\"ticks\":\"\"},\"colorscale\":[[0.0,\"#0d0887\"],[0.1111111111111111,\"#46039f\"],[0.2222222222222222,\"#7201a8\"],[0.3333333333333333,\"#9c179e\"],[0.4444444444444444,\"#bd3786\"],[0.5555555555555556,\"#d8576b\"],[0.6666666666666666,\"#ed7953\"],[0.7777777777777778,\"#fb9f3a\"],[0.8888888888888888,\"#fdca26\"],[1.0,\"#f0f921\"]],\"type\":\"histogram2dcontour\"}],\"mesh3d\":[{\"colorbar\":{\"outlinewidth\":0,\"ticks\":\"\"},\"type\":\"mesh3d\"}],\"parcoords\":[{\"line\":{\"colorbar\":{\"outlinewidth\":0,\"ticks\":\"\"}},\"type\":\"parcoords\"}],\"pie\":[{\"automargin\":true,\"type\":\"pie\"}],\"scatter\":[{\"marker\":{\"colorbar\":{\"outlinewidth\":0,\"ticks\":\"\"}},\"type\":\"scatter\"}],\"scatter3d\":[{\"line\":{\"colorbar\":{\"outlinewidth\":0,\"ticks\":\"\"}},\"marker\":{\"colorbar\":{\"outlinewidth\":0,\"ticks\":\"\"}},\"type\":\"scatter3d\"}],\"scattercarpet\":[{\"marker\":{\"colorbar\":{\"outlinewidth\":0,\"ticks\":\"\"}},\"type\":\"scattercarpet\"}],\"scattergeo\":[{\"marker\":{\"colorbar\":{\"outlinewidth\":0,\"ticks\":\"\"}},\"type\":\"scattergeo\"}],\"scattergl\":[{\"marker\":{\"colorbar\":{\"outlinewidth\":0,\"ticks\":\"\"}},\"type\":\"scattergl\"}],\"scattermapbox\":[{\"marker\":{\"colorbar\":{\"outlinewidth\":0,\"ticks\":\"\"}},\"type\":\"scattermapbox\"}],\"scatterpolar\":[{\"marker\":{\"colorbar\":{\"outlinewidth\":0,\"ticks\":\"\"}},\"type\":\"scatterpolar\"}],\"scatterpolargl\":[{\"marker\":{\"colorbar\":{\"outlinewidth\":0,\"ticks\":\"\"}},\"type\":\"scatterpolargl\"}],\"scatterternary\":[{\"marker\":{\"colorbar\":{\"outlinewidth\":0,\"ticks\":\"\"}},\"type\":\"scatterternary\"}],\"surface\":[{\"colorbar\":{\"outlinewidth\":0,\"ticks\":\"\"},\"colorscale\":[[0.0,\"#0d0887\"],[0.1111111111111111,\"#46039f\"],[0.2222222222222222,\"#7201a8\"],[0.3333333333333333,\"#9c179e\"],[0.4444444444444444,\"#bd3786\"],[0.5555555555555556,\"#d8576b\"],[0.6666666666666666,\"#ed7953\"],[0.7777777777777778,\"#fb9f3a\"],[0.8888888888888888,\"#fdca26\"],[1.0,\"#f0f921\"]],\"type\":\"surface\"}],\"table\":[{\"cells\":{\"fill\":{\"color\":\"#EBF0F8\"},\"line\":{\"color\":\"white\"}},\"header\":{\"fill\":{\"color\":\"#C8D4E3\"},\"line\":{\"color\":\"white\"}},\"type\":\"table\"}]},\"layout\":{\"annotationdefaults\":{\"arrowcolor\":\"#2a3f5f\",\"arrowhead\":0,\"arrowwidth\":1},\"autotypenumbers\":\"strict\",\"coloraxis\":{\"colorbar\":{\"outlinewidth\":0,\"ticks\":\"\"}},\"colorscale\":{\"diverging\":[[0,\"#8e0152\"],[0.1,\"#c51b7d\"],[0.2,\"#de77ae\"],[0.3,\"#f1b6da\"],[0.4,\"#fde0ef\"],[0.5,\"#f7f7f7\"],[0.6,\"#e6f5d0\"],[0.7,\"#b8e186\"],[0.8,\"#7fbc41\"],[0.9,\"#4d9221\"],[1,\"#276419\"]],\"sequential\":[[0.0,\"#0d0887\"],[0.1111111111111111,\"#46039f\"],[0.2222222222222222,\"#7201a8\"],[0.3333333333333333,\"#9c179e\"],[0.4444444444444444,\"#bd3786\"],[0.5555555555555556,\"#d8576b\"],[0.6666666666666666,\"#ed7953\"],[0.7777777777777778,\"#fb9f3a\"],[0.8888888888888888,\"#fdca26\"],[1.0,\"#f0f921\"]],\"sequentialminus\":[[0.0,\"#0d0887\"],[0.1111111111111111,\"#46039f\"],[0.2222222222222222,\"#7201a8\"],[0.3333333333333333,\"#9c179e\"],[0.4444444444444444,\"#bd3786\"],[0.5555555555555556,\"#d8576b\"],[0.6666666666666666,\"#ed7953\"],[0.7777777777777778,\"#fb9f3a\"],[0.8888888888888888,\"#fdca26\"],[1.0,\"#f0f921\"]]},\"colorway\":[\"#636efa\",\"#EF553B\",\"#00cc96\",\"#ab63fa\",\"#FFA15A\",\"#19d3f3\",\"#FF6692\",\"#B6E880\",\"#FF97FF\",\"#FECB52\"],\"font\":{\"color\":\"#2a3f5f\"},\"geo\":{\"bgcolor\":\"white\",\"lakecolor\":\"white\",\"landcolor\":\"#E5ECF6\",\"showlakes\":true,\"showland\":true,\"subunitcolor\":\"white\"},\"hoverlabel\":{\"align\":\"left\"},\"hovermode\":\"closest\",\"mapbox\":{\"style\":\"light\"},\"paper_bgcolor\":\"white\",\"plot_bgcolor\":\"#E5ECF6\",\"polar\":{\"angularaxis\":{\"gridcolor\":\"white\",\"linecolor\":\"white\",\"ticks\":\"\"},\"bgcolor\":\"#E5ECF6\",\"radialaxis\":{\"gridcolor\":\"white\",\"linecolor\":\"white\",\"ticks\":\"\"}},\"scene\":{\"xaxis\":{\"backgroundcolor\":\"#E5ECF6\",\"gridcolor\":\"white\",\"gridwidth\":2,\"linecolor\":\"white\",\"showbackground\":true,\"ticks\":\"\",\"zerolinecolor\":\"white\"},\"yaxis\":{\"backgroundcolor\":\"#E5ECF6\",\"gridcolor\":\"white\",\"gridwidth\":2,\"linecolor\":\"white\",\"showbackground\":true,\"ticks\":\"\",\"zerolinecolor\":\"white\"},\"zaxis\":{\"backgroundcolor\":\"#E5ECF6\",\"gridcolor\":\"white\",\"gridwidth\":2,\"linecolor\":\"white\",\"showbackground\":true,\"ticks\":\"\",\"zerolinecolor\":\"white\"}},\"shapedefaults\":{\"line\":{\"color\":\"#2a3f5f\"}},\"ternary\":{\"aaxis\":{\"gridcolor\":\"white\",\"linecolor\":\"white\",\"ticks\":\"\"},\"baxis\":{\"gridcolor\":\"white\",\"linecolor\":\"white\",\"ticks\":\"\"},\"bgcolor\":\"#E5ECF6\",\"caxis\":{\"gridcolor\":\"white\",\"linecolor\":\"white\",\"ticks\":\"\"}},\"title\":{\"x\":0.05},\"xaxis\":{\"automargin\":true,\"gridcolor\":\"white\",\"linecolor\":\"white\",\"ticks\":\"\",\"title\":{\"standoff\":15},\"zerolinecolor\":\"white\",\"zerolinewidth\":2},\"yaxis\":{\"automargin\":true,\"gridcolor\":\"white\",\"linecolor\":\"white\",\"ticks\":\"\",\"title\":{\"standoff\":15},\"zerolinecolor\":\"white\",\"zerolinewidth\":2}}},\"title\":{\"text\":\"Change in Admission Type in Jun and Dec 2021\"},\"font\":{\"size\":12},\"height\":1000},                        {\"responsive\": true}                    ).then(function(){\n",
       "                            \n",
       "var gd = document.getElementById('14f64b2e-13d0-4cb1-9024-0c898bd2bd47');\n",
       "var x = new MutationObserver(function (mutations, observer) {{\n",
       "        var display = window.getComputedStyle(gd).display;\n",
       "        if (!display || display === 'none') {{\n",
       "            console.log([gd, 'removed!']);\n",
       "            Plotly.purge(gd);\n",
       "            observer.disconnect();\n",
       "        }}\n",
       "}});\n",
       "\n",
       "// Listen for the removal of the full notebook cells\n",
       "var notebookContainer = gd.closest('#notebook-container');\n",
       "if (notebookContainer) {{\n",
       "    x.observe(notebookContainer, {childList: true});\n",
       "}}\n",
       "\n",
       "// Listen for the clearing of the current output cell\n",
       "var outputEl = gd.closest('.output');\n",
       "if (outputEl) {{\n",
       "    x.observe(outputEl, {childList: true});\n",
       "}}\n",
       "\n",
       "                        })                };                });            </script>        </div>"
      ]
     },
     "metadata": {},
     "output_type": "display_data"
    }
   ],
   "source": [
    "fig = go.Figure(data=[go.Sankey(\n",
    "    node = dict(\n",
    "        pad = 20,\n",
    "        thickness = 30,\n",
    "        line = dict(\n",
    "            color = 'black',\n",
    "            width = 0\n",
    "        ),\n",
    "        label = node_df['AT'],\n",
    "        color = node_df['Color']\n",
    "    ),\n",
    "    link = dict(\n",
    "        source = links_df['Source'],\n",
    "        target = links_df['Target'],\n",
    "        value = links_df['Count'],\n",
    "        color = links_df['Link Color']\n",
    "    )\n",
    ")])\n",
    "\n",
    "fig.update_layout(title_text='Change in Admission Type in Jun and Dec 2021',\n",
    "                  height=1000,\n",
    "                  font_size=12)\n",
    "fig.show()"
   ]
  },
  {
   "cell_type": "markdown",
   "id": "5bc60cf4",
   "metadata": {},
   "source": [
    "For the most part, the new admission types group multiple old admission types.\n",
    "* Court Admissions\n",
    "    * Direct From Court\n",
    "    * Discharged & Recommitted\n",
    "    * Return Additional Mittimus\n",
    "    * COVID-19 County Admit (but let's keep this as its own since its timeframe is so limited)\n",
    "    * Transferred From Juvenile\n",
    "* Other\n",
    "    * Admit from Other Custody\n",
    "    * Conditional Release Violator\n",
    "    * Not In IDOC Custody\n",
    "    * Return To Custody\n",
    "* New Sentence Violators\n",
    "    * MSR Violator - New Sentence\n",
    "    * Parole Violator - New Sentence\n",
    "* Technical Violators\n",
    "    * Technical MSR Violator\n",
    "    * Technical Parole Violator\n",
    "    \n",
    "Let's create a new field with the new admission types grouping the old admission types. Group others (from past quarters) based on similarity to other old admission types.\n"
   ]
  },
  {
   "cell_type": "code",
   "execution_count": 39,
   "id": "e92d9d19",
   "metadata": {},
   "outputs": [
    {
     "name": "stdout",
     "output_type": "stream",
     "text": [
      "Court Admissions          1438306\n",
      "New Sentence Violators     138867\n",
      "Other                        4734\n",
      "Technical Violators        176401\n",
      "Name: New Admission Type, dtype: int64\n"
     ]
    }
   ],
   "source": [
    "ct_admis_list = ['Direct From Court', 'Discharged & Recommitted', 'Return Additional Mittimus', 'Transferred From Juvenile']\n",
    "other_list = ['Admit From Other Custody', 'Conditional Release Violator', 'Not In IDOC Custody', 'Return To Custody', 'Work Release Violator', 'EDV', 'Juv Parole To Adult Parole']\n",
    "new_sent_viol_list = ['MSR Violator - New Sentence', 'Parole Violator - New Sentence', 'Conditional Release - New Sentence', 'Work Release Violator - New Sentence']\n",
    "tech_viol_list = ['Technical MSR Violator', 'Technical Parole Violator']\n",
    "\n",
    "df['New Admission Type'] = None\n",
    "df.loc[df['Admission Type'].isin(ct_admis_list), 'New Admission Type'] = 'Court Admissions'\n",
    "df.loc[df['Admission Type'].isin(other_list), 'New Admission Type'] = 'Other'\n",
    "df.loc[df['Admission Type'].isin(new_sent_viol_list), 'New Admission Type'] = 'New Sentence Violators'\n",
    "df.loc[df['Admission Type'].isin(tech_viol_list), 'New Admission Type'] = 'Technical Violators'\n",
    "\n",
    "df.loc[pd.isnull(df['New Admission Type']), 'New Admission Type'] = df.loc[pd.isnull(df['New Admission Type']), 'Admission Type']\n",
    "\n",
    "print(df['New Admission Type'].value_counts().sort_index())\n",
    "\n"
   ]
  },
  {
   "cell_type": "markdown",
   "id": "7938509e",
   "metadata": {},
   "source": [
    "**Admission Type - Categorization**\n",
    "\n",
    "Bucket into first-time vs. second-time vs. technical offender. \n",
    "\n",
    "NOTE: This is outdated and the logic cannot be used with new IDOC admission types.\n"
   ]
  },
  {
   "cell_type": "code",
   "execution_count": 40,
   "id": "c102ea5c",
   "metadata": {},
   "outputs": [
    {
     "name": "stdout",
     "output_type": "stream",
     "text": [
      "Second/+ IDOC Sentence           704551\n",
      "First IDOC Sentence              693451\n",
      "Unknown/Uncategorized            225554\n",
      "Technical MSR/Parole Violator    176846\n",
      "Name: Admission Type - Recidivism, dtype: int64\n"
     ]
    }
   ],
   "source": [
    "first_list = ['DIRECT FROM COURT', 'TRANSFERRED FROM JUVENILE', 'JUV PAROLE TO ADULT PAROLE']\n",
    "second_list = ['DISCHARGED & RECOMMITTED', 'MSR VIOLATOR - NEW SENTENCE', 'PAROLE VIOLATOR - NEW SENTENCE', 'WORK RELEASE VIOLATOR - NEW SENTENCE', 'CONDITIONAL RELEASE - NEW SENTENCE']\n",
    "tech_list = ['TECHNICAL PAROLE VIOLATOR', 'TECHNICAL MSR VIOLATOR', 'CONDITIONAL RELEASE VIOLATOR', 'TECHNICAL VIOLATORS', 'WORK RELEASE VIOLATOR']\n",
    "\n",
    "df['Admission Type - Recidivism'] = None\n",
    "df.loc[df['Admission Type'].str.upper().isin(first_list), 'Admission Type - Recidivism'] = 'First IDOC Sentence'\n",
    "df.loc[df['Admission Type'].str.upper().isin(second_list), 'Admission Type - Recidivism'] = 'Second/+ IDOC Sentence'\n",
    "df.loc[df['Admission Type'].str.upper().isin(tech_list), 'Admission Type - Recidivism'] = 'Technical MSR/Parole Violator'\n",
    "\n",
    "df.loc[pd.isnull(df['Admission Type - Recidivism']), 'Admission Type - Recidivism'] = 'Unknown/Uncategorized'\n",
    "\n",
    "print(df['Admission Type - Recidivism'].value_counts())\n",
    "\n"
   ]
  },
  {
   "cell_type": "markdown",
   "id": "ddec5ddf",
   "metadata": {},
   "source": [
    "**Holding offenses**\n",
    "\n",
    "There are a lot of similar but slightly different values here. They need to be bucketed/categorized.\n",
    "* Some can be bucketed based on the JHA interns' list.\n",
    "* For the rest, bucket based on keywords found in the holding offense.\n",
    "    * The order of operations matters. E.g. GUN --> weapon offense must come before POSS --> drug offense, since many weapons offenses include the string POSS.\n",
    "* There is already a Holding Offense Category field (which is very specific), and an Offense Type field (which is broad), but neither are available before Sep 2021."
   ]
  },
  {
   "cell_type": "code",
   "execution_count": 41,
   "id": "36bcb01a",
   "metadata": {
    "scrolled": true
   },
   "outputs": [
    {
     "name": "stdout",
     "output_type": "stream",
     "text": [
      "NaN                             1658133\n",
      "Homicide                          38803\n",
      "Sex Assault After 7-84            21069\n",
      "Assault-Battery-Force-Harm        16211\n",
      "Weapons                           14828\n",
      "Control Substance Viol            13516\n",
      "Armed Robbery                      8293\n",
      "Burglary                           3673\n",
      "Residential Burglary               3590\n",
      "Other Sex Offenses                 3220\n",
      "DUI-Liquor                         3161\n",
      "Robbery                            3012\n",
      "Motor Veh Theft                    1758\n",
      "Kidnapping                         1503\n",
      "Home-Veh Invasion                  1455\n",
      "Theft                               998\n",
      "Armed Violence                      948\n",
      "Escape or Aid                       899\n",
      "Motor Veh Offenses                  849\n",
      "Retail Theft                        799\n",
      "SDP                                 751\n",
      "Arson                               688\n",
      "Forgery-Deception-Fraud             659\n",
      "Govt-Bribery-Business               465\n",
      "Cannabis                            443\n",
      "Crim Trespass/Damage to Prop        442\n",
      "Rape-Before 7-84                    125\n",
      "Disorderly Conduct                   93\n",
      "Bail Bond Viol                        8\n",
      "Poss Hypos                            5\n",
      "Habitual Criminal                     5\n",
      "Name: Holding Offense Category, dtype: int64\n",
      "NaN                1658133\n",
      "Person Crimes        86715\n",
      "Sex Crimes           25165\n",
      "Drug Crimes          16490\n",
      "Property Crimes      12986\n",
      "Other Crimes           913\n",
      "Name: Offense Type, dtype: int64\n",
      "Person - Death/Physical Injury                         428564\n",
      "Person - Death/Physical Injury Unclear                 343016\n",
      "Drugs                                                  310033\n",
      "Property                                               267731\n",
      "Sex                                                    218464\n",
      "Firearms/Weapon                                        106916\n",
      "DUI/Vehicle Violation Without Death/Physical Injury     54350\n",
      "State/Other                                             44745\n",
      "Sex Offender/MVOAY Registry Violation                   26583\n",
      "Name: Holding Offense Cat, dtype: int64\n"
     ]
    }
   ],
   "source": [
    "print(df['Holding Offense Category'].value_counts(dropna=False))\n",
    "print(df['Offense Type'].value_counts(dropna=False))\n",
    "\n",
    "len1 = len(df)\n",
    "\n",
    "df['Holding Offense'] = df['Holding Offense'].apply(lambda x: str(x).strip())\n",
    "\n",
    "\n",
    "# specific holding offenses from interns' list\n",
    "inj_death_list = ['AB/NEGLECT ELD/DEATH/CAREGIVER', 'AGG BATTERY CHILD <13/GREAT BOD HARM', 'AGG BATTERY OF A CHILD', 'AGG BATTERY W/FIREARM/PERSON', 'AGG BATTERY/CHILD <13/PERM DISABL', 'AGG BATTERY/DISCHARGE FIREARM', 'AGG BATTERY/FIREARM/OFF/FIREMAN', 'AGG BATTERY/GREAT BOD HARM/60+', 'AGG BATTERY/GREAT BOD HARM/FLAME SUBST', 'AGG BATTERY/GREAT BOD HARM/PC OFF', 'AGG BATTERY/GREAT BODILY HARM', 'AGG BATTERY/HARM/PEACE OFFICER', 'AGG BATTERY/MERCHANT', 'AGG BTRY/UNLAWFUL DEL/CON SUB', 'AGG KIDNAPING/INFLICT HARM', 'AGG STALKING/BODILY HARM', 'AGG STALKING/BODILY HARM/2ND', 'AGG VEH HIJACKING/DISCH/HARM', 'AGGRAVATED BATTERY W/FIREARM', 'ARMED ROBBERY/DISCHARGE/HARM', 'DOM BTRY/BOD HARM/4+ PRI CONV', 'DOMESTIC BATTERY/BODILY HARM', 'HEINOUS BATTERY', 'HOME INVASION/CAUSE INJURY', 'HOME INVASION/DISCH FIREARM/HARM', 'INTIMIDATION/PHYSICAL HARM', 'MURDER/2ND DEGREE MURDER', 'MURDER/2ND DEGREE/PROVOCATION', 'MURDER/2ND DEGREE/UNREASON', 'MURDER/HOMICIDE/UNBORN CHILD', 'MURDER/INTENT TO KILL/INJURE', 'MURDER/OTHER FORCIBLE FELONY', 'MURDER/STRONG PROB KILL/INJURE', 'RECKLESS CONDUCT/GREAT BODILY HARM', 'VOLUN MANSL/NEGL-DEATH ANOTHER', 'DRUG INDUCED HOMICIDE', 'AGG DUI BODILY HARM/.10+/CHILD', 'AGG DUI/ACCIDENT/BODILY HARM', 'AGG DUI/ACCIDENT/DEATH', 'AGG DUI/BODILY HARM W/CHILD', 'AGG DUI/DEATH OF ANOTHER', 'AGG DUI/GREAT BODILY HARM', 'INVOL MANSLAUGHTER ATV/BOAT', 'INVOL MANSLAUGHTER FAMILY/BOAT', 'RECKLESS HOMIC/INCLINE/DEATH 2+', 'RECKLESS HOMIC/TRAFFIC CONTROL', 'RECKLESS HOMICIDE', 'RECKLESS HOMICIDE/.08 ALC/DRUG', 'RECKLESS HOMICIDE/ALC/CONVIC', 'RECKLESS HOMICIDE/ALC/DRUG', 'RECKLESS HOMICIDE/KILL 2 INDIV', 'SNOWMB OUI OF ALCOHOL/DEATH', 'INVOL MANSLAUGHTER/FAMILY MEMBER', 'INVOLUNTARY MANSLAUGHTER']\n",
    "inj_death_unclear_list = ['AGG ASLT PEACE OFF/FIRE/ER WRK', 'AGG ASLT/OP MOTOR VEH/STRUCK', 'AGG ASLT/STATE IL EMP/WEAPON', 'AGG ASSAULT/CORRECTIONAL EMP', 'AGG ASSAULT/DHS EMPLOYEE', 'AGG ASSAULT/DISCH FIREARM MV', 'AGG ASSAULT/OP MOTOR VEH/PC OFF', 'AGG ASSAULT/USE FOREARM/PEACE OFF', 'AGG BATTERY SR CITIZEN >60 YRS', 'AGG BATTERY/CONTROLLED SUB', 'AGG BATTERY/GOVERNMENT EMP', 'AGG BATTERY/INGEST TOXIC SUBST', 'AGG BATTERY/JUDGE/EMT', 'AGG BATTERY/PEACE OFF/FIREMAN', 'AGG BATTERY/PEACE OFFICER', 'AGG BATTERY/PREGNANT/HANDICAPPED', 'AGG BATTERY/PUBLIC PLACE', 'AGG BATTERY/STRANGLE/PREV CONV', 'AGG BATTERY/TRANSIT EMPLOYEE', 'AGG BATTERY/USE DEADLY WEAPON', 'AGG BATTERY/WEAPON/NO FIREARM', 'AGG DISCH FIREARM/PC OFF/FIREMAN', 'AGG DISCH FIREARM/VEH/PC OFF/FRMAN', 'AGG DISCH SILENCER PERSON/VEH', 'AGG DISCHARGE FIREARM/BLDG', 'AGG DISCHARGE FIREARM/OCC BLDG', 'AGG DISCHARGE FIREARM/OCC VEH', 'AGG DOMESTIC BATTERY/STRANGLE', 'AGG INTIMIDATION PEACE OFFICER', 'AGG KIDNAPING ARMED W FIREARM', 'AGG KIDNAPING/CHILD<13/RETARDED', 'AGG KIDNAPING/CONCEAL IDENT', 'AGG ROBBERY/CONTROLLED SUB', 'AGG ROBBERY/INDICATE ARM W/FIR', 'AGG STALKING/VIO REST ORDER', 'AGG VEHICULAR HIJACKING/DISCHARGE', 'AGG VEHICULAR HIJACKING/FIREARM', 'AGG VEHICULAR HIJACKING/HANDICAPPED', 'AGG VEHICULAR HIJACKING/PASS <16 YRS', 'AGG VEHICULAR HIJACKING/WEAPON', 'AGGRAVATED ASSAULT', 'AGGRAVATED BATTERY/NURSE', 'AGGRAVATED BATTERY/STRANGLE', 'AGGRAVATED BATTERY/VICTIM 60+', 'AGGRAVATED DISCHARGE/FIREARM', 'AGGRAVATED DOMESTIC BATTERY', 'AGGRAVATED KIDNAPING/ARMED', 'AGGRAVATED KIDNAPING/RANSOM', 'AGGRAVATED ROBBERY', 'AGGRAVATED TRAFFICKING/BENEFIT', 'AGGRAVATED UNLAWFUL RESTRAINT', 'AGGRAVATED VEHICULAR HIJACKING', 'ARMED ROBBERY', 'ARMED ROBBERY/ARMED W/FIREARM', 'ARMED ROBBERY/DISCH FIREARM', 'ARMED ROBBERY/NO FIREARM', 'ARMED VIOL/CATEGORY I WEAPON', 'ARMED VIOL/CATEGORY II WEAP/1ST', 'ARMED VIOL/CATEGORY II WEAPON', 'ARMED VIOL/CATEGORY III WEAPON', 'CAUSE CHILD/ENDANGERED/2+', 'CHILD ABDUCTN/CONCEAL/DETAIN', 'COMMUNICATE/DETAIN WITNESS', 'CRIM TRES TO RES/PERS PRESENT', 'DISMEMBERING A HUMAN BODY', 'DOM BTRY/CONTACT/3 PRIOR CONV', 'DOMESTIC BATTERY/ CONTACT/PRIOR', 'DOMESTIC BATTERY/PHY CONTACT/2ND+', 'DOMESTIC BATTERY/VIOL PROTECT ORDER', 'GIVE FALSE BOMB/GAS ALARM', 'HABITUAL CRIMINAL/2 PRIOR CL X', 'HARASS JURORS/WITNESSES', 'HARASS WITNESS', 'HARASSMENT BY PHONE/4TH +', 'HOME INVASION', 'HOME INVASION/ARMED W/FIREARM', 'HOME INVASION/ARMED/FORCE', 'HOME INVASION/DANDEROUS WEAP', 'HOME INVASION/DISCH FIREARM', 'HOME INVASION/FIREARM', 'HOME INVASION/SEX OFFENSE', 'HOME INVASION/VIO AGAINST PERS', 'HRSMT/PREVENT/SERV/SAME VIC', 'HRSMT/THREATEN PERSON/KILL', 'HUMAN TRAFFICKING FOR LABOR/BENEFITS', 'INTIMIDATION/CONTEMPT/RIDICULE', 'INTIMIDATION/CRIMINAL OFFENSE', 'INVOL SERVITUDE/THREAT PHYS HARM', 'KIDNAPING ARMED WITH FIREARM', 'KIDNAPING DISCHARGE FIREARM', 'KIDNAPING W FORCE OR THREAT', 'KIDNAPING/SECRETLY CONFINE', 'PHONE HRSMT/LEWD/THREAT KILL', 'RECKLESS DISCH FIREARM/ENDANGERS', 'ROBBERY', 'ROBBERY/SCHOOL/PLACE WORSHIP', 'ROBBERY/VIC HANDICAP / 60+', 'ROBBERY/VIC HANDICAP OR 60+ YR', 'STALKING BY TRANSMITTING THREAT', 'STALKING/PERSON/SURVEILLANCE', 'STALKING/TRANSMITS THREAT/2ND', 'UNLAWFUL RESTRAINT', 'UNLAWFUL VEHICULAR INVASION', 'VEHICULAR HIJACKING', 'VIO ORDER/PRIOR VIO OF ORDER', 'VIOLATE ORDER/PRIOR DOM BATTERY', 'AB/NEGLECT ELDERLY/CAREGIVER', 'ARMED VIOL/CATEGORY II WEAP/2ND+', 'CONTEMPT', 'KIDNAPING/DECEIT OR ENTICE', 'VIOLATE STALKING NO CONTACT/2+', 'CHILD ABDUCT/LURE/VIC<17/PRIOR', 'WINDOW PEEPING 3RD+', 'ATT AGG BATTERY/CHILD <13/PERM DISABL', 'ATT AGG BATTERY/PEACE OFFICER', 'ATT AGG DISCHARGE FIREARM', 'ATT AGG DISCHARGE FIREARM AT VEH', 'ATT AGG DISCHARGE FIREARM OFFICER', 'ATT AGG VEHICLE HIJACK W WEAPON', 'ATT ARMED ROBBERY/ARMED', 'ATT ARMED ROBBERY/NO FIREARM', 'ATT DRUG-INDUCED HOMICIDE', 'ATT HOME INVASION/ARMED W/FIREARM', 'ATT HOME INVASION/FIREARM', 'ATTEMPT AGG BATTERY OF A CHILD', 'ATTEMPT AGG BATTERY/DISCHARGE FIREARM', 'ATTEMPT AGG DISCHARGE/FIREARM', 'ATTEMPT AGG KIDNAPG/CHILD<13/RETARD', 'ATTEMPT AGG KIDNAPING/INFLICT HARM', 'ATTEMPT AGG ROBBERY/INDICATE ARM W/FIR', 'ATTEMPT AGG VEHICULAR HIJACKING', 'ATTEMPT AGGRAVATED ROBBERY', 'ATTEMPT ARMED ROBBERY', 'ATTEMPT ARMED VIO/CATEGORY I WEAPON', 'ATTEMPT DISARM PC OFF/CORR EMP', 'ATTEMPT HARASS JURORS/WITNESSES', 'ATTEMPT HOME INVASION/CAUSE INJURY', 'ATTEMPT INTENT/HOMICIDE/UNBORN CHILD', 'ATTEMPT KIDNAP ARMED W FIREARM', 'ATTEMPT MURDER/INTENT TO KILL/INJURE', 'ATTEMPT MURDER/OTHER FORCIBLE FELONY', 'ATTEMPT MURDER/STRONG PROB KILL/INJURE', 'ATTEMPT ROBBERY', 'ATTEMPT ROBBERY/VIC HANDICAP OR 60+ YR', 'ATTEMPT SOLICITATION/MURDER/FOR HIRE', 'ATTEMPT VEHICULAR HIJACKING', 'CONSP AGGRAVATED ROBBERY', 'CONSP ARMED ROBBERY', 'CONSP MURDER/INTENT TO KILL/INJURE', 'SOLICIT MURDER/INTENT TO KILL/INJURE', 'SOLICITATION ROBBERY', 'SOLICITATION/MURDER', 'SOLICITATION/MURDER/FOR HIRE', 'CONSP ROBBERY', 'ATTEMPT AGG KIDNAP/CONCEAL IDENTITY', 'ATTEMPT KIDNAPING/SECRETLY CONFINE', 'CONSP AGG BATTERY/DISCHARGE FIREARM']\n",
    "sex_list = ['AGG CHILD PORN/DISSEM FILM', 'AGG CHILD PORN/EXHIBIT', 'AGG CHILD PORN/LEWD EXHIBITION', 'AGG CHILD PORN/PERSON/ANIMAL', 'AGG CHILD PORN/POSS FILM/PHOTO', 'AGG CHILD PORN/POSS FILM/PREV', 'AGG CRIM SEX AB/VIC <18/FAMILY', 'AGG CRIM SEX ABUSE', 'AGG CRIM SEX ABUSE/<5 YR VIC', 'AGG CRIM SEX ABUSE/BODILY HARM', 'AGG CRIM SEX ABUSE/DURING FELONY', 'AGG CRIM SEX ABUSE/FAMILY', 'AGG CRIM SEX ABUSE/FORCE/VIC 9-13', 'AGG CRIM SEX ABUSE/INTELLIG DISABL', 'AGG CRIM SEX ABUSE/VIC <13', 'AGG CRIM SEX ABUSE/VIC 13-16', 'AGG CRIM SEX ABUSE/VIC 13-17', 'AGG CRIM SEX ABUSE/VICTIM <13', 'AGG CRIM SEX ABUSE/VICTIM <9', 'AGG CRIM SEX ASLT/INTEL DISABL', 'AGG CRIM SEX ASLT/THREAT LIFE', 'AGG CRIM SEX ASSAULT/BODILY HARM', 'AGG CRIM SEX ASSAULT/FELONY', 'AGG CRIM SEX ASSAULT/FIREARM', 'AGG CRIM SEX ASSAULT/FORCE VIC9-13', 'AGG CRIM SEX ASSAULT/HANDICAPPED', 'AGG CRIM SEX ASSAULT/RETARDED', 'AGG CRIM SEX ASSAULT/THREAT LIFE', 'AGG CRIM SEX ASSAULT/VIC 60+', 'AGG CRIM SEX ASSAULT/VICTIM <13', 'AGG CRIM SEX ASSAULT/VICTIM <9', 'AGG CRIM SEX ASSAULT/VICTIM >60', 'AGG CRIM SEX ASSAULT/WEAPON', 'AGG CRIM SEXUAL ABUSE/FELONY', 'AGG CRIM SEXUAL ASSAULT/CON SUB', 'AGG CRIM SX AB/VIC 13<18/TRUST', 'AGG CRIM SX ASLT/FORCE VIC9-13', 'AGG IND LIB/CHILD/INFLICT HARM', 'CHILD PORN/FILM/TAPE/PHOTO/ACT', 'CHILD PORN/MOVING DEPICTION', 'CHILD PORN/PERS/ANIM/MOV DPTN', 'CHILD PORN/PERSON/ANIMAL', 'CHILD PORN/POSE/EXHIBITION', 'CHILD PORN/POSS FILM/PHOTOS', 'CHILD PORN/POSS PHOTO/VIC <13', 'CHILD PORN/POSS/MOVING DPTN', 'CHILD PORN/REPRODUCE/MOV DPTN', 'CHILD PORN/REPRODUCE/SELL', 'CHILD PORN/SOL CHILD/MOV DPTN', 'CHILD PORN/SOL/CHILD/APPEAR', 'CHILD PORNOGRAPHY/VICTIM <13', 'CRIM SEX ABUSE/CANT CONSENT/2ND', 'CRIM SEX ASLT/FAM MBR <18/2+', 'CRIM SEX ASLT/FAMILY MEMBER<18', 'CRIM SEX ASLT/FORCE/PREV CONV', 'CRIM SEX ASSAULT/CANT CONSENT', 'CRIM SEX ASSAULT/CANT CONSENT/2ND', 'CRIM SEX ASSAULT/FAMILIES', 'CRIM SEX ASSAULT/FAMILIES/2ND+', 'CRIM SEX ASSAULT/FORCE', 'CRIM SEX ASSAULT/FORCE/2ND+', 'CRIM SEX ASSAULT/SUPERVN VIC 13-17', 'CRIM SEX ASSAULT/VICTIM 13-17', 'CRIM SEX ASSAULT/VICTIM 13-17/2ND', 'CRIM SEXUAL ABUSE/CONSENT', 'CRIM SEXUAL ABUSE/CONSENT/2+', 'CRIMINAL SEX ASSAULT/CONSENT', 'CRIMINAL SEXUAL ABUSE/FORCE', 'DEVIATE SEXUAL ASSAULT', 'GROOMING', 'INDECENT SOL ADULT/<13/PENETRATION', 'INDECENT SOL/AGG CRIM SEX ABUSE', 'INDECENT SOL/CRIM SEX ASSAULT', 'INDECENT SOL/PREDITORY/AGG SEX', 'NONCONSENSUAL  DISSM SEX IMAGE', 'PERMIT SEXUAL ABUSE OF CHILD', 'PRED CRIM SEX ASSLAUT/VICTIM <13', 'PREDATORY CRIM SEX ASSAULT/FIREARM', 'PREDATORY CRIM SEX ASSAULT/HARM', 'PREDATORY CRIMINAL SEXUAL ASSAULT', 'PROM JUV PROST/MINOR <13/RETAR', 'PUBLIC INDECENCY/EXPOSURE/3+', 'RAPE', 'RAPE PRIOR TO 2/1/78', 'SEX RELATIONS WITHIN FAMILIES', 'SEXUALLY DANGEROUS PERSON', 'TRAFFIC SEX SERV MINOR < 17', 'TRAVELING TO MEET A MINOR', 'UNLAWFUL VIDEO/VIC<18/SEX OFF', 'EXPLOIT CHILD/SEX ACT/2ND', 'CUSTODIAL SEXUAL MISCONDUCT', 'INDECENT SOLICIT CHILD/INTERNET', 'ATT AGG CRIM SEX ASSAULT VIC 60+', 'ATT CRIM SEX ASSAULT/FORCE', 'ATT PERMIT SEXUAL ABUSE OF CHILD', 'ATTEMPT AGG CRIM SEX ASLT/BODILY HARM', 'ATTEMPT AGG CRIM SEX ASSAULT', 'ATTEMPT AGG CRIM SEX ASSAULT/BODILY HARM', 'ATTEMPT AGG CRIM SEX ASSAULT/FELONY', 'ATTEMPT AGG CRIM SEX ASSAULT/VICTIM >60', 'ATTEMPT AGG CRIM SEX ASSAULT/WEAPON', 'ATTEMPT AGG CRIM SX AB/>5 YR OLDER VIC', 'ATTEMPT CRIM SEX ASSAULT/FORCE', 'ATTEMPT CRIM SEX ASSAULT/VICTIM 13-17', 'ATTEMPT PRED CRIM SEX ASLT/VICTIM <13', 'ATTEMPT PRED CRIMINAL SEXUAL ASSAULT', 'SOL AGG CRIM SEX ASSAULT/VIC 60+']\n",
    "drugs_list = ['15<200 OBJECT/PARTS LSD/ANALOG', 'AGG DEL METH PROTECTED <5 GRAMS', 'AGG DEL METH/PROTECTED/100+ GR', 'AGG DEL METH/PROTECTED/5<15 GRAMS', 'AGG METH MANU/ORGANIZE/100<400 GR', 'AGG METH MANU/PROTECTED<15', 'AGG METH MANU/WORSHIP/<15 GR', 'AGG METH MANUF/APT/<15 GRAMS', 'AGG METH MANUF/APT/100<400 GR', 'AGG METH MANUF/CHILD 15<100 GRAMS', 'AGG METH MANUF/CHILD/<15 GRAMS', 'AGG METH MANUF/CHLD/100<400 GRAMS', 'AGG METH MANUF/CHLD/400+ GR', 'AGG METH MANUF/ORGANIZE/<15 GR', 'CALCULATED CRIM DRUG CONSP', 'CALCULATED CRIM DRUG CONSPIR', 'CANNABIS TRAFFICKING', 'CONT SUBS ACT-MANU/DEL', 'CONTROLLED SUB TRAFFICKING', 'CRIM DRUG CONSPIRACY', 'CRIMINAL DRUG CONSPIRACY', 'CRIMINAL DRUG CONSPIRACY >100 GR', 'DEL CONT SUB<18/PARK/SCHOOL/PUB HOUS', 'DEL CONT/COUNT SUB TO <18', 'DEL METH <5 GRAMS', 'DEL/NON NARC SCHED I/II/SC/HS/PARK', 'DISPOSE METH MANUF WASTE', 'MAN/DEL OTHER AMOUNT AMPHETAMINE', 'MANU 5>15 GRAMS ECSTASY', 'MANU/DEL 01-15 GRAMS COCAINE', 'MANU/DEL 1-14 GRAMS HEROIN', 'MANU/DEL 1<15 GRAM FENTANYL', 'MANU/DEL 10-15 GRAMS HEROIN', 'MANU/DEL 10<15 OBJECTS/PARTS LSD', 'MANU/DEL 10>15 PILLS ECSTASY', 'MANU/DEL 100<400 GR FENTANYL', 'MANU/DEL 100<400 GRAMS COCAINE', 'MANU/DEL 100<400 GRAMS HEROIN', 'MANU/DEL 100<400 GRAMS LSD', 'MANU/DEL 100>400 GR ECSTASY', 'MANU/DEL 15/+ GRAMS HEROIN', 'MANU/DEL 15/+GRAMS COCAINE', 'MANU/DEL 15<100 GRAMS COCAINE', 'MANU/DEL 15<100 GRAMS HEROIN', 'MANU/DEL 15<100 GRAMS LSD', 'MANU/DEL 15>100 GR ECSTASY', 'MANU/DEL 15>200 PILLS ECSTASY', 'MANU/DEL 1500+ PILLS ECSTASY', 'MANU/DEL 200+ SCHED I&II', 'MANU/DEL 200+GRAMS METH/AMPH', 'MANU/DEL 200>600 PILLS ECSTASY', 'MANU/DEL 2ND OR SUBQ OFFENSE IN ACT', 'MANU/DEL 3-15 GRAMS LSD', 'MANU/DEL 400<900 GRAMS COCAINE', 'MANU/DEL 400<900 GRAMS METH', 'MANU/DEL 50-200 GRAMS SCHED I&II', 'MANU/DEL 600<1500 OBJECTS/PARTS LSD', 'MANU/DEL 900+ GRAMS COCAINE', 'MANU/DEL 900+ GRAMS ECSTASY', 'MANU/DEL 900+ GRAMS HEROIN', 'MANU/DEL AMT NARC SCHED I/II/SCHOOL/HS/PARK', 'MANU/DEL BARB ACID/SC/PUB HOUS/PARK', 'MANU/DEL CANNABIS/>5,000 GRAMS', 'MANU/DEL CANNABIS/>500 GRAMS', 'MANU/DEL CANNABIS/10-30 GRAMS', 'MANU/DEL CANNABIS/2000<5000 GRAMS', 'MANU/DEL CANNABIS/30-500 GRAMS', 'MANU/DEL COCAINE/SCHOOL/PUB HOUS/PARK', 'MANU/DEL CONT SUBS (PRIOR 1/1/90)', 'MANU/DEL CONT SUBS/ENHANCED', 'MANU/DEL HEROIN/SCHOOL/PUB HOUS/PARK', 'MANU/DEL OTHER AMOUNT SCHEDULE III', 'MANU/DEL OTHER AMOUNT SCHEDULE IV', 'MANU/DEL OTHER AMT METH', 'MANU/DEL OTHER AMT NARC SCHED I&II', 'MANU/DEL OTHER AMT NARCOTIC SCHED I&II', 'MANU/DEL OTHER NON-NARCOTIC SCHED I&II', 'MANU/DEL SCHED I/II/SCH/HS/PARK', 'MANU/DISTRIB LOOK-ALIKE SUB', 'METH CONSP CONT SUBS >100 GR', 'METH DELIVERY/100<400 GR', 'METH DELIVERY/15<100 GRAMS', 'METH DELIVERY/400<900 GR', 'METH DELIVERY/5<15 GRAMS', 'METH DELIVERY/900+ GR', 'METH DELIVERY<5 GRAMS', 'METH MANUFACTURE/100<400 GR', 'METH MANUFACTURE<15 GRAMS', 'METH MANUFACTURING/100<400 GRAMS', 'METH MANUFACTURING/15<100 GR', 'METH MANUFACTURING/15<100 GRAMS', 'METH MANUFACTURING/400<900 GR', 'METH MANUFACTURING/400<900 GRAMS', 'METH MANUFACTURING/900+ GR', 'METH MANUFACTURING<15 GRAMS', 'METH PRECURSOR TRAFFICKING', 'METH PRECURSOR/15<30 GRAMS', 'METH PRECURSOR/500+ GRAMS', 'METH PRECURSOR<15 GRAMS', 'METHAMPHETAMINE CONSPIRACY', 'METHAMPHETAMINE TRAFFICKING', 'MFG/DEL 100<400 GR HERO/ANLG', 'MFG/DEL 15<100 GR FENTANYL', 'MFG/DEL 15<100 GR HEROIN/ANLG', 'MFG/DEL 400<900 GR HERO/ANLG', 'NARCOTICS RACKETEERING', 'OBTAIN SUBSTANCE BY FRAUD/1ST', 'POSS AMT CON SUB EXCEPT(A)/(D)', 'POSS CANNABIS/>5,000 GRAMS', 'POSS CANNABIS/10-30 GRAM/SUBQ', 'POSS CANNABIS/2,000<5,000 GRAMS', 'POSS CANNABIS/500<2,000 GRAMS', 'POSS CONT SUBS', 'POSS HYPO/SYRINGE/NEEDLES/2ND+', 'POSS METH MANUF MATERIAL', 'POSS OF METH < 5 GRAMS', 'POSS OF METH/ 15<100 GRAMS', 'POSSESS 100<400 GRAMS COCAINE', 'POSSESS 100<400 GRAMS HEROIN', 'POSSESS 15+ GRAMS COCAINE', 'POSSESS 15+ GRAMS HEROIN', 'POSSESS 15+ GRAMS MORPHINE', 'POSSESS 15<100 GRAMS COCAINE', 'POSSESS 15<100 GRAMS HEROIN', 'POSSESS 15<100 GRAMS METH', 'POSSESS 15<200 OBJECT/PART LSD', 'POSSESS 15>200 PILLS ECSTASY', 'POSSESS 1500+ PILLS ECSTASY/ANALOG', 'POSSESS 200+ GRAMS OTHER SCHED I&II', 'POSSESS 400<900 GRAMS COCAINE', 'POSSESS 400<900 GRAMS HEROIN', 'POSSESS 900 + GRAMS COCAINE', 'POSSESS 900 + GRAMS HEROIN', 'POSSESSION OF METH/100<400 GRAMS', 'POSSESSION OF METH/15<100 GRAMS', 'POSSESSION OF METH/400<900 GR', 'POSSESSION OF METH/5<15 GRA', 'POSSESSION OF METH/900+ GR', 'POSSESSION OF METH< 5 GRAMS', 'PRODUCE >200 CANNABIS PLANTS', 'TAMPER W/ANHYD AMM EQUIPMENT', 'USE OF DANGEROUS PLACE/CON SUB', 'USE VEH/STRUCTURE/PROP/METH', 'POSS BLANK COUNTERFEIT SCRIPT', 'POSS CANNABIS/30-500 GRAM/1ST', 'MANU/DEL CONT SUBS', 'MANU/DEL 10<30 GRAMS KETAMINE', 'POSS 400>900 GR ECSTASY/ANALOG', 'PRODUCE 5-20 CANNABIS PLANTS', 'ATT MANU 200>600 PILLS ECSTASY', 'ATT METH PRECURSOR/30<150 GR', 'ATTEMPT MANU/DEL 15/+GRAMS COCAINE', 'ATTEMPT MANU/DEL CANNABIS/>500 GRAMS', 'ATTEMPT MANU/DEL OTHER AMT NARC', 'ATTEMPT POSS METH MANUF MATERIAL', 'ATTEMPT POSSESS 15<100 GRAMS COCAINE', 'CONSP MANU/DEL 01-15 GRAMS COCAINE', 'CONSP MANU/DEL OTHER AMOUNT METH', 'CONSP MFG/DEL CANNABIS/>5,000 GRAMS', 'SOLICIT MANU/DEL 01-15 GRAMS COCAINE', 'ATTEMPT MANU/DEL 01-15 GRAMS COCAINE', 'CONSPIRACY METH MANUFACTURE<15 GRAMS', 'ATTEMPT POSS AMT CON SUB', 'CONSP MANU/DEL 15/+GRAMS COCAINE']\n",
    "property_list = ['AGG ARSON', 'AGG ARSON/INJURE FIRE/POLICE', 'AGG ARSON/KNOW PEOPLE PRESENT', 'AGG HOME FRAUD VIC >60 >%500', 'AGG ID THEFT/<$300/DISABLED', 'AGG ID THEFT/$10,000-$100,000/60 YRS+', 'AGG ID THEFT/$300-10,000/60 YRS +', 'AGG ID THEFT/AGE 60+/2+', 'AGG ID THFT/10K-100K/GANG ACTS', 'AGG ID THFT/ID STOLEN/VIC 60+', 'AGG INSURANCE FRAUD', 'AGGRAVATED ARSON', 'AGGRAVATED ARSON/BODILY HARM', 'AID/ABET/POSS/SELL STOLEN VEH', 'ARSON', 'ARSON/REAL/PERSONAL PROP>$1', 'BAD CHK/OBTAIN CON PROP/>150', 'BURGLARY', 'BURGLARY W/O CAUSING DAMAGE', 'BURGLARY/SCHOOL/PLACE WORSHIP', 'CAUSING A CATASTROPHE', 'CONTINUING FINANCE CRIME ENTRPRS', 'COUNTERFEIT CREDIT/DEBIT CARD', 'CRIM DMG TO PROP $300-10000', 'CRIMINAL DAMAGE $10000-$100000', 'DEFRAUD FINANC INST/$500-$10,000', 'DEFRAUD FINANCIAL INST/>$100K', 'FIN EXPLOIT ELDERLY/70+/$15K+', 'FINANCE EXPLOIT ELD/DISABL/$300-$5,000', 'FINANCIAL INSTITUTION ROBBERY', 'FORGERY /MAKE OR ALTER DOCUMENT', 'FORGERY/ISSUE DOCUMENT/1 UPC', 'FORGERY/ISSUE/DELIVER DOCUMENT', 'FORGERY/POSSESS W INTENT', 'ID THEFT/OBTAIN/3+ INDIV', 'ID THFT/OBTAIN INFO/COMMIT FEL', 'IDENTITY THEFT >$100,000', 'IDENTITY THEFT/<$300', 'IDENTITY THEFT/$10K - $100K', 'IDENTITY THEFT/$2000-$10,000', 'IDENTITY THEFT/$300-$2000', 'IDENTITY THEFT/KNOWS ID STOLEN', 'KNOW ID STOLEN/MILITARY VIC/2+', 'MOB ACTION', 'ORGANIZE/AGG VEH THEFT CONSPIR', 'ORGANIZER/FIN CRIME ENTRPRS', 'POSS STOLEN VEHICLE > $25,000', 'POSSESS BURGLARY TOOLS', 'RECEIVE/POSS/SELL STOLEN VEH', 'RECEIVE/POSS/SELL STOLEN VEHICLE', 'RESIDENTIAL ARSON', 'RESIDENTIAL BURGLARY', 'RET THEFT/DISP MERCH/<$300/PREV CONV', 'RET THEFT/DISP MERCH/>$300', 'RETAIL THEFT/DISP MERCH/<$150/2+', 'RETAIL THEFT/EMERGENCY EXIT/>$300', 'RETAIL THEFT/MOTOR FUEL/>$150', 'THEFT', 'THEFT <$300', 'THEFT <$300 PRIOR', 'THEFT <$300 WITH PRIOR', 'THEFT <$300/PRIOR CONVICT', 'THEFT <$300/SCHOOL/WORSHIP', 'THEFT >$10,000 <$100,000', 'THEFT >$10,000-$100,000', 'THEFT >$100,000-$500,000', 'THEFT >$100,000/SCHOOL/WORSHIP', 'THEFT >$300-$10,000', 'THEFT $300-$10,000/SCHOOL/WORSHIP', 'THEFT $300<$10,000', 'THEFT CONTROL INTENT <$500 PRIOR', 'THEFT CONTROL INTENT $500<$10,000', 'THEFT CONTROL INTENT 10K<100K', 'THEFT CONTROL OF PROPERTY <$500', 'THEFT DECEP INTENT $10,000<$100,000', 'THEFT DECEPTION INTENT 300<10,000', 'THEFT DECEPTION INTENT 500<10000', 'THEFT STOLEN <$300 PRIOR', 'THEFT STOLEN INTENT PERS <$300', 'THEFT STOLEN/>$300 <$10,000', 'THEFT/COIN OP MACHINE/2ND+', 'THEFT/CONTROL INTENT>$500K-1M', 'THEFT/CONTROL/INTENT >$1M', 'THEFT/DECEPTION > $100,000', 'THEFT/DECEPTION >$500,000', 'THEFT/DECEPTION/<$500 PRIOR', 'THEFT/DECEPTION/>$500 <10K', 'THEFT/EMER EXIT/<$300/PRECONV', 'THEFT/STOLEN/ <$500 PRIOR CONV', 'THEFT/STOLEN/>$10,000 <$100,000', 'THEFT/UNAUTHD CONTROL>$300<10000', 'THFT/SWITCH PRICE/<300/PRECONV', 'UNLAWFUL POSS CREDIT/DEBIT CARD', 'UNLAWFUL POSS/DRIVER/VEH/STOLEN', 'UNLAWFUL POSS>3VEH/PARTS/STOLEN', 'USE FORGED CREDIT/DEBIT CARD/>$300', 'VEHICLE THEFT CONSPIRACY', 'FORGE REGISTRATION, ETC', 'ID THEFT/USE ID/COMMIT FELONY', 'IDENTITY THEFT $2,000<$10,000', 'THEFT/FALSE REP/<$300/PRECONV', 'USE OF ACCT NUMBER/CODE/>$150', 'AID/ABET CONCEAL/MISREP VEHICLE', 'RETAIL THEFT/EMERGENCY EXIT/<$300', 'HOME REPAIR FRAUD/CONTRACT >$1,000', 'THFT/LES RTN PROP/<300/PRECONV', 'USE OF ACCT NUMBER/CODE/<$150', 'CRIM DAMAGE PROP>$100,000', 'RET THEFT/MOTOR FUEL/<$150/PREV CONV', 'UNLAWFUL USE ID CARD/THEFT', 'ATT RECEIVE/POSS/SELL STOLEN VEH', 'ATTEMPT AGG ARSON', 'ATTEMPT ARSON', 'ATTEMPT ARSON >$150', 'ATTEMPT BURGLARY', 'ATTEMPT BURGLARY/SCHOOL/PLACE WORSHIP', 'ATTEMPT POSS STOLEN TITLE/CERTIF/PLATE', 'ATTEMPT POSS STOLEN VEHICLE > $25,000', 'ATTEMPT RESIDENTIAL ARSON', 'ATTEMPT RESIDENTIAL BURGLARY', 'ATTEMPT THEFT >$10,000-$100,000', 'CONSP RESIDENTIAL BURGLARY', 'ATTEMPT AID/ABET CONCEAL/MISREP VEHICLE']\n",
    "weapon_list = ['AGG POSS/11-20 STOLEN FIREARMS', 'AGG POSS/2-5 STOLEN FIREARMS', 'AGG UNLAWFUL USE OF WEAPON/VEH', 'AGG UNLAWFUL USE WEAPON/VEH/2ND', 'AGG UUW/ON PERSON', 'AGG UUW/PERS/FIR LOADED/FOID', 'AGG UUW/PERSON/PREV CONVICTION', 'AGG UUW/VEH/PREV CONVICTION', 'ARMED HABITUAL CRIMINAL', 'FIREARM/AMMO ACT-POSS WO/ID CARD', 'FIREARM/FOID INVALID/NO ELIG', 'GUNRUNNING', 'POSS EXPLOSIVE/INCENDIARY DEVICE', 'POSS FIREARM W/ DEFACED SER NO', 'POSS FIREARM/FOID NO ISSUE/NO ELIG', 'POSS FIREARM/LAND/GANG MEMBER', 'POSS OF FIREARM BY GANG MEMBER', 'POSSESSION OF STOLEN FIREARM', 'UNLAWFUL POSS HANDGUN/DEL/<21', 'UUW-FELON POSS WEAPON/BODY ARMOR', 'UUW-FELON POSS/USE FIREARM PRIOR', 'UUW-FELON POSS/USE FIREARM/PAROLE', 'UUW-FELON POSS/USE WEAPON/FIREARM', 'UUW/CARRY/POSS FIREARM/SCHOOL', 'UUW/MACHINE GUN/AUTO WEAPON/VEH', 'UUW/RIFLE <16 IN/SHOTGUN <18', 'UUW/CARRY/POSS FIREARM/2ND+', 'AGG UUW/PERSON/LOADED FIREARM/2+', 'UUW/CARRY/POSS FIREARM/1ST', 'ATT AGG POSS/31+ STOLEN FIREARMS', 'ATT FELON POSS/USE WEAP/BODY ARMOR', 'ATTEMPT AGG UUW W/ BODY ARMOR/PRIVATE', 'ATTEMPT UUW/FELON POSS/USE FIREARM/PAROLE', 'ATT POSS FIREARM/VEHICLE/GANG MEMBER', 'ATTEMPT POSSESSION OF STOLEN FIREARM']\n",
    "vehicle_list = ['AGG DUI', 'AGG DUI - SCHOOL BUS DRIVER', 'AGG DUI / 5TH DUI', 'AGG DUI / NO VALID INSURANCE', 'AGG DUI LIC SUSP OR REVOKED', 'AGG DUI/ 4TH /BAC 0.16+', 'AGG DUI/3', 'AGG DUI/3/BAC .16+', 'AGG DUI/3/PASS <16', 'AGG DUI/3RD/LIC SUSP OR REV', 'AGG DUI/3RD+', 'AGG DUI/4', 'AGG DUI/4TH/LIC SUSP OR REVOKED', 'AGG DUI/5/BAC 0.16>', 'AGG DUI/6+', 'AGG DUI/6+/BAC 0.16+', 'AGG DUI/DO DRIVER LICENSE', 'AGG DUI/LIC SUSP OR REVOKED', 'AGG DUI/NO VALID DL', 'AGG DUI/NO VALID INS', 'AGGRAVATED DUI/3RD+ DUI', 'DUI/3RD/BAC 0.16+', 'DUI/4TH+/LIC SUSP OR REVOKE', 'DUI/6TH', 'AGG DUI NO VALID DRIVERS LICENSE', 'AGG DUI/3RD+ DUI', 'DRIV LIC REVOKED/RECK HOMIC/2', 'DRIVE REVOKED/RECK HOMIC', 'DRIVE REVOKED/RECKL HOMIC/3', 'DRIVE W REVOKED/RECK HOMIC/4+', 'DRIVING RVK/SUSP DUI/SSS 4-9', 'DRIVING W/ REVOKE/SUSPEND LICENSE 2ND+', 'DRIVING W/ SUSPEND/REVOKE LICENSE 10-14', 'DRIVING W/ SUSPEND/REVOKE LICENSE 15+', 'DRIVING W/ SUSPEND/REVOKE LICENSE 2ND', 'DRIVING W/ SUSPEND/REVOKE LICENSE 3RD', 'DRIVING W/ SUSPEND/REVOKE LICENSE 4-9', 'REVOKED/SUSPENDED 2ND DUI']\n",
    "registry_list = ['VIOLENT OFF/YOUTH FAIL REGIS NEW RESID/SCHOOL', 'VIOLENT OFF/YOUTH FAIL REGIS/FAIL TO REPORT', 'VIOLENT OFF/YOUTH FAIL REGISTER IN ILLINOIS', 'VIOLENT OFF/YOUTH FAIL REGIS IN ILLINOIS 2+', 'CHIL SEX OFFEN/RESIDE SAY CARE', 'CHILD SEX OFFENDER/PUBLIC PARK', 'CHILD SEX OFFENDER/RESIDE 500FT', 'FAIL REGIS/NEW REDIS/SCH/2ND+', 'FAIL TO REPORT ANNUALLY/2+', 'SEX OFF FAIL REGISTER NEW RESIDENCE', 'SEX OFF FAIL REPORT CHANGE ADDR/EMPL', 'SEX OFF FAIL REPORT CHANGE ADDRESS/EMPLOY', 'SEX OFF FAIL TO REPORT ANNUALLY', 'SEX OFF FAIL TO REPORT WEEKLY/2ND', 'SEX OFFENDER AT PUBLIC PARK', 'SEX OFFENDER GIVE FALSE INFO/2ND', 'SEX OFFENDER REGIS VIOLATION', 'SEX OFFENDER REGIS/FALSE INFO', 'SEX VIOL/DANGEROUS FAIL TO RPT', 'PHOTO/DIGITAL IMAGE OF CHILD BY SEX OFFENDER', 'ATT SEX OFF FAIL REPORT/NO ADDR/2', 'ATT VIOL SEX OFFENDER REGIS ACT']\n",
    "other_list = ['AGG FLEEING POLICE/21 MPH OVER', 'AGG FLEEING POLICE/2ND', 'AGG FLEEING/2+ CON DVC/2ND', 'AGG FLEEING/2+ DISOBEY TRAFFIC DEVICES', 'AGG FLEEING/21 MPH OVER/2ND', 'AGG FLEEING/DAMAGE >$300 PROPERTY', 'BRIBERY/OFFER BRIBE', 'BRING CANNABIS IN A PENAL INST', 'BRING CON SUBSTANCE PENAL INST', 'BRING TOOL IN A PENAL INSTITUTION', 'BRING/POSS CONTRAB IN PENAL INST', 'CAUSE/BRG CON SUB PENAL INST', 'CONCEAL HOMICIDAL DEATH', 'CONCEAL/AID FUGITIVE', 'CONSP AGAINST CIVIL RIGHTS', 'DISARM PC OFF/CORR INST EMP', 'DISARMING A PEACE OFFICER', 'ESCAPE FROM DEPT OF CORRECTION', 'ESCAPE OF FELON FROM PENAL INST', 'ESCAPE/VIOLATE ELEC MONITORING', 'FAIL REPORT ACCIDENT/DEATH/INJURY', 'FAILURE REPORT ACCIDENT/DEATH', 'FAILURE REPORT ACCIDENT/INJURY', 'FALSE ALARM/COMPLAINT TO 911', 'FALSE PERSONATION OF POLICE', 'FALSE REPORT OF OFFENSE', 'FELON ESCAPE/PEACE OFFICER', 'FELON FAIL TO RETURN FROM FURLOUGH', 'FELON PROBATIONER ESCAPE OFF', 'FLEEING/ATTEMPT ELUDE OFF 3+', 'INDIRECT CRIMINAL CONTEMPT', 'MANUF/POSS ADULTERANTS DRUG TEST', 'MONEY LAUNDERING >$500,000', 'OBSTRUCT JUST/DESTROY EVIDENCE', 'OBSTRUCTING JUSTICE', 'POSS CONTROL SUBST PENAL INST', 'POSS CONTROL SUBSTANCE IN PENAL INST', 'POSS FRAUDULENT ID CARD', 'POSS/FRAUD/DL/PERMIT', 'POSSESS CANNIBIS PENAL INST', 'POSSESS ELEC CONTRABAND PENAL INST', 'POSSESS WEAPON IN PENAL INST', 'RESIST/OBSTRUC OFFICER/INJURY', 'RICO ACQUIRE ENTERPRISE', 'RICO CONSPIRACY TO VIOLATE', 'TERRORISM/FALSE THREAT', 'THREATEN PUBLIC OFFICIAL', 'THREATEN PUBLIC OFFICIAL/2ND', 'UUW-FELON POSS WEAPON IN PRISON', 'VENDOR FRAUD/KICKBACKS VIOL', 'CRIM DAMAGE/GOVT PROP/EXPL/<$500', 'CRIM DMG/GOVT PROP/<$500', 'CRIM DMG/GOVT PROP/>$500-$10K', 'RESIST/OBSTRUCT OFFICER/INJURY', 'UUW-FELON POSS/USE WEAP/PRISON', 'CRIM DAMAGE/STATE PROP/FIRE>$100,000', 'POSS/DISP ID CARD TO ANOTHER', 'ATT FOIL/DEFEAT SCREEN TEST', 'ATTEMPT ESCAPE FELON FROM PENAL INST', 'AGGRAVATED CRUELTY TO ANIMALS', 'ANIMAL TORTURE/2ND', 'CRUELTY TO ANIMALS/2ND', 'DOG FIGHTING/ATTEND SHOW']\n",
    "\n",
    "df.loc[df['Holding Offense'].isin(inj_death_list), 'Holding Offense Cat'] = 'Person - Death/Physical Injury'\n",
    "df.loc[df['Holding Offense'].isin(inj_death_unclear_list), 'Holding Offense Cat'] = 'Person - Death/Physical Injury Unclear'\n",
    "df.loc[df['Holding Offense'].isin(sex_list), 'Holding Offense Cat'] = 'Sex'\n",
    "df.loc[df['Holding Offense'].isin(drugs_list), 'Holding Offense Cat'] = 'Drugs'\n",
    "df.loc[df['Holding Offense'].isin(property_list), 'Holding Offense Cat'] = 'Property'\n",
    "df.loc[df['Holding Offense'].isin(weapon_list), 'Holding Offense Cat'] = 'Firearms/Weapon'\n",
    "df.loc[df['Holding Offense'].isin(vehicle_list), 'Holding Offense Cat'] = 'DUI/Vehicle Violation Without Death/Physical Injury'\n",
    "df.loc[df['Holding Offense'].isin(registry_list), 'Holding Offense Cat'] = 'Sex Offender/MVOAY Registry Violation'\n",
    "df.loc[df['Holding Offense'].isin(other_list), 'Holding Offense Cat'] = 'State/Other'\n",
    "\n",
    "\n",
    "# categorize unlisted offenses based on \"like\" criteria\n",
    "# ----- these won't be 100% accurately categorized, but it should be close -----\n",
    "offense_cat_dict = {'SEX OFF': 'Sex Offender/MVOAY Registry Violation',\n",
    "                    'SEX': 'Sex',\n",
    "                    'INDEC': 'Sex',\n",
    "                    'MURDER': 'Person - Death/Physical Injury',\n",
    "                    'HOMIC': 'Person - Death/Physical Injury',\n",
    "                    'HARM': 'Person - Death/Physical Injury',\n",
    "                    'PORN': 'Sex',\n",
    "                    'DUI': 'DUI/Vehicle Violation Without Death/Physical Injury',\n",
    "                    'ASSAULT': 'Person - Death/Physical Injury Unclear',\n",
    "                    'BATTERY': 'Person - Death/Physical Injury Unclear',\n",
    "                    'DISCH': 'Firearms/Weapon',\n",
    "                    'FIREA': 'Firearms/Weapon',\n",
    "                    'THEFT': 'Property',\n",
    "                    'STOLE': 'Property',\n",
    "                    'METH': 'Drugs',\n",
    "                    'KINAP': 'Person - Death/Physical Injury Unclear',\n",
    "                    'ROBB': 'Property',\n",
    "                    'WEAP': 'Firearms/Weapon',\n",
    "                    'GUN': 'Firearms/Weapon',\n",
    "                    'POSS': 'Drugs',   # this one especially contains non-drug offenses\n",
    "                    'ARSON': 'Property',\n",
    "                    'ABD': 'Person - Death/Physical Injury Unclear',\n",
    "                    'DEL': 'Drugs',\n",
    "                    'MANS': 'Person - Death/Physical Injury',\n",
    "                    'MAN': 'Drugs',\n",
    "                    'ENDANGER': 'Person - Death/Physical Injury Unclear',\n",
    "                    'CANNA': 'Drugs',\n",
    "                    'PROP': 'Property',\n",
    "                    'DRUG': 'Drugs'\n",
    "                    }\n",
    "\n",
    "# for each key word, label all holding offenses that contain that key word\n",
    "for key, val in offense_cat_dict.items():    \n",
    "    df.loc[(df['Holding Offense'].str.contains(key)) & (pd.isnull(df['Holding Offense Cat'])), 'Holding Offense Cat'] = val\n",
    "\n",
    "    \n",
    "# label those that are still uncategorized as other\n",
    "df.loc[pd.isnull(df['Holding Offense Cat']), 'Holding Offense Cat'] = 'State/Other'\n",
    "\n",
    "\n",
    "if len(df) != len1:\n",
    "    print('ERROR: categorizing offenses changed the df length')\n",
    "    1/0\n",
    "    \n",
    "print(df['Holding Offense Cat'].value_counts(dropna=False))\n",
    "\n"
   ]
  },
  {
   "cell_type": "code",
   "execution_count": 42,
   "id": "fae636d5",
   "metadata": {
    "scrolled": true
   },
   "outputs": [
    {
     "name": "stdout",
     "output_type": "stream",
     "text": [
      "                                  Holding Offense Cat     Offense Type  Count\n",
      "0   DUI/Vehicle Violation Without Death/Physical I...      Drug Crimes    839\n",
      "1   DUI/Vehicle Violation Without Death/Physical I...  Property Crimes    374\n",
      "2                                               Drugs      Drug Crimes   5509\n",
      "3                                               Drugs     Other Crimes      1\n",
      "4                                               Drugs    Person Crimes      3\n",
      "5                                               Drugs  Property Crimes     17\n",
      "6                                     Firearms/Weapon     Other Crimes      2\n",
      "7                                     Firearms/Weapon    Person Crimes   5168\n",
      "8                                     Firearms/Weapon  Property Crimes      3\n",
      "9                      Person - Death/Physical Injury      Drug Crimes    195\n",
      "10                     Person - Death/Physical Injury    Person Crimes   9614\n",
      "11                     Person - Death/Physical Injury  Property Crimes    219\n",
      "12             Person - Death/Physical Injury Unclear     Other Crimes      6\n",
      "13             Person - Death/Physical Injury Unclear    Person Crimes   9126\n",
      "14             Person - Death/Physical Injury Unclear  Property Crimes    167\n",
      "15                                           Property     Other Crimes     19\n",
      "16                                           Property    Person Crimes     80\n",
      "17                                           Property  Property Crimes   4405\n",
      "18                                                Sex    Person Crimes      7\n",
      "19                                                Sex       Sex Crimes   5821\n",
      "20              Sex Offender/MVOAY Registry Violation     Other Crimes     13\n",
      "21              Sex Offender/MVOAY Registry Violation       Sex Crimes    686\n",
      "22                                        State/Other      Drug Crimes      8\n",
      "23                                        State/Other     Other Crimes    351\n",
      "24                                        State/Other    Person Crimes    600\n",
      "25                                        State/Other  Property Crimes    152\n",
      "26                                        State/Other       Sex Crimes     12\n"
     ]
    },
    {
     "data": {
      "application/vnd.plotly.v1+json": {
       "config": {
        "plotlyServerURL": "https://plot.ly"
       },
       "data": [
        {
         "link": {
          "color": [
           "rgba(31, 119, 180, 0.5)",
           "rgba(174, 199, 232, 0.5)",
           "rgba(44, 160, 44, 0.5)",
           "rgba(227, 119, 194, 0.5)",
           "rgba(31, 119, 180, 0.5)",
           "rgba(174, 199, 232, 0.5)",
           "rgba(255, 187, 120, 0.5)",
           "rgba(44, 160, 44, 0.5)",
           "rgba(214, 39, 40, 0.5)",
           "rgba(255, 152, 150, 0.5)",
           "rgba(227, 119, 194, 0.5)",
           "rgba(174, 199, 232, 0.5)",
           "rgba(255, 187, 120, 0.5)",
           "rgba(214, 39, 40, 0.5)",
           "rgba(255, 152, 150, 0.5)",
           "rgba(140, 86, 75, 0.5)",
           "rgba(227, 119, 194, 0.5)",
           "rgba(174, 199, 232, 0.5)",
           "rgba(255, 187, 120, 0.5)",
           "rgba(44, 160, 44, 0.5)",
           "rgba(214, 39, 40, 0.5)",
           "rgba(255, 152, 150, 0.5)",
           "rgba(197, 176, 213, 0.5)",
           "rgba(227, 119, 194, 0.5)",
           "rgba(197, 176, 213, 0.5)",
           "rgba(140, 86, 75, 0.5)",
           "rgba(227, 119, 194, 0.5)"
          ],
          "source": [
           0,
           1,
           3,
           8,
           0,
           1,
           2,
           3,
           4,
           5,
           8,
           1,
           2,
           4,
           5,
           7,
           8,
           1,
           2,
           3,
           4,
           5,
           6,
           8,
           6,
           7,
           8
          ],
          "target": [
           9,
           9,
           9,
           9,
           10,
           10,
           10,
           10,
           10,
           10,
           10,
           11,
           11,
           11,
           11,
           11,
           11,
           12,
           12,
           12,
           12,
           12,
           12,
           12,
           13,
           13,
           13
          ],
          "value": [
           839,
           5509,
           195,
           8,
           374,
           17,
           3,
           219,
           167,
           4405,
           152,
           1,
           2,
           6,
           19,
           13,
           351,
           3,
           5168,
           9614,
           9126,
           80,
           7,
           600,
           5821,
           686,
           12
          ]
         },
         "node": {
          "color": [
           "#1f77b4",
           "#aec7e8",
           "#ffbb78",
           "#2ca02c",
           "#d62728",
           "#ff9896",
           "#c5b0d5",
           "#8c564b",
           "#e377c2",
           "#f7b6d2",
           "#c7c7c7",
           "#bcbd22",
           "#17becf",
           "#9edae5"
          ],
          "label": [
           "DUI/Vehicle Violation Without Death/Physical Injury",
           "Drugs",
           "Firearms/Weapon",
           "Person - Death/Physical Injury",
           "Person - Death/Physical Injury Unclear",
           "Property",
           "Sex",
           "Sex Offender/MVOAY Registry Violation",
           "State/Other",
           "Drug Crimes",
           "Property Crimes",
           "Other Crimes",
           "Person Crimes",
           "Sex Crimes"
          ],
          "line": {
           "color": "black",
           "width": 0
          },
          "pad": 20,
          "thickness": 30
         },
         "type": "sankey"
        }
       ],
       "layout": {
        "font": {
         "size": 12
        },
        "height": 1000,
        "template": {
         "data": {
          "bar": [
           {
            "error_x": {
             "color": "#2a3f5f"
            },
            "error_y": {
             "color": "#2a3f5f"
            },
            "marker": {
             "line": {
              "color": "#E5ECF6",
              "width": 0.5
             },
             "pattern": {
              "fillmode": "overlay",
              "size": 10,
              "solidity": 0.2
             }
            },
            "type": "bar"
           }
          ],
          "barpolar": [
           {
            "marker": {
             "line": {
              "color": "#E5ECF6",
              "width": 0.5
             },
             "pattern": {
              "fillmode": "overlay",
              "size": 10,
              "solidity": 0.2
             }
            },
            "type": "barpolar"
           }
          ],
          "carpet": [
           {
            "aaxis": {
             "endlinecolor": "#2a3f5f",
             "gridcolor": "white",
             "linecolor": "white",
             "minorgridcolor": "white",
             "startlinecolor": "#2a3f5f"
            },
            "baxis": {
             "endlinecolor": "#2a3f5f",
             "gridcolor": "white",
             "linecolor": "white",
             "minorgridcolor": "white",
             "startlinecolor": "#2a3f5f"
            },
            "type": "carpet"
           }
          ],
          "choropleth": [
           {
            "colorbar": {
             "outlinewidth": 0,
             "ticks": ""
            },
            "type": "choropleth"
           }
          ],
          "contour": [
           {
            "colorbar": {
             "outlinewidth": 0,
             "ticks": ""
            },
            "colorscale": [
             [
              0,
              "#0d0887"
             ],
             [
              0.1111111111111111,
              "#46039f"
             ],
             [
              0.2222222222222222,
              "#7201a8"
             ],
             [
              0.3333333333333333,
              "#9c179e"
             ],
             [
              0.4444444444444444,
              "#bd3786"
             ],
             [
              0.5555555555555556,
              "#d8576b"
             ],
             [
              0.6666666666666666,
              "#ed7953"
             ],
             [
              0.7777777777777778,
              "#fb9f3a"
             ],
             [
              0.8888888888888888,
              "#fdca26"
             ],
             [
              1,
              "#f0f921"
             ]
            ],
            "type": "contour"
           }
          ],
          "contourcarpet": [
           {
            "colorbar": {
             "outlinewidth": 0,
             "ticks": ""
            },
            "type": "contourcarpet"
           }
          ],
          "heatmap": [
           {
            "colorbar": {
             "outlinewidth": 0,
             "ticks": ""
            },
            "colorscale": [
             [
              0,
              "#0d0887"
             ],
             [
              0.1111111111111111,
              "#46039f"
             ],
             [
              0.2222222222222222,
              "#7201a8"
             ],
             [
              0.3333333333333333,
              "#9c179e"
             ],
             [
              0.4444444444444444,
              "#bd3786"
             ],
             [
              0.5555555555555556,
              "#d8576b"
             ],
             [
              0.6666666666666666,
              "#ed7953"
             ],
             [
              0.7777777777777778,
              "#fb9f3a"
             ],
             [
              0.8888888888888888,
              "#fdca26"
             ],
             [
              1,
              "#f0f921"
             ]
            ],
            "type": "heatmap"
           }
          ],
          "heatmapgl": [
           {
            "colorbar": {
             "outlinewidth": 0,
             "ticks": ""
            },
            "colorscale": [
             [
              0,
              "#0d0887"
             ],
             [
              0.1111111111111111,
              "#46039f"
             ],
             [
              0.2222222222222222,
              "#7201a8"
             ],
             [
              0.3333333333333333,
              "#9c179e"
             ],
             [
              0.4444444444444444,
              "#bd3786"
             ],
             [
              0.5555555555555556,
              "#d8576b"
             ],
             [
              0.6666666666666666,
              "#ed7953"
             ],
             [
              0.7777777777777778,
              "#fb9f3a"
             ],
             [
              0.8888888888888888,
              "#fdca26"
             ],
             [
              1,
              "#f0f921"
             ]
            ],
            "type": "heatmapgl"
           }
          ],
          "histogram": [
           {
            "marker": {
             "pattern": {
              "fillmode": "overlay",
              "size": 10,
              "solidity": 0.2
             }
            },
            "type": "histogram"
           }
          ],
          "histogram2d": [
           {
            "colorbar": {
             "outlinewidth": 0,
             "ticks": ""
            },
            "colorscale": [
             [
              0,
              "#0d0887"
             ],
             [
              0.1111111111111111,
              "#46039f"
             ],
             [
              0.2222222222222222,
              "#7201a8"
             ],
             [
              0.3333333333333333,
              "#9c179e"
             ],
             [
              0.4444444444444444,
              "#bd3786"
             ],
             [
              0.5555555555555556,
              "#d8576b"
             ],
             [
              0.6666666666666666,
              "#ed7953"
             ],
             [
              0.7777777777777778,
              "#fb9f3a"
             ],
             [
              0.8888888888888888,
              "#fdca26"
             ],
             [
              1,
              "#f0f921"
             ]
            ],
            "type": "histogram2d"
           }
          ],
          "histogram2dcontour": [
           {
            "colorbar": {
             "outlinewidth": 0,
             "ticks": ""
            },
            "colorscale": [
             [
              0,
              "#0d0887"
             ],
             [
              0.1111111111111111,
              "#46039f"
             ],
             [
              0.2222222222222222,
              "#7201a8"
             ],
             [
              0.3333333333333333,
              "#9c179e"
             ],
             [
              0.4444444444444444,
              "#bd3786"
             ],
             [
              0.5555555555555556,
              "#d8576b"
             ],
             [
              0.6666666666666666,
              "#ed7953"
             ],
             [
              0.7777777777777778,
              "#fb9f3a"
             ],
             [
              0.8888888888888888,
              "#fdca26"
             ],
             [
              1,
              "#f0f921"
             ]
            ],
            "type": "histogram2dcontour"
           }
          ],
          "mesh3d": [
           {
            "colorbar": {
             "outlinewidth": 0,
             "ticks": ""
            },
            "type": "mesh3d"
           }
          ],
          "parcoords": [
           {
            "line": {
             "colorbar": {
              "outlinewidth": 0,
              "ticks": ""
             }
            },
            "type": "parcoords"
           }
          ],
          "pie": [
           {
            "automargin": true,
            "type": "pie"
           }
          ],
          "scatter": [
           {
            "marker": {
             "colorbar": {
              "outlinewidth": 0,
              "ticks": ""
             }
            },
            "type": "scatter"
           }
          ],
          "scatter3d": [
           {
            "line": {
             "colorbar": {
              "outlinewidth": 0,
              "ticks": ""
             }
            },
            "marker": {
             "colorbar": {
              "outlinewidth": 0,
              "ticks": ""
             }
            },
            "type": "scatter3d"
           }
          ],
          "scattercarpet": [
           {
            "marker": {
             "colorbar": {
              "outlinewidth": 0,
              "ticks": ""
             }
            },
            "type": "scattercarpet"
           }
          ],
          "scattergeo": [
           {
            "marker": {
             "colorbar": {
              "outlinewidth": 0,
              "ticks": ""
             }
            },
            "type": "scattergeo"
           }
          ],
          "scattergl": [
           {
            "marker": {
             "colorbar": {
              "outlinewidth": 0,
              "ticks": ""
             }
            },
            "type": "scattergl"
           }
          ],
          "scattermapbox": [
           {
            "marker": {
             "colorbar": {
              "outlinewidth": 0,
              "ticks": ""
             }
            },
            "type": "scattermapbox"
           }
          ],
          "scatterpolar": [
           {
            "marker": {
             "colorbar": {
              "outlinewidth": 0,
              "ticks": ""
             }
            },
            "type": "scatterpolar"
           }
          ],
          "scatterpolargl": [
           {
            "marker": {
             "colorbar": {
              "outlinewidth": 0,
              "ticks": ""
             }
            },
            "type": "scatterpolargl"
           }
          ],
          "scatterternary": [
           {
            "marker": {
             "colorbar": {
              "outlinewidth": 0,
              "ticks": ""
             }
            },
            "type": "scatterternary"
           }
          ],
          "surface": [
           {
            "colorbar": {
             "outlinewidth": 0,
             "ticks": ""
            },
            "colorscale": [
             [
              0,
              "#0d0887"
             ],
             [
              0.1111111111111111,
              "#46039f"
             ],
             [
              0.2222222222222222,
              "#7201a8"
             ],
             [
              0.3333333333333333,
              "#9c179e"
             ],
             [
              0.4444444444444444,
              "#bd3786"
             ],
             [
              0.5555555555555556,
              "#d8576b"
             ],
             [
              0.6666666666666666,
              "#ed7953"
             ],
             [
              0.7777777777777778,
              "#fb9f3a"
             ],
             [
              0.8888888888888888,
              "#fdca26"
             ],
             [
              1,
              "#f0f921"
             ]
            ],
            "type": "surface"
           }
          ],
          "table": [
           {
            "cells": {
             "fill": {
              "color": "#EBF0F8"
             },
             "line": {
              "color": "white"
             }
            },
            "header": {
             "fill": {
              "color": "#C8D4E3"
             },
             "line": {
              "color": "white"
             }
            },
            "type": "table"
           }
          ]
         },
         "layout": {
          "annotationdefaults": {
           "arrowcolor": "#2a3f5f",
           "arrowhead": 0,
           "arrowwidth": 1
          },
          "autotypenumbers": "strict",
          "coloraxis": {
           "colorbar": {
            "outlinewidth": 0,
            "ticks": ""
           }
          },
          "colorscale": {
           "diverging": [
            [
             0,
             "#8e0152"
            ],
            [
             0.1,
             "#c51b7d"
            ],
            [
             0.2,
             "#de77ae"
            ],
            [
             0.3,
             "#f1b6da"
            ],
            [
             0.4,
             "#fde0ef"
            ],
            [
             0.5,
             "#f7f7f7"
            ],
            [
             0.6,
             "#e6f5d0"
            ],
            [
             0.7,
             "#b8e186"
            ],
            [
             0.8,
             "#7fbc41"
            ],
            [
             0.9,
             "#4d9221"
            ],
            [
             1,
             "#276419"
            ]
           ],
           "sequential": [
            [
             0,
             "#0d0887"
            ],
            [
             0.1111111111111111,
             "#46039f"
            ],
            [
             0.2222222222222222,
             "#7201a8"
            ],
            [
             0.3333333333333333,
             "#9c179e"
            ],
            [
             0.4444444444444444,
             "#bd3786"
            ],
            [
             0.5555555555555556,
             "#d8576b"
            ],
            [
             0.6666666666666666,
             "#ed7953"
            ],
            [
             0.7777777777777778,
             "#fb9f3a"
            ],
            [
             0.8888888888888888,
             "#fdca26"
            ],
            [
             1,
             "#f0f921"
            ]
           ],
           "sequentialminus": [
            [
             0,
             "#0d0887"
            ],
            [
             0.1111111111111111,
             "#46039f"
            ],
            [
             0.2222222222222222,
             "#7201a8"
            ],
            [
             0.3333333333333333,
             "#9c179e"
            ],
            [
             0.4444444444444444,
             "#bd3786"
            ],
            [
             0.5555555555555556,
             "#d8576b"
            ],
            [
             0.6666666666666666,
             "#ed7953"
            ],
            [
             0.7777777777777778,
             "#fb9f3a"
            ],
            [
             0.8888888888888888,
             "#fdca26"
            ],
            [
             1,
             "#f0f921"
            ]
           ]
          },
          "colorway": [
           "#636efa",
           "#EF553B",
           "#00cc96",
           "#ab63fa",
           "#FFA15A",
           "#19d3f3",
           "#FF6692",
           "#B6E880",
           "#FF97FF",
           "#FECB52"
          ],
          "font": {
           "color": "#2a3f5f"
          },
          "geo": {
           "bgcolor": "white",
           "lakecolor": "white",
           "landcolor": "#E5ECF6",
           "showlakes": true,
           "showland": true,
           "subunitcolor": "white"
          },
          "hoverlabel": {
           "align": "left"
          },
          "hovermode": "closest",
          "mapbox": {
           "style": "light"
          },
          "paper_bgcolor": "white",
          "plot_bgcolor": "#E5ECF6",
          "polar": {
           "angularaxis": {
            "gridcolor": "white",
            "linecolor": "white",
            "ticks": ""
           },
           "bgcolor": "#E5ECF6",
           "radialaxis": {
            "gridcolor": "white",
            "linecolor": "white",
            "ticks": ""
           }
          },
          "scene": {
           "xaxis": {
            "backgroundcolor": "#E5ECF6",
            "gridcolor": "white",
            "gridwidth": 2,
            "linecolor": "white",
            "showbackground": true,
            "ticks": "",
            "zerolinecolor": "white"
           },
           "yaxis": {
            "backgroundcolor": "#E5ECF6",
            "gridcolor": "white",
            "gridwidth": 2,
            "linecolor": "white",
            "showbackground": true,
            "ticks": "",
            "zerolinecolor": "white"
           },
           "zaxis": {
            "backgroundcolor": "#E5ECF6",
            "gridcolor": "white",
            "gridwidth": 2,
            "linecolor": "white",
            "showbackground": true,
            "ticks": "",
            "zerolinecolor": "white"
           }
          },
          "shapedefaults": {
           "line": {
            "color": "#2a3f5f"
           }
          },
          "ternary": {
           "aaxis": {
            "gridcolor": "white",
            "linecolor": "white",
            "ticks": ""
           },
           "baxis": {
            "gridcolor": "white",
            "linecolor": "white",
            "ticks": ""
           },
           "bgcolor": "#E5ECF6",
           "caxis": {
            "gridcolor": "white",
            "linecolor": "white",
            "ticks": ""
           }
          },
          "title": {
           "x": 0.05
          },
          "xaxis": {
           "automargin": true,
           "gridcolor": "white",
           "linecolor": "white",
           "ticks": "",
           "title": {
            "standoff": 15
           },
           "zerolinecolor": "white",
           "zerolinewidth": 2
          },
          "yaxis": {
           "automargin": true,
           "gridcolor": "white",
           "linecolor": "white",
           "ticks": "",
           "title": {
            "standoff": 15
           },
           "zerolinecolor": "white",
           "zerolinewidth": 2
          }
         }
        },
        "title": {
         "text": "Difference between Phil's Categories and IDOC Offense Type"
        }
       }
      },
      "text/html": [
       "<div>                            <div id=\"a48688a4-1d87-4bc4-aa26-e29b3486f8bf\" class=\"plotly-graph-div\" style=\"height:1000px; width:100%;\"></div>            <script type=\"text/javascript\">                require([\"plotly\"], function(Plotly) {                    window.PLOTLYENV=window.PLOTLYENV || {};                                    if (document.getElementById(\"a48688a4-1d87-4bc4-aa26-e29b3486f8bf\")) {                    Plotly.newPlot(                        \"a48688a4-1d87-4bc4-aa26-e29b3486f8bf\",                        [{\"link\":{\"color\":[\"rgba(31, 119, 180, 0.5)\",\"rgba(174, 199, 232, 0.5)\",\"rgba(44, 160, 44, 0.5)\",\"rgba(227, 119, 194, 0.5)\",\"rgba(31, 119, 180, 0.5)\",\"rgba(174, 199, 232, 0.5)\",\"rgba(255, 187, 120, 0.5)\",\"rgba(44, 160, 44, 0.5)\",\"rgba(214, 39, 40, 0.5)\",\"rgba(255, 152, 150, 0.5)\",\"rgba(227, 119, 194, 0.5)\",\"rgba(174, 199, 232, 0.5)\",\"rgba(255, 187, 120, 0.5)\",\"rgba(214, 39, 40, 0.5)\",\"rgba(255, 152, 150, 0.5)\",\"rgba(140, 86, 75, 0.5)\",\"rgba(227, 119, 194, 0.5)\",\"rgba(174, 199, 232, 0.5)\",\"rgba(255, 187, 120, 0.5)\",\"rgba(44, 160, 44, 0.5)\",\"rgba(214, 39, 40, 0.5)\",\"rgba(255, 152, 150, 0.5)\",\"rgba(197, 176, 213, 0.5)\",\"rgba(227, 119, 194, 0.5)\",\"rgba(197, 176, 213, 0.5)\",\"rgba(140, 86, 75, 0.5)\",\"rgba(227, 119, 194, 0.5)\"],\"source\":[0,1,3,8,0,1,2,3,4,5,8,1,2,4,5,7,8,1,2,3,4,5,6,8,6,7,8],\"target\":[9,9,9,9,10,10,10,10,10,10,10,11,11,11,11,11,11,12,12,12,12,12,12,12,13,13,13],\"value\":[839,5509,195,8,374,17,3,219,167,4405,152,1,2,6,19,13,351,3,5168,9614,9126,80,7,600,5821,686,12]},\"node\":{\"color\":[\"#1f77b4\",\"#aec7e8\",\"#ffbb78\",\"#2ca02c\",\"#d62728\",\"#ff9896\",\"#c5b0d5\",\"#8c564b\",\"#e377c2\",\"#f7b6d2\",\"#c7c7c7\",\"#bcbd22\",\"#17becf\",\"#9edae5\"],\"label\":[\"DUI/Vehicle Violation Without Death/Physical Injury\",\"Drugs\",\"Firearms/Weapon\",\"Person - Death/Physical Injury\",\"Person - Death/Physical Injury Unclear\",\"Property\",\"Sex\",\"Sex Offender/MVOAY Registry Violation\",\"State/Other\",\"Drug Crimes\",\"Property Crimes\",\"Other Crimes\",\"Person Crimes\",\"Sex Crimes\"],\"line\":{\"color\":\"black\",\"width\":0},\"pad\":20,\"thickness\":30},\"type\":\"sankey\"}],                        {\"template\":{\"data\":{\"bar\":[{\"error_x\":{\"color\":\"#2a3f5f\"},\"error_y\":{\"color\":\"#2a3f5f\"},\"marker\":{\"line\":{\"color\":\"#E5ECF6\",\"width\":0.5},\"pattern\":{\"fillmode\":\"overlay\",\"size\":10,\"solidity\":0.2}},\"type\":\"bar\"}],\"barpolar\":[{\"marker\":{\"line\":{\"color\":\"#E5ECF6\",\"width\":0.5},\"pattern\":{\"fillmode\":\"overlay\",\"size\":10,\"solidity\":0.2}},\"type\":\"barpolar\"}],\"carpet\":[{\"aaxis\":{\"endlinecolor\":\"#2a3f5f\",\"gridcolor\":\"white\",\"linecolor\":\"white\",\"minorgridcolor\":\"white\",\"startlinecolor\":\"#2a3f5f\"},\"baxis\":{\"endlinecolor\":\"#2a3f5f\",\"gridcolor\":\"white\",\"linecolor\":\"white\",\"minorgridcolor\":\"white\",\"startlinecolor\":\"#2a3f5f\"},\"type\":\"carpet\"}],\"choropleth\":[{\"colorbar\":{\"outlinewidth\":0,\"ticks\":\"\"},\"type\":\"choropleth\"}],\"contour\":[{\"colorbar\":{\"outlinewidth\":0,\"ticks\":\"\"},\"colorscale\":[[0.0,\"#0d0887\"],[0.1111111111111111,\"#46039f\"],[0.2222222222222222,\"#7201a8\"],[0.3333333333333333,\"#9c179e\"],[0.4444444444444444,\"#bd3786\"],[0.5555555555555556,\"#d8576b\"],[0.6666666666666666,\"#ed7953\"],[0.7777777777777778,\"#fb9f3a\"],[0.8888888888888888,\"#fdca26\"],[1.0,\"#f0f921\"]],\"type\":\"contour\"}],\"contourcarpet\":[{\"colorbar\":{\"outlinewidth\":0,\"ticks\":\"\"},\"type\":\"contourcarpet\"}],\"heatmap\":[{\"colorbar\":{\"outlinewidth\":0,\"ticks\":\"\"},\"colorscale\":[[0.0,\"#0d0887\"],[0.1111111111111111,\"#46039f\"],[0.2222222222222222,\"#7201a8\"],[0.3333333333333333,\"#9c179e\"],[0.4444444444444444,\"#bd3786\"],[0.5555555555555556,\"#d8576b\"],[0.6666666666666666,\"#ed7953\"],[0.7777777777777778,\"#fb9f3a\"],[0.8888888888888888,\"#fdca26\"],[1.0,\"#f0f921\"]],\"type\":\"heatmap\"}],\"heatmapgl\":[{\"colorbar\":{\"outlinewidth\":0,\"ticks\":\"\"},\"colorscale\":[[0.0,\"#0d0887\"],[0.1111111111111111,\"#46039f\"],[0.2222222222222222,\"#7201a8\"],[0.3333333333333333,\"#9c179e\"],[0.4444444444444444,\"#bd3786\"],[0.5555555555555556,\"#d8576b\"],[0.6666666666666666,\"#ed7953\"],[0.7777777777777778,\"#fb9f3a\"],[0.8888888888888888,\"#fdca26\"],[1.0,\"#f0f921\"]],\"type\":\"heatmapgl\"}],\"histogram\":[{\"marker\":{\"pattern\":{\"fillmode\":\"overlay\",\"size\":10,\"solidity\":0.2}},\"type\":\"histogram\"}],\"histogram2d\":[{\"colorbar\":{\"outlinewidth\":0,\"ticks\":\"\"},\"colorscale\":[[0.0,\"#0d0887\"],[0.1111111111111111,\"#46039f\"],[0.2222222222222222,\"#7201a8\"],[0.3333333333333333,\"#9c179e\"],[0.4444444444444444,\"#bd3786\"],[0.5555555555555556,\"#d8576b\"],[0.6666666666666666,\"#ed7953\"],[0.7777777777777778,\"#fb9f3a\"],[0.8888888888888888,\"#fdca26\"],[1.0,\"#f0f921\"]],\"type\":\"histogram2d\"}],\"histogram2dcontour\":[{\"colorbar\":{\"outlinewidth\":0,\"ticks\":\"\"},\"colorscale\":[[0.0,\"#0d0887\"],[0.1111111111111111,\"#46039f\"],[0.2222222222222222,\"#7201a8\"],[0.3333333333333333,\"#9c179e\"],[0.4444444444444444,\"#bd3786\"],[0.5555555555555556,\"#d8576b\"],[0.6666666666666666,\"#ed7953\"],[0.7777777777777778,\"#fb9f3a\"],[0.8888888888888888,\"#fdca26\"],[1.0,\"#f0f921\"]],\"type\":\"histogram2dcontour\"}],\"mesh3d\":[{\"colorbar\":{\"outlinewidth\":0,\"ticks\":\"\"},\"type\":\"mesh3d\"}],\"parcoords\":[{\"line\":{\"colorbar\":{\"outlinewidth\":0,\"ticks\":\"\"}},\"type\":\"parcoords\"}],\"pie\":[{\"automargin\":true,\"type\":\"pie\"}],\"scatter\":[{\"marker\":{\"colorbar\":{\"outlinewidth\":0,\"ticks\":\"\"}},\"type\":\"scatter\"}],\"scatter3d\":[{\"line\":{\"colorbar\":{\"outlinewidth\":0,\"ticks\":\"\"}},\"marker\":{\"colorbar\":{\"outlinewidth\":0,\"ticks\":\"\"}},\"type\":\"scatter3d\"}],\"scattercarpet\":[{\"marker\":{\"colorbar\":{\"outlinewidth\":0,\"ticks\":\"\"}},\"type\":\"scattercarpet\"}],\"scattergeo\":[{\"marker\":{\"colorbar\":{\"outlinewidth\":0,\"ticks\":\"\"}},\"type\":\"scattergeo\"}],\"scattergl\":[{\"marker\":{\"colorbar\":{\"outlinewidth\":0,\"ticks\":\"\"}},\"type\":\"scattergl\"}],\"scattermapbox\":[{\"marker\":{\"colorbar\":{\"outlinewidth\":0,\"ticks\":\"\"}},\"type\":\"scattermapbox\"}],\"scatterpolar\":[{\"marker\":{\"colorbar\":{\"outlinewidth\":0,\"ticks\":\"\"}},\"type\":\"scatterpolar\"}],\"scatterpolargl\":[{\"marker\":{\"colorbar\":{\"outlinewidth\":0,\"ticks\":\"\"}},\"type\":\"scatterpolargl\"}],\"scatterternary\":[{\"marker\":{\"colorbar\":{\"outlinewidth\":0,\"ticks\":\"\"}},\"type\":\"scatterternary\"}],\"surface\":[{\"colorbar\":{\"outlinewidth\":0,\"ticks\":\"\"},\"colorscale\":[[0.0,\"#0d0887\"],[0.1111111111111111,\"#46039f\"],[0.2222222222222222,\"#7201a8\"],[0.3333333333333333,\"#9c179e\"],[0.4444444444444444,\"#bd3786\"],[0.5555555555555556,\"#d8576b\"],[0.6666666666666666,\"#ed7953\"],[0.7777777777777778,\"#fb9f3a\"],[0.8888888888888888,\"#fdca26\"],[1.0,\"#f0f921\"]],\"type\":\"surface\"}],\"table\":[{\"cells\":{\"fill\":{\"color\":\"#EBF0F8\"},\"line\":{\"color\":\"white\"}},\"header\":{\"fill\":{\"color\":\"#C8D4E3\"},\"line\":{\"color\":\"white\"}},\"type\":\"table\"}]},\"layout\":{\"annotationdefaults\":{\"arrowcolor\":\"#2a3f5f\",\"arrowhead\":0,\"arrowwidth\":1},\"autotypenumbers\":\"strict\",\"coloraxis\":{\"colorbar\":{\"outlinewidth\":0,\"ticks\":\"\"}},\"colorscale\":{\"diverging\":[[0,\"#8e0152\"],[0.1,\"#c51b7d\"],[0.2,\"#de77ae\"],[0.3,\"#f1b6da\"],[0.4,\"#fde0ef\"],[0.5,\"#f7f7f7\"],[0.6,\"#e6f5d0\"],[0.7,\"#b8e186\"],[0.8,\"#7fbc41\"],[0.9,\"#4d9221\"],[1,\"#276419\"]],\"sequential\":[[0.0,\"#0d0887\"],[0.1111111111111111,\"#46039f\"],[0.2222222222222222,\"#7201a8\"],[0.3333333333333333,\"#9c179e\"],[0.4444444444444444,\"#bd3786\"],[0.5555555555555556,\"#d8576b\"],[0.6666666666666666,\"#ed7953\"],[0.7777777777777778,\"#fb9f3a\"],[0.8888888888888888,\"#fdca26\"],[1.0,\"#f0f921\"]],\"sequentialminus\":[[0.0,\"#0d0887\"],[0.1111111111111111,\"#46039f\"],[0.2222222222222222,\"#7201a8\"],[0.3333333333333333,\"#9c179e\"],[0.4444444444444444,\"#bd3786\"],[0.5555555555555556,\"#d8576b\"],[0.6666666666666666,\"#ed7953\"],[0.7777777777777778,\"#fb9f3a\"],[0.8888888888888888,\"#fdca26\"],[1.0,\"#f0f921\"]]},\"colorway\":[\"#636efa\",\"#EF553B\",\"#00cc96\",\"#ab63fa\",\"#FFA15A\",\"#19d3f3\",\"#FF6692\",\"#B6E880\",\"#FF97FF\",\"#FECB52\"],\"font\":{\"color\":\"#2a3f5f\"},\"geo\":{\"bgcolor\":\"white\",\"lakecolor\":\"white\",\"landcolor\":\"#E5ECF6\",\"showlakes\":true,\"showland\":true,\"subunitcolor\":\"white\"},\"hoverlabel\":{\"align\":\"left\"},\"hovermode\":\"closest\",\"mapbox\":{\"style\":\"light\"},\"paper_bgcolor\":\"white\",\"plot_bgcolor\":\"#E5ECF6\",\"polar\":{\"angularaxis\":{\"gridcolor\":\"white\",\"linecolor\":\"white\",\"ticks\":\"\"},\"bgcolor\":\"#E5ECF6\",\"radialaxis\":{\"gridcolor\":\"white\",\"linecolor\":\"white\",\"ticks\":\"\"}},\"scene\":{\"xaxis\":{\"backgroundcolor\":\"#E5ECF6\",\"gridcolor\":\"white\",\"gridwidth\":2,\"linecolor\":\"white\",\"showbackground\":true,\"ticks\":\"\",\"zerolinecolor\":\"white\"},\"yaxis\":{\"backgroundcolor\":\"#E5ECF6\",\"gridcolor\":\"white\",\"gridwidth\":2,\"linecolor\":\"white\",\"showbackground\":true,\"ticks\":\"\",\"zerolinecolor\":\"white\"},\"zaxis\":{\"backgroundcolor\":\"#E5ECF6\",\"gridcolor\":\"white\",\"gridwidth\":2,\"linecolor\":\"white\",\"showbackground\":true,\"ticks\":\"\",\"zerolinecolor\":\"white\"}},\"shapedefaults\":{\"line\":{\"color\":\"#2a3f5f\"}},\"ternary\":{\"aaxis\":{\"gridcolor\":\"white\",\"linecolor\":\"white\",\"ticks\":\"\"},\"baxis\":{\"gridcolor\":\"white\",\"linecolor\":\"white\",\"ticks\":\"\"},\"bgcolor\":\"#E5ECF6\",\"caxis\":{\"gridcolor\":\"white\",\"linecolor\":\"white\",\"ticks\":\"\"}},\"title\":{\"x\":0.05},\"xaxis\":{\"automargin\":true,\"gridcolor\":\"white\",\"linecolor\":\"white\",\"ticks\":\"\",\"title\":{\"standoff\":15},\"zerolinecolor\":\"white\",\"zerolinewidth\":2},\"yaxis\":{\"automargin\":true,\"gridcolor\":\"white\",\"linecolor\":\"white\",\"ticks\":\"\",\"title\":{\"standoff\":15},\"zerolinecolor\":\"white\",\"zerolinewidth\":2}}},\"title\":{\"text\":\"Difference between Phil's Categories and IDOC Offense Type\"},\"font\":{\"size\":12},\"height\":1000},                        {\"responsive\": true}                    ).then(function(){\n",
       "                            \n",
       "var gd = document.getElementById('a48688a4-1d87-4bc4-aa26-e29b3486f8bf');\n",
       "var x = new MutationObserver(function (mutations, observer) {{\n",
       "        var display = window.getComputedStyle(gd).display;\n",
       "        if (!display || display === 'none') {{\n",
       "            console.log([gd, 'removed!']);\n",
       "            Plotly.purge(gd);\n",
       "            observer.disconnect();\n",
       "        }}\n",
       "}});\n",
       "\n",
       "// Listen for the removal of the full notebook cells\n",
       "var notebookContainer = gd.closest('#notebook-container');\n",
       "if (notebookContainer) {{\n",
       "    x.observe(notebookContainer, {childList: true});\n",
       "}}\n",
       "\n",
       "// Listen for the clearing of the current output cell\n",
       "var outputEl = gd.closest('.output');\n",
       "if (outputEl) {{\n",
       "    x.observe(outputEl, {childList: true});\n",
       "}}\n",
       "\n",
       "                        })                };                });            </script>        </div>"
      ]
     },
     "metadata": {},
     "output_type": "display_data"
    }
   ],
   "source": [
    "# prep for sankey diagram\n",
    "holding_sankey_df = df[['Holding Offense Cat', 'Offense Type', 'IDOC #', 'Current Admission Date']].drop_duplicates()\n",
    "holding_sankey_df = holding_sankey_df[['Holding Offense Cat', 'Offense Type', 'IDOC #']].groupby(['Holding Offense Cat', 'Offense Type']).count().reset_index().rename(columns={'IDOC #': 'Count'})\n",
    "print(holding_sankey_df)\n",
    "\n",
    "# get the node df - a df dictionary of admission types and indices\n",
    "node_df = pd.concat([holding_sankey_df[['Holding Offense Cat']].rename(columns={'Holding Offense Cat': 'AT'}),\n",
    "                       holding_sankey_df[['Offense Type']].rename(columns={'Offense Type': 'AT'})])\n",
    "node_df = node_df.drop_duplicates().reset_index(drop=True).reset_index().rename(columns={'index': 'ID'})\n",
    "node_df['Color'] = get_hex(len(node_df))\n",
    "\n",
    "# get the links df\n",
    "links_df = pd.merge(holding_sankey_df, \n",
    "                    node_df[['AT', 'ID', 'Color']].rename(columns={'ID': 'Source', 'Color': 'Link Color'}), \n",
    "                    left_on='Holding Offense Cat', right_on='AT', how='inner')\n",
    "links_df = pd.merge(links_df, \n",
    "                    node_df[['AT', 'ID']].rename(columns={'ID': 'Target'}), \n",
    "                    left_on='Offense Type', right_on='AT', how='inner')\n",
    "links_df['Link Color'] = links_df['Link Color'].apply(lambda x: 'rgba' + str(get_rgb_from_hex(x) + (0.5,)))\n",
    "links_df = links_df[['Source', 'Target', 'Link Color', 'Count']]\n",
    "\n",
    "# create the chart\n",
    "fig = go.Figure(data=[go.Sankey(\n",
    "    node = dict(\n",
    "        pad = 20,\n",
    "        thickness = 30,\n",
    "        line = dict(\n",
    "            color = 'black',\n",
    "            width = 0\n",
    "        ),\n",
    "        label = node_df['AT'],\n",
    "        color = node_df['Color']\n",
    "    ),\n",
    "    link = dict(\n",
    "        source = links_df['Source'],\n",
    "        target = links_df['Target'],\n",
    "        value = links_df['Count'],\n",
    "        color = links_df['Link Color']\n",
    "    )\n",
    ")])\n",
    "\n",
    "fig.update_layout(title_text=\"Difference between Phil's Categories and IDOC Offense Type\", \n",
    "                  height=1000, \n",
    "                  font_size=12)\n",
    "fig.show()\n",
    "                                                                                                  \n"
   ]
  },
  {
   "cell_type": "markdown",
   "id": "bc30a86e",
   "metadata": {},
   "source": [
    "Phil's categories match pretty well with IDOC's."
   ]
  },
  {
   "cell_type": "markdown",
   "id": "d18295cd",
   "metadata": {},
   "source": [
    "**Recidivism calculation**\n",
    "\n",
    "IDOC changed the way that it records recidivism over the years. Recalculate recidivism as sentence number."
   ]
  },
  {
   "cell_type": "code",
   "execution_count": 43,
   "id": "8f036ba1",
   "metadata": {},
   "outputs": [],
   "source": [
    "# convert admission date to a datetime\n",
    "df['Current Admission Date'] = pd.to_datetime(df['Current Admission Date'])\n",
    "\n",
    "len1 = len(df)\n",
    "\n",
    "# rank the admission date per person - this is the nth time they've been admitted\n",
    "df_admis_rank = df[['IDOC #', 'Current Admission Date']].drop_duplicates()\n",
    "df_admis_rank['Sentence Number'] = df_admis_rank.groupby(['IDOC #'])['Current Admission Date'].rank(ascending=True)\n",
    "\n",
    "# join back to the full dataframe\n",
    "df = pd.merge(df, df_admis_rank, on=['IDOC #', 'Current Admission Date'], how='inner')\n",
    "\n",
    "if len(df) != len1:\n",
    "    print('ERROR: Adding the sentence number changed the df length')\n",
    "\n"
   ]
  },
  {
   "cell_type": "markdown",
   "id": "c2c69ccb",
   "metadata": {},
   "source": [
    "**Eligibility for Sentencing Credits**\n",
    "\n",
    "For the purposes of our analysis, someone is *ineligible* for earned discretionary sentencing credits (EDSC) if:\n",
    "* Their holding offense is related to gunrunning or sex\n",
    "* They're sentenced to life\n",
    "* They're required to serve at least 85% of their sentence under truth-in-sentencing\n",
    "* They're considered a sexually dangerous person (SDP)\n",
    "\n",
    "Otherwise, they are eligible."
   ]
  },
  {
   "cell_type": "code",
   "execution_count": 44,
   "id": "2c146dd1",
   "metadata": {},
   "outputs": [
    {
     "name": "stdout",
     "output_type": "stream",
     "text": [
      "Y    1171131\n",
      "N     629271\n",
      "Name: EDSC Eligible, dtype: int64\n"
     ]
    }
   ],
   "source": [
    "df['EDSC Eligible'] = None\n",
    "df.loc[(((df['TIS Pct'] >= 0.85) & (~pd.isnull(df['TIS Pct'])))\n",
    "      | (df['Holding Offense'].str.contains('GUNRUNNING'))\n",
    "      | (df['Sentence Years'].isin(['LIFE', 'SDP']))\n",
    "      | (df['Holding Offense Cat'] == 'Sex')),\n",
    "      'EDSC Eligible'] = 'N'\n",
    "\n",
    "df.loc[pd.isnull(df['EDSC Eligible']), 'EDSC Eligible'] = 'Y'\n",
    "\n",
    "print(df['EDSC Eligible'].value_counts())\n",
    "\n"
   ]
  },
  {
   "cell_type": "markdown",
   "id": "e6a40fac",
   "metadata": {},
   "source": [
    "**Exporting the data**\n",
    "\n",
    "The full data set is 1.8 million records. Export with understanding."
   ]
  },
  {
   "cell_type": "code",
   "execution_count": 45,
   "id": "6fba7772",
   "metadata": {},
   "outputs": [
    {
     "name": "stdout",
     "output_type": "stream",
     "text": [
      "1800402\n"
     ]
    }
   ],
   "source": [
    "print(len(df))"
   ]
  },
  {
   "cell_type": "code",
   "execution_count": null,
   "id": "8d6653d9",
   "metadata": {},
   "outputs": [],
   "source": [
    "# export more recent data\n",
    "# df_recent = df[df['Doc Date'] >= date(2014, 1, 1)]\n",
    "# print(len(df_recent))\n",
    "# df_recent.to_csv('pop_data_2014_thru_20220331.csv')\n",
    "\n",
    "# # export single institution all time\n",
    "# df_export = df[df['Parent Institution'] == 'Logan']\n",
    "# print(len(df_export))\n"
   ]
  },
  {
   "cell_type": "code",
   "execution_count": 46,
   "id": "051ad79a",
   "metadata": {},
   "outputs": [],
   "source": [
    "# df_recent.to_csv('pop_data_20140101-20211231.csv')\n",
    "df.to_csv('pop_data_thru_20220930.csv')"
   ]
  },
  {
   "cell_type": "code",
   "execution_count": null,
   "id": "7de5dd40",
   "metadata": {},
   "outputs": [],
   "source": [
    "tmp_df = df[(df['Doc Date'].apply(lambda x: x.date()) >= date(2022, 2, 1))] #& (df['Doc Date'] <= date(2018, 9, 30))]\n",
    "print(len(tmp_df))"
   ]
  },
  {
   "cell_type": "code",
   "execution_count": null,
   "id": "f26c4ce3",
   "metadata": {},
   "outputs": [],
   "source": [
    "tmp_df.to_csv('tmp_df.csv')"
   ]
  }
 ],
 "metadata": {
  "kernelspec": {
   "display_name": "Python 3",
   "language": "python",
   "name": "python3"
  },
  "language_info": {
   "codemirror_mode": {
    "name": "ipython",
    "version": 3
   },
   "file_extension": ".py",
   "mimetype": "text/x-python",
   "name": "python",
   "nbconvert_exporter": "python",
   "pygments_lexer": "ipython3",
   "version": "3.8.8"
  }
 },
 "nbformat": 4,
 "nbformat_minor": 5
}
