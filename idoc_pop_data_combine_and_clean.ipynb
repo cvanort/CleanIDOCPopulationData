{
 "cells": [
  {
   "cell_type": "markdown",
   "id": "df4470d9",
   "metadata": {},
   "source": [
    "# Combine IDOC population data sets\n",
    "\n",
    "IDOC publishes population data sets which consist of each person housed in a state prison each quarter and information about them, such as their demographics, the type of crime they're being held for, the date on which they were apprehended, etc. The data sets are .xls files, but the titles, URLs, and data within each data set differ and need to be cleaned. This script combines all population data sets and makes the information within them consistent.\n",
    "\n",
    "The population data sets can be found here: https://www2.illinois.gov/idoc/reportsandstatistics/Pages/Prison-Population-Data-Sets.aspx\n",
    "\n",
    "This was last updated with the Dec 2021 data set as the most recently published data set."
   ]
  },
  {
   "cell_type": "code",
   "execution_count": 1,
   "id": "84d878d5",
   "metadata": {},
   "outputs": [],
   "source": [
    "# import packages and set up\n",
    "from bs4 import BeautifulSoup\n",
    "parser = 'html.parser'\n",
    "import urllib.request\n",
    "\n",
    "import pandas as pd\n",
    "import numpy as np\n",
    "from datetime import datetime as dt, date, timedelta as td\n",
    "import calendar\n",
    "\n",
    "import matplotlib as mpl\n",
    "import matplotlib.pyplot as plt\n",
    "import seaborn as sns\n",
    "%matplotlib inline \n",
    "inline_rc = dict(mpl.rcParams)\n",
    "import plotly.graph_objects as go\n",
    "\n",
    "import warnings\n",
    "\n",
    "\n",
    "# suppress warnings\n",
    "pd.options.mode.chained_assignment = None\n",
    "\n"
   ]
  },
  {
   "cell_type": "code",
   "execution_count": 2,
   "id": "990f6235",
   "metadata": {},
   "outputs": [],
   "source": [
    "# helper function to get list of hex codes from tableau 20 pallette\n",
    "from pylab import *\n",
    "\n",
    "def get_hex(n):\n",
    "    cmap = cm.get_cmap('tab20', n)\n",
    "    hex_list = []\n",
    "    for i in range(cmap.N):\n",
    "        rgb = cmap(i)[:3]  # will return rgba, we take only first 3 so we get rgb\n",
    "        hex_list.append(matplotlib.colors.rgb2hex(rgb))\n",
    "        \n",
    "    return hex_list\n",
    "\n",
    "\n",
    "# helper function to get rgb code from hex code\n",
    "def get_rgb_from_hex(hex_code):\n",
    "    h = hex_code.lstrip('#')\n",
    "    rgb = tuple(int(h[i:i+2], 16) for i in (0, 2, 4))\n",
    "    return rgb"
   ]
  },
  {
   "cell_type": "markdown",
   "id": "d7ad5919",
   "metadata": {},
   "source": [
    "Get links to the population data sets from the IDOC site."
   ]
  },
  {
   "cell_type": "code",
   "execution_count": 3,
   "id": "bbf94ada",
   "metadata": {},
   "outputs": [],
   "source": [
    "resp = urllib.request.urlopen('https://www2.illinois.gov/idoc/reportsandstatistics/Pages/Prison-Population-Data-Sets.aspx')\n",
    "soup = BeautifulSoup(resp, parser, from_encoding=resp.info().get_param('charset'))\n",
    "\n",
    "link_list = []\n",
    "for link in soup.find_all('a', href=True):\n",
    "    if '.xls' in link['href']:\n",
    "        link_list.append('https://www2.illinois.gov' + link['href'])\n",
    "# print(link_list)\n",
    "\n"
   ]
  },
  {
   "cell_type": "markdown",
   "id": "8a69d5ad",
   "metadata": {},
   "source": [
    "Read in and combine the data sets. This takes a bit."
   ]
  },
  {
   "cell_type": "code",
   "execution_count": 4,
   "id": "248ea671",
   "metadata": {
    "scrolled": true
   },
   "outputs": [
    {
     "name": "stdout",
     "output_type": "stream",
     "text": [
      "1 of 41 - https://www2.illinois.gov/idoc/reportsandstatistics/Documents/December%202021%20Prison%20Stock.xls\n",
      "2 of 41 - https://www2.illinois.gov/idoc/reportsandstatistics/Documents/September%202021%20Prison%20Stock.xls\n",
      "3 of 41 - https://www2.illinois.gov/idoc/reportsandstatistics/Documents/June%202021%20Prison%20Stock.xls\n",
      "4 of 41 - https://www2.illinois.gov/idoc/reportsandstatistics/Documents/March%202021%20%20Prison%20Stock.xls\n",
      "5 of 41 - https://www2.illinois.gov/idoc/reportsandstatistics/Documents/Dec%202020%20%20Prison%20Stock.xls\n",
      "6 of 41 - https://www2.illinois.gov/idoc/reportsandstatistics/Documents/Sept%202020%20Prison%20Pop.xls\n",
      "7 of 41 - https://www2.illinois.gov/idoc/reportsandstatistics/Documents/June%202020%20Prison%20Stock%20Pop.xls\n",
      "8 of 41 - https://www2.illinois.gov/idoc/reportsandstatistics/Documents/March%202020%20Prison%20Stock.xls\n",
      "9 of 41 - https://www2.illinois.gov/idoc/reportsandstatistics/Documents/Dec%2031%202019%20Prison%20Stock%20pop.xls\n",
      "10 of 41 - https://www2.illinois.gov/idoc/reportsandstatistics/Documents/September%202019%20Prison%20Stock.xls\n",
      "11 of 41 - https://www2.illinois.gov/idoc/reportsandstatistics/Documents/June%202019%20Prison%20Stock.xls\n",
      "12 of 41 - https://www2.illinois.gov/idoc/reportsandstatistics/Documents/March%202019%20Prison%20Stock.xls\n",
      "13 of 41 - https://www2.illinois.gov/idoc/reportsandstatistics/Documents/December%202018_%20Prison%20Stock.xls\n",
      "14 of 41 - https://www2.illinois.gov/idoc/reportsandstatistics/Documents/September%202018%20_Prison_Stock.xls\n",
      "15 of 41 - https://www2.illinois.gov/idoc/reportsandstatistics/Documents/June%202018%20Prison%20Internet%20Data%20Set.xls\n",
      "16 of 41 - https://www2.illinois.gov/idoc/reportsandstatistics/Documents/March%202018%20Prison_Stock_Internet.xls\n",
      "17 of 41 - https://www2.illinois.gov/idoc/reportsandstatistics/Documents/Internet%20Data%20Set%20Prison_Stock_Dec_2017.xls\n",
      "18 of 41 - https://www2.illinois.gov/idoc/reportsandstatistics/Documents/Internet%20Data%20Set%20Prison_Stock_June%202017.xls\n",
      "19 of 41 - https://www2.illinois.gov/idoc/reportsandstatistics/Documents/Internet%20Data%20Set%20Prison_Stock_Dec_2016.xls\n",
      "20 of 41 - https://www2.illinois.gov/idoc/reportsandstatistics/Documents/Prison%20Population%206-30-16%20Data%20Set.xls\n",
      "2016-06-30\n",
      "21 of 41 - https://www2.illinois.gov/idoc/reportsandstatistics/Documents/Internet%20Data%20Set%20Prison_Stock_Dec_2015.xls\n",
      "22 of 41 - https://www2.illinois.gov/idoc/reportsandstatistics/Documents/June%202015_%20Prison_Stock_Internet_Variables.xls\n",
      "23 of 41 - https://www2.illinois.gov/idoc/reportsandstatistics/Documents/Dec%202014_%20Prison_Stock_Internet_Variables.xls\n",
      "24 of 41 - https://www2.illinois.gov/idoc/reportsandstatistics/Documents/June%202014_%20Prison_Stock_Internet_Variables.xls\n",
      "25 of 41 - https://www2.illinois.gov/idoc/reportsandstatistics/Documents/Dec%202013_Prison_Stock_Internet_Variables.xls\n",
      "26 of 41 - https://www2.illinois.gov/idoc/reportsandstatistics/Documents/June%202013%20_%20Prison_Stock_Internet_Variables.xls\n",
      "27 of 41 - https://www2.illinois.gov/idoc/reportsandstatistics/Documents/Dec%202012_%20Prison_Stock_Internet_Variables.xls\n",
      "28 of 41 - https://www2.illinois.gov/idoc/reportsandstatistics/Documents/June%202012%20Prison_Stock_Internet_Variables.xls\n",
      "29 of 41 - https://www2.illinois.gov/idoc/reportsandstatistics/Documents/Dec%202011%20Prison%20Stock%20Pop.xls\n",
      "30 of 41 - https://www2.illinois.gov/idoc/reportsandstatistics/Documents/June%202011%20Prison%20Stock%20Pop.xls\n",
      "31 of 41 - https://www2.illinois.gov/idoc/reportsandstatistics/Documents/Dec%202010%20Stock%20Pop.xls\n",
      "32 of 41 - https://www2.illinois.gov/idoc/reportsandstatistics/Documents/June%202010%20Stock%20Pop.xls\n",
      "33 of 41 - https://www2.illinois.gov/idoc/reportsandstatistics/Documents/December%202009%20stock%20pop.xls\n",
      "34 of 41 - https://www2.illinois.gov/idoc/reportsandstatistics/Documents/June%202009%20stock%20pop.xls\n",
      "35 of 41 - https://www2.illinois.gov/idoc/reportsandstatistics/Documents/December%202008%20stock%20pop.xls\n",
      "36 of 41 - https://www2.illinois.gov/idoc/reportsandstatistics/Documents/June%202008%20stock%20pop.xls\n",
      "37 of 41 - https://www2.illinois.gov/idoc/reportsandstatistics/Documents/December%202007%20stock%20pop.xls\n",
      "38 of 41 - https://www2.illinois.gov/idoc/reportsandstatistics/Documents/June%202007%20stock%20pop.xls\n",
      "39 of 41 - https://www2.illinois.gov/idoc/reportsandstatistics/Documents/December%202006%20stock%20pop.xls\n",
      "40 of 41 - https://www2.illinois.gov/idoc/reportsandstatistics/Documents/June%202006%20stock%20pop.xls\n",
      "41 of 41 - https://www2.illinois.gov/idoc/reportsandstatistics/Documents/June%202005%20stock%20pop.xls\n"
     ]
    }
   ],
   "source": [
    "# add each doc date to the df - different url formats need to be read\n",
    "df_list = []\n",
    "cnt = 0\n",
    "\n",
    "for link in link_list:\n",
    "    cnt += 1\n",
    "    print(str(cnt) + ' of ' + str(len(link_list)) + ' - ' + link)\n",
    "    \n",
    "    # read in the spreadsheet\n",
    "    df = pd.read_excel(link, skiprows=5)\n",
    "    \n",
    "    # format like https://www2.illinois.gov/idoc/reportsandstatistics/Documents/March%202021%20%20Prison%20Stock.xls\n",
    "    try:\n",
    "        doc_month_name = link.split(r'Documents/')[1].split(r'%20')[0]\n",
    "        doc_month_name = doc_month_name[:3]\n",
    "        doc_month_number = dt.strptime(doc_month_name, \"%b\").month\n",
    "        doc_year = int(link.split(r'Documents/')[1].split(r'%20')[1][:4])\n",
    "        doc_day = calendar.monthrange(doc_year, doc_month_number)[1]\n",
    "        \n",
    "    # format like https://www2.illinois.gov/idoc/reportsandstatistics/Documents/Internet%20Data%20Set%20Prison_Stock_Dec_2017.xls\n",
    "    except:\n",
    "        try:\n",
    "            doc_month_name = link.split('_')[2]\n",
    "            doc_month_name = doc_month_name[:3]\n",
    "            doc_month_number = dt.strptime(doc_month_name, \"%b\").month\n",
    "            try:\n",
    "                doc_year = int(link.split('_')[3][:4])\n",
    "            # _Jun%202017\n",
    "            except:\n",
    "                doc_year = int(link.split('_')[2].split('%20')[1][:4])\n",
    "            doc_day = calendar.monthrange(doc_year, doc_month_number)[1]\n",
    "        \n",
    "        # format like https://www2.illinois.gov/idoc/reportsandstatistics/Documents/Prison%20Population%206-30-16%20Data%20Set.xls\n",
    "        except:\n",
    "            doc_month_number = int(link.split('-')[0].split('%20')[2])\n",
    "            doc_year = int('20' + link.split('-')[2].split('%20')[0])\n",
    "            doc_day = calendar.monthrange(doc_year, doc_month_number)[1]\n",
    "            print(date(doc_year, doc_month_number, doc_day))\n",
    "            \n",
    "    # only one format like this\n",
    "    if link == 'https://www2.illinois.gov/idoc/reportsandstatistics/Documents/Dec%2031%202019%20Prison%20Stock%20pop.xls':\n",
    "        doc_month_number = 12\n",
    "        doc_year = 2019\n",
    "        doc_day = 31\n",
    "        \n",
    "    # create the doc date\n",
    "    df['Doc Date'] = date(doc_year, doc_month_number, doc_day)\n",
    "\n",
    "    # add the df to the list\n",
    "    df_list.append(df)\n",
    "    \n",
    "# combine the dfs\n",
    "df = pd.concat(df_list)\n",
    "\n",
    "df0 = df.copy()\n",
    "\n",
    "    "
   ]
  },
  {
   "cell_type": "markdown",
   "id": "faf965f3",
   "metadata": {},
   "source": [
    "**Explore the data**"
   ]
  },
  {
   "cell_type": "code",
   "execution_count": 5,
   "id": "9fba32f1",
   "metadata": {
    "scrolled": true
   },
   "outputs": [
    {
     "name": "stdout",
     "output_type": "stream",
     "text": [
      "<class 'pandas.core.frame.DataFrame'>\n",
      "Int64Index: 1714361 entries, 0 to 44615\n",
      "Data columns (total 32 columns):\n",
      " #   Column                                              Dtype         \n",
      "---  ------                                              -----         \n",
      " 0   Unnamed: 0                                          float64       \n",
      " 1   IDOC #                                              object        \n",
      " 2   Name                                                object        \n",
      " 3   Date of Birth                                       object        \n",
      " 4   Sex                                                 object        \n",
      " 5   Race                                                object        \n",
      " 6   Veteran Status                                      object        \n",
      " 7   Current Admission Date                              object        \n",
      " 8   Admission Type                                      object        \n",
      " 9   Parent Institution                                  object        \n",
      " 10  Projected Mandatory Supervised Release (MSR) Date3  object        \n",
      " 11  Projected Discharge Date3                           object        \n",
      " 12  Custody Date                                        object        \n",
      " 13  Sentence Date                                       object        \n",
      " 14  Crime Class                                         object        \n",
      " 15  Holding Offense                                     object        \n",
      " 16  Holding Offense Category                            object        \n",
      " 17  Offense Type                                        object        \n",
      " 18  Sentence Years                                      object        \n",
      " 19  Sentence Months                                     object        \n",
      " 20  Truth in Sentencing                                 object        \n",
      " 21  Sentencing County                                   object        \n",
      " 22  Doc Date                                            object        \n",
      " 23  Current Admission Date3                             datetime64[ns]\n",
      " 24  Projected Mandatory Supervised Release (MSR) Date4  object        \n",
      " 25  Projected Discharge Date4                           object        \n",
      " 26  Current Admission Type                              object        \n",
      " 27  Projected Mandatory Supervised Release (MSR) Date2  object        \n",
      " 28  Projected Discharge Date2                           object        \n",
      " 29  Projected Discharge  Date2                          float64       \n",
      " 30  Projected Mandatory Supervised Release (MSR) Date   object        \n",
      " 31  Projected Discharge Date                            object        \n",
      "dtypes: datetime64[ns](1), float64(2), object(29)\n",
      "memory usage: 431.6+ MB\n",
      "None\n"
     ]
    }
   ],
   "source": [
    "print(df.info())"
   ]
  },
  {
   "cell_type": "markdown",
   "id": "4849a13c",
   "metadata": {},
   "source": [
    "**Dedupe/combine columns**\n",
    "\n",
    "Sometimes, columns in the individual data sets had different names. Combine these into a single column in the combined version.\n"
   ]
  },
  {
   "cell_type": "code",
   "execution_count": 6,
   "id": "9bde03ec",
   "metadata": {
    "scrolled": true
   },
   "outputs": [
    {
     "name": "stdout",
     "output_type": "stream",
     "text": [
      "Index(['index', 'IDOC #', 'Name', 'Date of Birth', 'Sex', 'Race',\n",
      "       'Veteran Status', 'Current Admission Date', 'Admission Type',\n",
      "       'Parent Institution', 'Custody Date', 'Sentence Date', 'Crime Class',\n",
      "       'Holding Offense', 'Holding Offense Category', 'Offense Type',\n",
      "       'Sentence Years', 'Sentence Months', 'Truth in Sentencing',\n",
      "       'Sentencing County', 'Doc Date',\n",
      "       'Projected Mandatory Supervised Release (MSR) Date',\n",
      "       'Projected Discharge Date', 'Idx'],\n",
      "      dtype='object')\n"
     ]
    }
   ],
   "source": [
    "# remove notes at end of each doc\n",
    "df = df[~pd.isnull(df['Name'])]\n",
    "df.reset_index(inplace=True)\n",
    "df['Idx'] = df.index\n",
    "\n",
    "# rename dupe columns so they can be consolidated programmatically\n",
    "df.rename(columns={'Projected Discharge  Date2': 'Projected Discharge Date1', 'Current Admission Type': 'Admission Type1'}, inplace=True)\n",
    "   \n",
    "len1 = len(df)\n",
    "dupe_col_name_list = ['Projected Mandatory Supervised Release (MSR) Date', 'Projected Discharge Date', 'Current Admission Date', 'Admission Type']\n",
    "for col_name in dupe_col_name_list:\n",
    "    \n",
    "    # get the rows where the main col is blank\n",
    "    blank_col_df = df[pd.isnull(df[col_name])]\n",
    "    \n",
    "    # fill the main col with the duped col vals for each dupe col when the main col is blank\n",
    "    len2 = len(blank_col_df)\n",
    "    blank_col_fill_df_list = []\n",
    "    for dupe_num in range(1, 5):\n",
    "        if col_name + str(dupe_num) in df.columns:\n",
    "            blank_col_fill_df = blank_col_df[(~pd.isnull(blank_col_df[col_name + str(dupe_num)]))]\n",
    "            blank_col_fill_df[col_name] = blank_col_fill_df[col_name + str(dupe_num)]\n",
    "            blank_col_fill_df_list.append(blank_col_fill_df)\n",
    "            blank_col_df = blank_col_df[~blank_col_df.index.isin(blank_col_fill_df.index)]\n",
    "    \n",
    "    # combine the rows that were able to be filled with those that weren't (where the main and all dupe cols were blank)\n",
    "    all_blank_col_df = blank_col_df.copy()\n",
    "    blank_col_df = pd.concat(blank_col_fill_df_list)\n",
    "    blank_col_df = pd.concat([all_blank_col_df, blank_col_df])\n",
    "    if len(blank_col_df) != len2:\n",
    "        print('ERROR: ' + col_name + ' length mismatch')\n",
    "        1/0\n",
    "        \n",
    "    # combine rows where the main col was blank with rows where the main col wasn't blank\n",
    "    non_blank_col_df = df[~pd.isnull(df[col_name])]\n",
    "    df = pd.concat([blank_col_df, non_blank_col_df])\n",
    "    if len(df) != len1:\n",
    "        print('ERROR: Length mismatch')\n",
    "        1/0\n",
    "\n",
    "# drop the dupe columns\n",
    "for col_name in dupe_col_name_list:\n",
    "    for dupe_num in range(1, 5):\n",
    "        if col_name + str(dupe_num) in df.columns:\n",
    "            df.drop(col_name + str(dupe_num), axis=1, inplace=True)\n",
    "\n",
    "# remove empty columns\n",
    "for col in df.columns:\n",
    "    if df[col].isnull().all():\n",
    "        df.drop(col, axis=1, inplace=True)\n",
    "    \n",
    "print(df.columns)\n",
    "            \n",
    "# df1 = df.copy()\n",
    "\n"
   ]
  },
  {
   "cell_type": "markdown",
   "id": "3310d0cb",
   "metadata": {},
   "source": [
    "**Reformat dates**\n",
    "\n",
    "Some dates are saved as strings. These can be in the format mmddyyyy, mddyyyy, mmdyyyy, yyyymmdd, or some other combination.\n",
    "\n",
    "NOTE: I needed to guess on some of these by using context clues. Example: Does 1211983 mean 1/21/1983 or 12/1/1983?"
   ]
  },
  {
   "cell_type": "code",
   "execution_count": 7,
   "id": "d8e70b8d",
   "metadata": {
    "scrolled": true
   },
   "outputs": [
    {
     "name": "stdout",
     "output_type": "stream",
     "text": [
      "\n",
      "\n",
      "\n",
      "CONVERTING DATE OF BIRTH...\n",
      "\n",
      "NA times\n",
      "32\n",
      "\n",
      "data types\n",
      "                                                    Date of Birth\n",
      "type                                                             \n",
      "<class 'float'>                                            511077\n",
      "<class 'pandas._libs.tslibs.timestamps.Timestamp'>        1157356\n",
      "<class 'str'>                                               45571\n",
      "\n",
      "NA - string length\n",
      "     Date of Birth\n",
      "len               \n",
      "1               68\n",
      "7           382874\n",
      "8           173706\n",
      "\n",
      "NA - records with spaces\n",
      "0\n",
      "\n",
      "NA - non-dates\n",
      "0\n",
      "Series([], Name: Date of Birth, dtype: object)\n",
      "\n",
      "\n",
      "\n",
      "CONVERTING CURRENT ADMISSION DATE...\n",
      "\n",
      "NA times\n",
      "0\n",
      "\n",
      "data types\n",
      "                                                    Current Admission Date\n",
      "type                                                                      \n",
      "<class 'float'>                                                     511077\n",
      "<class 'pandas._libs.tslibs.timestamps.Timestamp'>                 1157388\n",
      "<class 'str'>                                                        45571\n",
      "\n",
      "NA - string length\n",
      "     Current Admission Date\n",
      "len                        \n",
      "1                         5\n",
      "7                    378761\n",
      "8                    177882\n",
      "\n",
      "NA - records with spaces\n",
      "0\n",
      "\n",
      "NA - non-dates\n",
      "0\n",
      "Series([], Name: Current Admission Date, dtype: object)\n",
      "\n",
      "\n",
      "\n",
      "CONVERTING CUSTODY DATE...\n",
      "\n",
      "NA times\n",
      "191\n",
      "\n",
      "data types\n",
      "                                                    Custody Date\n",
      "type                                                            \n",
      "<class 'float'>                                           462525\n",
      "<class 'pandas._libs.tslibs.timestamps.Timestamp'>       1157197\n",
      "<class 'str'>                                              94123\n",
      "\n",
      "NA - string length\n",
      "     Custody Date\n",
      "len              \n",
      "1              38\n",
      "7          353254\n",
      "8          203356\n",
      "\n",
      "NA - records with spaces\n",
      "1\n",
      "\n",
      "NA - non-dates\n",
      "353\n",
      "919837    00000000\n",
      "919849    00000000\n",
      "920189    00000000\n",
      "920201    00000000\n",
      "920260    00000000\n",
      "920370    00000000\n",
      "921347    00000000\n",
      "921468    00000000\n",
      "921738    00000000\n",
      "921906    00000000\n",
      "Name: Custody Date, dtype: object\n",
      "\n",
      "\n",
      "\n",
      "CONVERTING SENTENCE DATE...\n",
      "\n",
      "NA times\n",
      "196\n",
      "\n",
      "data types\n",
      "                                                    Sentence Date\n",
      "type                                                             \n",
      "<class 'float'>                                            462525\n",
      "<class 'pandas._libs.tslibs.timestamps.Timestamp'>        1157192\n",
      "<class 'str'>                                               94123\n",
      "\n",
      "NA - string length\n",
      "     Sentence Date\n",
      "len               \n",
      "1               10\n",
      "7           348186\n",
      "8           208452\n",
      "\n",
      "NA - records with spaces\n",
      "1\n",
      "\n",
      "NA - non-dates\n",
      "385\n",
      "733733    04021909\n",
      "757945    07281905\n",
      "761277    10241914\n",
      "763000    05241910\n",
      "919837    00000000\n",
      "919849    00000000\n",
      "920189    00000000\n",
      "920201    00000000\n",
      "920260    00000000\n",
      "920370    00000000\n",
      "Name: Sentence Date, dtype: object\n",
      "\n",
      "\n",
      "\n",
      "CONVERTING PROJECTED MANDATORY SUPERVISED RELEASE (MSR) DATE...\n",
      "\n",
      "NA times\n",
      "48915\n",
      "\n",
      "data types\n",
      "                                                    Projected Mandatory Supervised Release (MSR) Date\n",
      "type                                                                                                 \n",
      "<class 'datetime.datetime'>                                                                   1030063\n",
      "<class 'float'>                                                                                556644\n",
      "<class 'pandas._libs.tslibs.timestamps.Timestamp'>                                              76653\n",
      "<class 'str'>                                                                                    1761\n",
      "\n",
      "NA - string length\n",
      "     Projected Mandatory Supervised Release (MSR) Date\n",
      "len                                                   \n",
      "1                                                 1765\n",
      "7                                               408912\n",
      "8                                               147728\n",
      "\n",
      "NA - records with spaces\n",
      "0\n",
      "\n",
      "NA - non-dates\n",
      "22502\n",
      "557349    99989999\n",
      "557350    99989999\n",
      "557351    99989999\n",
      "557352    99989999\n",
      "557356    99989999\n",
      "557358    99989999\n",
      "557359    99989999\n",
      "557361    99989999\n",
      "557365    99989999\n",
      "557366    99989999\n",
      "Name: Projected Mandatory Supervised Release (MSR) Date, dtype: object\n",
      "\n",
      "\n",
      "\n",
      "CONVERTING PROJECTED DISCHARGE DATE...\n",
      "\n",
      "NA times\n",
      "97865\n",
      "\n",
      "data types\n",
      "                                                    Projected Discharge Date\n",
      "type                                                                        \n",
      "<class 'datetime.datetime'>                                           987035\n",
      "<class 'float'>                                                       556644\n",
      "<class 'pandas._libs.tslibs.timestamps.Timestamp'>                     68066\n",
      "<class 'str'>                                                           4426\n",
      "\n",
      "NA - string length\n",
      "     Projected Discharge Date\n",
      "len                          \n",
      "1                        4963\n",
      "7                      396328\n",
      "8                      159779\n",
      "\n",
      "NA - records with spaces\n",
      "0\n",
      "\n",
      "NA - non-dates\n",
      "38917\n",
      "557349    99989999\n",
      "557350    99989999\n",
      "557351    99989999\n",
      "557352    99989999\n",
      "557356    99989999\n",
      "557358    99989999\n",
      "557359    99989999\n",
      "557361    99989999\n",
      "557365    99989999\n",
      "557366    99989999\n",
      "Name: Projected Discharge Date, dtype: object\n"
     ]
    }
   ],
   "source": [
    "len1 = len(df)\n",
    "\n",
    "def get_date_parts_for_unknown_mmdd(unknown_part_placement_df):\n",
    "    correct_placement_df_list = []\n",
    "\n",
    "    for i in range(1, 3):\n",
    "        unknown_part_placement_df['month'] = unknown_part_placement_df['mmdd'].apply(lambda x: int(x[:i]))\n",
    "        unknown_part_placement_df['day'] = unknown_part_placement_df['mmdd'].apply(lambda x: int(x[i:]))\n",
    "        correct_placement_df = unknown_part_placement_df[(unknown_part_placement_df['month'] > 0) & (unknown_part_placement_df['day'] > 0) \n",
    "                                                         & (((unknown_part_placement_df['month'].isin([1, 3, 5, 7, 8, 10, 12])) & (unknown_part_placement_df['day'] <= 31))\n",
    "                                                            | ((unknown_part_placement_df['month'].isin([4, 6, 9, 11])) & (unknown_part_placement_df['day'] <= 30))\n",
    "                                                            | ((unknown_part_placement_df['month'] == 2) & \n",
    "                                                                ((unknown_part_placement_df['day'] <= 28) | ((unknown_part_placement_df['day'] <= 29) & (unknown_part_placement_df['year'] % 4 == 0)))))]\n",
    "        correct_placement_df_list.append(correct_placement_df)\n",
    "        \n",
    "        # get rid of the correct ones for the next iteration, in case they can work both ways\n",
    "        unknown_part_placement_df = unknown_part_placement_df[~unknown_part_placement_df.index.isin(correct_placement_df.index)]\n",
    "        \n",
    "    full_correct_placement_df = pd.concat(correct_placement_df_list)\n",
    "    \n",
    "    return full_correct_placement_df\n",
    "\n",
    "\n",
    "def convert_to_dates(orig_df, col_name, max_year):\n",
    "    # note: the numbers in the comments are outdated, include data only partially through 2021\n",
    "    \n",
    "    # sort the df\n",
    "    orig_df.sort_values(by='Idx', inplace=True)\n",
    "    \n",
    "    # remove nulls\n",
    "    # ----- 32 for dob, 87758 for discharge -----\n",
    "    na_date_df = orig_df[pd.isnull(orig_df[col_name])]\n",
    "    print('\\nNA times')\n",
    "    print(len(na_date_df))\n",
    "    df = orig_df[~pd.isnull(orig_df[col_name])]\n",
    "    \n",
    "    # get data types - 0 NaType for dob, custody date, sentence date\n",
    "    df['type'] = df[col_name].apply(lambda x: str(type(x)))\n",
    "    print('\\ndata types')\n",
    "    print(df[['type', col_name]].groupby('type').count())\n",
    "\n",
    "    # make the floats strings\n",
    "    float_date_df = df[df['type'] == \"<class 'float'>\"]\n",
    "    float_date_df[col_name] = float_date_df[col_name].apply(lambda x: str(int(x)))\n",
    "\n",
    "    # get only string records\n",
    "    str_date_df = df[df['type'] == \"<class 'str'>\"]\n",
    "    str_date_df = pd.concat([str_date_df, float_date_df])\n",
    "\n",
    "    # get the timestamp records\n",
    "    ts_date_df = df[~df.index.isin(str_date_df.index)]\n",
    "\n",
    "    # null out non-dates and add to na_df\n",
    "    # ----- 68 for dob, 5 for cad, 38 for custody date, 10 for sentence date, 1765 for msr, 4963 for discharge -----\n",
    "    #   date string length is 1\n",
    "    print('\\nNA - string length')\n",
    "    str_date_df['len'] = str_date_df[col_name].apply(lambda x: len(x))\n",
    "    print(str_date_df[['len', col_name]].groupby('len').count())\n",
    "    null_str_date_df = str_date_df[str_date_df['len'] == 1]\n",
    "    na_date_df = pd.concat([na_date_df, null_str_date_df])\n",
    "    \n",
    "    #   date string has spaces\n",
    "    str_date_df = str_date_df[str_date_df['len'] > 1]\n",
    "    print('\\nNA - records with spaces')\n",
    "    str_date_df[col_name] = str_date_df[col_name].str.strip()\n",
    "    null_str_date_df = str_date_df[str_date_df[col_name].str.contains(' ')]\n",
    "    print(len(null_str_date_df))\n",
    "    na_date_df = pd.concat([na_date_df, null_str_date_df])\n",
    "\n",
    "    str_date_df = str_date_df[~str_date_df.index.isin(null_str_date_df.index)]\n",
    "    \n",
    "    len2 = len(str_date_df)\n",
    "\n",
    "    \n",
    "    # # # determine if yyyy is at beginning or end of date strings # # #\n",
    "\n",
    "    # create fields assuming yyyy is at beginning or end\n",
    "    str_date_df['year at beginning'] = str_date_df[col_name].apply(lambda x: int(x[:4]))\n",
    "    str_date_df['year at end'] = str_date_df[col_name].apply(lambda x: int(x[-4:]))\n",
    "    \n",
    "    # beginning\n",
    "    # yyyy is assumed to be at the beginning if it's between 1920 and the max year passed in\n",
    "    suspected_year_at_beginnning_df = str_date_df[(str_date_df['year at beginning'] >= 1920) & (str_date_df['year at beginning'] <= max_year)]\n",
    "    \n",
    "    # set the mm dd yyyy assuming yyyy at beginning\n",
    "    suspected_year_at_beginnning_df['mmdd'] = suspected_year_at_beginnning_df[col_name].apply(lambda x: x[4:])\n",
    "    suspected_year_at_beginnning_df['year'] = suspected_year_at_beginnning_df[col_name].apply(lambda x: float(x[:4]))\n",
    "    \n",
    "    # test that the mm dd yyyy all are possible and keep those that make sense\n",
    "    year_at_beginning_df = get_date_parts_for_unknown_mmdd(suspected_year_at_beginnning_df)\n",
    "    year_at_beginning_df['year placement'] = 'beginning'\n",
    "    suspected_year_at_beginnning_df['year'] = suspected_year_at_beginnning_df[col_name].apply(lambda x: x[:4])\n",
    "    \n",
    "    # end\n",
    "    # yyyy is at the end if it's not at the beginning and is between 1920 and the max year passed in\n",
    "    suspected_year_at_end_df = str_date_df[(~str_date_df.index.isin(year_at_beginning_df.index)) & (str_date_df['year at end'] >= 1920) & (str_date_df['year at end'] <= max_year)]\n",
    "    \n",
    "    # set the mm dd yyyy assuming yyyy at end\n",
    "    suspected_year_at_end_df['mmdd'] = suspected_year_at_end_df[col_name].apply(lambda x: x[:-4])\n",
    "    suspected_year_at_end_df['year'] = suspected_year_at_end_df[col_name].apply(lambda x: float(x[-4:]))\n",
    "    \n",
    "    # test that the mm dd yyyy all are possible and keep those that make sense\n",
    "    year_at_end_df = get_date_parts_for_unknown_mmdd(suspected_year_at_end_df)\n",
    "    year_at_end_df['year placement'] = 'end'\n",
    "    suspected_year_at_end_df['year'] = suspected_year_at_end_df[col_name].apply(lambda x: x[-4:])\n",
    "    \n",
    "    # other\n",
    "    # get the items that could not be coverted to a date because setting the yyyy at the beginning or end didn't make sense\n",
    "    # ----- 38917, formatted like 99989999 -----\n",
    "    non_date_df = str_date_df[(~str_date_df.index.isin(year_at_beginning_df.index)) & (~str_date_df.index.isin(year_at_end_df.index))]\n",
    "    print('\\nNA - non-dates')\n",
    "    print(len(non_date_df))\n",
    "    print(non_date_df[col_name].iloc[0:10])\n",
    "    na_date_df = pd.concat([na_date_df, non_date_df])\n",
    "    len2 = len2 - len(non_date_df)\n",
    "    \n",
    "    # keep the values where the date can be formed\n",
    "    str_date_df = pd.concat([year_at_beginning_df, year_at_end_df])\n",
    "    if len(str_date_df) != len2:\n",
    "        print('finding the year placement changed the length')\n",
    "        1/0\n",
    "    \n",
    "    \n",
    "    # # # convert to dates # # #\n",
    "    \n",
    "    # pad the date parts where necessary\n",
    "    for dp in ['year', 'month', 'day']:\n",
    "        str_date_df[dp] = str_date_df[dp].apply(lambda x: str(int(x)))\n",
    "        str_date_df['len'] = str_date_df[dp].apply(lambda x: len(x))\n",
    "        need_to_pad_df = str_date_df[str_date_df['len'] == 1]\n",
    "        need_to_pad_df[dp] = '0' + need_to_pad_df[dp]\n",
    "        padded_df = str_date_df[str_date_df['len'] != 1]\n",
    "        str_date_df = pd.concat([need_to_pad_df, padded_df])\n",
    "\n",
    "    if len(str_date_df) != len2:\n",
    "        print('padding dates changed the length')\n",
    "        1/0\n",
    "\n",
    "#     print('\\nyears')\n",
    "#     print(str_date_df['year'].unique())\n",
    "#     print('months')\n",
    "#     print(str_date_df['month'].unique())\n",
    "#     print('days')\n",
    "#     print(str_date_df['day'].unique())\n",
    "    \n",
    "    # convert date strings to the same format\n",
    "    str_date_df[col_name + ' str'] = str_date_df['year'].add('-' + str_date_df['month'])\n",
    "    str_date_df[col_name + ' str'] = str_date_df[col_name + ' str'].add('-' + str_date_df['day'])\n",
    "    \n",
    "    # convert to dates\n",
    "    str_date_df[col_name] = str_date_df[col_name + ' str'].apply(lambda x: dt.strptime(x, '%Y-%m-%d'))\n",
    "    \n",
    "    # drop the date strings\n",
    "    str_date_df.drop(col_name + ' str', axis=1, inplace=True)\n",
    "    \n",
    "    date_df = pd.concat([str_date_df, ts_date_df])\n",
    "    date_df[col_name] = date_df[col_name].apply(lambda x: x.date())\n",
    "    \n",
    "    \n",
    "    # null out null dates\n",
    "    na_date_df[col_name] = np.nan\n",
    "    \n",
    "    \n",
    "    # combine string dates with timestamp dates and non-dates\n",
    "    df = pd.concat([str_date_df, ts_date_df, na_date_df])\n",
    "        \n",
    "    return df\n",
    "\n",
    "\n",
    "# convert dates for each of the listed cols\n",
    "for col_name in ['Date of Birth', 'Current Admission Date', 'Custody Date', 'Sentence Date', 'Projected Mandatory Supervised Release (MSR) Date', 'Projected Discharge Date']:\n",
    "    \n",
    "    print('\\n\\n\\nCONVERTING ' + col_name.upper() + '...')\n",
    "    \n",
    "    if col_name[:9] == 'Projected':\n",
    "        max_year = 2300\n",
    "    else:\n",
    "        max_year = int(date.today().year)\n",
    "    \n",
    "    df = convert_to_dates(df, col_name, max_year)\n",
    "    \n",
    "    if len(df) != len1:\n",
    "        print('Converting {} to dates changed the length'.format(col_name))\n",
    "        1/0\n",
    "        \n",
    "        \n",
    "# df2 = df.copy()\n",
    "  \n",
    "    "
   ]
  },
  {
   "cell_type": "markdown",
   "id": "ee73a12b",
   "metadata": {},
   "source": [
    "**Latest record**\n",
    "\n",
    "Since the data is produced quarterly, some individuals will be repeated in the data. Get the date of the most recent document in which each individual appears."
   ]
  },
  {
   "cell_type": "code",
   "execution_count": 8,
   "id": "5f1ed023",
   "metadata": {},
   "outputs": [
    {
     "name": "stdout",
     "output_type": "stream",
     "text": [
      "Index(['index', 'IDOC #', 'Name', 'Date of Birth', 'Sex', 'Race',\n",
      "       'Veteran Status', 'Current Admission Date', 'Admission Type',\n",
      "       'Parent Institution', 'Custody Date', 'Sentence Date', 'Crime Class',\n",
      "       'Holding Offense', 'Holding Offense Category', 'Offense Type',\n",
      "       'Sentence Years', 'Sentence Months', 'Truth in Sentencing',\n",
      "       'Sentencing County', 'Doc Date',\n",
      "       'Projected Mandatory Supervised Release (MSR) Date',\n",
      "       'Projected Discharge Date', 'Idx', 'type', 'len', 'year at beginning',\n",
      "       'year at end', 'mmdd', 'year', 'month', 'day', 'year placement', 'ID',\n",
      "       'Last Doc Date'],\n",
      "      dtype='object')\n"
     ]
    }
   ],
   "source": [
    "len1 = len(df)\n",
    "blank_date_df = df[pd.isnull(df['Current Admission Date'])]\n",
    "non_blank_date_df = df[~pd.isnull(df['Current Admission Date'])]\n",
    "\n",
    "non_blank_date_df['Current Admission Date str'] = non_blank_date_df['Current Admission Date'].apply(lambda x: dt.strftime(x, '%Y%m%d'))\n",
    "non_blank_date_df['ID'] = non_blank_date_df['IDOC #'].add(non_blank_date_df['Current Admission Date str'])\n",
    "non_blank_date_df.drop('Current Admission Date str', axis=1, inplace=True)\n",
    "\n",
    "blank_date_df['ID'] = non_blank_date_df['IDOC #']\n",
    "df = pd.concat([blank_date_df, non_blank_date_df])\n",
    "\n",
    "if len(df) != len1:\n",
    "    print(len(df))\n",
    "    print(len1)\n",
    "    print('blanking dates changed the length')\n",
    "    1/0\n",
    "\n",
    "# get most recent doc date\n",
    "doc_date_series = df[['ID', 'Doc Date']]\n",
    "doc_date_series.rename(columns={'Doc Date': 'Last Doc Date'}, inplace=True)\n",
    "doc_date_series = doc_date_series.groupby('ID')['Last Doc Date'].max()\n",
    "df = df.merge(doc_date_series, how='inner', on='ID')\n",
    "\n",
    "# remove unecessary columns\n",
    "print(df.columns)\n",
    "df.drop(['Idx', 'type', 'len', 'year at beginning',\n",
    "       'year at end', 'mmdd', 'year', 'month', 'day', 'year placement'], axis=1, inplace=True)\n",
    "# (need to drop Doc Date to remove all duplicates)\n",
    "        \n",
    "# remove duplicates\n",
    "df.drop_duplicates(inplace=True)\n",
    "\n",
    "# df3 = df.copy()\n",
    "\n"
   ]
  },
  {
   "cell_type": "markdown",
   "id": "d18295cd",
   "metadata": {},
   "source": [
    "**Recidivism calculation**\n",
    "\n",
    "IDOC changed the way that it records recidivism over the years. Recalculate recidivism as sentence number."
   ]
  },
  {
   "cell_type": "code",
   "execution_count": 9,
   "id": "8f036ba1",
   "metadata": {
    "scrolled": true
   },
   "outputs": [],
   "source": [
    "# convert admission date to a datetime\n",
    "df['Current Admission Date'] = pd.to_datetime(df['Current Admission Date'])\n",
    "\n",
    "len1 = len(df)\n",
    "\n",
    "# rank the admission date per person - this is the nth time they've been admitted\n",
    "df_admis_rank = df[['IDOC #', 'Current Admission Date']].drop_duplicates()\n",
    "df_admis_rank['Sentence Number'] = df_admis_rank.groupby(['IDOC #'])['Current Admission Date'].rank(ascending=True)\n",
    "\n",
    "# join back to the full dataframe\n",
    "df = pd.merge(df, df_admis_rank, on=['IDOC #', 'Current Admission Date'], how='inner')\n",
    "\n",
    "if len(df) != len1:\n",
    "    print('ERROR: Adding the sentence number changed the df length')\n",
    "\n",
    "# df3a = df.copy()\n",
    "\n"
   ]
  },
  {
   "cell_type": "markdown",
   "id": "fce29fca",
   "metadata": {},
   "source": [
    "**Sentencing Counties**\n",
    "\n",
    "* Clean up different versions of county names\n",
    "* Categorize into regions"
   ]
  },
  {
   "cell_type": "code",
   "execution_count": 10,
   "id": "fd234ff0",
   "metadata": {
    "scrolled": true
   },
   "outputs": [
    {
     "name": "stdout",
     "output_type": "stream",
     "text": [
      "Adams            13949\n",
      "Alexander         1785\n",
      "Bond              2718\n",
      "Boone             7332\n",
      "Brown              352\n",
      "Bureau            3473\n",
      "Calhoun            627\n",
      "Carroll           1098\n",
      "Cass              1373\n",
      "Champaign        41035\n",
      "Christian         4773\n",
      "Clark             2498\n",
      "Clay              2520\n",
      "Clinton           3889\n",
      "Coles            10286\n",
      "Cook            838817\n",
      "Crawford          3034\n",
      "Cumberland         821\n",
      "DeKalb            7664\n",
      "DeWitt            2389\n",
      "Dekalb               1\n",
      "Douglas           2581\n",
      "DuPage           20856\n",
      "Dupage           27018\n",
      "Edgar             2835\n",
      "Edwards           1368\n",
      "Effingham         4284\n",
      "Fayette           4245\n",
      "Ford              1541\n",
      "Franklin          7026\n",
      "Fulton            3041\n",
      "Gallatin           737\n",
      "Greene            1041\n",
      "Grundy            2874\n",
      "Hamilton          1911\n",
      "Hancock           1792\n",
      "Hardin             715\n",
      "Henderson          659\n",
      "Henry             9564\n",
      "Iroquois          3006\n",
      "Jackson           8565\n",
      "Jasper             762\n",
      "Jefferson         9030\n",
      "Jersey            3614\n",
      "Jo Daviess        1091\n",
      "Johnson           1387\n",
      "Kane             45149\n",
      "Kankakee         17852\n",
      "Kendall           6285\n",
      "Knox              6405\n",
      "LaSalle            453\n",
      "Lake             44875\n",
      "Lasalle          17960\n",
      "Lawrence          2771\n",
      "Lee               4248\n",
      "Livingston        6997\n",
      "Logan             5915\n",
      "Macon            36833\n",
      "Macoupin          3849\n",
      "Madison          37023\n",
      "Marion            8833\n",
      "Marshall           723\n",
      "Mason             3242\n",
      "Massac            2814\n",
      "McDonough         2273\n",
      "McHenry          10899\n",
      "McLean           31253\n",
      "Menard             919\n",
      "Mercer            1631\n",
      "Monroe            1324\n",
      "Montgomery        5569\n",
      "Morgan            4637\n",
      "Moultrie          1155\n",
      "Ogle              3082\n",
      "Out of state       201\n",
      "Peoria           41783\n",
      "Perry             1987\n",
      "Piatt              758\n",
      "Pike              3763\n",
      "Pope               598\n",
      "Pulaski            731\n",
      "Putnam             404\n",
      "Randolph          3649\n",
      "Richland          2456\n",
      "Rock Island      15224\n",
      "Saline            6261\n",
      "Sangamon         32097\n",
      "Schuyler          1385\n",
      "Scott              260\n",
      "Shelby            2896\n",
      "St. Clair        34468\n",
      "Stark              356\n",
      "Stephenson        7895\n",
      "Tazewell         14206\n",
      "Union             2801\n",
      "Unknown            545\n",
      "Vermilion        17567\n",
      "Wabash            1860\n",
      "Warren            1413\n",
      "Washington         922\n",
      "Wayne             2160\n",
      "White             4134\n",
      "Whiteside         8431\n",
      "Will             50314\n",
      "Williamson        6059\n",
      "Winnebago        54395\n",
      "Woodford          5106\n",
      "Name: Sentencing County, dtype: int64\n",
      "['Out of state/Unknown']\n"
     ]
    }
   ],
   "source": [
    "pd.set_option('display.max_rows', 107)\n",
    "tmp_df = df['Sentencing County'].value_counts()\n",
    "print(tmp_df.sort_index())\n",
    "\n",
    "# relabel mislabeled counties\n",
    "df.loc[df['Sentencing County'] == 'Dekalb', 'Sentencing County'] = 'DeKalb'\n",
    "df.loc[df['Sentencing County'] == 'Dupage', 'Sentencing County'] = 'DuPage'\n",
    "df.loc[df['Sentencing County'] == 'Lasalle', 'Sentencing County'] = 'LaSalle'\n",
    "df.loc[df['Sentencing County'].isin(['Out of state', 'Unknown']), 'Sentencing County'] = 'Out of state/Unknown'\n",
    "                                    \n",
    "# group into regions  \n",
    "cook_list = ['COOK']\n",
    "chi_metro_list = ['DUPAGE', 'LAKE', 'KANE', 'MCHENRY', 'WILL']\n",
    "north_il_list = ['BOONE', 'BUREAU', 'CARROLL', 'DEKALB', 'GRUNDY', 'HENRY', 'JO DAVIESS', 'KENDALL', 'LASALLE', 'LEE', 'OGLE', 'ROCK ISLAND', 'STEPHENSON', 'WHITESIDE',  'WINNEBAGO']\n",
    "cent_il_list = ['ADAMS', 'BROWN', 'CALHOUN', 'CASS', 'CHAMPAIGN', 'CHRISTIAN', 'COLES', 'CUMBERLAND', 'DEWITT', 'DOUGLAS', 'EDGAR', 'FORD', 'FULTON', 'GREENE', 'HANCOCK', 'HENDERSON', 'IROQUOIS', 'JERSEY', 'KANKAKEE', 'KNOX', 'LIVINGSTON', 'LOGAN', 'MACON', 'MACOUPIN', 'MARSHALL', 'MASON', 'MCDONOUGH', 'MCLEAN', 'MENARD', 'MERCER', 'MONTGOMERY', 'MORGAN', 'MOULTRIE', 'PEORIA', 'PIATT', 'PIKE', 'PUTNAM', 'SANGAMON', 'SCHUYLER', 'SCOTT', 'SHELBY', 'STARK', 'TAZEWELL', 'VERMILION', 'WARREN', 'WOODFORD']\n",
    "st_louis_list = ['MADISON', 'ST. CLAIR']\n",
    "south_il_list = ['ALEXANDER', 'BOND', 'CLARK', 'CLAY', 'CLINTON', 'CRAWFORD', 'EDWARDS', 'EFFINGHAM', 'FAYETTE', 'FRANKLIN', 'GALLATIN', 'HAMILTON', 'HARDIN', 'JACKSON', 'JASPER', 'JEFFERSON', 'JOHNSON', 'LAWRENCE', 'MARION', 'MASSAC', 'MONROE', 'PERRY', 'POPE', 'PULASKI', 'RANDOLPH', 'RICHLAND', 'SALINE', 'UNION', 'WABASH', 'WASHINGTON', 'WAYNE', 'WHITE', 'WILLIAMSON']\n",
    "\n",
    "df.loc[df['Sentencing County'].str.upper().isin(cook_list), 'Sentencing Region'] = 'Cook'\n",
    "df.loc[df['Sentencing County'].str.upper().isin(chi_metro_list), 'Sentencing Region'] = 'Chicago Metro'\n",
    "df.loc[df['Sentencing County'].str.upper().isin(north_il_list), 'Sentencing Region'] = 'North IL'\n",
    "df.loc[df['Sentencing County'].str.upper().isin(cent_il_list), 'Sentencing Region'] = 'Central IL'\n",
    "df.loc[df['Sentencing County'].str.upper().isin(st_louis_list), 'Sentencing Region'] = 'St. Louis Metro'\n",
    "df.loc[df['Sentencing County'].str.upper().isin(south_il_list), 'Sentencing Region'] = 'South IL'\n",
    "\n",
    "# check for missed counties\n",
    "print(df[pd.isnull(df['Sentencing Region'])]['Sentencing County'].unique())\n",
    "\n",
    "df.loc[pd.isnull(df['Sentencing Region']), 'Sentencing Region'] = 'Out of State/Unknown'\n",
    "       \n",
    "df4 = df.copy()\n",
    "\n"
   ]
  },
  {
   "cell_type": "markdown",
   "id": "77c93109",
   "metadata": {},
   "source": [
    "**Truth In Sentencing**\n",
    "\n",
    "Clean up the mix of floats and strings, percents and descriptions."
   ]
  },
  {
   "cell_type": "code",
   "execution_count": 11,
   "id": "6dd6406c",
   "metadata": {
    "scrolled": true
   },
   "outputs": [
    {
     "name": "stdout",
     "output_type": "stream",
     "text": [
      "Day-for-Day                    1201388\n",
      "85%                             230505\n",
      "100%                            139799\n",
      "85% Armed Habitual Criminal      19994\n",
      "0.85                             17972\n",
      "85% Bodily Harm                  17087\n",
      "85% Agg Domestic Battery         14329\n",
      "85% Agg Discharge Firearm        13879\n",
      "75% Drug-Related Offenses        10902\n",
      "1                                10187\n",
      "85% Agg DUI w Death               8454\n",
      "Missing                           4521\n",
      "85% Agg Arson                     2976\n",
      "85% Agg DUI w Bodily Harm         1531\n",
      "85% Reckless Homicide             1500\n",
      "85% Agg DUI                       1088\n",
      "85% Machine Gun                     16\n",
      "100% Terrorism                       5\n",
      "85% Terrorism                        2\n",
      "Name: Truth in Sentencing, dtype: int64\n",
      "\n",
      "\n",
      "                 Truth in Sentencing  TIS Pct                 TIS Desc\n",
      "0                               100%     1.00                      NaN\n",
      "79                               85%     0.85                      NaN\n",
      "978                  85% Bodily Harm     0.85              Bodily Harm\n",
      "1443     85% Armed Habitual Criminal     0.85  Armed Habitual Criminal\n",
      "1748        85% Agg Domestic Battery     0.85     Agg Domestic Battery\n",
      "1816             85% Agg DUI w Death     0.85          Agg DUI w Death\n",
      "1843                     85% Agg DUI     0.85                  Agg DUI\n",
      "2298       75% Drug-Related Offenses     0.75    Drug-Related Offenses\n",
      "2516       85% Agg Discharge Firearm     0.85    Agg Discharge Firearm\n",
      "10473                  85% Agg Arson     0.85                Agg Arson\n",
      "18788      85% Agg DUI w Bodily Harm     0.85    Agg DUI w Bodily Harm\n",
      "19857          85% Reckless Homicide     0.85        Reckless Homicide\n",
      "863049                 85% Terrorism     0.85                Terrorism\n",
      "898721                100% Terrorism     1.00                Terrorism\n",
      "1035431              85% Machine Gun     0.85              Machine Gun\n",
      "3                                  1     1.00                      NaN\n",
      "81                              0.85     0.85                      NaN\n",
      "109                      Day-for-Day     0.50              Day-for-Day\n",
      "7254                             NaN      NaN                      NaN\n"
     ]
    }
   ],
   "source": [
    "# check TIS values\n",
    "pd.set_option('display.max_rows', 25)\n",
    "print(df['Truth in Sentencing'].value_counts())\n",
    "\n",
    "len1 = len(df)\n",
    "\n",
    "# convert all to string\n",
    "df['Truth in Sentencing'] = df['Truth in Sentencing'].astype(str)\n",
    "\n",
    "# life sentences and SDPs are not included\n",
    "tis_df = df[(~pd.isnull(df['Truth in Sentencing'])) & (~df['Sentence Years'].isin(['LIFE', 'SDP']))]\n",
    "\n",
    "# where '%' is in the string, the percent is before, the description is after\n",
    "tis_pct_df = tis_df[tis_df['Truth in Sentencing'].str.contains('%')]\n",
    "tis_split = tis_pct_df['Truth in Sentencing'].str.split('%')\n",
    "tis_pct_df['TIS Pct'] = tis_split.apply(lambda x: float(x[0]) / 100)\n",
    "tis_pct_df['TIS Desc'] = tis_split.apply(lambda x: x[1].strip())\n",
    "\n",
    "tis_pct_df['TIS Desc'].replace('', np.nan, inplace=True)\n",
    "\n",
    "tis_non_pct_df = tis_df[~tis_df.index.isin(tis_pct_df.index)]\n",
    "tis_df = pd.concat([tis_pct_df, tis_non_pct_df])\n",
    "\n",
    "# if desc is day-for-day, 50%\n",
    "tis_df.loc[tis_df['Truth in Sentencing'] == 'Day-for-Day', 'TIS Pct'] = 0.5\n",
    "tis_df.loc[tis_df['Truth in Sentencing'] == 'Day-for-Day', 'TIS Desc'] = 'Day-for-Day'\n",
    "\n",
    "# if desc is Missing or null, null pct, and convert to nulls\n",
    "tis_df.loc[tis_df['Truth in Sentencing'].isin(['Missing', 'nan']), 'TIS Pct'] = np.nan\n",
    "tis_df.loc[tis_df['Truth in Sentencing'].isin(['Missing', 'nan']), 'TIS Desc'] = np.nan\n",
    "tis_df.loc[tis_df['Truth in Sentencing'].isin(['Missing', 'nan']), 'Truth in Sentencing'] = np.nan\n",
    "\n",
    "# if tis is a number, pass to the pct field\n",
    "tis_df.loc[tis_df['Truth in Sentencing'].isin(['1', '0.85']), 'TIS Pct'] = tis_df.loc[tis_df['Truth in Sentencing'].isin(['1', '0.85']), 'Truth in Sentencing'].astype(float)\n",
    "tis_df.loc[tis_df['Truth in Sentencing'].isin(['1', '0.85']), 'TIS Desc'] = np.nan\n",
    "\n",
    "# combine back to full df\n",
    "non_tis_df = df[~df.index.isin(tis_df.index)]\n",
    "non_tis_df['TIS Pct'] = np.nan\n",
    "non_tis_df['TIS Desc'] = non_tis_df['Truth in Sentencing']\n",
    "\n",
    "df = pd.concat([tis_df, non_tis_df])\n",
    "\n",
    "# check outcomes\n",
    "print('\\n')\n",
    "pd.set_option('display.max_rows', 25)\n",
    "print(tis_df[['Truth in Sentencing', 'TIS Pct', 'TIS Desc']].drop_duplicates())\n",
    "\n",
    "if len(df) != len1:\n",
    "    print('ERROR: Splitting TIS changed the df length')\n",
    "    1/0\n",
    "    \n",
    "# df5 = df.copy()\n",
    "\n"
   ]
  },
  {
   "cell_type": "markdown",
   "id": "ddec5ddf",
   "metadata": {},
   "source": [
    "**Holding offenses**\n",
    "There are a lot of similar but slightly different values here. They need to be bucketed/categorized.\n",
    "* Some can be bucketed based on the JHA interns' list.\n",
    "* For the rest, bucket based on keywords found in the holding offense.\n",
    "    * The order of operations matters. E.g. GUN --> weapon offense must come before POSS --> drug offense, since many weapons offenses include the string POSS."
   ]
  },
  {
   "cell_type": "code",
   "execution_count": 12,
   "id": "36bcb01a",
   "metadata": {},
   "outputs": [
    {
     "name": "stdout",
     "output_type": "stream",
     "text": [
      "Person - Death/Physical Injury                         402317\n",
      "Person - Death/Physical Injury Unclear                 324369\n",
      "Drugs                                                  301449\n",
      "Property                                               260979\n",
      "Sex                                                    204435\n",
      "Firearms/Weapon                                         98837\n",
      "DUI/Vehicle Violation Without Death/Physical Injury     52849\n",
      "State/Other                                             43268\n",
      "Sex Offender/MVOAY Registry Violation                   25528\n",
      "Name: Holding Offense Cat, dtype: int64\n"
     ]
    }
   ],
   "source": [
    "len1 = len(df)\n",
    "\n",
    "df['Holding Offense'] = df['Holding Offense'].apply(lambda x: str(x).strip())\n",
    "\n",
    "\n",
    "# specific holding offenses from interns' list\n",
    "inj_death_list = ['AB/NEGLECT ELD/DEATH/CAREGIVER', 'AGG BATTERY CHILD <13/GREAT BOD HARM', 'AGG BATTERY OF A CHILD', 'AGG BATTERY W/FIREARM/PERSON', 'AGG BATTERY/CHILD <13/PERM DISABL', 'AGG BATTERY/DISCHARGE FIREARM', 'AGG BATTERY/FIREARM/OFF/FIREMAN', 'AGG BATTERY/GREAT BOD HARM/60+', 'AGG BATTERY/GREAT BOD HARM/FLAME SUBST', 'AGG BATTERY/GREAT BOD HARM/PC OFF', 'AGG BATTERY/GREAT BODILY HARM', 'AGG BATTERY/HARM/PEACE OFFICER', 'AGG BATTERY/MERCHANT', 'AGG BTRY/UNLAWFUL DEL/CON SUB', 'AGG KIDNAPING/INFLICT HARM', 'AGG STALKING/BODILY HARM', 'AGG STALKING/BODILY HARM/2ND', 'AGG VEH HIJACKING/DISCH/HARM', 'AGGRAVATED BATTERY W/FIREARM', 'ARMED ROBBERY/DISCHARGE/HARM', 'DOM BTRY/BOD HARM/4+ PRI CONV', 'DOMESTIC BATTERY/BODILY HARM', 'HEINOUS BATTERY', 'HOME INVASION/CAUSE INJURY', 'HOME INVASION/DISCH FIREARM/HARM', 'INTIMIDATION/PHYSICAL HARM', 'MURDER/2ND DEGREE MURDER', 'MURDER/2ND DEGREE/PROVOCATION', 'MURDER/2ND DEGREE/UNREASON', 'MURDER/HOMICIDE/UNBORN CHILD', 'MURDER/INTENT TO KILL/INJURE', 'MURDER/OTHER FORCIBLE FELONY', 'MURDER/STRONG PROB KILL/INJURE', 'RECKLESS CONDUCT/GREAT BODILY HARM', 'VOLUN MANSL/NEGL-DEATH ANOTHER', 'DRUG INDUCED HOMICIDE', 'AGG DUI BODILY HARM/.10+/CHILD', 'AGG DUI/ACCIDENT/BODILY HARM', 'AGG DUI/ACCIDENT/DEATH', 'AGG DUI/BODILY HARM W/CHILD', 'AGG DUI/DEATH OF ANOTHER', 'AGG DUI/GREAT BODILY HARM', 'INVOL MANSLAUGHTER ATV/BOAT', 'INVOL MANSLAUGHTER FAMILY/BOAT', 'RECKLESS HOMIC/INCLINE/DEATH 2+', 'RECKLESS HOMIC/TRAFFIC CONTROL', 'RECKLESS HOMICIDE', 'RECKLESS HOMICIDE/.08 ALC/DRUG', 'RECKLESS HOMICIDE/ALC/CONVIC', 'RECKLESS HOMICIDE/ALC/DRUG', 'RECKLESS HOMICIDE/KILL 2 INDIV', 'SNOWMB OUI OF ALCOHOL/DEATH', 'INVOL MANSLAUGHTER/FAMILY MEMBER', 'INVOLUNTARY MANSLAUGHTER']\n",
    "inj_death_unclear_list = ['AGG ASLT PEACE OFF/FIRE/ER WRK', 'AGG ASLT/OP MOTOR VEH/STRUCK', 'AGG ASLT/STATE IL EMP/WEAPON', 'AGG ASSAULT/CORRECTIONAL EMP', 'AGG ASSAULT/DHS EMPLOYEE', 'AGG ASSAULT/DISCH FIREARM MV', 'AGG ASSAULT/OP MOTOR VEH/PC OFF', 'AGG ASSAULT/USE FOREARM/PEACE OFF', 'AGG BATTERY SR CITIZEN >60 YRS', 'AGG BATTERY/CONTROLLED SUB', 'AGG BATTERY/GOVERNMENT EMP', 'AGG BATTERY/INGEST TOXIC SUBST', 'AGG BATTERY/JUDGE/EMT', 'AGG BATTERY/PEACE OFF/FIREMAN', 'AGG BATTERY/PEACE OFFICER', 'AGG BATTERY/PREGNANT/HANDICAPPED', 'AGG BATTERY/PUBLIC PLACE', 'AGG BATTERY/STRANGLE/PREV CONV', 'AGG BATTERY/TRANSIT EMPLOYEE', 'AGG BATTERY/USE DEADLY WEAPON', 'AGG BATTERY/WEAPON/NO FIREARM', 'AGG DISCH FIREARM/PC OFF/FIREMAN', 'AGG DISCH FIREARM/VEH/PC OFF/FRMAN', 'AGG DISCH SILENCER PERSON/VEH', 'AGG DISCHARGE FIREARM/BLDG', 'AGG DISCHARGE FIREARM/OCC BLDG', 'AGG DISCHARGE FIREARM/OCC VEH', 'AGG DOMESTIC BATTERY/STRANGLE', 'AGG INTIMIDATION PEACE OFFICER', 'AGG KIDNAPING ARMED W FIREARM', 'AGG KIDNAPING/CHILD<13/RETARDED', 'AGG KIDNAPING/CONCEAL IDENT', 'AGG ROBBERY/CONTROLLED SUB', 'AGG ROBBERY/INDICATE ARM W/FIR', 'AGG STALKING/VIO REST ORDER', 'AGG VEHICULAR HIJACKING/DISCHARGE', 'AGG VEHICULAR HIJACKING/FIREARM', 'AGG VEHICULAR HIJACKING/HANDICAPPED', 'AGG VEHICULAR HIJACKING/PASS <16 YRS', 'AGG VEHICULAR HIJACKING/WEAPON', 'AGGRAVATED ASSAULT', 'AGGRAVATED BATTERY/NURSE', 'AGGRAVATED BATTERY/STRANGLE', 'AGGRAVATED BATTERY/VICTIM 60+', 'AGGRAVATED DISCHARGE/FIREARM', 'AGGRAVATED DOMESTIC BATTERY', 'AGGRAVATED KIDNAPING/ARMED', 'AGGRAVATED KIDNAPING/RANSOM', 'AGGRAVATED ROBBERY', 'AGGRAVATED TRAFFICKING/BENEFIT', 'AGGRAVATED UNLAWFUL RESTRAINT', 'AGGRAVATED VEHICULAR HIJACKING', 'ARMED ROBBERY', 'ARMED ROBBERY/ARMED W/FIREARM', 'ARMED ROBBERY/DISCH FIREARM', 'ARMED ROBBERY/NO FIREARM', 'ARMED VIOL/CATEGORY I WEAPON', 'ARMED VIOL/CATEGORY II WEAP/1ST', 'ARMED VIOL/CATEGORY II WEAPON', 'ARMED VIOL/CATEGORY III WEAPON', 'CAUSE CHILD/ENDANGERED/2+', 'CHILD ABDUCTN/CONCEAL/DETAIN', 'COMMUNICATE/DETAIN WITNESS', 'CRIM TRES TO RES/PERS PRESENT', 'DISMEMBERING A HUMAN BODY', 'DOM BTRY/CONTACT/3 PRIOR CONV', 'DOMESTIC BATTERY/ CONTACT/PRIOR', 'DOMESTIC BATTERY/PHY CONTACT/2ND+', 'DOMESTIC BATTERY/VIOL PROTECT ORDER', 'GIVE FALSE BOMB/GAS ALARM', 'HABITUAL CRIMINAL/2 PRIOR CL X', 'HARASS JURORS/WITNESSES', 'HARASS WITNESS', 'HARASSMENT BY PHONE/4TH +', 'HOME INVASION', 'HOME INVASION/ARMED W/FIREARM', 'HOME INVASION/ARMED/FORCE', 'HOME INVASION/DANDEROUS WEAP', 'HOME INVASION/DISCH FIREARM', 'HOME INVASION/FIREARM', 'HOME INVASION/SEX OFFENSE', 'HOME INVASION/VIO AGAINST PERS', 'HRSMT/PREVENT/SERV/SAME VIC', 'HRSMT/THREATEN PERSON/KILL', 'HUMAN TRAFFICKING FOR LABOR/BENEFITS', 'INTIMIDATION/CONTEMPT/RIDICULE', 'INTIMIDATION/CRIMINAL OFFENSE', 'INVOL SERVITUDE/THREAT PHYS HARM', 'KIDNAPING ARMED WITH FIREARM', 'KIDNAPING DISCHARGE FIREARM', 'KIDNAPING W FORCE OR THREAT', 'KIDNAPING/SECRETLY CONFINE', 'PHONE HRSMT/LEWD/THREAT KILL', 'RECKLESS DISCH FIREARM/ENDANGERS', 'ROBBERY', 'ROBBERY/SCHOOL/PLACE WORSHIP', 'ROBBERY/VIC HANDICAP / 60+', 'ROBBERY/VIC HANDICAP OR 60+ YR', 'STALKING BY TRANSMITTING THREAT', 'STALKING/PERSON/SURVEILLANCE', 'STALKING/TRANSMITS THREAT/2ND', 'UNLAWFUL RESTRAINT', 'UNLAWFUL VEHICULAR INVASION', 'VEHICULAR HIJACKING', 'VIO ORDER/PRIOR VIO OF ORDER', 'VIOLATE ORDER/PRIOR DOM BATTERY', 'AB/NEGLECT ELDERLY/CAREGIVER', 'ARMED VIOL/CATEGORY II WEAP/2ND+', 'CONTEMPT', 'KIDNAPING/DECEIT OR ENTICE', 'VIOLATE STALKING NO CONTACT/2+', 'CHILD ABDUCT/LURE/VIC<17/PRIOR', 'WINDOW PEEPING 3RD+', 'ATT AGG BATTERY/CHILD <13/PERM DISABL', 'ATT AGG BATTERY/PEACE OFFICER', 'ATT AGG DISCHARGE FIREARM', 'ATT AGG DISCHARGE FIREARM AT VEH', 'ATT AGG DISCHARGE FIREARM OFFICER', 'ATT AGG VEHICLE HIJACK W WEAPON', 'ATT ARMED ROBBERY/ARMED', 'ATT ARMED ROBBERY/NO FIREARM', 'ATT DRUG-INDUCED HOMICIDE', 'ATT HOME INVASION/ARMED W/FIREARM', 'ATT HOME INVASION/FIREARM', 'ATTEMPT AGG BATTERY OF A CHILD', 'ATTEMPT AGG BATTERY/DISCHARGE FIREARM', 'ATTEMPT AGG DISCHARGE/FIREARM', 'ATTEMPT AGG KIDNAPG/CHILD<13/RETARD', 'ATTEMPT AGG KIDNAPING/INFLICT HARM', 'ATTEMPT AGG ROBBERY/INDICATE ARM W/FIR', 'ATTEMPT AGG VEHICULAR HIJACKING', 'ATTEMPT AGGRAVATED ROBBERY', 'ATTEMPT ARMED ROBBERY', 'ATTEMPT ARMED VIO/CATEGORY I WEAPON', 'ATTEMPT DISARM PC OFF/CORR EMP', 'ATTEMPT HARASS JURORS/WITNESSES', 'ATTEMPT HOME INVASION/CAUSE INJURY', 'ATTEMPT INTENT/HOMICIDE/UNBORN CHILD', 'ATTEMPT KIDNAP ARMED W FIREARM', 'ATTEMPT MURDER/INTENT TO KILL/INJURE', 'ATTEMPT MURDER/OTHER FORCIBLE FELONY', 'ATTEMPT MURDER/STRONG PROB KILL/INJURE', 'ATTEMPT ROBBERY', 'ATTEMPT ROBBERY/VIC HANDICAP OR 60+ YR', 'ATTEMPT SOLICITATION/MURDER/FOR HIRE', 'ATTEMPT VEHICULAR HIJACKING', 'CONSP AGGRAVATED ROBBERY', 'CONSP ARMED ROBBERY', 'CONSP MURDER/INTENT TO KILL/INJURE', 'SOLICIT MURDER/INTENT TO KILL/INJURE', 'SOLICITATION ROBBERY', 'SOLICITATION/MURDER', 'SOLICITATION/MURDER/FOR HIRE', 'CONSP ROBBERY', 'ATTEMPT AGG KIDNAP/CONCEAL IDENTITY', 'ATTEMPT KIDNAPING/SECRETLY CONFINE', 'CONSP AGG BATTERY/DISCHARGE FIREARM']\n",
    "sex_list = ['AGG CHILD PORN/DISSEM FILM', 'AGG CHILD PORN/EXHIBIT', 'AGG CHILD PORN/LEWD EXHIBITION', 'AGG CHILD PORN/PERSON/ANIMAL', 'AGG CHILD PORN/POSS FILM/PHOTO', 'AGG CHILD PORN/POSS FILM/PREV', 'AGG CRIM SEX AB/VIC <18/FAMILY', 'AGG CRIM SEX ABUSE', 'AGG CRIM SEX ABUSE/<5 YR VIC', 'AGG CRIM SEX ABUSE/BODILY HARM', 'AGG CRIM SEX ABUSE/DURING FELONY', 'AGG CRIM SEX ABUSE/FAMILY', 'AGG CRIM SEX ABUSE/FORCE/VIC 9-13', 'AGG CRIM SEX ABUSE/INTELLIG DISABL', 'AGG CRIM SEX ABUSE/VIC <13', 'AGG CRIM SEX ABUSE/VIC 13-16', 'AGG CRIM SEX ABUSE/VIC 13-17', 'AGG CRIM SEX ABUSE/VICTIM <13', 'AGG CRIM SEX ABUSE/VICTIM <9', 'AGG CRIM SEX ASLT/INTEL DISABL', 'AGG CRIM SEX ASLT/THREAT LIFE', 'AGG CRIM SEX ASSAULT/BODILY HARM', 'AGG CRIM SEX ASSAULT/FELONY', 'AGG CRIM SEX ASSAULT/FIREARM', 'AGG CRIM SEX ASSAULT/FORCE VIC9-13', 'AGG CRIM SEX ASSAULT/HANDICAPPED', 'AGG CRIM SEX ASSAULT/RETARDED', 'AGG CRIM SEX ASSAULT/THREAT LIFE', 'AGG CRIM SEX ASSAULT/VIC 60+', 'AGG CRIM SEX ASSAULT/VICTIM <13', 'AGG CRIM SEX ASSAULT/VICTIM <9', 'AGG CRIM SEX ASSAULT/VICTIM >60', 'AGG CRIM SEX ASSAULT/WEAPON', 'AGG CRIM SEXUAL ABUSE/FELONY', 'AGG CRIM SEXUAL ASSAULT/CON SUB', 'AGG CRIM SX AB/VIC 13<18/TRUST', 'AGG CRIM SX ASLT/FORCE VIC9-13', 'AGG IND LIB/CHILD/INFLICT HARM', 'CHILD PORN/FILM/TAPE/PHOTO/ACT', 'CHILD PORN/MOVING DEPICTION', 'CHILD PORN/PERS/ANIM/MOV DPTN', 'CHILD PORN/PERSON/ANIMAL', 'CHILD PORN/POSE/EXHIBITION', 'CHILD PORN/POSS FILM/PHOTOS', 'CHILD PORN/POSS PHOTO/VIC <13', 'CHILD PORN/POSS/MOVING DPTN', 'CHILD PORN/REPRODUCE/MOV DPTN', 'CHILD PORN/REPRODUCE/SELL', 'CHILD PORN/SOL CHILD/MOV DPTN', 'CHILD PORN/SOL/CHILD/APPEAR', 'CHILD PORNOGRAPHY/VICTIM <13', 'CRIM SEX ABUSE/CANT CONSENT/2ND', 'CRIM SEX ASLT/FAM MBR <18/2+', 'CRIM SEX ASLT/FAMILY MEMBER<18', 'CRIM SEX ASLT/FORCE/PREV CONV', 'CRIM SEX ASSAULT/CANT CONSENT', 'CRIM SEX ASSAULT/CANT CONSENT/2ND', 'CRIM SEX ASSAULT/FAMILIES', 'CRIM SEX ASSAULT/FAMILIES/2ND+', 'CRIM SEX ASSAULT/FORCE', 'CRIM SEX ASSAULT/FORCE/2ND+', 'CRIM SEX ASSAULT/SUPERVN VIC 13-17', 'CRIM SEX ASSAULT/VICTIM 13-17', 'CRIM SEX ASSAULT/VICTIM 13-17/2ND', 'CRIM SEXUAL ABUSE/CONSENT', 'CRIM SEXUAL ABUSE/CONSENT/2+', 'CRIMINAL SEX ASSAULT/CONSENT', 'CRIMINAL SEXUAL ABUSE/FORCE', 'DEVIATE SEXUAL ASSAULT', 'GROOMING', 'INDECENT SOL ADULT/<13/PENETRATION', 'INDECENT SOL/AGG CRIM SEX ABUSE', 'INDECENT SOL/CRIM SEX ASSAULT', 'INDECENT SOL/PREDITORY/AGG SEX', 'NONCONSENSUAL  DISSM SEX IMAGE', 'PERMIT SEXUAL ABUSE OF CHILD', 'PRED CRIM SEX ASSLAUT/VICTIM <13', 'PREDATORY CRIM SEX ASSAULT/FIREARM', 'PREDATORY CRIM SEX ASSAULT/HARM', 'PREDATORY CRIMINAL SEXUAL ASSAULT', 'PROM JUV PROST/MINOR <13/RETAR', 'PUBLIC INDECENCY/EXPOSURE/3+', 'RAPE', 'RAPE PRIOR TO 2/1/78', 'SEX RELATIONS WITHIN FAMILIES', 'SEXUALLY DANGEROUS PERSON', 'TRAFFIC SEX SERV MINOR < 17', 'TRAVELING TO MEET A MINOR', 'UNLAWFUL VIDEO/VIC<18/SEX OFF', 'EXPLOIT CHILD/SEX ACT/2ND', 'CUSTODIAL SEXUAL MISCONDUCT', 'INDECENT SOLICIT CHILD/INTERNET', 'ATT AGG CRIM SEX ASSAULT VIC 60+', 'ATT CRIM SEX ASSAULT/FORCE', 'ATT PERMIT SEXUAL ABUSE OF CHILD', 'ATTEMPT AGG CRIM SEX ASLT/BODILY HARM', 'ATTEMPT AGG CRIM SEX ASSAULT', 'ATTEMPT AGG CRIM SEX ASSAULT/BODILY HARM', 'ATTEMPT AGG CRIM SEX ASSAULT/FELONY', 'ATTEMPT AGG CRIM SEX ASSAULT/VICTIM >60', 'ATTEMPT AGG CRIM SEX ASSAULT/WEAPON', 'ATTEMPT AGG CRIM SX AB/>5 YR OLDER VIC', 'ATTEMPT CRIM SEX ASSAULT/FORCE', 'ATTEMPT CRIM SEX ASSAULT/VICTIM 13-17', 'ATTEMPT PRED CRIM SEX ASLT/VICTIM <13', 'ATTEMPT PRED CRIMINAL SEXUAL ASSAULT', 'SOL AGG CRIM SEX ASSAULT/VIC 60+']\n",
    "drugs_list = ['15<200 OBJECT/PARTS LSD/ANALOG', 'AGG DEL METH PROTECTED <5 GRAMS', 'AGG DEL METH/PROTECTED/100+ GR', 'AGG DEL METH/PROTECTED/5<15 GRAMS', 'AGG METH MANU/ORGANIZE/100<400 GR', 'AGG METH MANU/PROTECTED<15', 'AGG METH MANU/WORSHIP/<15 GR', 'AGG METH MANUF/APT/<15 GRAMS', 'AGG METH MANUF/APT/100<400 GR', 'AGG METH MANUF/CHILD 15<100 GRAMS', 'AGG METH MANUF/CHILD/<15 GRAMS', 'AGG METH MANUF/CHLD/100<400 GRAMS', 'AGG METH MANUF/CHLD/400+ GR', 'AGG METH MANUF/ORGANIZE/<15 GR', 'CALCULATED CRIM DRUG CONSP', 'CALCULATED CRIM DRUG CONSPIR', 'CANNABIS TRAFFICKING', 'CONT SUBS ACT-MANU/DEL', 'CONTROLLED SUB TRAFFICKING', 'CRIM DRUG CONSPIRACY', 'CRIMINAL DRUG CONSPIRACY', 'CRIMINAL DRUG CONSPIRACY >100 GR', 'DEL CONT SUB<18/PARK/SCHOOL/PUB HOUS', 'DEL CONT/COUNT SUB TO <18', 'DEL METH <5 GRAMS', 'DEL/NON NARC SCHED I/II/SC/HS/PARK', 'DISPOSE METH MANUF WASTE', 'MAN/DEL OTHER AMOUNT AMPHETAMINE', 'MANU 5>15 GRAMS ECSTASY', 'MANU/DEL 01-15 GRAMS COCAINE', 'MANU/DEL 1-14 GRAMS HEROIN', 'MANU/DEL 1<15 GRAM FENTANYL', 'MANU/DEL 10-15 GRAMS HEROIN', 'MANU/DEL 10<15 OBJECTS/PARTS LSD', 'MANU/DEL 10>15 PILLS ECSTASY', 'MANU/DEL 100<400 GR FENTANYL', 'MANU/DEL 100<400 GRAMS COCAINE', 'MANU/DEL 100<400 GRAMS HEROIN', 'MANU/DEL 100<400 GRAMS LSD', 'MANU/DEL 100>400 GR ECSTASY', 'MANU/DEL 15/+ GRAMS HEROIN', 'MANU/DEL 15/+GRAMS COCAINE', 'MANU/DEL 15<100 GRAMS COCAINE', 'MANU/DEL 15<100 GRAMS HEROIN', 'MANU/DEL 15<100 GRAMS LSD', 'MANU/DEL 15>100 GR ECSTASY', 'MANU/DEL 15>200 PILLS ECSTASY', 'MANU/DEL 1500+ PILLS ECSTASY', 'MANU/DEL 200+ SCHED I&II', 'MANU/DEL 200+GRAMS METH/AMPH', 'MANU/DEL 200>600 PILLS ECSTASY', 'MANU/DEL 2ND OR SUBQ OFFENSE IN ACT', 'MANU/DEL 3-15 GRAMS LSD', 'MANU/DEL 400<900 GRAMS COCAINE', 'MANU/DEL 400<900 GRAMS METH', 'MANU/DEL 50-200 GRAMS SCHED I&II', 'MANU/DEL 600<1500 OBJECTS/PARTS LSD', 'MANU/DEL 900+ GRAMS COCAINE', 'MANU/DEL 900+ GRAMS ECSTASY', 'MANU/DEL 900+ GRAMS HEROIN', 'MANU/DEL AMT NARC SCHED I/II/SCHOOL/HS/PARK', 'MANU/DEL BARB ACID/SC/PUB HOUS/PARK', 'MANU/DEL CANNABIS/>5,000 GRAMS', 'MANU/DEL CANNABIS/>500 GRAMS', 'MANU/DEL CANNABIS/10-30 GRAMS', 'MANU/DEL CANNABIS/2000<5000 GRAMS', 'MANU/DEL CANNABIS/30-500 GRAMS', 'MANU/DEL COCAINE/SCHOOL/PUB HOUS/PARK', 'MANU/DEL CONT SUBS (PRIOR 1/1/90)', 'MANU/DEL CONT SUBS/ENHANCED', 'MANU/DEL HEROIN/SCHOOL/PUB HOUS/PARK', 'MANU/DEL OTHER AMOUNT SCHEDULE III', 'MANU/DEL OTHER AMOUNT SCHEDULE IV', 'MANU/DEL OTHER AMT METH', 'MANU/DEL OTHER AMT NARC SCHED I&II', 'MANU/DEL OTHER AMT NARCOTIC SCHED I&II', 'MANU/DEL OTHER NON-NARCOTIC SCHED I&II', 'MANU/DEL SCHED I/II/SCH/HS/PARK', 'MANU/DISTRIB LOOK-ALIKE SUB', 'METH CONSP CONT SUBS >100 GR', 'METH DELIVERY/100<400 GR', 'METH DELIVERY/15<100 GRAMS', 'METH DELIVERY/400<900 GR', 'METH DELIVERY/5<15 GRAMS', 'METH DELIVERY/900+ GR', 'METH DELIVERY<5 GRAMS', 'METH MANUFACTURE/100<400 GR', 'METH MANUFACTURE<15 GRAMS', 'METH MANUFACTURING/100<400 GRAMS', 'METH MANUFACTURING/15<100 GR', 'METH MANUFACTURING/15<100 GRAMS', 'METH MANUFACTURING/400<900 GR', 'METH MANUFACTURING/400<900 GRAMS', 'METH MANUFACTURING/900+ GR', 'METH MANUFACTURING<15 GRAMS', 'METH PRECURSOR TRAFFICKING', 'METH PRECURSOR/15<30 GRAMS', 'METH PRECURSOR/500+ GRAMS', 'METH PRECURSOR<15 GRAMS', 'METHAMPHETAMINE CONSPIRACY', 'METHAMPHETAMINE TRAFFICKING', 'MFG/DEL 100<400 GR HERO/ANLG', 'MFG/DEL 15<100 GR FENTANYL', 'MFG/DEL 15<100 GR HEROIN/ANLG', 'MFG/DEL 400<900 GR HERO/ANLG', 'NARCOTICS RACKETEERING', 'OBTAIN SUBSTANCE BY FRAUD/1ST', 'POSS AMT CON SUB EXCEPT(A)/(D)', 'POSS CANNABIS/>5,000 GRAMS', 'POSS CANNABIS/10-30 GRAM/SUBQ', 'POSS CANNABIS/2,000<5,000 GRAMS', 'POSS CANNABIS/500<2,000 GRAMS', 'POSS CONT SUBS', 'POSS HYPO/SYRINGE/NEEDLES/2ND+', 'POSS METH MANUF MATERIAL', 'POSS OF METH < 5 GRAMS', 'POSS OF METH/ 15<100 GRAMS', 'POSSESS 100<400 GRAMS COCAINE', 'POSSESS 100<400 GRAMS HEROIN', 'POSSESS 15+ GRAMS COCAINE', 'POSSESS 15+ GRAMS HEROIN', 'POSSESS 15+ GRAMS MORPHINE', 'POSSESS 15<100 GRAMS COCAINE', 'POSSESS 15<100 GRAMS HEROIN', 'POSSESS 15<100 GRAMS METH', 'POSSESS 15<200 OBJECT/PART LSD', 'POSSESS 15>200 PILLS ECSTASY', 'POSSESS 1500+ PILLS ECSTASY/ANALOG', 'POSSESS 200+ GRAMS OTHER SCHED I&II', 'POSSESS 400<900 GRAMS COCAINE', 'POSSESS 400<900 GRAMS HEROIN', 'POSSESS 900 + GRAMS COCAINE', 'POSSESS 900 + GRAMS HEROIN', 'POSSESSION OF METH/100<400 GRAMS', 'POSSESSION OF METH/15<100 GRAMS', 'POSSESSION OF METH/400<900 GR', 'POSSESSION OF METH/5<15 GRA', 'POSSESSION OF METH/900+ GR', 'POSSESSION OF METH< 5 GRAMS', 'PRODUCE >200 CANNABIS PLANTS', 'TAMPER W/ANHYD AMM EQUIPMENT', 'USE OF DANGEROUS PLACE/CON SUB', 'USE VEH/STRUCTURE/PROP/METH', 'POSS BLANK COUNTERFEIT SCRIPT', 'POSS CANNABIS/30-500 GRAM/1ST', 'MANU/DEL CONT SUBS', 'MANU/DEL 10<30 GRAMS KETAMINE', 'POSS 400>900 GR ECSTASY/ANALOG', 'PRODUCE 5-20 CANNABIS PLANTS', 'ATT MANU 200>600 PILLS ECSTASY', 'ATT METH PRECURSOR/30<150 GR', 'ATTEMPT MANU/DEL 15/+GRAMS COCAINE', 'ATTEMPT MANU/DEL CANNABIS/>500 GRAMS', 'ATTEMPT MANU/DEL OTHER AMT NARC', 'ATTEMPT POSS METH MANUF MATERIAL', 'ATTEMPT POSSESS 15<100 GRAMS COCAINE', 'CONSP MANU/DEL 01-15 GRAMS COCAINE', 'CONSP MANU/DEL OTHER AMOUNT METH', 'CONSP MFG/DEL CANNABIS/>5,000 GRAMS', 'SOLICIT MANU/DEL 01-15 GRAMS COCAINE', 'ATTEMPT MANU/DEL 01-15 GRAMS COCAINE', 'CONSPIRACY METH MANUFACTURE<15 GRAMS', 'ATTEMPT POSS AMT CON SUB', 'CONSP MANU/DEL 15/+GRAMS COCAINE']\n",
    "property_list = ['AGG ARSON', 'AGG ARSON/INJURE FIRE/POLICE', 'AGG ARSON/KNOW PEOPLE PRESENT', 'AGG HOME FRAUD VIC >60 >%500', 'AGG ID THEFT/<$300/DISABLED', 'AGG ID THEFT/$10,000-$100,000/60 YRS+', 'AGG ID THEFT/$300-10,000/60 YRS +', 'AGG ID THEFT/AGE 60+/2+', 'AGG ID THFT/10K-100K/GANG ACTS', 'AGG ID THFT/ID STOLEN/VIC 60+', 'AGG INSURANCE FRAUD', 'AGGRAVATED ARSON', 'AGGRAVATED ARSON/BODILY HARM', 'AID/ABET/POSS/SELL STOLEN VEH', 'ARSON', 'ARSON/REAL/PERSONAL PROP>$1', 'BAD CHK/OBTAIN CON PROP/>150', 'BURGLARY', 'BURGLARY W/O CAUSING DAMAGE', 'BURGLARY/SCHOOL/PLACE WORSHIP', 'CAUSING A CATASTROPHE', 'CONTINUING FINANCE CRIME ENTRPRS', 'COUNTERFEIT CREDIT/DEBIT CARD', 'CRIM DMG TO PROP $300-10000', 'CRIMINAL DAMAGE $10000-$100000', 'DEFRAUD FINANC INST/$500-$10,000', 'DEFRAUD FINANCIAL INST/>$100K', 'FIN EXPLOIT ELDERLY/70+/$15K+', 'FINANCE EXPLOIT ELD/DISABL/$300-$5,000', 'FINANCIAL INSTITUTION ROBBERY', 'FORGERY /MAKE OR ALTER DOCUMENT', 'FORGERY/ISSUE DOCUMENT/1 UPC', 'FORGERY/ISSUE/DELIVER DOCUMENT', 'FORGERY/POSSESS W INTENT', 'ID THEFT/OBTAIN/3+ INDIV', 'ID THFT/OBTAIN INFO/COMMIT FEL', 'IDENTITY THEFT >$100,000', 'IDENTITY THEFT/<$300', 'IDENTITY THEFT/$10K - $100K', 'IDENTITY THEFT/$2000-$10,000', 'IDENTITY THEFT/$300-$2000', 'IDENTITY THEFT/KNOWS ID STOLEN', 'KNOW ID STOLEN/MILITARY VIC/2+', 'MOB ACTION', 'ORGANIZE/AGG VEH THEFT CONSPIR', 'ORGANIZER/FIN CRIME ENTRPRS', 'POSS STOLEN VEHICLE > $25,000', 'POSSESS BURGLARY TOOLS', 'RECEIVE/POSS/SELL STOLEN VEH', 'RECEIVE/POSS/SELL STOLEN VEHICLE', 'RESIDENTIAL ARSON', 'RESIDENTIAL BURGLARY', 'RET THEFT/DISP MERCH/<$300/PREV CONV', 'RET THEFT/DISP MERCH/>$300', 'RETAIL THEFT/DISP MERCH/<$150/2+', 'RETAIL THEFT/EMERGENCY EXIT/>$300', 'RETAIL THEFT/MOTOR FUEL/>$150', 'THEFT', 'THEFT <$300', 'THEFT <$300 PRIOR', 'THEFT <$300 WITH PRIOR', 'THEFT <$300/PRIOR CONVICT', 'THEFT <$300/SCHOOL/WORSHIP', 'THEFT >$10,000 <$100,000', 'THEFT >$10,000-$100,000', 'THEFT >$100,000-$500,000', 'THEFT >$100,000/SCHOOL/WORSHIP', 'THEFT >$300-$10,000', 'THEFT $300-$10,000/SCHOOL/WORSHIP', 'THEFT $300<$10,000', 'THEFT CONTROL INTENT <$500 PRIOR', 'THEFT CONTROL INTENT $500<$10,000', 'THEFT CONTROL INTENT 10K<100K', 'THEFT CONTROL OF PROPERTY <$500', 'THEFT DECEP INTENT $10,000<$100,000', 'THEFT DECEPTION INTENT 300<10,000', 'THEFT DECEPTION INTENT 500<10000', 'THEFT STOLEN <$300 PRIOR', 'THEFT STOLEN INTENT PERS <$300', 'THEFT STOLEN/>$300 <$10,000', 'THEFT/COIN OP MACHINE/2ND+', 'THEFT/CONTROL INTENT>$500K-1M', 'THEFT/CONTROL/INTENT >$1M', 'THEFT/DECEPTION > $100,000', 'THEFT/DECEPTION >$500,000', 'THEFT/DECEPTION/<$500 PRIOR', 'THEFT/DECEPTION/>$500 <10K', 'THEFT/EMER EXIT/<$300/PRECONV', 'THEFT/STOLEN/ <$500 PRIOR CONV', 'THEFT/STOLEN/>$10,000 <$100,000', 'THEFT/UNAUTHD CONTROL>$300<10000', 'THFT/SWITCH PRICE/<300/PRECONV', 'UNLAWFUL POSS CREDIT/DEBIT CARD', 'UNLAWFUL POSS/DRIVER/VEH/STOLEN', 'UNLAWFUL POSS>3VEH/PARTS/STOLEN', 'USE FORGED CREDIT/DEBIT CARD/>$300', 'VEHICLE THEFT CONSPIRACY', 'FORGE REGISTRATION, ETC', 'ID THEFT/USE ID/COMMIT FELONY', 'IDENTITY THEFT $2,000<$10,000', 'THEFT/FALSE REP/<$300/PRECONV', 'USE OF ACCT NUMBER/CODE/>$150', 'AID/ABET CONCEAL/MISREP VEHICLE', 'RETAIL THEFT/EMERGENCY EXIT/<$300', 'HOME REPAIR FRAUD/CONTRACT >$1,000', 'THFT/LES RTN PROP/<300/PRECONV', 'USE OF ACCT NUMBER/CODE/<$150', 'CRIM DAMAGE PROP>$100,000', 'RET THEFT/MOTOR FUEL/<$150/PREV CONV', 'UNLAWFUL USE ID CARD/THEFT', 'ATT RECEIVE/POSS/SELL STOLEN VEH', 'ATTEMPT AGG ARSON', 'ATTEMPT ARSON', 'ATTEMPT ARSON >$150', 'ATTEMPT BURGLARY', 'ATTEMPT BURGLARY/SCHOOL/PLACE WORSHIP', 'ATTEMPT POSS STOLEN TITLE/CERTIF/PLATE', 'ATTEMPT POSS STOLEN VEHICLE > $25,000', 'ATTEMPT RESIDENTIAL ARSON', 'ATTEMPT RESIDENTIAL BURGLARY', 'ATTEMPT THEFT >$10,000-$100,000', 'CONSP RESIDENTIAL BURGLARY', 'ATTEMPT AID/ABET CONCEAL/MISREP VEHICLE']\n",
    "weapon_list = ['AGG POSS/11-20 STOLEN FIREARMS', 'AGG POSS/2-5 STOLEN FIREARMS', 'AGG UNLAWFUL USE OF WEAPON/VEH', 'AGG UNLAWFUL USE WEAPON/VEH/2ND', 'AGG UUW/ON PERSON', 'AGG UUW/PERS/FIR LOADED/FOID', 'AGG UUW/PERSON/PREV CONVICTION', 'AGG UUW/VEH/PREV CONVICTION', 'ARMED HABITUAL CRIMINAL', 'FIREARM/AMMO ACT-POSS WO/ID CARD', 'FIREARM/FOID INVALID/NO ELIG', 'GUNRUNNING', 'POSS EXPLOSIVE/INCENDIARY DEVICE', 'POSS FIREARM W/ DEFACED SER NO', 'POSS FIREARM/FOID NO ISSUE/NO ELIG', 'POSS FIREARM/LAND/GANG MEMBER', 'POSS OF FIREARM BY GANG MEMBER', 'POSSESSION OF STOLEN FIREARM', 'UNLAWFUL POSS HANDGUN/DEL/<21', 'UUW-FELON POSS WEAPON/BODY ARMOR', 'UUW-FELON POSS/USE FIREARM PRIOR', 'UUW-FELON POSS/USE FIREARM/PAROLE', 'UUW-FELON POSS/USE WEAPON/FIREARM', 'UUW/CARRY/POSS FIREARM/SCHOOL', 'UUW/MACHINE GUN/AUTO WEAPON/VEH', 'UUW/RIFLE <16 IN/SHOTGUN <18', 'UUW/CARRY/POSS FIREARM/2ND+', 'AGG UUW/PERSON/LOADED FIREARM/2+', 'UUW/CARRY/POSS FIREARM/1ST', 'ATT AGG POSS/31+ STOLEN FIREARMS', 'ATT FELON POSS/USE WEAP/BODY ARMOR', 'ATTEMPT AGG UUW W/ BODY ARMOR/PRIVATE', 'ATTEMPT UUW/FELON POSS/USE FIREARM/PAROLE', 'ATT POSS FIREARM/VEHICLE/GANG MEMBER', 'ATTEMPT POSSESSION OF STOLEN FIREARM']\n",
    "vehicle_list = ['AGG DUI', 'AGG DUI - SCHOOL BUS DRIVER', 'AGG DUI / 5TH DUI', 'AGG DUI / NO VALID INSURANCE', 'AGG DUI LIC SUSP OR REVOKED', 'AGG DUI/ 4TH /BAC 0.16+', 'AGG DUI/3', 'AGG DUI/3/BAC .16+', 'AGG DUI/3/PASS <16', 'AGG DUI/3RD/LIC SUSP OR REV', 'AGG DUI/3RD+', 'AGG DUI/4', 'AGG DUI/4TH/LIC SUSP OR REVOKED', 'AGG DUI/5/BAC 0.16>', 'AGG DUI/6+', 'AGG DUI/6+/BAC 0.16+', 'AGG DUI/DO DRIVER LICENSE', 'AGG DUI/LIC SUSP OR REVOKED', 'AGG DUI/NO VALID DL', 'AGG DUI/NO VALID INS', 'AGGRAVATED DUI/3RD+ DUI', 'DUI/3RD/BAC 0.16+', 'DUI/4TH+/LIC SUSP OR REVOKE', 'DUI/6TH', 'AGG DUI NO VALID DRIVERS LICENSE', 'AGG DUI/3RD+ DUI', 'DRIV LIC REVOKED/RECK HOMIC/2', 'DRIVE REVOKED/RECK HOMIC', 'DRIVE REVOKED/RECKL HOMIC/3', 'DRIVE W REVOKED/RECK HOMIC/4+', 'DRIVING RVK/SUSP DUI/SSS 4-9', 'DRIVING W/ REVOKE/SUSPEND LICENSE 2ND+', 'DRIVING W/ SUSPEND/REVOKE LICENSE 10-14', 'DRIVING W/ SUSPEND/REVOKE LICENSE 15+', 'DRIVING W/ SUSPEND/REVOKE LICENSE 2ND', 'DRIVING W/ SUSPEND/REVOKE LICENSE 3RD', 'DRIVING W/ SUSPEND/REVOKE LICENSE 4-9', 'REVOKED/SUSPENDED 2ND DUI']\n",
    "registry_list = ['VIOLENT OFF/YOUTH FAIL REGIS NEW RESID/SCHOOL', 'VIOLENT OFF/YOUTH FAIL REGIS/FAIL TO REPORT', 'VIOLENT OFF/YOUTH FAIL REGISTER IN ILLINOIS', 'VIOLENT OFF/YOUTH FAIL REGIS IN ILLINOIS 2+', 'CHIL SEX OFFEN/RESIDE SAY CARE', 'CHILD SEX OFFENDER/PUBLIC PARK', 'CHILD SEX OFFENDER/RESIDE 500FT', 'FAIL REGIS/NEW REDIS/SCH/2ND+', 'FAIL TO REPORT ANNUALLY/2+', 'SEX OFF FAIL REGISTER NEW RESIDENCE', 'SEX OFF FAIL REPORT CHANGE ADDR/EMPL', 'SEX OFF FAIL REPORT CHANGE ADDRESS/EMPLOY', 'SEX OFF FAIL TO REPORT ANNUALLY', 'SEX OFF FAIL TO REPORT WEEKLY/2ND', 'SEX OFFENDER AT PUBLIC PARK', 'SEX OFFENDER GIVE FALSE INFO/2ND', 'SEX OFFENDER REGIS VIOLATION', 'SEX OFFENDER REGIS/FALSE INFO', 'SEX VIOL/DANGEROUS FAIL TO RPT', 'PHOTO/DIGITAL IMAGE OF CHILD BY SEX OFFENDER', 'ATT SEX OFF FAIL REPORT/NO ADDR/2', 'ATT VIOL SEX OFFENDER REGIS ACT']\n",
    "other_list = ['AGG FLEEING POLICE/21 MPH OVER', 'AGG FLEEING POLICE/2ND', 'AGG FLEEING/2+ CON DVC/2ND', 'AGG FLEEING/2+ DISOBEY TRAFFIC DEVICES', 'AGG FLEEING/21 MPH OVER/2ND', 'AGG FLEEING/DAMAGE >$300 PROPERTY', 'BRIBERY/OFFER BRIBE', 'BRING CANNABIS IN A PENAL INST', 'BRING CON SUBSTANCE PENAL INST', 'BRING TOOL IN A PENAL INSTITUTION', 'BRING/POSS CONTRAB IN PENAL INST', 'CAUSE/BRG CON SUB PENAL INST', 'CONCEAL HOMICIDAL DEATH', 'CONCEAL/AID FUGITIVE', 'CONSP AGAINST CIVIL RIGHTS', 'DISARM PC OFF/CORR INST EMP', 'DISARMING A PEACE OFFICER', 'ESCAPE FROM DEPT OF CORRECTION', 'ESCAPE OF FELON FROM PENAL INST', 'ESCAPE/VIOLATE ELEC MONITORING', 'FAIL REPORT ACCIDENT/DEATH/INJURY', 'FAILURE REPORT ACCIDENT/DEATH', 'FAILURE REPORT ACCIDENT/INJURY', 'FALSE ALARM/COMPLAINT TO 911', 'FALSE PERSONATION OF POLICE', 'FALSE REPORT OF OFFENSE', 'FELON ESCAPE/PEACE OFFICER', 'FELON FAIL TO RETURN FROM FURLOUGH', 'FELON PROBATIONER ESCAPE OFF', 'FLEEING/ATTEMPT ELUDE OFF 3+', 'INDIRECT CRIMINAL CONTEMPT', 'MANUF/POSS ADULTERANTS DRUG TEST', 'MONEY LAUNDERING >$500,000', 'OBSTRUCT JUST/DESTROY EVIDENCE', 'OBSTRUCTING JUSTICE', 'POSS CONTROL SUBST PENAL INST', 'POSS CONTROL SUBSTANCE IN PENAL INST', 'POSS FRAUDULENT ID CARD', 'POSS/FRAUD/DL/PERMIT', 'POSSESS CANNIBIS PENAL INST', 'POSSESS ELEC CONTRABAND PENAL INST', 'POSSESS WEAPON IN PENAL INST', 'RESIST/OBSTRUC OFFICER/INJURY', 'RICO ACQUIRE ENTERPRISE', 'RICO CONSPIRACY TO VIOLATE', 'TERRORISM/FALSE THREAT', 'THREATEN PUBLIC OFFICIAL', 'THREATEN PUBLIC OFFICIAL/2ND', 'UUW-FELON POSS WEAPON IN PRISON', 'VENDOR FRAUD/KICKBACKS VIOL', 'CRIM DAMAGE/GOVT PROP/EXPL/<$500', 'CRIM DMG/GOVT PROP/<$500', 'CRIM DMG/GOVT PROP/>$500-$10K', 'RESIST/OBSTRUCT OFFICER/INJURY', 'UUW-FELON POSS/USE WEAP/PRISON', 'CRIM DAMAGE/STATE PROP/FIRE>$100,000', 'POSS/DISP ID CARD TO ANOTHER', 'ATT FOIL/DEFEAT SCREEN TEST', 'ATTEMPT ESCAPE FELON FROM PENAL INST', 'AGGRAVATED CRUELTY TO ANIMALS', 'ANIMAL TORTURE/2ND', 'CRUELTY TO ANIMALS/2ND', 'DOG FIGHTING/ATTEND SHOW']\n",
    "\n",
    "df.loc[df['Holding Offense'].isin(inj_death_list), 'Holding Offense Cat'] = 'Person - Death/Physical Injury'\n",
    "df.loc[df['Holding Offense'].isin(inj_death_unclear_list), 'Holding Offense Cat'] = 'Person - Death/Physical Injury Unclear'\n",
    "df.loc[df['Holding Offense'].isin(sex_list), 'Holding Offense Cat'] = 'Sex'\n",
    "df.loc[df['Holding Offense'].isin(drugs_list), 'Holding Offense Cat'] = 'Drugs'\n",
    "df.loc[df['Holding Offense'].isin(property_list), 'Holding Offense Cat'] = 'Property'\n",
    "df.loc[df['Holding Offense'].isin(weapon_list), 'Holding Offense Cat'] = 'Firearms/Weapon'\n",
    "df.loc[df['Holding Offense'].isin(vehicle_list), 'Holding Offense Cat'] = 'DUI/Vehicle Violation Without Death/Physical Injury'\n",
    "df.loc[df['Holding Offense'].isin(registry_list), 'Holding Offense Cat'] = 'Sex Offender/MVOAY Registry Violation'\n",
    "df.loc[df['Holding Offense'].isin(other_list), 'Holding Offense Cat'] = 'State/Other'\n",
    "\n",
    "\n",
    "# categorize unlisted offenses based on \"like\" criteria\n",
    "# ----- these won't be 100% accurately categorized, but it should be close -----\n",
    "offense_cat_dict = {'SEX OFF': 'Sex Offender/MVOAY Registry Violation',\n",
    "                    'SEX': 'Sex',\n",
    "                    'INDEC': 'Sex',\n",
    "                    'MURDER': 'Person - Death/Physical Injury',\n",
    "                    'HOMIC': 'Person - Death/Physical Injury',\n",
    "                    'HARM': 'Person - Death/Physical Injury',\n",
    "                    'PORN': 'Sex',\n",
    "                    'DUI': 'DUI/Vehicle Violation Without Death/Physical Injury',\n",
    "                    'ASSAULT': 'Person - Death/Physical Injury Unclear',\n",
    "                    'BATTERY': 'Person - Death/Physical Injury Unclear',\n",
    "                    'DISCH': 'Firearms/Weapon',\n",
    "                    'FIREA': 'Firearms/Weapon',\n",
    "                    'THEFT': 'Property',\n",
    "                    'STOLE': 'Property',\n",
    "                    'METH': 'Drugs',\n",
    "                    'KINAP': 'Person - Death/Physical Injury Unclear',\n",
    "                    'ROBB': 'Property',\n",
    "                    'WEAP': 'Firearms/Weapon',\n",
    "                    'GUN': 'Firearms/Weapon',\n",
    "                    'POSS': 'Drugs',   # this one especially contains non-drug offenses\n",
    "                    'ARSON': 'Property',\n",
    "                    'ABD': 'Person - Death/Physical Injury Unclear',\n",
    "                    'DEL': 'Drugs',\n",
    "                    'MANS': 'Person - Death/Physical Injury',\n",
    "                    'MAN': 'Drugs',\n",
    "                    'ENDANGER': 'Person - Death/Physical Injury Unclear',\n",
    "                    'CANNA': 'Drugs',\n",
    "                    'PROP': 'Property',\n",
    "                    'DRUG': 'Drugs'\n",
    "                    }\n",
    "\n",
    "# for each key word, label all holding offenses that contain that key word\n",
    "for key, val in offense_cat_dict.items():    \n",
    "    df.loc[(df['Holding Offense'].str.contains(key)) & (pd.isnull(df['Holding Offense Cat'])), 'Holding Offense Cat'] = val\n",
    "\n",
    "    \n",
    "# label those that are still uncategorized as other\n",
    "df.loc[pd.isnull(df['Holding Offense Cat']), 'Holding Offense Cat'] = 'State/Other'\n",
    "\n",
    "\n",
    "if len(df) != len1:\n",
    "    print('ERROR: categorizing offenses changed the df length')\n",
    "    1/0\n",
    "    \n",
    "print(df['Holding Offense Cat'].value_counts())\n",
    "\n",
    "# df6 = df.copy()\n",
    "\n"
   ]
  },
  {
   "cell_type": "markdown",
   "id": "2bdc444d",
   "metadata": {},
   "source": [
    "**Parent Intitutions**\n",
    "\n",
    "Clean up the names to be consistent."
   ]
  },
  {
   "cell_type": "code",
   "execution_count": 13,
   "id": "ef6d0726",
   "metadata": {
    "scrolled": true
   },
   "outputs": [
    {
     "name": "stdout",
     "output_type": "stream",
     "text": [
      "Big Muddy River             66979\n",
      "Centralia                   58486\n",
      "Danville                    70854\n",
      "Decatur                     25203\n",
      "Dixon                       88510\n",
      "Dwight                      16680\n",
      "East Moline                 47084\n",
      "Graham                      74303\n",
      "Hill                        71932\n",
      "Illinois River              81825\n",
      "Jacksonville                58227\n",
      "Joliet Treatment Center      3072\n",
      "Kewanee Reentry Center       3669\n",
      "Lawrence                    83172\n",
      "Lincoln                     38527\n",
      "Logan                       69616\n",
      "Menard                     127417\n",
      "Pinckneyville               90781\n",
      "Pontiac                     59704\n",
      "Robinson                    45549\n",
      "Shawnee                     73001\n",
      "Sheridan                    60867\n",
      "Southwestern IL             13734\n",
      "Southwestern Illinois       10934\n",
      "Stateville                 140062\n",
      "Tamms                        5734\n",
      "Taylorville                 44973\n",
      "Thomson                      1068\n",
      "Transportation                  2\n",
      "Vandalia                    51893\n",
      "Vienna                      54216\n",
      "Western Illinois            75957\n",
      "Name: Parent Institution, dtype: int64\n"
     ]
    }
   ],
   "source": [
    "# remove CC appendix from  names\n",
    "last_two_char = df['Parent Institution'].apply(lambda x: x[-2:])\n",
    "df.loc[last_two_char == 'CC', 'Parent Institution'] = df.loc[last_two_char == 'CC', 'Parent Institution'].apply(lambda x: x[:-3])\n",
    "\n",
    "# check remaining names\n",
    "pd.set_option('display.max_rows', 60)\n",
    "print(df['Parent Institution'].value_counts().sort_index())\n",
    "\n",
    "# change Southwestern IL to Illinois\n",
    "df.loc[df['Parent Institution'] == 'Southwestern IL', 'Parent Institution'] = 'Southwestern Illinois'\n",
    "\n",
    "df7 = df.copy()\n",
    "\n"
   ]
  },
  {
   "cell_type": "markdown",
   "id": "ec721f38",
   "metadata": {},
   "source": [
    "**Admission Type**\n",
    "\n",
    "Update labels for consistency."
   ]
  },
  {
   "cell_type": "code",
   "execution_count": 14,
   "id": "aca31908",
   "metadata": {
    "scrolled": true
   },
   "outputs": [
    {
     "name": "stdout",
     "output_type": "stream",
     "text": [
      "Admit From Other Custody                 3537\n",
      "COVID-19 County Admit                    3147\n",
      "Conditional Release Violator              452\n",
      "Conditional Release, New Sent               3\n",
      "Court Admissions                        47693\n",
      "Direct From Court                      696858\n",
      "Discharged & Recommitted               583409\n",
      "EDV                                        13\n",
      "Juv Parole To Adult Parole                  1\n",
      "MSR Violator, New Sentence             129088\n",
      "New Sentence Violators                   2917\n",
      "None                                    42094\n",
      "Not In IDOC Custody                        72\n",
      "Other                                     219\n",
      "Parole Violator, New Sentence            2349\n",
      "Return Additional Mittimus              24237\n",
      "Return To Custody                         128\n",
      "Technical MSR Violator                 164443\n",
      "Technical Parole Violator                 699\n",
      "Technical Violators                      4321\n",
      "Transferred From Juvenile                8339\n",
      "Work Release Violator                       7\n",
      "Work Release Violator, New Sentence         1\n",
      "Work Release Violator, New Sentnce          4\n",
      "Name: Admission Type, dtype: int64\n"
     ]
    }
   ],
   "source": [
    "# update to title case\n",
    "df['Admission Type'] = df['Admission Type'].str.title()\n",
    "df['Admission Type'] = df['Admission Type'].str.replace('Covid', 'COVID').str.replace('Msr', 'MSR').str.replace('Idoc', 'IDOC').str.replace('Edv', 'EDV')\n",
    "\n",
    "# check the values\n",
    "pd.set_option('display.max_rows', 60)\n",
    "print(df['Admission Type'].value_counts().sort_index())\n",
    "\n",
    "# update values for consistency\n",
    "df.loc[df['Admission Type'] == 'Conditional Release, New Sent', 'Admission Type'] = 'Conditional Release, New Sentence'\n",
    "df.loc[df['Admission Type'] == 'Work Release Violator, New Sentnce', 'Admission Type'] = 'Work Release Violator, New Sentence'\n",
    "\n",
    "# replace commas with hyphens\n",
    "df['Admission Type'] = df['Admission Type'].str.replace(',', ' -')\n",
    "\n",
    "# replace None with nan\n",
    "df.loc[df['Admission Type'] == 'None', 'Admission Type'] = np.nan\n",
    "\n",
    "\n"
   ]
  },
  {
   "cell_type": "markdown",
   "id": "0ce02ea4",
   "metadata": {},
   "source": [
    "**Admission Type**\n",
    "\n",
    "IDOC changed their labels during certain quarters in more recent data. Check which changed and categorize appropriately.\n"
   ]
  },
  {
   "cell_type": "code",
   "execution_count": 15,
   "id": "b1ce6d9e",
   "metadata": {
    "scrolled": true
   },
   "outputs": [
    {
     "data": {
      "image/png": "[encoded data removed]",
      "text/plain": [
       "<Figure size 576x3600 with 15 Axes>"
      ]
     },
     "metadata": {
      "needs_background": "light"
     },
     "output_type": "display_data"
    }
   ],
   "source": [
    "change_df = df[df['Doc Date'] >= date(2020, 1, 1)]\n",
    "\n",
    "# for recent data, plot the number of individuals with each admission type\n",
    "plot_df = change_df[['Admission Type', 'Doc Date', 'IDOC #']].groupby(['Admission Type', 'Doc Date']).count().reset_index()\n",
    "\n",
    "# keep only the admission types with significant numbers\n",
    "plot_df = plot_df[plot_df['IDOC #'] > 10]\n",
    "\n",
    "# convert dates to strings\n",
    "plot_df['Doc Date'] = plot_df['Doc Date'].apply(lambda x: dt.strftime(x, '%Y-%m-%d'))\n",
    "\n",
    "# get doc_dates for x axis\n",
    "doc_dates = plot_df[['Doc Date']].drop_duplicates()\n",
    "\n",
    "# plot bar charts for admission types each quarter\n",
    "fig, axs = plt.subplots(len(plot_df['Admission Type'].unique()), figsize=(8, 50), sharex=True)#, sharey=True)\n",
    "i = 0\n",
    "\n",
    "for at in plot_df['Admission Type'].unique():\n",
    "    # get the relevant df ordered by doc date\n",
    "    at_df = plot_df[plot_df['Admission Type'] == at]\n",
    "    at_df = pd.merge(doc_dates, at_df, on='Doc Date', how='left')\n",
    "    date_order = sorted(doc_dates['Doc Date'].unique())\n",
    "    at_df = at_df.set_index(at_df['Doc Date']).loc[date_order]\n",
    "    \n",
    "    # plot the relevant df\n",
    "    axs[i].bar(at_df['Doc Date'], at_df['IDOC #'])\n",
    "    axs[i].title.set_text(at)\n",
    "    \n",
    "    i += 1\n",
    "    \n",
    "plt.xticks(rotation=90)\n",
    "plt.show()\n",
    "\n"
   ]
  },
  {
   "cell_type": "markdown",
   "id": "fc126a25",
   "metadata": {},
   "source": [
    "For Jun and Dec 2021 (and going forward?), IDOC used different labels.\n",
    "* Before Jun 2021\n",
    "    * Direct From Court\n",
    "    * Admit From Other Custody\n",
    "    * MSR Violator - New Sentence\n",
    "    * Parole Violator - New Sentence\n",
    "    * Discharged & Recommitted\n",
    "    * Conditional Release Violator\n",
    "    * Technical MSR Violator\n",
    "    * Technical Parole Violator\n",
    "    * Transferred from Juvenile\n",
    "    * Return Additional Mittimus\n",
    "    * COVID-19 County Admit\n",
    "* Jun and Dec 2021\n",
    "    * Court Admissions\n",
    "    * New Sentence Violators\n",
    "    * Technical Violators\n",
    "    * Other"
   ]
  },
  {
   "cell_type": "code",
   "execution_count": 16,
   "id": "e609536a",
   "metadata": {
    "scrolled": true
   },
   "outputs": [
    {
     "name": "stdout",
     "output_type": "stream",
     "text": [
      "             Before Admission Type    After Admission Type  Count\n",
      "0         Admit From Other Custody        Court Admissions     11\n",
      "1         Admit From Other Custody                   Other    100\n",
      "2            COVID-19 County Admit        Court Admissions   2770\n",
      "3            COVID-19 County Admit  New Sentence Violators    195\n",
      "4            COVID-19 County Admit     Technical Violators      2\n",
      "5     Conditional Release Violator                   Other     15\n",
      "6                Direct From Court        Court Admissions  12674\n",
      "7         Discharged & Recommitted        Court Admissions  10160\n",
      "8      MSR Violator - New Sentence        Court Admissions      1\n",
      "9      MSR Violator - New Sentence  New Sentence Violators   1399\n",
      "10     MSR Violator - New Sentence     Technical Violators      7\n",
      "11             Not In IDOC Custody                   Other      1\n",
      "12  Parole Violator - New Sentence  New Sentence Violators     35\n",
      "13      Return Additional Mittimus        Court Admissions    601\n",
      "14               Return To Custody                   Other      1\n",
      "15          Technical MSR Violator  New Sentence Violators     13\n",
      "16          Technical MSR Violator     Technical Violators   2296\n",
      "17       Technical Parole Violator     Technical Violators      7\n",
      "18       Transferred From Juvenile        Court Admissions    115\n"
     ]
    }
   ],
   "source": [
    "# prep data for a sankey diagram to show the relationship between the labels in the two time periods\n",
    "\n",
    "sankey_df = df[df['Doc Date'] >= date(2021, 3, 1)]\n",
    "sankey_df = sankey_df[sankey_df['Admission Type'] != 'None']\n",
    "\n",
    "# convert dates to strings\n",
    "sankey_df['Doc Date'] = sankey_df['Doc Date'].apply(lambda x: dt.strftime(x, '%Y-%m-%d'))\n",
    "\n",
    "# break into before and after\n",
    "sankey_df = sankey_df[['IDOC #', 'Current Admission Date', 'Admission Type', 'Doc Date']].drop_duplicates()\n",
    "after_df = sankey_df[sankey_df['Doc Date'].isin(['2021-06-30', '2021-12-31'])]\n",
    "before_df = sankey_df[~sankey_df.index.isin(after_df.index)]\n",
    "\n",
    "# recombine with before and after columns\n",
    "after_df = after_df.drop('Doc Date', axis=1).rename(columns={'Admission Type': 'After Admission Type'})\n",
    "before_df = before_df.drop('Doc Date', axis=1).rename(columns={'Admission Type': 'Before Admission Type'})\n",
    "sankey_df = pd.merge(before_df, after_df, on=['IDOC #', 'Current Admission Date'], how='outer')\n",
    "\n",
    "# drop dupes and count totals for each before/after combo\n",
    "sankey_df = sankey_df.drop_duplicates()[['Before Admission Type', 'After Admission Type', 'IDOC #']].groupby(['Before Admission Type', 'After Admission Type']).count().reset_index().rename(columns={'IDOC #': 'Count'})\n",
    "print(sankey_df)\n",
    "\n",
    "# get the node df - a df dictionary of admission types and indices\n",
    "node_df = pd.concat([sankey_df[['Before Admission Type']].rename(columns={'Before Admission Type': 'AT'}),\n",
    "                       sankey_df[['After Admission Type']].rename(columns={'After Admission Type': 'AT'})])\n",
    "node_df = node_df.drop_duplicates().reset_index(drop=True).reset_index().rename(columns={'index': 'ID'})\n",
    "node_df['Color'] = get_hex(len(node_df))\n",
    "\n",
    "# get the links df\n",
    "links_df = pd.merge(sankey_df, \n",
    "                    node_df[['AT', 'ID', 'Color']].rename(columns={'ID': 'Source', 'Color': 'Link Color'}), \n",
    "                    left_on='Before Admission Type', right_on='AT', how='inner')\n",
    "links_df = pd.merge(links_df, \n",
    "                    node_df[['AT', 'ID']].rename(columns={'ID': 'Target'}), \n",
    "                    left_on='After Admission Type', right_on='AT', how='inner')\n",
    "links_df['Link Color'] = links_df['Link Color'].apply(lambda x: 'rgba' + str(get_rgb_from_hex(x) + (0.5,)))\n",
    "links_df = links_df[['Source', 'Target', 'Link Color', 'Count']]\n",
    "\n"
   ]
  },
  {
   "cell_type": "code",
   "execution_count": 25,
   "id": "252dacac",
   "metadata": {
    "scrolled": true
   },
   "outputs": [
    {
     "data": {
      "application/vnd.plotly.v1+json": {
       "config": {
        "plotlyServerURL": "https://plot.ly"
       },
       "data": [
        {
         "link": {
          "color": [
           "rgba(31, 119, 180, 0.5)",
           "rgba(174, 199, 232, 0.5)",
           "rgba(255, 187, 120, 0.5)",
           "rgba(152, 223, 138, 0.5)",
           "rgba(214, 39, 40, 0.5)",
           "rgba(140, 86, 75, 0.5)",
           "rgba(199, 199, 199, 0.5)",
           "rgba(31, 119, 180, 0.5)",
           "rgba(255, 127, 14, 0.5)",
           "rgba(255, 152, 150, 0.5)",
           "rgba(196, 156, 148, 0.5)",
           "rgba(174, 199, 232, 0.5)",
           "rgba(214, 39, 40, 0.5)",
           "rgba(148, 103, 189, 0.5)",
           "rgba(227, 119, 194, 0.5)",
           "rgba(174, 199, 232, 0.5)",
           "rgba(214, 39, 40, 0.5)",
           "rgba(227, 119, 194, 0.5)",
           "rgba(247, 182, 210, 0.5)"
          ],
          "source": [
           0,
           1,
           3,
           4,
           5,
           8,
           12,
           0,
           2,
           6,
           9,
           1,
           5,
           7,
           10,
           1,
           5,
           10,
           11
          ],
          "target": [
           13,
           13,
           13,
           13,
           13,
           13,
           13,
           14,
           14,
           14,
           14,
           15,
           15,
           15,
           15,
           16,
           16,
           16,
           16
          ],
          "value": [
           11,
           2770,
           12674,
           10160,
           1,
           601,
           115,
           100,
           15,
           1,
           1,
           195,
           1399,
           35,
           13,
           2,
           7,
           2296,
           7
          ]
         },
         "node": {
          "color": [
           "#1f77b4",
           "#aec7e8",
           "#ff7f0e",
           "#ffbb78",
           "#98df8a",
           "#d62728",
           "#ff9896",
           "#9467bd",
           "#8c564b",
           "#c49c94",
           "#e377c2",
           "#f7b6d2",
           "#c7c7c7",
           "#bcbd22",
           "#dbdb8d",
           "#17becf",
           "#9edae5"
          ],
          "label": [
           "Admit From Other Custody",
           "COVID-19 County Admit",
           "Conditional Release Violator",
           "Direct From Court",
           "Discharged & Recommitted",
           "MSR Violator - New Sentence",
           "Not In IDOC Custody",
           "Parole Violator - New Sentence",
           "Return Additional Mittimus",
           "Return To Custody",
           "Technical MSR Violator",
           "Technical Parole Violator",
           "Transferred From Juvenile",
           "Court Admissions",
           "Other",
           "New Sentence Violators",
           "Technical Violators"
          ],
          "line": {
           "color": "black",
           "width": 0
          },
          "pad": 20,
          "thickness": 30
         },
         "type": "sankey"
        }
       ],
       "layout": {
        "font": {
         "size": 12
        },
        "height": 1000,
        "template": {
         "data": {
          "bar": [
           {
            "error_x": {
             "color": "#2a3f5f"
            },
            "error_y": {
             "color": "#2a3f5f"
            },
            "marker": {
             "line": {
              "color": "#E5ECF6",
              "width": 0.5
             },
             "pattern": {
              "fillmode": "overlay",
              "size": 10,
              "solidity": 0.2
             }
            },
            "type": "bar"
           }
          ],
          "barpolar": [
           {
            "marker": {
             "line": {
              "color": "#E5ECF6",
              "width": 0.5
             },
             "pattern": {
              "fillmode": "overlay",
              "size": 10,
              "solidity": 0.2
             }
            },
            "type": "barpolar"
           }
          ],
          "carpet": [
           {
            "aaxis": {
             "endlinecolor": "#2a3f5f",
             "gridcolor": "white",
             "linecolor": "white",
             "minorgridcolor": "white",
             "startlinecolor": "#2a3f5f"
            },
            "baxis": {
             "endlinecolor": "#2a3f5f",
             "gridcolor": "white",
             "linecolor": "white",
             "minorgridcolor": "white",
             "startlinecolor": "#2a3f5f"
            },
            "type": "carpet"
           }
          ],
          "choropleth": [
           {
            "colorbar": {
             "outlinewidth": 0,
             "ticks": ""
            },
            "type": "choropleth"
           }
          ],
          "contour": [
           {
            "colorbar": {
             "outlinewidth": 0,
             "ticks": ""
            },
            "colorscale": [
             [
              0,
              "#0d0887"
             ],
             [
              0.1111111111111111,
              "#46039f"
             ],
             [
              0.2222222222222222,
              "#7201a8"
             ],
             [
              0.3333333333333333,
              "#9c179e"
             ],
             [
              0.4444444444444444,
              "#bd3786"
             ],
             [
              0.5555555555555556,
              "#d8576b"
             ],
             [
              0.6666666666666666,
              "#ed7953"
             ],
             [
              0.7777777777777778,
              "#fb9f3a"
             ],
             [
              0.8888888888888888,
              "#fdca26"
             ],
             [
              1,
              "#f0f921"
             ]
            ],
            "type": "contour"
           }
          ],
          "contourcarpet": [
           {
            "colorbar": {
             "outlinewidth": 0,
             "ticks": ""
            },
            "type": "contourcarpet"
           }
          ],
          "heatmap": [
           {
            "colorbar": {
             "outlinewidth": 0,
             "ticks": ""
            },
            "colorscale": [
             [
              0,
              "#0d0887"
             ],
             [
              0.1111111111111111,
              "#46039f"
             ],
             [
              0.2222222222222222,
              "#7201a8"
             ],
             [
              0.3333333333333333,
              "#9c179e"
             ],
             [
              0.4444444444444444,
              "#bd3786"
             ],
             [
              0.5555555555555556,
              "#d8576b"
             ],
             [
              0.6666666666666666,
              "#ed7953"
             ],
             [
              0.7777777777777778,
              "#fb9f3a"
             ],
             [
              0.8888888888888888,
              "#fdca26"
             ],
             [
              1,
              "#f0f921"
             ]
            ],
            "type": "heatmap"
           }
          ],
          "heatmapgl": [
           {
            "colorbar": {
             "outlinewidth": 0,
             "ticks": ""
            },
            "colorscale": [
             [
              0,
              "#0d0887"
             ],
             [
              0.1111111111111111,
              "#46039f"
             ],
             [
              0.2222222222222222,
              "#7201a8"
             ],
             [
              0.3333333333333333,
              "#9c179e"
             ],
             [
              0.4444444444444444,
              "#bd3786"
             ],
             [
              0.5555555555555556,
              "#d8576b"
             ],
             [
              0.6666666666666666,
              "#ed7953"
             ],
             [
              0.7777777777777778,
              "#fb9f3a"
             ],
             [
              0.8888888888888888,
              "#fdca26"
             ],
             [
              1,
              "#f0f921"
             ]
            ],
            "type": "heatmapgl"
           }
          ],
          "histogram": [
           {
            "marker": {
             "pattern": {
              "fillmode": "overlay",
              "size": 10,
              "solidity": 0.2
             }
            },
            "type": "histogram"
           }
          ],
          "histogram2d": [
           {
            "colorbar": {
             "outlinewidth": 0,
             "ticks": ""
            },
            "colorscale": [
             [
              0,
              "#0d0887"
             ],
             [
              0.1111111111111111,
              "#46039f"
             ],
             [
              0.2222222222222222,
              "#7201a8"
             ],
             [
              0.3333333333333333,
              "#9c179e"
             ],
             [
              0.4444444444444444,
              "#bd3786"
             ],
             [
              0.5555555555555556,
              "#d8576b"
             ],
             [
              0.6666666666666666,
              "#ed7953"
             ],
             [
              0.7777777777777778,
              "#fb9f3a"
             ],
             [
              0.8888888888888888,
              "#fdca26"
             ],
             [
              1,
              "#f0f921"
             ]
            ],
            "type": "histogram2d"
           }
          ],
          "histogram2dcontour": [
           {
            "colorbar": {
             "outlinewidth": 0,
             "ticks": ""
            },
            "colorscale": [
             [
              0,
              "#0d0887"
             ],
             [
              0.1111111111111111,
              "#46039f"
             ],
             [
              0.2222222222222222,
              "#7201a8"
             ],
             [
              0.3333333333333333,
              "#9c179e"
             ],
             [
              0.4444444444444444,
              "#bd3786"
             ],
             [
              0.5555555555555556,
              "#d8576b"
             ],
             [
              0.6666666666666666,
              "#ed7953"
             ],
             [
              0.7777777777777778,
              "#fb9f3a"
             ],
             [
              0.8888888888888888,
              "#fdca26"
             ],
             [
              1,
              "#f0f921"
             ]
            ],
            "type": "histogram2dcontour"
           }
          ],
          "mesh3d": [
           {
            "colorbar": {
             "outlinewidth": 0,
             "ticks": ""
            },
            "type": "mesh3d"
           }
          ],
          "parcoords": [
           {
            "line": {
             "colorbar": {
              "outlinewidth": 0,
              "ticks": ""
             }
            },
            "type": "parcoords"
           }
          ],
          "pie": [
           {
            "automargin": true,
            "type": "pie"
           }
          ],
          "scatter": [
           {
            "marker": {
             "colorbar": {
              "outlinewidth": 0,
              "ticks": ""
             }
            },
            "type": "scatter"
           }
          ],
          "scatter3d": [
           {
            "line": {
             "colorbar": {
              "outlinewidth": 0,
              "ticks": ""
             }
            },
            "marker": {
             "colorbar": {
              "outlinewidth": 0,
              "ticks": ""
             }
            },
            "type": "scatter3d"
           }
          ],
          "scattercarpet": [
           {
            "marker": {
             "colorbar": {
              "outlinewidth": 0,
              "ticks": ""
             }
            },
            "type": "scattercarpet"
           }
          ],
          "scattergeo": [
           {
            "marker": {
             "colorbar": {
              "outlinewidth": 0,
              "ticks": ""
             }
            },
            "type": "scattergeo"
           }
          ],
          "scattergl": [
           {
            "marker": {
             "colorbar": {
              "outlinewidth": 0,
              "ticks": ""
             }
            },
            "type": "scattergl"
           }
          ],
          "scattermapbox": [
           {
            "marker": {
             "colorbar": {
              "outlinewidth": 0,
              "ticks": ""
             }
            },
            "type": "scattermapbox"
           }
          ],
          "scatterpolar": [
           {
            "marker": {
             "colorbar": {
              "outlinewidth": 0,
              "ticks": ""
             }
            },
            "type": "scatterpolar"
           }
          ],
          "scatterpolargl": [
           {
            "marker": {
             "colorbar": {
              "outlinewidth": 0,
              "ticks": ""
             }
            },
            "type": "scatterpolargl"
           }
          ],
          "scatterternary": [
           {
            "marker": {
             "colorbar": {
              "outlinewidth": 0,
              "ticks": ""
             }
            },
            "type": "scatterternary"
           }
          ],
          "surface": [
           {
            "colorbar": {
             "outlinewidth": 0,
             "ticks": ""
            },
            "colorscale": [
             [
              0,
              "#0d0887"
             ],
             [
              0.1111111111111111,
              "#46039f"
             ],
             [
              0.2222222222222222,
              "#7201a8"
             ],
             [
              0.3333333333333333,
              "#9c179e"
             ],
             [
              0.4444444444444444,
              "#bd3786"
             ],
             [
              0.5555555555555556,
              "#d8576b"
             ],
             [
              0.6666666666666666,
              "#ed7953"
             ],
             [
              0.7777777777777778,
              "#fb9f3a"
             ],
             [
              0.8888888888888888,
              "#fdca26"
             ],
             [
              1,
              "#f0f921"
             ]
            ],
            "type": "surface"
           }
          ],
          "table": [
           {
            "cells": {
             "fill": {
              "color": "#EBF0F8"
             },
             "line": {
              "color": "white"
             }
            },
            "header": {
             "fill": {
              "color": "#C8D4E3"
             },
             "line": {
              "color": "white"
             }
            },
            "type": "table"
           }
          ]
         },
         "layout": {
          "annotationdefaults": {
           "arrowcolor": "#2a3f5f",
           "arrowhead": 0,
           "arrowwidth": 1
          },
          "autotypenumbers": "strict",
          "coloraxis": {
           "colorbar": {
            "outlinewidth": 0,
            "ticks": ""
           }
          },
          "colorscale": {
           "diverging": [
            [
             0,
             "#8e0152"
            ],
            [
             0.1,
             "#c51b7d"
            ],
            [
             0.2,
             "#de77ae"
            ],
            [
             0.3,
             "#f1b6da"
            ],
            [
             0.4,
             "#fde0ef"
            ],
            [
             0.5,
             "#f7f7f7"
            ],
            [
             0.6,
             "#e6f5d0"
            ],
            [
             0.7,
             "#b8e186"
            ],
            [
             0.8,
             "#7fbc41"
            ],
            [
             0.9,
             "#4d9221"
            ],
            [
             1,
             "#276419"
            ]
           ],
           "sequential": [
            [
             0,
             "#0d0887"
            ],
            [
             0.1111111111111111,
             "#46039f"
            ],
            [
             0.2222222222222222,
             "#7201a8"
            ],
            [
             0.3333333333333333,
             "#9c179e"
            ],
            [
             0.4444444444444444,
             "#bd3786"
            ],
            [
             0.5555555555555556,
             "#d8576b"
            ],
            [
             0.6666666666666666,
             "#ed7953"
            ],
            [
             0.7777777777777778,
             "#fb9f3a"
            ],
            [
             0.8888888888888888,
             "#fdca26"
            ],
            [
             1,
             "#f0f921"
            ]
           ],
           "sequentialminus": [
            [
             0,
             "#0d0887"
            ],
            [
             0.1111111111111111,
             "#46039f"
            ],
            [
             0.2222222222222222,
             "#7201a8"
            ],
            [
             0.3333333333333333,
             "#9c179e"
            ],
            [
             0.4444444444444444,
             "#bd3786"
            ],
            [
             0.5555555555555556,
             "#d8576b"
            ],
            [
             0.6666666666666666,
             "#ed7953"
            ],
            [
             0.7777777777777778,
             "#fb9f3a"
            ],
            [
             0.8888888888888888,
             "#fdca26"
            ],
            [
             1,
             "#f0f921"
            ]
           ]
          },
          "colorway": [
           "#636efa",
           "#EF553B",
           "#00cc96",
           "#ab63fa",
           "#FFA15A",
           "#19d3f3",
           "#FF6692",
           "#B6E880",
           "#FF97FF",
           "#FECB52"
          ],
          "font": {
           "color": "#2a3f5f"
          },
          "geo": {
           "bgcolor": "white",
           "lakecolor": "white",
           "landcolor": "#E5ECF6",
           "showlakes": true,
           "showland": true,
           "subunitcolor": "white"
          },
          "hoverlabel": {
           "align": "left"
          },
          "hovermode": "closest",
          "mapbox": {
           "style": "light"
          },
          "paper_bgcolor": "white",
          "plot_bgcolor": "#E5ECF6",
          "polar": {
           "angularaxis": {
            "gridcolor": "white",
            "linecolor": "white",
            "ticks": ""
           },
           "bgcolor": "#E5ECF6",
           "radialaxis": {
            "gridcolor": "white",
            "linecolor": "white",
            "ticks": ""
           }
          },
          "scene": {
           "xaxis": {
            "backgroundcolor": "#E5ECF6",
            "gridcolor": "white",
            "gridwidth": 2,
            "linecolor": "white",
            "showbackground": true,
            "ticks": "",
            "zerolinecolor": "white"
           },
           "yaxis": {
            "backgroundcolor": "#E5ECF6",
            "gridcolor": "white",
            "gridwidth": 2,
            "linecolor": "white",
            "showbackground": true,
            "ticks": "",
            "zerolinecolor": "white"
           },
           "zaxis": {
            "backgroundcolor": "#E5ECF6",
            "gridcolor": "white",
            "gridwidth": 2,
            "linecolor": "white",
            "showbackground": true,
            "ticks": "",
            "zerolinecolor": "white"
           }
          },
          "shapedefaults": {
           "line": {
            "color": "#2a3f5f"
           }
          },
          "ternary": {
           "aaxis": {
            "gridcolor": "white",
            "linecolor": "white",
            "ticks": ""
           },
           "baxis": {
            "gridcolor": "white",
            "linecolor": "white",
            "ticks": ""
           },
           "bgcolor": "#E5ECF6",
           "caxis": {
            "gridcolor": "white",
            "linecolor": "white",
            "ticks": ""
           }
          },
          "title": {
           "x": 0.05
          },
          "xaxis": {
           "automargin": true,
           "gridcolor": "white",
           "linecolor": "white",
           "ticks": "",
           "title": {
            "standoff": 15
           },
           "zerolinecolor": "white",
           "zerolinewidth": 2
          },
          "yaxis": {
           "automargin": true,
           "gridcolor": "white",
           "linecolor": "white",
           "ticks": "",
           "title": {
            "standoff": 15
           },
           "zerolinecolor": "white",
           "zerolinewidth": 2
          }
         }
        },
        "title": {
         "text": "Change in Admission Type in Jun and Dec 2021"
        }
       }
      },
      "text/html": [
       "<div>                            <div id=\"89cd2795-725e-41d1-9ae2-79ecec49da9f\" class=\"plotly-graph-div\" style=\"height:1000px; width:100%;\"></div>            <script type=\"text/javascript\">                require([\"plotly\"], function(Plotly) {                    window.PLOTLYENV=window.PLOTLYENV || {};                                    if (document.getElementById(\"89cd2795-725e-41d1-9ae2-79ecec49da9f\")) {                    Plotly.newPlot(                        \"89cd2795-725e-41d1-9ae2-79ecec49da9f\",                        [{\"link\":{\"color\":[\"rgba(31, 119, 180, 0.5)\",\"rgba(174, 199, 232, 0.5)\",\"rgba(255, 187, 120, 0.5)\",\"rgba(152, 223, 138, 0.5)\",\"rgba(214, 39, 40, 0.5)\",\"rgba(140, 86, 75, 0.5)\",\"rgba(199, 199, 199, 0.5)\",\"rgba(31, 119, 180, 0.5)\",\"rgba(255, 127, 14, 0.5)\",\"rgba(255, 152, 150, 0.5)\",\"rgba(196, 156, 148, 0.5)\",\"rgba(174, 199, 232, 0.5)\",\"rgba(214, 39, 40, 0.5)\",\"rgba(148, 103, 189, 0.5)\",\"rgba(227, 119, 194, 0.5)\",\"rgba(174, 199, 232, 0.5)\",\"rgba(214, 39, 40, 0.5)\",\"rgba(227, 119, 194, 0.5)\",\"rgba(247, 182, 210, 0.5)\"],\"source\":[0,1,3,4,5,8,12,0,2,6,9,1,5,7,10,1,5,10,11],\"target\":[13,13,13,13,13,13,13,14,14,14,14,15,15,15,15,16,16,16,16],\"value\":[11,2770,12674,10160,1,601,115,100,15,1,1,195,1399,35,13,2,7,2296,7]},\"node\":{\"color\":[\"#1f77b4\",\"#aec7e8\",\"#ff7f0e\",\"#ffbb78\",\"#98df8a\",\"#d62728\",\"#ff9896\",\"#9467bd\",\"#8c564b\",\"#c49c94\",\"#e377c2\",\"#f7b6d2\",\"#c7c7c7\",\"#bcbd22\",\"#dbdb8d\",\"#17becf\",\"#9edae5\"],\"label\":[\"Admit From Other Custody\",\"COVID-19 County Admit\",\"Conditional Release Violator\",\"Direct From Court\",\"Discharged & Recommitted\",\"MSR Violator - New Sentence\",\"Not In IDOC Custody\",\"Parole Violator - New Sentence\",\"Return Additional Mittimus\",\"Return To Custody\",\"Technical MSR Violator\",\"Technical Parole Violator\",\"Transferred From Juvenile\",\"Court Admissions\",\"Other\",\"New Sentence Violators\",\"Technical Violators\"],\"line\":{\"color\":\"black\",\"width\":0},\"pad\":20,\"thickness\":30},\"type\":\"sankey\"}],                        {\"template\":{\"data\":{\"bar\":[{\"error_x\":{\"color\":\"#2a3f5f\"},\"error_y\":{\"color\":\"#2a3f5f\"},\"marker\":{\"line\":{\"color\":\"#E5ECF6\",\"width\":0.5},\"pattern\":{\"fillmode\":\"overlay\",\"size\":10,\"solidity\":0.2}},\"type\":\"bar\"}],\"barpolar\":[{\"marker\":{\"line\":{\"color\":\"#E5ECF6\",\"width\":0.5},\"pattern\":{\"fillmode\":\"overlay\",\"size\":10,\"solidity\":0.2}},\"type\":\"barpolar\"}],\"carpet\":[{\"aaxis\":{\"endlinecolor\":\"#2a3f5f\",\"gridcolor\":\"white\",\"linecolor\":\"white\",\"minorgridcolor\":\"white\",\"startlinecolor\":\"#2a3f5f\"},\"baxis\":{\"endlinecolor\":\"#2a3f5f\",\"gridcolor\":\"white\",\"linecolor\":\"white\",\"minorgridcolor\":\"white\",\"startlinecolor\":\"#2a3f5f\"},\"type\":\"carpet\"}],\"choropleth\":[{\"colorbar\":{\"outlinewidth\":0,\"ticks\":\"\"},\"type\":\"choropleth\"}],\"contour\":[{\"colorbar\":{\"outlinewidth\":0,\"ticks\":\"\"},\"colorscale\":[[0.0,\"#0d0887\"],[0.1111111111111111,\"#46039f\"],[0.2222222222222222,\"#7201a8\"],[0.3333333333333333,\"#9c179e\"],[0.4444444444444444,\"#bd3786\"],[0.5555555555555556,\"#d8576b\"],[0.6666666666666666,\"#ed7953\"],[0.7777777777777778,\"#fb9f3a\"],[0.8888888888888888,\"#fdca26\"],[1.0,\"#f0f921\"]],\"type\":\"contour\"}],\"contourcarpet\":[{\"colorbar\":{\"outlinewidth\":0,\"ticks\":\"\"},\"type\":\"contourcarpet\"}],\"heatmap\":[{\"colorbar\":{\"outlinewidth\":0,\"ticks\":\"\"},\"colorscale\":[[0.0,\"#0d0887\"],[0.1111111111111111,\"#46039f\"],[0.2222222222222222,\"#7201a8\"],[0.3333333333333333,\"#9c179e\"],[0.4444444444444444,\"#bd3786\"],[0.5555555555555556,\"#d8576b\"],[0.6666666666666666,\"#ed7953\"],[0.7777777777777778,\"#fb9f3a\"],[0.8888888888888888,\"#fdca26\"],[1.0,\"#f0f921\"]],\"type\":\"heatmap\"}],\"heatmapgl\":[{\"colorbar\":{\"outlinewidth\":0,\"ticks\":\"\"},\"colorscale\":[[0.0,\"#0d0887\"],[0.1111111111111111,\"#46039f\"],[0.2222222222222222,\"#7201a8\"],[0.3333333333333333,\"#9c179e\"],[0.4444444444444444,\"#bd3786\"],[0.5555555555555556,\"#d8576b\"],[0.6666666666666666,\"#ed7953\"],[0.7777777777777778,\"#fb9f3a\"],[0.8888888888888888,\"#fdca26\"],[1.0,\"#f0f921\"]],\"type\":\"heatmapgl\"}],\"histogram\":[{\"marker\":{\"pattern\":{\"fillmode\":\"overlay\",\"size\":10,\"solidity\":0.2}},\"type\":\"histogram\"}],\"histogram2d\":[{\"colorbar\":{\"outlinewidth\":0,\"ticks\":\"\"},\"colorscale\":[[0.0,\"#0d0887\"],[0.1111111111111111,\"#46039f\"],[0.2222222222222222,\"#7201a8\"],[0.3333333333333333,\"#9c179e\"],[0.4444444444444444,\"#bd3786\"],[0.5555555555555556,\"#d8576b\"],[0.6666666666666666,\"#ed7953\"],[0.7777777777777778,\"#fb9f3a\"],[0.8888888888888888,\"#fdca26\"],[1.0,\"#f0f921\"]],\"type\":\"histogram2d\"}],\"histogram2dcontour\":[{\"colorbar\":{\"outlinewidth\":0,\"ticks\":\"\"},\"colorscale\":[[0.0,\"#0d0887\"],[0.1111111111111111,\"#46039f\"],[0.2222222222222222,\"#7201a8\"],[0.3333333333333333,\"#9c179e\"],[0.4444444444444444,\"#bd3786\"],[0.5555555555555556,\"#d8576b\"],[0.6666666666666666,\"#ed7953\"],[0.7777777777777778,\"#fb9f3a\"],[0.8888888888888888,\"#fdca26\"],[1.0,\"#f0f921\"]],\"type\":\"histogram2dcontour\"}],\"mesh3d\":[{\"colorbar\":{\"outlinewidth\":0,\"ticks\":\"\"},\"type\":\"mesh3d\"}],\"parcoords\":[{\"line\":{\"colorbar\":{\"outlinewidth\":0,\"ticks\":\"\"}},\"type\":\"parcoords\"}],\"pie\":[{\"automargin\":true,\"type\":\"pie\"}],\"scatter\":[{\"marker\":{\"colorbar\":{\"outlinewidth\":0,\"ticks\":\"\"}},\"type\":\"scatter\"}],\"scatter3d\":[{\"line\":{\"colorbar\":{\"outlinewidth\":0,\"ticks\":\"\"}},\"marker\":{\"colorbar\":{\"outlinewidth\":0,\"ticks\":\"\"}},\"type\":\"scatter3d\"}],\"scattercarpet\":[{\"marker\":{\"colorbar\":{\"outlinewidth\":0,\"ticks\":\"\"}},\"type\":\"scattercarpet\"}],\"scattergeo\":[{\"marker\":{\"colorbar\":{\"outlinewidth\":0,\"ticks\":\"\"}},\"type\":\"scattergeo\"}],\"scattergl\":[{\"marker\":{\"colorbar\":{\"outlinewidth\":0,\"ticks\":\"\"}},\"type\":\"scattergl\"}],\"scattermapbox\":[{\"marker\":{\"colorbar\":{\"outlinewidth\":0,\"ticks\":\"\"}},\"type\":\"scattermapbox\"}],\"scatterpolar\":[{\"marker\":{\"colorbar\":{\"outlinewidth\":0,\"ticks\":\"\"}},\"type\":\"scatterpolar\"}],\"scatterpolargl\":[{\"marker\":{\"colorbar\":{\"outlinewidth\":0,\"ticks\":\"\"}},\"type\":\"scatterpolargl\"}],\"scatterternary\":[{\"marker\":{\"colorbar\":{\"outlinewidth\":0,\"ticks\":\"\"}},\"type\":\"scatterternary\"}],\"surface\":[{\"colorbar\":{\"outlinewidth\":0,\"ticks\":\"\"},\"colorscale\":[[0.0,\"#0d0887\"],[0.1111111111111111,\"#46039f\"],[0.2222222222222222,\"#7201a8\"],[0.3333333333333333,\"#9c179e\"],[0.4444444444444444,\"#bd3786\"],[0.5555555555555556,\"#d8576b\"],[0.6666666666666666,\"#ed7953\"],[0.7777777777777778,\"#fb9f3a\"],[0.8888888888888888,\"#fdca26\"],[1.0,\"#f0f921\"]],\"type\":\"surface\"}],\"table\":[{\"cells\":{\"fill\":{\"color\":\"#EBF0F8\"},\"line\":{\"color\":\"white\"}},\"header\":{\"fill\":{\"color\":\"#C8D4E3\"},\"line\":{\"color\":\"white\"}},\"type\":\"table\"}]},\"layout\":{\"annotationdefaults\":{\"arrowcolor\":\"#2a3f5f\",\"arrowhead\":0,\"arrowwidth\":1},\"autotypenumbers\":\"strict\",\"coloraxis\":{\"colorbar\":{\"outlinewidth\":0,\"ticks\":\"\"}},\"colorscale\":{\"diverging\":[[0,\"#8e0152\"],[0.1,\"#c51b7d\"],[0.2,\"#de77ae\"],[0.3,\"#f1b6da\"],[0.4,\"#fde0ef\"],[0.5,\"#f7f7f7\"],[0.6,\"#e6f5d0\"],[0.7,\"#b8e186\"],[0.8,\"#7fbc41\"],[0.9,\"#4d9221\"],[1,\"#276419\"]],\"sequential\":[[0.0,\"#0d0887\"],[0.1111111111111111,\"#46039f\"],[0.2222222222222222,\"#7201a8\"],[0.3333333333333333,\"#9c179e\"],[0.4444444444444444,\"#bd3786\"],[0.5555555555555556,\"#d8576b\"],[0.6666666666666666,\"#ed7953\"],[0.7777777777777778,\"#fb9f3a\"],[0.8888888888888888,\"#fdca26\"],[1.0,\"#f0f921\"]],\"sequentialminus\":[[0.0,\"#0d0887\"],[0.1111111111111111,\"#46039f\"],[0.2222222222222222,\"#7201a8\"],[0.3333333333333333,\"#9c179e\"],[0.4444444444444444,\"#bd3786\"],[0.5555555555555556,\"#d8576b\"],[0.6666666666666666,\"#ed7953\"],[0.7777777777777778,\"#fb9f3a\"],[0.8888888888888888,\"#fdca26\"],[1.0,\"#f0f921\"]]},\"colorway\":[\"#636efa\",\"#EF553B\",\"#00cc96\",\"#ab63fa\",\"#FFA15A\",\"#19d3f3\",\"#FF6692\",\"#B6E880\",\"#FF97FF\",\"#FECB52\"],\"font\":{\"color\":\"#2a3f5f\"},\"geo\":{\"bgcolor\":\"white\",\"lakecolor\":\"white\",\"landcolor\":\"#E5ECF6\",\"showlakes\":true,\"showland\":true,\"subunitcolor\":\"white\"},\"hoverlabel\":{\"align\":\"left\"},\"hovermode\":\"closest\",\"mapbox\":{\"style\":\"light\"},\"paper_bgcolor\":\"white\",\"plot_bgcolor\":\"#E5ECF6\",\"polar\":{\"angularaxis\":{\"gridcolor\":\"white\",\"linecolor\":\"white\",\"ticks\":\"\"},\"bgcolor\":\"#E5ECF6\",\"radialaxis\":{\"gridcolor\":\"white\",\"linecolor\":\"white\",\"ticks\":\"\"}},\"scene\":{\"xaxis\":{\"backgroundcolor\":\"#E5ECF6\",\"gridcolor\":\"white\",\"gridwidth\":2,\"linecolor\":\"white\",\"showbackground\":true,\"ticks\":\"\",\"zerolinecolor\":\"white\"},\"yaxis\":{\"backgroundcolor\":\"#E5ECF6\",\"gridcolor\":\"white\",\"gridwidth\":2,\"linecolor\":\"white\",\"showbackground\":true,\"ticks\":\"\",\"zerolinecolor\":\"white\"},\"zaxis\":{\"backgroundcolor\":\"#E5ECF6\",\"gridcolor\":\"white\",\"gridwidth\":2,\"linecolor\":\"white\",\"showbackground\":true,\"ticks\":\"\",\"zerolinecolor\":\"white\"}},\"shapedefaults\":{\"line\":{\"color\":\"#2a3f5f\"}},\"ternary\":{\"aaxis\":{\"gridcolor\":\"white\",\"linecolor\":\"white\",\"ticks\":\"\"},\"baxis\":{\"gridcolor\":\"white\",\"linecolor\":\"white\",\"ticks\":\"\"},\"bgcolor\":\"#E5ECF6\",\"caxis\":{\"gridcolor\":\"white\",\"linecolor\":\"white\",\"ticks\":\"\"}},\"title\":{\"x\":0.05},\"xaxis\":{\"automargin\":true,\"gridcolor\":\"white\",\"linecolor\":\"white\",\"ticks\":\"\",\"title\":{\"standoff\":15},\"zerolinecolor\":\"white\",\"zerolinewidth\":2},\"yaxis\":{\"automargin\":true,\"gridcolor\":\"white\",\"linecolor\":\"white\",\"ticks\":\"\",\"title\":{\"standoff\":15},\"zerolinecolor\":\"white\",\"zerolinewidth\":2}}},\"title\":{\"text\":\"Change in Admission Type in Jun and Dec 2021\"},\"font\":{\"size\":12},\"height\":1000},                        {\"responsive\": true}                    ).then(function(){\n",
       "                            \n",
       "var gd = document.getElementById('89cd2795-725e-41d1-9ae2-79ecec49da9f');\n",
       "var x = new MutationObserver(function (mutations, observer) {{\n",
       "        var display = window.getComputedStyle(gd).display;\n",
       "        if (!display || display === 'none') {{\n",
       "            console.log([gd, 'removed!']);\n",
       "            Plotly.purge(gd);\n",
       "            observer.disconnect();\n",
       "        }}\n",
       "}});\n",
       "\n",
       "// Listen for the removal of the full notebook cells\n",
       "var notebookContainer = gd.closest('#notebook-container');\n",
       "if (notebookContainer) {{\n",
       "    x.observe(notebookContainer, {childList: true});\n",
       "}}\n",
       "\n",
       "// Listen for the clearing of the current output cell\n",
       "var outputEl = gd.closest('.output');\n",
       "if (outputEl) {{\n",
       "    x.observe(outputEl, {childList: true});\n",
       "}}\n",
       "\n",
       "                        })                };                });            </script>        </div>"
      ]
     },
     "metadata": {},
     "output_type": "display_data"
    }
   ],
   "source": [
    "fig = go.Figure(data=[go.Sankey(\n",
    "    node = dict(\n",
    "        pad = 20,\n",
    "        thickness = 30,\n",
    "        line = dict(\n",
    "            color = 'black',\n",
    "            width = 0\n",
    "        ),\n",
    "        label = node_df['AT'],\n",
    "        color = node_df['Color']\n",
    "    ),\n",
    "    link = dict(\n",
    "        source = links_df['Source'],\n",
    "        target = links_df['Target'],\n",
    "        value = links_df['Count'],\n",
    "        color = links_df['Link Color']\n",
    "    )\n",
    ")])\n",
    "\n",
    "fig.update_layout(title_text='Change in Admission Type in Jun and Dec 2021',\n",
    "                  height=1000,\n",
    "                  font_size=12)\n",
    "fig.show()"
   ]
  },
  {
   "cell_type": "markdown",
   "id": "5bc60cf4",
   "metadata": {},
   "source": [
    "For the most part, the new admission types group multiple old admission types.\n",
    "* Court Admissions\n",
    "    * Direct From Court\n",
    "    * Discharged & Recommitted\n",
    "    * Return Additional Mittimus\n",
    "    * COVID-19 County Admit (but let's keep this as its own since its timeframe is so limited)\n",
    "    * Transferred From Juvenile\n",
    "* Other\n",
    "    * Admit from Other Custody\n",
    "    * Conditional Release Violator\n",
    "    * Not In IDOC Custody\n",
    "    * Return To Custody\n",
    "* New Sentence Violators\n",
    "    * MSR Violator - New Sentence\n",
    "    * Parole Violator - New Sentence\n",
    "* Technical Violators\n",
    "    * Technical MSR Violator\n",
    "    * Technical Parole Violator\n",
    "    \n",
    "Let's create a new field with the new admission types grouping the old admission types. Group others (from past quarters) based on similarity to other old admission types.\n"
   ]
  },
  {
   "cell_type": "code",
   "execution_count": 26,
   "id": "e92d9d19",
   "metadata": {},
   "outputs": [
    {
     "name": "stdout",
     "output_type": "stream",
     "text": [
      "COVID-19 County Admit        3147\n",
      "Court Admissions          1360536\n",
      "New Sentence Violators     134362\n",
      "Other                        4429\n",
      "Technical Violators        169463\n",
      "Name: New Admission Type, dtype: int64\n"
     ]
    }
   ],
   "source": [
    "ct_admis_list = ['Direct From Court', 'Discharged & Recommitted', 'Return Additional Mittimus', 'Transferred From Juvenile']\n",
    "other_list = ['Admit From Other Custody', 'Conditional Release Violator', 'Not In IDOC Custody', 'Return To Custody', 'Work Release Violator', 'EDV', 'Juv Parole To Adult Parole']\n",
    "new_sent_viol_list = ['MSR Violator - New Sentence', 'Parole Violator - New Sentence', 'Conditional Release - New Sentence', 'Work Release Violator - New Sentence']\n",
    "tech_viol_list = ['Technical MSR Violator', 'Technical Parole Violator']\n",
    "\n",
    "df['New Admission Type'] = None\n",
    "df.loc[df['Admission Type'].isin(ct_admis_list), 'New Admission Type'] = 'Court Admissions'\n",
    "df.loc[df['Admission Type'].isin(other_list), 'New Admission Type'] = 'Other'\n",
    "df.loc[df['Admission Type'].isin(new_sent_viol_list), 'New Admission Type'] = 'New Sentence Violators'\n",
    "df.loc[df['Admission Type'].isin(tech_viol_list), 'New Admission Type'] = 'Technical Violators'\n",
    "\n",
    "df.loc[pd.isnull(df['New Admission Type']), 'New Admission Type'] = df.loc[pd.isnull(df['New Admission Type']), 'Admission Type']\n",
    "\n",
    "print(df['New Admission Type'].value_counts().sort_index())\n",
    "\n"
   ]
  },
  {
   "cell_type": "markdown",
   "id": "7938509e",
   "metadata": {},
   "source": [
    "**Admission Type**\n",
    "\n",
    "Bucket into first-time vs. second-time vs. technical offender. (This might be outdated with the sentence number recidivism measure.)"
   ]
  },
  {
   "cell_type": "code",
   "execution_count": 27,
   "id": "c102ea5c",
   "metadata": {},
   "outputs": [
    {
     "name": "stdout",
     "output_type": "stream",
     "text": [
      "Second/+ IDOC Sentence           714854\n",
      "First IDOC Sentence              705198\n",
      "Technical MSR/Parole Violator    169922\n",
      "Unknown/Uncategorized            124057\n",
      "Name: Admission Type - Recidivism, dtype: int64\n"
     ]
    }
   ],
   "source": [
    "first_list = ['DIRECT FROM COURT', 'TRANSFERRED FROM JUVENILE', 'JUV PAROLE TO ADULT PAROLE']\n",
    "second_list = ['DISCHARGED & RECOMMITTED', 'MSR VIOLATOR - NEW SENTENCE', 'PAROLE VIOLATOR - NEW SENTENCE', 'WORK RELEASE VIOLATOR - NEW SENTENCE', 'CONDITIONAL RELEASE - NEW SENTENCE']\n",
    "tech_list = ['TECHNICAL PAROLE VIOLATOR', 'TECHNICAL MSR VIOLATOR', 'CONDITIONAL RELEASE VIOLATOR', 'TECHNICAL VIOLATORS', 'WORK RELEASE VIOLATOR']\n",
    "\n",
    "df['Admission Type - Recidivism'] = None\n",
    "df.loc[df['Admission Type'].str.upper().isin(first_list), 'Admission Type - Recidivism'] = 'First IDOC Sentence'\n",
    "df.loc[df['Admission Type'].str.upper().isin(second_list), 'Admission Type - Recidivism'] = 'Second/+ IDOC Sentence'\n",
    "df.loc[df['Admission Type'].str.upper().isin(tech_list), 'Admission Type - Recidivism'] = 'Technical MSR/Parole Violator'\n",
    "\n",
    "df.loc[pd.isnull(df['Admission Type - Recidivism']), 'Admission Type - Recidivism'] = 'Unknown/Uncategorized'\n",
    "\n",
    "print(df['Admission Type - Recidivism'].value_counts())\n",
    "\n",
    "# df8 = df.copy()\n"
   ]
  },
  {
   "cell_type": "markdown",
   "id": "c2c69ccb",
   "metadata": {},
   "source": [
    "**Eligibility for Sentencing Credits**\n",
    "\n",
    "For the purposes of our analysis, someone is *ineligible* for earned discretionary sentencing credits (EDSC) if:\n",
    "* Their holding offense is related to gunrunning or sex\n",
    "* They're sentenced to life\n",
    "* They're required to serve at least 85% of their sentence under truth-in-sentencing\n",
    "* They're considered a sexually dangerous person (SDP)\n",
    "\n",
    "Otherwise, they are eligible."
   ]
  },
  {
   "cell_type": "code",
   "execution_count": 28,
   "id": "2c146dd1",
   "metadata": {},
   "outputs": [],
   "source": [
    "df['EDSC Eligible'] = None\n",
    "df.loc[(((df['TIS Pct'] >= 0.85) & (~pd.isnull(df['TIS Pct'])))\n",
    "      | df['Holding Offense'].str.contains('GUNRUNNING')\n",
    "      | df['Sentence Years'].isin(['LIFE', 'SDP'])\n",
    "      | df['Holding Offense Cat'] == 'Sex'),\n",
    "      'EDSC Eligible'] = 'N'\n",
    "df.loc[pd.isnull(df['EDSC Eligible']), 'EDSC Eligible'] = 'Y'\n",
    "\n",
    "# df9 = df.copy()\n",
    "\n"
   ]
  },
  {
   "cell_type": "markdown",
   "id": "e6a40fac",
   "metadata": {},
   "source": [
    "**Exporting the data**\n",
    "\n",
    "The full data set is 1.7 million records. Export with understanding."
   ]
  },
  {
   "cell_type": "code",
   "execution_count": 29,
   "id": "6fba7772",
   "metadata": {
    "scrolled": true
   },
   "outputs": [
    {
     "name": "stdout",
     "output_type": "stream",
     "text": [
      "1714031\n"
     ]
    }
   ],
   "source": [
    "print(len(df))"
   ]
  },
  {
   "cell_type": "code",
   "execution_count": 30,
   "id": "8d6653d9",
   "metadata": {},
   "outputs": [
    {
     "name": "stdout",
     "output_type": "stream",
     "text": [
      "919482\n"
     ]
    }
   ],
   "source": [
    "# export more recent data\n",
    "df_recent = df[df['Doc Date'] >= date(2014, 1, 1)]\n",
    "print(len(df_recent))\n",
    "\n",
    "# # export single institution all time\n",
    "# df_export = df[df['Parent Institution'] == 'Logan']\n",
    "# print(len(df_export))\n"
   ]
  },
  {
   "cell_type": "code",
   "execution_count": null,
   "id": "051ad79a",
   "metadata": {},
   "outputs": [],
   "source": [
    "# df_recent.to_csv('pop_data_20140101-20211231.csv')"
   ]
  }
 ],
 "metadata": {
  "kernelspec": {
   "display_name": "Python 3",
   "language": "python",
   "name": "python3"
  },
  "language_info": {
   "codemirror_mode": {
    "name": "ipython",
    "version": 3
   },
   "file_extension": ".py",
   "mimetype": "text/x-python",
   "name": "python",
   "nbconvert_exporter": "python",
   "pygments_lexer": "ipython3",
   "version": "3.8.8"
  }
 },
 "nbformat": 4,
 "nbformat_minor": 5
}
